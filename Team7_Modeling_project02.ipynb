{
  "metadata": {
    "kernelspec": {
      "language": "python",
      "display_name": "Python 3",
      "name": "python3"
    },
    "language_info": {
      "name": "python",
      "version": "3.10.13",
      "mimetype": "text/x-python",
      "codemirror_mode": {
        "name": "ipython",
        "version": 3
      },
      "pygments_lexer": "ipython3",
      "nbconvert_exporter": "python",
      "file_extension": ".py"
    },
    "kaggle": {
      "accelerator": "gpu",
      "dataSources": [
        {
          "sourceId": 8035365,
          "sourceType": "datasetVersion",
          "datasetId": 4736767
        }
      ],
      "dockerImageVersionId": 30674,
      "isInternetEnabled": true,
      "language": "python",
      "sourceType": "notebook",
      "isGpuEnabled": true
    },
    "colab": {
      "provenance": []
    }
  },
  "nbformat_minor": 0,
  "nbformat": 4,
  "cells": [
    {
      "cell_type": "code",
      "source": [
        "import numpy as np\n",
        "import pandas as pd\n",
        "import os\n",
        "from sklearn.metrics import precision_score, recall_score, f1_score\n",
        "from tensorflow.keras.preprocessing.text import Tokenizer\n",
        "from tensorflow.keras.preprocessing.sequence import pad_sequences\n",
        "from tensorflow.keras.layers import Dense,Input,LSTM,Embedding,Dropout,Activation,Conv1D,Bidirectional,GlobalMaxPool1D\n",
        "from tensorflow.keras.models import Model\n",
        "from keras import initializers, regularizers, constraints, optimizers, layers\n",
        "from tensorflow.keras.preprocessing.text import Tokenizer\n",
        "from tensorflow.keras.preprocessing.sequence import pad_sequences\n",
        "from sklearn.model_selection import train_test_split\n",
        "from sklearn.preprocessing import LabelEncoder\n",
        "import numpy as np\n",
        "from bs4 import BeautifulSoup\n",
        "import re\n",
        "from nltk.stem.snowball import SnowballStemmer\n",
        "from bs4 import BeautifulSoup\n",
        "import re\n",
        "from sklearn.feature_extraction.text import TfidfVectorizer\n",
        "from sklearn.metrics import classification_report,mean_squared_error\n",
        "from sklearn.ensemble import RandomForestClassifier\n",
        "\n",
        "for dirname, _, filenames in os.walk('/kaggle/input'):\n",
        "    for filename in filenames:\n",
        "        print(os.path.join(dirname, filename))"
      ],
      "metadata": {
        "_uuid": "8f2839f25d086af736a60e9eeb907d3b93b6e0e5",
        "_cell_guid": "b1076dfc-b9ad-4769-8c92-a6c4dae69d19",
        "execution": {
          "iopub.status.busy": "2024-04-11T08:38:11.920507Z",
          "iopub.execute_input": "2024-04-11T08:38:11.921622Z",
          "iopub.status.idle": "2024-04-11T08:38:11.928503Z",
          "shell.execute_reply.started": "2024-04-11T08:38:11.921564Z",
          "shell.execute_reply": "2024-04-11T08:38:11.927490Z"
        },
        "trusted": true,
        "id": "T-HDHpVM6WIW",
        "outputId": "a5f1244d-a6ed-47ed-953d-a91015d97f2c"
      },
      "execution_count": null,
      "outputs": [
        {
          "name": "stdout",
          "text": "/kaggle/input/project2/drugsComTest_raw.tsv\n/kaggle/input/project2/drugsComTrain_raw.tsv\n",
          "output_type": "stream"
        }
      ]
    },
    {
      "cell_type": "code",
      "source": [
        "df=pd.read_csv('/kaggle/input/project2/drugsCom_raw.tsv',sep='\\t')"
      ],
      "metadata": {
        "execution": {
          "iopub.status.busy": "2024-04-11T08:38:12.691300Z",
          "iopub.execute_input": "2024-04-11T08:38:12.691658Z",
          "iopub.status.idle": "2024-04-11T08:38:14.918430Z",
          "shell.execute_reply.started": "2024-04-11T08:38:12.691631Z",
          "shell.execute_reply": "2024-04-11T08:38:14.917644Z"
        },
        "trusted": true,
        "id": "9loLW2N66WIY"
      },
      "execution_count": null,
      "outputs": []
    },
    {
      "cell_type": "code",
      "source": [
        "df.dropna(inplace=True)"
      ],
      "metadata": {
        "execution": {
          "iopub.status.busy": "2024-04-11T08:38:21.762363Z",
          "iopub.execute_input": "2024-04-11T08:38:21.763154Z",
          "iopub.status.idle": "2024-04-11T08:38:21.860990Z",
          "shell.execute_reply.started": "2024-04-11T08:38:21.763120Z",
          "shell.execute_reply": "2024-04-11T08:38:21.859980Z"
        },
        "trusted": true,
        "id": "ieUCVq7M6WIY"
      },
      "execution_count": null,
      "outputs": []
    },
    {
      "cell_type": "code",
      "source": [
        "df.drop(['Unnamed: 0','date'],axis=1,inplace=True)"
      ],
      "metadata": {
        "execution": {
          "iopub.status.busy": "2024-04-11T08:38:21.883491Z",
          "iopub.execute_input": "2024-04-11T08:38:21.883854Z",
          "iopub.status.idle": "2024-04-11T08:38:21.899699Z",
          "shell.execute_reply.started": "2024-04-11T08:38:21.883825Z",
          "shell.execute_reply": "2024-04-11T08:38:21.898746Z"
        },
        "trusted": true,
        "id": "_3kwjnQc6WIZ"
      },
      "execution_count": null,
      "outputs": []
    },
    {
      "cell_type": "code",
      "source": [
        "condition_df=df.groupby(['condition'])['drugName'].nunique().sort_values(ascending=False)\n",
        "condition_df=pd.DataFrame(condition_df).reset_index()"
      ],
      "metadata": {
        "execution": {
          "iopub.status.busy": "2024-04-11T08:38:22.029976Z",
          "iopub.execute_input": "2024-04-11T08:38:22.030557Z",
          "iopub.status.idle": "2024-04-11T08:38:22.077046Z",
          "shell.execute_reply.started": "2024-04-11T08:38:22.030529Z",
          "shell.execute_reply": "2024-04-11T08:38:22.076085Z"
        },
        "trusted": true,
        "id": "Bcm5VR8f6WIZ"
      },
      "execution_count": null,
      "outputs": []
    },
    {
      "cell_type": "code",
      "source": [
        "count_df=df[['condition','review']].groupby('condition').aggregate({'review':'count'}).reset_index().sort_values('review',ascending=False)\n",
        "count_df"
      ],
      "metadata": {
        "execution": {
          "iopub.status.busy": "2024-04-11T08:38:22.373111Z",
          "iopub.execute_input": "2024-04-11T08:38:22.373428Z",
          "iopub.status.idle": "2024-04-11T08:38:22.427927Z",
          "shell.execute_reply.started": "2024-04-11T08:38:22.373403Z",
          "shell.execute_reply": "2024-04-11T08:38:22.427055Z"
        },
        "trusted": true,
        "id": "lkiV9udM6WIZ",
        "outputId": "ed739941-19e7-4a45-c2c8-b489f6d5027a"
      },
      "execution_count": null,
      "outputs": [
        {
          "execution_count": 11,
          "output_type": "execute_result",
          "data": {
            "text/plain": "                                       condition  review\n165                                Birth Control   28788\n262                                   Depression    9069\n594                                         Pain    6145\n125                                      Anxiety    5904\n80                                          Acne    5588\n..                                           ...     ...\n60   76</span> users found this comment helpful.       1\n61   77</span> users found this comment helpful.       1\n62   79</span> users found this comment helpful.       1\n64   84</span> users found this comment helpful.       1\n67   92</span> users found this comment helpful.       1\n\n[884 rows x 2 columns]",
            "text/html": "<div>\n<style scoped>\n    .dataframe tbody tr th:only-of-type {\n        vertical-align: middle;\n    }\n\n    .dataframe tbody tr th {\n        vertical-align: top;\n    }\n\n    .dataframe thead th {\n        text-align: right;\n    }\n</style>\n<table border=\"1\" class=\"dataframe\">\n  <thead>\n    <tr style=\"text-align: right;\">\n      <th></th>\n      <th>condition</th>\n      <th>review</th>\n    </tr>\n  </thead>\n  <tbody>\n    <tr>\n      <th>165</th>\n      <td>Birth Control</td>\n      <td>28788</td>\n    </tr>\n    <tr>\n      <th>262</th>\n      <td>Depression</td>\n      <td>9069</td>\n    </tr>\n    <tr>\n      <th>594</th>\n      <td>Pain</td>\n      <td>6145</td>\n    </tr>\n    <tr>\n      <th>125</th>\n      <td>Anxiety</td>\n      <td>5904</td>\n    </tr>\n    <tr>\n      <th>80</th>\n      <td>Acne</td>\n      <td>5588</td>\n    </tr>\n    <tr>\n      <th>...</th>\n      <td>...</td>\n      <td>...</td>\n    </tr>\n    <tr>\n      <th>60</th>\n      <td>76&lt;/span&gt; users found this comment helpful.</td>\n      <td>1</td>\n    </tr>\n    <tr>\n      <th>61</th>\n      <td>77&lt;/span&gt; users found this comment helpful.</td>\n      <td>1</td>\n    </tr>\n    <tr>\n      <th>62</th>\n      <td>79&lt;/span&gt; users found this comment helpful.</td>\n      <td>1</td>\n    </tr>\n    <tr>\n      <th>64</th>\n      <td>84&lt;/span&gt; users found this comment helpful.</td>\n      <td>1</td>\n    </tr>\n    <tr>\n      <th>67</th>\n      <td>92&lt;/span&gt; users found this comment helpful.</td>\n      <td>1</td>\n    </tr>\n  </tbody>\n</table>\n<p>884 rows × 2 columns</p>\n</div>"
          },
          "metadata": {}
        }
      ]
    },
    {
      "cell_type": "code",
      "source": [
        "target=count_df[count_df['review']>3000]['condition'].values"
      ],
      "metadata": {
        "execution": {
          "iopub.status.busy": "2024-04-11T08:38:22.550196Z",
          "iopub.execute_input": "2024-04-11T08:38:22.550466Z",
          "iopub.status.idle": "2024-04-11T08:38:22.556316Z",
          "shell.execute_reply.started": "2024-04-11T08:38:22.550443Z",
          "shell.execute_reply": "2024-04-11T08:38:22.555381Z"
        },
        "trusted": true,
        "id": "2gSTtPem6WIZ"
      },
      "execution_count": null,
      "outputs": []
    },
    {
      "cell_type": "code",
      "source": [
        "def condition_parser(x):\n",
        "    if x in target:\n",
        "        return x\n",
        "    else:\n",
        "        return 'OTHER'\n",
        "df['condition']=df['condition'].apply(lambda x: condition_parser(x))"
      ],
      "metadata": {
        "execution": {
          "iopub.status.busy": "2024-04-11T08:38:22.680318Z",
          "iopub.execute_input": "2024-04-11T08:38:22.680606Z",
          "iopub.status.idle": "2024-04-11T08:38:24.080047Z",
          "shell.execute_reply.started": "2024-04-11T08:38:22.680566Z",
          "shell.execute_reply": "2024-04-11T08:38:24.076042Z"
        },
        "trusted": true,
        "id": "lOmRLY3G6WIZ"
      },
      "execution_count": null,
      "outputs": []
    },
    {
      "cell_type": "code",
      "source": [
        "df=df[df['condition']!='OTHER']"
      ],
      "metadata": {
        "execution": {
          "iopub.status.busy": "2024-04-11T08:38:24.081706Z",
          "iopub.execute_input": "2024-04-11T08:38:24.082060Z",
          "iopub.status.idle": "2024-04-11T08:38:24.117919Z",
          "shell.execute_reply.started": "2024-04-11T08:38:24.082032Z",
          "shell.execute_reply": "2024-04-11T08:38:24.116976Z"
        },
        "trusted": true,
        "id": "nYvwViB66WIZ"
      },
      "execution_count": null,
      "outputs": []
    },
    {
      "cell_type": "code",
      "source": [
        "stemmer = SnowballStemmer('english')\n",
        "\n",
        "def review_to_words(raw_review):\n",
        "    # 1. Delete HTML\n",
        "    review_text = BeautifulSoup(raw_review, 'html.parser').get_text()\n",
        "    # 2. Make a space\n",
        "    letters_only = re.sub('[^a-zA-Z]', ' ', review_text)\n",
        "    # 3. lower letters\n",
        "    words = letters_only.lower().split()\n",
        "    # 6. Stemming\n",
        "    stemming_words = [stemmer.stem(w) for w in words]\n",
        "    # 7. space join words\n",
        "    return ' '.join(stemming_words)"
      ],
      "metadata": {
        "execution": {
          "iopub.status.busy": "2024-04-11T08:38:26.381087Z",
          "iopub.execute_input": "2024-04-11T08:38:26.381486Z",
          "iopub.status.idle": "2024-04-11T08:38:26.387331Z",
          "shell.execute_reply.started": "2024-04-11T08:38:26.381461Z",
          "shell.execute_reply": "2024-04-11T08:38:26.386273Z"
        },
        "trusted": true,
        "id": "73IBiy0I6WIa"
      },
      "execution_count": null,
      "outputs": []
    },
    {
      "cell_type": "markdown",
      "source": [
        "# 딥러닝"
      ],
      "metadata": {
        "id": "Uh8jhLoZ6WIa"
      }
    },
    {
      "cell_type": "code",
      "source": [
        "df['review_clean']=df['review'].apply(review_to_words)\n",
        "tokenizer = Tokenizer()\n",
        "tokenizer.fit_on_texts(df['review_clean'])\n",
        "sequences = tokenizer.texts_to_sequences(df['review_clean'])\n",
        "\n",
        "max_sequence_length = max(len(x) for x in sequences)\n",
        "X = pad_sequences(sequences, maxlen=max_sequence_length)\n",
        "\n",
        "label_encoder_condition = LabelEncoder()\n",
        "label_encoder_drug = LabelEncoder()\n",
        "\n",
        "y_condition = label_encoder_condition.fit_transform(df['condition'])\n",
        "y_condition = pd.get_dummies(y_condition).values\n",
        "x_train,x_test,y_train,y_test=train_test_split(X,y_condition,test_size=0.2,random_state=42)\n",
        "\n",
        "print(x_train.shape,x_test.shape)"
      ],
      "metadata": {
        "execution": {
          "iopub.status.busy": "2024-04-11T08:38:28.413515Z",
          "iopub.execute_input": "2024-04-11T08:38:28.413873Z",
          "iopub.status.idle": "2024-04-11T08:40:34.989678Z",
          "shell.execute_reply.started": "2024-04-11T08:38:28.413848Z",
          "shell.execute_reply": "2024-04-11T08:40:34.988631Z"
        },
        "trusted": true,
        "id": "bgJCsHHC6WIb",
        "outputId": "1444113b-2dec-40fe-90dc-f0fe195960a1"
      },
      "execution_count": null,
      "outputs": [
        {
          "name": "stderr",
          "text": "2024-04-11 08:38:30.196502: E external/local_xla/xla/stream_executor/cuda/cuda_dnn.cc:9261] Unable to register cuDNN factory: Attempting to register factory for plugin cuDNN when one has already been registered\n2024-04-11 08:38:30.196626: E external/local_xla/xla/stream_executor/cuda/cuda_fft.cc:607] Unable to register cuFFT factory: Attempting to register factory for plugin cuFFT when one has already been registered\n2024-04-11 08:38:30.333569: E external/local_xla/xla/stream_executor/cuda/cuda_blas.cc:1515] Unable to register cuBLAS factory: Attempting to register factory for plugin cuBLAS when one has already been registered\n/tmp/ipykernel_34/2151439243.py:5: MarkupResemblesLocatorWarning: The input looks more like a filename than markup. You may want to open this file and pass the filehandle into Beautiful Soup.\n  review_text = BeautifulSoup(raw_review, 'html.parser').get_text()\n/tmp/ipykernel_34/3395708583.py:9: SettingWithCopyWarning: \nA value is trying to be set on a copy of a slice from a DataFrame.\nTry using .loc[row_indexer,col_indexer] = value instead\n\nSee the caveats in the documentation: https://pandas.pydata.org/pandas-docs/stable/user_guide/indexing.html#returning-a-view-versus-a-copy\n  df['review_clean']=df['review'].apply(review_to_words)\n",
          "output_type": "stream"
        },
        {
          "name": "stdout",
          "text": "(59160, 1099) (14791, 1099)\n",
          "output_type": "stream"
        }
      ]
    },
    {
      "cell_type": "code",
      "source": [
        "len(y_condition[0])"
      ],
      "metadata": {
        "execution": {
          "iopub.status.busy": "2024-04-07T14:45:34.242592Z",
          "iopub.execute_input": "2024-04-07T14:45:34.242987Z",
          "iopub.status.idle": "2024-04-07T14:45:34.249049Z",
          "shell.execute_reply.started": "2024-04-07T14:45:34.242958Z",
          "shell.execute_reply": "2024-04-07T14:45:34.248191Z"
        },
        "trusted": true,
        "id": "o8G3AJpb6WIb",
        "outputId": "0b10a7e5-6758-4d1e-e589-dc734b544f4c"
      },
      "execution_count": null,
      "outputs": [
        {
          "execution_count": 113,
          "output_type": "execute_result",
          "data": {
            "text/plain": "10"
          },
          "metadata": {}
        }
      ]
    },
    {
      "cell_type": "code",
      "source": [
        "from tensorflow.keras.models import Model\n",
        "from tensorflow.keras.layers import Input, Embedding, LSTM, Dense\n",
        "\n",
        "input_layer = Input(shape=(max_sequence_length,))\n",
        "embedding_layer = Embedding(input_dim=len(tokenizer.word_index) + 1, output_dim=128)(input_layer)\n",
        "lstm_layer = LSTM(64)(embedding_layer)\n",
        "condition_output = Dense(len(label_encoder_condition.classes_), activation='softmax', name='condition_output')(lstm_layer)\n",
        "model = Model(inputs=input_layer, outputs=condition_output)\n",
        "model.compile(optimizer='adam',\n",
        "              loss='categorical_crossentropy',\n",
        "              metrics=['accuracy'])"
      ],
      "metadata": {
        "execution": {
          "iopub.status.busy": "2024-04-11T08:40:41.903422Z",
          "iopub.execute_input": "2024-04-11T08:40:41.904333Z",
          "iopub.status.idle": "2024-04-11T08:40:43.062824Z",
          "shell.execute_reply.started": "2024-04-11T08:40:41.904288Z",
          "shell.execute_reply": "2024-04-11T08:40:43.061849Z"
        },
        "trusted": true,
        "id": "FtGoS_tP6WIb"
      },
      "execution_count": null,
      "outputs": []
    },
    {
      "cell_type": "code",
      "source": [
        "history = model.fit(x_train, y_train,validation_data=(x_test, y_test), epochs=10, batch_size=128)\n"
      ],
      "metadata": {
        "execution": {
          "iopub.status.busy": "2024-04-11T08:40:43.064402Z",
          "iopub.execute_input": "2024-04-11T08:40:43.064702Z",
          "iopub.status.idle": "2024-04-11T08:46:38.461556Z",
          "shell.execute_reply.started": "2024-04-11T08:40:43.064678Z",
          "shell.execute_reply": "2024-04-11T08:46:38.460613Z"
        },
        "trusted": true,
        "id": "ulJlyf2m6WIb",
        "outputId": "398ae917-fc0b-4826-fb78-247464ecaf6e"
      },
      "execution_count": null,
      "outputs": [
        {
          "name": "stdout",
          "text": "Epoch 1/10\n\u001b[1m463/463\u001b[0m \u001b[32m━━━━━━━━━━━━━━━━━━━━\u001b[0m\u001b[37m\u001b[0m \u001b[1m37s\u001b[0m 75ms/step - accuracy: 0.4943 - loss: 1.5201 - val_accuracy: 0.6538 - val_loss: 0.8561\nEpoch 2/10\n\u001b[1m463/463\u001b[0m \u001b[32m━━━━━━━━━━━━━━━━━━━━\u001b[0m\u001b[37m\u001b[0m \u001b[1m35s\u001b[0m 75ms/step - accuracy: 0.6868 - loss: 0.8239 - val_accuracy: 0.7491 - val_loss: 0.6767\nEpoch 3/10\n\u001b[1m463/463\u001b[0m \u001b[32m━━━━━━━━━━━━━━━━━━━━\u001b[0m\u001b[37m\u001b[0m \u001b[1m35s\u001b[0m 75ms/step - accuracy: 0.7654 - loss: 0.6198 - val_accuracy: 0.7828 - val_loss: 0.5686\nEpoch 4/10\n\u001b[1m463/463\u001b[0m \u001b[32m━━━━━━━━━━━━━━━━━━━━\u001b[0m\u001b[37m\u001b[0m \u001b[1m35s\u001b[0m 75ms/step - accuracy: 0.7983 - loss: 0.5529 - val_accuracy: 0.7991 - val_loss: 0.5743\nEpoch 5/10\n\u001b[1m463/463\u001b[0m \u001b[32m━━━━━━━━━━━━━━━━━━━━\u001b[0m\u001b[37m\u001b[0m \u001b[1m35s\u001b[0m 75ms/step - accuracy: 0.8260 - loss: 0.4939 - val_accuracy: 0.8377 - val_loss: 0.4564\nEpoch 6/10\n\u001b[1m463/463\u001b[0m \u001b[32m━━━━━━━━━━━━━━━━━━━━\u001b[0m\u001b[37m\u001b[0m \u001b[1m35s\u001b[0m 75ms/step - accuracy: 0.8678 - loss: 0.3722 - val_accuracy: 0.8574 - val_loss: 0.3967\nEpoch 7/10\n\u001b[1m463/463\u001b[0m \u001b[32m━━━━━━━━━━━━━━━━━━━━\u001b[0m\u001b[37m\u001b[0m \u001b[1m41s\u001b[0m 75ms/step - accuracy: 0.8855 - loss: 0.3161 - val_accuracy: 0.8607 - val_loss: 0.3864\nEpoch 8/10\n\u001b[1m463/463\u001b[0m \u001b[32m━━━━━━━━━━━━━━━━━━━━\u001b[0m\u001b[37m\u001b[0m \u001b[1m35s\u001b[0m 75ms/step - accuracy: 0.8969 - loss: 0.2961 - val_accuracy: 0.8638 - val_loss: 0.3852\nEpoch 9/10\n\u001b[1m463/463\u001b[0m \u001b[32m━━━━━━━━━━━━━━━━━━━━\u001b[0m\u001b[37m\u001b[0m \u001b[1m35s\u001b[0m 75ms/step - accuracy: 0.9048 - loss: 0.2694 - val_accuracy: 0.8727 - val_loss: 0.3692\nEpoch 10/10\n\u001b[1m463/463\u001b[0m \u001b[32m━━━━━━━━━━━━━━━━━━━━\u001b[0m\u001b[37m\u001b[0m \u001b[1m35s\u001b[0m 75ms/step - accuracy: 0.9182 - loss: 0.2384 - val_accuracy: 0.8782 - val_loss: 0.3545\n",
          "output_type": "stream"
        }
      ]
    },
    {
      "cell_type": "code",
      "source": [
        "import matplotlib.pyplot as plt\n",
        "plt.plot(history.history['loss'])\n",
        "plt.plot(history.history['val_loss'])\n",
        "plt.xlabel('epoch')\n",
        "plt.ylabel('loss')\n",
        "plt.title('model loss')\n",
        "plt.legend(['train','test'])\n",
        "plt.show()"
      ],
      "metadata": {
        "execution": {
          "iopub.status.busy": "2024-04-11T09:07:24.165590Z",
          "iopub.execute_input": "2024-04-11T09:07:24.166517Z",
          "iopub.status.idle": "2024-04-11T09:07:24.472667Z",
          "shell.execute_reply.started": "2024-04-11T09:07:24.166484Z",
          "shell.execute_reply": "2024-04-11T09:07:24.471772Z"
        },
        "trusted": true,
        "id": "s1dtPYcJ6WIb",
        "outputId": "36962c57-2327-4df7-e653-1c1f90896957"
      },
      "execution_count": null,
      "outputs": [
        {
          "output_type": "display_data",
          "data": {
            "text/plain": "<Figure size 640x480 with 1 Axes>",
            "image/png": "[encoded data removed]"
          },
          "metadata": {}
        }
      ]
    },
    {
      "cell_type": "code",
      "source": [
        "plt.plot(history.history['accuracy'])\n",
        "plt.plot(history.history['val_accuracy'])\n",
        "plt.xlabel('epoch')\n",
        "plt.ylabel('acc')\n",
        "plt.legend(['train','test'])\n",
        "plt.title('model acc')\n",
        "plt.show()"
      ],
      "metadata": {
        "execution": {
          "iopub.status.busy": "2024-04-11T09:07:26.952658Z",
          "iopub.execute_input": "2024-04-11T09:07:26.953573Z",
          "iopub.status.idle": "2024-04-11T09:07:27.168617Z",
          "shell.execute_reply.started": "2024-04-11T09:07:26.953530Z",
          "shell.execute_reply": "2024-04-11T09:07:27.167711Z"
        },
        "trusted": true,
        "id": "BP9hQJTN6WIc",
        "outputId": "49d78676-d66b-459e-b249-3145b6a35802"
      },
      "execution_count": null,
      "outputs": [
        {
          "output_type": "display_data",
          "data": {
            "text/plain": "<Figure size 640x480 with 1 Axes>",
            "image/png": "[encoded data removed]"
          },
          "metadata": {}
        }
      ]
    },
    {
      "cell_type": "code",
      "source": [
        "new_reviews = \"It has no side effect, I take it in combination of Bystolic 5 Mg and Fish Oil\"\n",
        "new_reviews=list(df['review'][:5])\n",
        "ans_conditions=list(df['condition'][:5])\n",
        "for i in range(5):\n",
        "    new_reviews_cleaned = new_reviews[i].lower().replace('[^a-zA-Z]', ' ')\n",
        "    new_sequences = tokenizer.texts_to_sequences([new_reviews_cleaned])\n",
        "    new_padded_sequences = pad_sequences(new_sequences, maxlen=max_sequence_length)\n",
        "    new_sequences\n",
        "    pred = model.predict(new_padded_sequences)\n",
        "    predicted_condition = label_encoder_condition.classes_[np.argmax(pred)]\n",
        "\n",
        "    print(f'Predicted Condition: {predicted_condition}')\n",
        "    print(f'Answer Condition: {ans_conditions[i]}')\n",
        "    drug_ratings = df[df[\"condition\"] == predicted_condition].groupby(\"drugName\")[[\"rating\", \"usefulCount\"]].mean()\n",
        "    recommended_drugs_rt = set(drug_ratings.nlargest(5,'rating').index.tolist())\n",
        "    print(\"Recommended Drugs based on ratings only:\")\n",
        "    for i, drug in enumerate(recommended_drugs_rt):\n",
        "        print(i+1, drug)"
      ],
      "metadata": {
        "execution": {
          "iopub.status.busy": "2024-04-11T09:11:46.656296Z",
          "iopub.execute_input": "2024-04-11T09:11:46.657049Z",
          "iopub.status.idle": "2024-04-11T09:11:47.115634Z",
          "shell.execute_reply.started": "2024-04-11T09:11:46.657017Z",
          "shell.execute_reply": "2024-04-11T09:11:47.114744Z"
        },
        "trusted": true,
        "id": "1C9-uC5j6WIc",
        "outputId": "e4cf8f05-f818-4f03-edb1-92640cff770d"
      },
      "execution_count": null,
      "outputs": [
        {
          "name": "stdout",
          "text": "\u001b[1m1/1\u001b[0m \u001b[32m━━━━━━━━━━━━━━━━━━━━\u001b[0m\u001b[37m\u001b[0m \u001b[1m0s\u001b[0m 26ms/step\nPredicted Condition: ADHD\nAnswer Condition: ADHD\nRecommended Drugs based on ratings only:\n1 Pemoline\n2 Cylert\n3 Desoxyn\n4 Selegiline\n5 ProCentra\n\u001b[1m1/1\u001b[0m \u001b[32m━━━━━━━━━━━━━━━━━━━━\u001b[0m\u001b[37m\u001b[0m \u001b[1m0s\u001b[0m 25ms/step\nPredicted Condition: Birth Control\nAnswer Condition: Birth Control\nRecommended Drugs based on ratings only:\n1 Plan B\n2 Heather\n3 Elinest\n4 Provera\n5 Ortho-Novum 7 / 7 / 7\n\u001b[1m1/1\u001b[0m \u001b[32m━━━━━━━━━━━━━━━━━━━━\u001b[0m\u001b[37m\u001b[0m \u001b[1m0s\u001b[0m 25ms/step\nPredicted Condition: Birth Control\nAnswer Condition: Birth Control\nRecommended Drugs based on ratings only:\n1 Plan B\n2 Heather\n3 Elinest\n4 Provera\n5 Ortho-Novum 7 / 7 / 7\n\u001b[1m1/1\u001b[0m \u001b[32m━━━━━━━━━━━━━━━━━━━━\u001b[0m\u001b[37m\u001b[0m \u001b[1m0s\u001b[0m 26ms/step\nPredicted Condition: Bipolar Disorde\nAnswer Condition: Bipolar Disorde\nRecommended Drugs based on ratings only:\n1 Eskalith-CR\n2 Nuvigil\n3 Armodafinil\n4 Klonopin Wafer\n5 Tiagabine\n\u001b[1m1/1\u001b[0m \u001b[32m━━━━━━━━━━━━━━━━━━━━\u001b[0m\u001b[37m\u001b[0m \u001b[1m0s\u001b[0m 26ms/step\nPredicted Condition: Birth Control\nAnswer Condition: Birth Control\nRecommended Drugs based on ratings only:\n1 Plan B\n2 Heather\n3 Elinest\n4 Provera\n5 Ortho-Novum 7 / 7 / 7\n",
          "output_type": "stream"
        }
      ]
    },
    {
      "cell_type": "code",
      "source": [
        "new_reviews = \"It has no side effect, I take it in combination of Bystolic 5 Mg and Fish Oil\"\n",
        "new_reviews=list(df['review'][:5])\n",
        "ans_conditions=list(df['condition'][:5])\n",
        "# 기존의 예측 코드...\n",
        "new_reviews_cleaned = new_reviews[i].lower().replace('[^a-zA-Z]', ' ')\n",
        "new_sequences = tokenizer.texts_to_sequences([new_reviews_cleaned])\n",
        "new_padded_sequences = pad_sequences(new_sequences, maxlen=max_sequence_length)\n",
        "pred = model.predict(new_padded_sequences)\n",
        "predicted_condition = label_encoder_condition.classes_[np.argmax(pred)]\n",
        "predicted_conditions.append(predicted_condition)\n",
        "actual_conditions.append(ans_conditions[i])\n",
        "\n",
        "    # 기존 출력 코드...\n",
        "\n",
        "# 실제 값과 예측 값을 기반으로 정밀도, 재현율, F1 점수 계산\n",
        "# 여기서 average 매개변수는 라벨이 다중 클래스인 경우 어떻게 평균을 낼지 정하는 것입니다. 'macro', 'micro', 'weighted', 'samples' 중 선택할 수 있습니다.\n",
        "# 'micro': 글로벌로 TP, FN, FP를 계산하여 정밀도, 재현율, F1 점수를 계산합니다.\n",
        "# 'macro': 각 라벨에 대해 정밀도, 재현율, F1 점수를 계산하고, 라벨 간 평균을 낸 값입니다. 라벨 크기를 고려하지 않습니다.\n",
        "# 'weighted': 각 라벨에 대해 정밀도, 재현율, F1 점수를 계산하고, 각 라벨의 샘플 수에 따라 가중 평균을 낸 값입니다.\n",
        "precision = precision_score(actual_conditions, predicted_conditions, average='macro')\n",
        "recall = recall_score(actual_conditions, predicted_conditions, average='macro')\n",
        "f1 = f1_score(actual_conditions, predicted_conditions, average='macro')\n",
        "\n",
        "print(f'Precision: {precision}')\n",
        "print(f'Recall: {recall}')\n",
        "print(f'F1 Score: {f1}')"
      ],
      "metadata": {
        "execution": {
          "iopub.status.busy": "2024-04-11T09:05:40.462644Z",
          "iopub.execute_input": "2024-04-11T09:05:40.463426Z",
          "iopub.status.idle": "2024-04-11T09:05:40.543799Z",
          "shell.execute_reply.started": "2024-04-11T09:05:40.463396Z",
          "shell.execute_reply": "2024-04-11T09:05:40.542871Z"
        },
        "trusted": true,
        "id": "nXdT-_3j6WIc",
        "outputId": "ee967c18-9d1e-42b1-b0f6-d4035e808385"
      },
      "execution_count": null,
      "outputs": [
        {
          "name": "stdout",
          "text": "\u001b[1m1/1\u001b[0m \u001b[32m━━━━━━━━━━━━━━━━━━━━\u001b[0m\u001b[37m\u001b[0m \u001b[1m0s\u001b[0m 26ms/step\nPrecision: 1.0\nRecall: 1.0\nF1 Score: 1.0\n",
          "output_type": "stream"
        }
      ]
    },
    {
      "cell_type": "markdown",
      "source": [
        "# 머신러닝"
      ],
      "metadata": {
        "id": "vxpce8_O6WIc"
      }
    },
    {
      "cell_type": "code",
      "source": [
        "df['review_clean']=df['review'].apply(review_to_words)"
      ],
      "metadata": {
        "execution": {
          "iopub.status.busy": "2024-04-07T16:54:47.780907Z",
          "iopub.execute_input": "2024-04-07T16:54:47.781687Z",
          "iopub.status.idle": "2024-04-07T16:56:32.096787Z",
          "shell.execute_reply.started": "2024-04-07T16:54:47.781654Z",
          "shell.execute_reply": "2024-04-07T16:56:32.095992Z"
        },
        "trusted": true,
        "id": "Ond7FCqA6WIc",
        "outputId": "92ed017c-843c-4bd9-b0ae-a5535a4ccaed"
      },
      "execution_count": null,
      "outputs": [
        {
          "name": "stderr",
          "text": "/tmp/ipykernel_34/2151439243.py:5: MarkupResemblesLocatorWarning: The input looks more like a filename than markup. You may want to open this file and pass the filehandle into Beautiful Soup.\n  review_text = BeautifulSoup(raw_review, 'html.parser').get_text()\n",
          "output_type": "stream"
        }
      ]
    },
    {
      "cell_type": "code",
      "source": [
        "vectorizer=TfidfVectorizer(lowercase=True)\n",
        "X=vectorizer.fit_transform(df['review_clean'])"
      ],
      "metadata": {
        "execution": {
          "iopub.status.busy": "2024-04-07T17:04:30.695528Z",
          "iopub.execute_input": "2024-04-07T17:04:30.696271Z",
          "iopub.status.idle": "2024-04-07T17:04:37.178229Z",
          "shell.execute_reply.started": "2024-04-07T17:04:30.696240Z",
          "shell.execute_reply": "2024-04-07T17:04:37.177433Z"
        },
        "trusted": true,
        "id": "ICMxnLwn6WIc"
      },
      "execution_count": null,
      "outputs": []
    },
    {
      "cell_type": "code",
      "source": [
        "x_train,x_test,y_train,y_test=train_test_split(X,df['condition'],test_size=0.2,random_state=42)"
      ],
      "metadata": {
        "execution": {
          "iopub.status.busy": "2024-04-07T17:04:47.845630Z",
          "iopub.execute_input": "2024-04-07T17:04:47.846525Z",
          "iopub.status.idle": "2024-04-07T17:04:47.880964Z",
          "shell.execute_reply.started": "2024-04-07T17:04:47.846494Z",
          "shell.execute_reply": "2024-04-07T17:04:47.879915Z"
        },
        "trusted": true,
        "id": "iVfuwS4-6WId"
      },
      "execution_count": null,
      "outputs": []
    },
    {
      "cell_type": "markdown",
      "source": [
        "# Randomforest"
      ],
      "metadata": {
        "id": "2sfiy92f6WId"
      }
    },
    {
      "cell_type": "code",
      "source": [
        "model1=RandomForestClassifier()\n",
        "model1.fit(x_train,y_train)"
      ],
      "metadata": {
        "execution": {
          "iopub.status.busy": "2024-04-07T17:05:04.290099Z",
          "iopub.execute_input": "2024-04-07T17:05:04.291105Z",
          "iopub.status.idle": "2024-04-07T17:08:03.027469Z",
          "shell.execute_reply.started": "2024-04-07T17:05:04.291071Z",
          "shell.execute_reply": "2024-04-07T17:08:03.026543Z"
        },
        "trusted": true,
        "id": "yEzpZ1LS6WId",
        "outputId": "87bf306e-4246-4720-95db-460d046f9d6c"
      },
      "execution_count": null,
      "outputs": [
        {
          "execution_count": 28,
          "output_type": "execute_result",
          "data": {
            "text/plain": "RandomForestClassifier()",
            "text/html": "<style>#sk-container-id-1 {color: black;background-color: white;}#sk-container-id-1 pre{padding: 0;}#sk-container-id-1 div.sk-toggleable {background-color: white;}#sk-container-id-1 label.sk-toggleable__label {cursor: pointer;display: block;width: 100%;margin-bottom: 0;padding: 0.3em;box-sizing: border-box;text-align: center;}#sk-container-id-1 label.sk-toggleable__label-arrow:before {content: \"▸\";float: left;margin-right: 0.25em;color: #696969;}#sk-container-id-1 label.sk-toggleable__label-arrow:hover:before {color: black;}#sk-container-id-1 div.sk-estimator:hover label.sk-toggleable__label-arrow:before {color: black;}#sk-container-id-1 div.sk-toggleable__content {max-height: 0;max-width: 0;overflow: hidden;text-align: left;background-color: #f0f8ff;}#sk-container-id-1 div.sk-toggleable__content pre {margin: 0.2em;color: black;border-radius: 0.25em;background-color: #f0f8ff;}#sk-container-id-1 input.sk-toggleable__control:checked~div.sk-toggleable__content {max-height: 200px;max-width: 100%;overflow: auto;}#sk-container-id-1 input.sk-toggleable__control:checked~label.sk-toggleable__label-arrow:before {content: \"▾\";}#sk-container-id-1 div.sk-estimator input.sk-toggleable__control:checked~label.sk-toggleable__label {background-color: #d4ebff;}#sk-container-id-1 div.sk-label input.sk-toggleable__control:checked~label.sk-toggleable__label {background-color: #d4ebff;}#sk-container-id-1 input.sk-hidden--visually {border: 0;clip: rect(1px 1px 1px 1px);clip: rect(1px, 1px, 1px, 1px);height: 1px;margin: -1px;overflow: hidden;padding: 0;position: absolute;width: 1px;}#sk-container-id-1 div.sk-estimator {font-family: monospace;background-color: #f0f8ff;border: 1px dotted black;border-radius: 0.25em;box-sizing: border-box;margin-bottom: 0.5em;}#sk-container-id-1 div.sk-estimator:hover {background-color: #d4ebff;}#sk-container-id-1 div.sk-parallel-item::after {content: \"\";width: 100%;border-bottom: 1px solid gray;flex-grow: 1;}#sk-container-id-1 div.sk-label:hover label.sk-toggleable__label {background-color: #d4ebff;}#sk-container-id-1 div.sk-serial::before {content: \"\";position: absolute;border-left: 1px solid gray;box-sizing: border-box;top: 0;bottom: 0;left: 50%;z-index: 0;}#sk-container-id-1 div.sk-serial {display: flex;flex-direction: column;align-items: center;background-color: white;padding-right: 0.2em;padding-left: 0.2em;position: relative;}#sk-container-id-1 div.sk-item {position: relative;z-index: 1;}#sk-container-id-1 div.sk-parallel {display: flex;align-items: stretch;justify-content: center;background-color: white;position: relative;}#sk-container-id-1 div.sk-item::before, #sk-container-id-1 div.sk-parallel-item::before {content: \"\";position: absolute;border-left: 1px solid gray;box-sizing: border-box;top: 0;bottom: 0;left: 50%;z-index: -1;}#sk-container-id-1 div.sk-parallel-item {display: flex;flex-direction: column;z-index: 1;position: relative;background-color: white;}#sk-container-id-1 div.sk-parallel-item:first-child::after {align-self: flex-end;width: 50%;}#sk-container-id-1 div.sk-parallel-item:last-child::after {align-self: flex-start;width: 50%;}#sk-container-id-1 div.sk-parallel-item:only-child::after {width: 0;}#sk-container-id-1 div.sk-dashed-wrapped {border: 1px dashed gray;margin: 0 0.4em 0.5em 0.4em;box-sizing: border-box;padding-bottom: 0.4em;background-color: white;}#sk-container-id-1 div.sk-label label {font-family: monospace;font-weight: bold;display: inline-block;line-height: 1.2em;}#sk-container-id-1 div.sk-label-container {text-align: center;}#sk-container-id-1 div.sk-container {/* jupyter's `normalize.less` sets `[hidden] { display: none; }` but bootstrap.min.css set `[hidden] { display: none !important; }` so we also need the `!important` here to be able to override the default hidden behavior on the sphinx rendered scikit-learn.org. See: https://github.com/scikit-learn/scikit-learn/issues/21755 */display: inline-block !important;position: relative;}#sk-container-id-1 div.sk-text-repr-fallback {display: none;}</style><div id=\"sk-container-id-1\" class=\"sk-top-container\"><div class=\"sk-text-repr-fallback\"><pre>RandomForestClassifier()</pre><b>In a Jupyter environment, please rerun this cell to show the HTML representation or trust the notebook. <br />On GitHub, the HTML representation is unable to render, please try loading this page with nbviewer.org.</b></div><div class=\"sk-container\" hidden><div class=\"sk-item\"><div class=\"sk-estimator sk-toggleable\"><input class=\"sk-toggleable__control sk-hidden--visually\" id=\"sk-estimator-id-1\" type=\"checkbox\" checked><label for=\"sk-estimator-id-1\" class=\"sk-toggleable__label sk-toggleable__label-arrow\">RandomForestClassifier</label><div class=\"sk-toggleable__content\"><pre>RandomForestClassifier()</pre></div></div></div></div></div>"
          },
          "metadata": {}
        }
      ]
    },
    {
      "cell_type": "code",
      "source": [
        "pred=model1.predict(x_test)\n",
        "print(classification_report(pred,y_test))"
      ],
      "metadata": {
        "execution": {
          "iopub.status.busy": "2024-04-07T17:12:53.745420Z",
          "iopub.execute_input": "2024-04-07T17:12:53.746079Z",
          "iopub.status.idle": "2024-04-07T17:12:55.408629Z",
          "shell.execute_reply.started": "2024-04-07T17:12:53.746049Z",
          "shell.execute_reply": "2024-04-07T17:12:55.407595Z"
        },
        "trusted": true,
        "id": "pJr5ZJ5Q6WId",
        "outputId": "75f444bb-404f-4e34-d163-71ea3656a168"
      },
      "execution_count": null,
      "outputs": [
        {
          "name": "stdout",
          "text": "                 precision    recall  f1-score   support\n\n           ADHD       0.88      0.96      0.92       626\n           Acne       0.89      0.98      0.93      1035\n        Anxiety       0.76      0.85      0.80      1012\nBipolar Disorde       0.76      0.95      0.85       659\n  Birth Control       1.00      0.92      0.95      6271\n     Depression       0.86      0.81      0.83      1915\n       Insomnia       0.84      0.90      0.87       652\n        Obesity       0.72      0.84      0.78       639\n           Pain       0.93      0.92      0.92      1283\n    Weight Loss       0.75      0.80      0.78       699\n\n       accuracy                           0.90     14791\n      macro avg       0.84      0.89      0.86     14791\n   weighted avg       0.90      0.90      0.90     14791\n\n",
          "output_type": "stream"
        }
      ]
    },
    {
      "cell_type": "code",
      "source": [
        "new_review = [\"This drug is amazing, it really helped me with my condition!\"]\n",
        "new_review = vectorizer.transform(new_review)\n",
        "new_condition = model1.predict(new_review)[0]\n",
        "print(\"Predicted Condition:\", new_condition)"
      ],
      "metadata": {
        "execution": {
          "iopub.status.busy": "2024-04-07T17:13:34.679035Z",
          "iopub.execute_input": "2024-04-07T17:13:34.679762Z",
          "iopub.status.idle": "2024-04-07T17:13:34.695295Z",
          "shell.execute_reply.started": "2024-04-07T17:13:34.679731Z",
          "shell.execute_reply": "2024-04-07T17:13:34.694360Z"
        },
        "trusted": true,
        "id": "hkvzm4VT6WId",
        "outputId": "c4d03872-1d11-49e0-a0f0-9db469cc04d4"
      },
      "execution_count": null,
      "outputs": [
        {
          "name": "stdout",
          "text": "Predicted Condition: Depression\n",
          "output_type": "stream"
        }
      ]
    },
    {
      "cell_type": "markdown",
      "source": [
        "# LightGBM"
      ],
      "metadata": {
        "id": "rvsBuJN26WIe"
      }
    },
    {
      "cell_type": "code",
      "source": [
        "import lightgbm as lgb\n",
        "model3=lgb.LGBMClassifier()\n",
        "model3.fit(x_train,y_train)"
      ],
      "metadata": {
        "execution": {
          "iopub.status.busy": "2024-04-07T17:34:00.289123Z",
          "iopub.execute_input": "2024-04-07T17:34:00.289830Z",
          "iopub.status.idle": "2024-04-07T17:35:45.252574Z",
          "shell.execute_reply.started": "2024-04-07T17:34:00.289797Z",
          "shell.execute_reply": "2024-04-07T17:35:45.251638Z"
        },
        "trusted": true,
        "id": "X3nOGySg6WIk",
        "outputId": "b3279a2e-20a5-426f-9915-690dbf893040"
      },
      "execution_count": null,
      "outputs": [
        {
          "name": "stderr",
          "text": "/opt/conda/lib/python3.10/site-packages/dask/dataframe/_pyarrow_compat.py:23: UserWarning: You are using pyarrow version 11.0.0 which is known to be insecure. See https://www.cve.org/CVERecord?id=CVE-2023-47248 for further details. Please upgrade to pyarrow>=14.0.1 or install pyarrow-hotfix to patch your current version.\n  warnings.warn(\n",
          "output_type": "stream"
        },
        {
          "name": "stdout",
          "text": "[LightGBM] [Info] Auto-choosing row-wise multi-threading, the overhead of testing was 1.020537 seconds.\nYou can set `force_row_wise=true` to remove the overhead.\nAnd if memory is not enough, you can set `force_col_wise=true`.\n[LightGBM] [Info] Total Bins 314606\n[LightGBM] [Info] Number of data points in the train set: 59160, number of used features: 3837\n[LightGBM] [Info] Start training from score -3.086624\n[LightGBM] [Info] Start training from score -2.586668\n[LightGBM] [Info] Start training from score -2.517690\n[LightGBM] [Info] Start training from score -2.856470\n[LightGBM] [Info] Start training from score -0.943795\n[LightGBM] [Info] Start training from score -2.095252\n[LightGBM] [Info] Start training from score -2.988658\n[LightGBM] [Info] Start training from score -3.041030\n[LightGBM] [Info] Start training from score -2.497152\n[LightGBM] [Info] Start training from score -3.030124\n",
          "output_type": "stream"
        },
        {
          "execution_count": 34,
          "output_type": "execute_result",
          "data": {
            "text/plain": "LGBMClassifier()",
            "text/html": "<style>#sk-container-id-2 {color: black;background-color: white;}#sk-container-id-2 pre{padding: 0;}#sk-container-id-2 div.sk-toggleable {background-color: white;}#sk-container-id-2 label.sk-toggleable__label {cursor: pointer;display: block;width: 100%;margin-bottom: 0;padding: 0.3em;box-sizing: border-box;text-align: center;}#sk-container-id-2 label.sk-toggleable__label-arrow:before {content: \"▸\";float: left;margin-right: 0.25em;color: #696969;}#sk-container-id-2 label.sk-toggleable__label-arrow:hover:before {color: black;}#sk-container-id-2 div.sk-estimator:hover label.sk-toggleable__label-arrow:before {color: black;}#sk-container-id-2 div.sk-toggleable__content {max-height: 0;max-width: 0;overflow: hidden;text-align: left;background-color: #f0f8ff;}#sk-container-id-2 div.sk-toggleable__content pre {margin: 0.2em;color: black;border-radius: 0.25em;background-color: #f0f8ff;}#sk-container-id-2 input.sk-toggleable__control:checked~div.sk-toggleable__content {max-height: 200px;max-width: 100%;overflow: auto;}#sk-container-id-2 input.sk-toggleable__control:checked~label.sk-toggleable__label-arrow:before {content: \"▾\";}#sk-container-id-2 div.sk-estimator input.sk-toggleable__control:checked~label.sk-toggleable__label {background-color: #d4ebff;}#sk-container-id-2 div.sk-label input.sk-toggleable__control:checked~label.sk-toggleable__label {background-color: #d4ebff;}#sk-container-id-2 input.sk-hidden--visually {border: 0;clip: rect(1px 1px 1px 1px);clip: rect(1px, 1px, 1px, 1px);height: 1px;margin: -1px;overflow: hidden;padding: 0;position: absolute;width: 1px;}#sk-container-id-2 div.sk-estimator {font-family: monospace;background-color: #f0f8ff;border: 1px dotted black;border-radius: 0.25em;box-sizing: border-box;margin-bottom: 0.5em;}#sk-container-id-2 div.sk-estimator:hover {background-color: #d4ebff;}#sk-container-id-2 div.sk-parallel-item::after {content: \"\";width: 100%;border-bottom: 1px solid gray;flex-grow: 1;}#sk-container-id-2 div.sk-label:hover label.sk-toggleable__label {background-color: #d4ebff;}#sk-container-id-2 div.sk-serial::before {content: \"\";position: absolute;border-left: 1px solid gray;box-sizing: border-box;top: 0;bottom: 0;left: 50%;z-index: 0;}#sk-container-id-2 div.sk-serial {display: flex;flex-direction: column;align-items: center;background-color: white;padding-right: 0.2em;padding-left: 0.2em;position: relative;}#sk-container-id-2 div.sk-item {position: relative;z-index: 1;}#sk-container-id-2 div.sk-parallel {display: flex;align-items: stretch;justify-content: center;background-color: white;position: relative;}#sk-container-id-2 div.sk-item::before, #sk-container-id-2 div.sk-parallel-item::before {content: \"\";position: absolute;border-left: 1px solid gray;box-sizing: border-box;top: 0;bottom: 0;left: 50%;z-index: -1;}#sk-container-id-2 div.sk-parallel-item {display: flex;flex-direction: column;z-index: 1;position: relative;background-color: white;}#sk-container-id-2 div.sk-parallel-item:first-child::after {align-self: flex-end;width: 50%;}#sk-container-id-2 div.sk-parallel-item:last-child::after {align-self: flex-start;width: 50%;}#sk-container-id-2 div.sk-parallel-item:only-child::after {width: 0;}#sk-container-id-2 div.sk-dashed-wrapped {border: 1px dashed gray;margin: 0 0.4em 0.5em 0.4em;box-sizing: border-box;padding-bottom: 0.4em;background-color: white;}#sk-container-id-2 div.sk-label label {font-family: monospace;font-weight: bold;display: inline-block;line-height: 1.2em;}#sk-container-id-2 div.sk-label-container {text-align: center;}#sk-container-id-2 div.sk-container {/* jupyter's `normalize.less` sets `[hidden] { display: none; }` but bootstrap.min.css set `[hidden] { display: none !important; }` so we also need the `!important` here to be able to override the default hidden behavior on the sphinx rendered scikit-learn.org. See: https://github.com/scikit-learn/scikit-learn/issues/21755 */display: inline-block !important;position: relative;}#sk-container-id-2 div.sk-text-repr-fallback {display: none;}</style><div id=\"sk-container-id-2\" class=\"sk-top-container\"><div class=\"sk-text-repr-fallback\"><pre>LGBMClassifier()</pre><b>In a Jupyter environment, please rerun this cell to show the HTML representation or trust the notebook. <br />On GitHub, the HTML representation is unable to render, please try loading this page with nbviewer.org.</b></div><div class=\"sk-container\" hidden><div class=\"sk-item\"><div class=\"sk-estimator sk-toggleable\"><input class=\"sk-toggleable__control sk-hidden--visually\" id=\"sk-estimator-id-2\" type=\"checkbox\" checked><label for=\"sk-estimator-id-2\" class=\"sk-toggleable__label sk-toggleable__label-arrow\">LGBMClassifier</label><div class=\"sk-toggleable__content\"><pre>LGBMClassifier()</pre></div></div></div></div></div>"
          },
          "metadata": {}
        }
      ]
    },
    {
      "cell_type": "code",
      "source": [
        "pred=model3.predict(x_test)\n",
        "print(classification_report(pred,y_test))"
      ],
      "metadata": {
        "execution": {
          "iopub.status.busy": "2024-04-07T17:36:20.230072Z",
          "iopub.execute_input": "2024-04-07T17:36:20.230909Z",
          "iopub.status.idle": "2024-04-07T17:36:21.987751Z",
          "shell.execute_reply.started": "2024-04-07T17:36:20.230876Z",
          "shell.execute_reply": "2024-04-07T17:36:21.986594Z"
        },
        "trusted": true,
        "id": "AYzcLm8C6WIk",
        "outputId": "a50d6374-cd17-4983-e043-449c2685424d"
      },
      "execution_count": null,
      "outputs": [
        {
          "name": "stdout",
          "text": "                 precision    recall  f1-score   support\n\n           ADHD       0.93      0.96      0.94       656\n           Acne       0.93      0.96      0.95      1093\n        Anxiety       0.78      0.83      0.81      1064\nBipolar Disorde       0.82      0.87      0.85       779\n  Birth Control       0.99      0.97      0.98      5845\n     Depression       0.87      0.80      0.83      1949\n       Insomnia       0.88      0.89      0.88       684\n        Obesity       0.75      0.81      0.78       683\n           Pain       0.94      0.94      0.94      1276\n    Weight Loss       0.80      0.79      0.80       762\n\n       accuracy                           0.91     14791\n      macro avg       0.87      0.88      0.87     14791\n   weighted avg       0.91      0.91      0.91     14791\n\n",
          "output_type": "stream"
        }
      ]
    },
    {
      "cell_type": "code",
      "source": [
        "new_review = [\"This drug is amazing, it really helped me with my condition!\"]\n",
        "new_review = vectorizer.transform(new_review)\n",
        "new_condition = model3.predict(new_review)[0]\n",
        "print(\"Predicted Condition:\", new_condition)"
      ],
      "metadata": {
        "execution": {
          "iopub.status.busy": "2024-04-07T17:36:30.894486Z",
          "iopub.execute_input": "2024-04-07T17:36:30.894875Z",
          "iopub.status.idle": "2024-04-07T17:36:30.904278Z",
          "shell.execute_reply.started": "2024-04-07T17:36:30.894847Z",
          "shell.execute_reply": "2024-04-07T17:36:30.903314Z"
        },
        "trusted": true,
        "id": "PL9LQ3Dv6WIk",
        "outputId": "14bc83b1-7394-48dc-ad91-2ff4248f7698"
      },
      "execution_count": null,
      "outputs": [
        {
          "name": "stdout",
          "text": "Predicted Condition: Depression\n",
          "output_type": "stream"
        }
      ]
    },
    {
      "cell_type": "code",
      "source": [],
      "metadata": {
        "id": "cnzKtktu6WIk"
      },
      "execution_count": null,
      "outputs": []
    }
  ]
}