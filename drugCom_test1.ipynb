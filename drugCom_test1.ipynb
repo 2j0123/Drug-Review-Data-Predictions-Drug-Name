{
  "cells": [
    {
      "cell_type": "markdown",
      "metadata": {
        "id": "veq-sfXR8XRx"
      },
      "source": [
        "**텍스트 정제 => 토큰화(시퀀스 변형 x) => 불용어 제거 => 텍스트 정규화 => 표제어 추출 or 어간 추출\n",
        "=> 텍스트 벡터화 => 데이터 정제**"
      ]
    },
    {
      "cell_type": "code",
      "execution_count": null,
      "metadata": {
        "colab": {
          "base_uri": "https://localhost:8080/"
        },
        "id": "-lvmNLQ9aW7K",
        "outputId": "5e7f13d8-f806-4bf5-bd3a-8870fb0b25ae"
      },
      "outputs": [
        {
          "name": "stdout",
          "output_type": "stream",
          "text": [
            "Mounted at /content/drive\n"
          ]
        }
      ],
      "source": [
        "#from google.colab import drive\n",
        "#drive.mount('/content/drive')"
      ]
    },
    {
      "cell_type": "code",
      "execution_count": null,
      "metadata": {
        "id": "jVaQSujbaeX6"
      },
      "outputs": [],
      "source": [
        "import numpy as np\n",
        "import pandas as pd\n",
        "import matplotlib.pyplot as plt\n",
        "import seaborn as sns\n",
        "import re\n",
        "\n",
        "df = pd.read_csv('/home/kdt-admin/JY/data/drugsComTrain_raw.tsv', sep=\"\\t\", encoding='latin1')"
      ]
    },
    {
      "cell_type": "code",
      "execution_count": null,
      "metadata": {
        "id": "A1gZ5IkE-FHO",
        "outputId": "c694ba5d-8a71-4d6b-f69e-1a5c9f48ca9c"
      },
      "outputs": [
        {
          "data": {
            "text/html": [
              "<div>\n",
              "<style scoped>\n",
              "    .dataframe tbody tr th:only-of-type {\n",
              "        vertical-align: middle;\n",
              "    }\n",
              "\n",
              "    .dataframe tbody tr th {\n",
              "        vertical-align: top;\n",
              "    }\n",
              "\n",
              "    .dataframe thead th {\n",
              "        text-align: right;\n",
              "    }\n",
              "</style>\n",
              "<table border=\"1\" class=\"dataframe\">\n",
              "  <thead>\n",
              "    <tr style=\"text-align: right;\">\n",
              "      <th></th>\n",
              "      <th>Unnamed: 0</th>\n",
              "      <th>drugName</th>\n",
              "      <th>condition</th>\n",
              "      <th>review</th>\n",
              "      <th>rating</th>\n",
              "      <th>date</th>\n",
              "      <th>usefulCount</th>\n",
              "    </tr>\n",
              "  </thead>\n",
              "  <tbody>\n",
              "    <tr>\n",
              "      <th>0</th>\n",
              "      <td>206461</td>\n",
              "      <td>Valsartan</td>\n",
              "      <td>Left Ventricular Dysfunction</td>\n",
              "      <td>\"It has no side effect, I take it in combinati...</td>\n",
              "      <td>9.0</td>\n",
              "      <td>20-May-12</td>\n",
              "      <td>27.0</td>\n",
              "    </tr>\n",
              "    <tr>\n",
              "      <th>1</th>\n",
              "      <td>95260</td>\n",
              "      <td>Guanfacine</td>\n",
              "      <td>ADHD</td>\n",
              "      <td>\"My son is halfway through his fourth week of ...</td>\n",
              "      <td>8.0</td>\n",
              "      <td>27-Apr-10</td>\n",
              "      <td>192.0</td>\n",
              "    </tr>\n",
              "    <tr>\n",
              "      <th>2</th>\n",
              "      <td>92703</td>\n",
              "      <td>Lybrel</td>\n",
              "      <td>Birth Control</td>\n",
              "      <td>\"I used to take another oral contraceptive, wh...</td>\n",
              "      <td>5.0</td>\n",
              "      <td>14-Dec-09</td>\n",
              "      <td>17.0</td>\n",
              "    </tr>\n",
              "    <tr>\n",
              "      <th>3</th>\n",
              "      <td>138000</td>\n",
              "      <td>Ortho Evra</td>\n",
              "      <td>Birth Control</td>\n",
              "      <td>\"This is my first time using any form of birth...</td>\n",
              "      <td>8.0</td>\n",
              "      <td>03-Nov-15</td>\n",
              "      <td>10.0</td>\n",
              "    </tr>\n",
              "    <tr>\n",
              "      <th>4</th>\n",
              "      <td>35696</td>\n",
              "      <td>Buprenorphine / naloxone</td>\n",
              "      <td>Opiate Dependence</td>\n",
              "      <td>\"Suboxone has completely turned my life around...</td>\n",
              "      <td>9.0</td>\n",
              "      <td>27-Nov-16</td>\n",
              "      <td>37.0</td>\n",
              "    </tr>\n",
              "  </tbody>\n",
              "</table>\n",
              "</div>"
            ],
            "text/plain": [
              "  Unnamed: 0                  drugName                     condition  \\\n",
              "0     206461                 Valsartan  Left Ventricular Dysfunction   \n",
              "1      95260                Guanfacine                          ADHD   \n",
              "2      92703                    Lybrel                 Birth Control   \n",
              "3     138000                Ortho Evra                 Birth Control   \n",
              "4      35696  Buprenorphine / naloxone             Opiate Dependence   \n",
              "\n",
              "                                              review  rating       date  \\\n",
              "0  \"It has no side effect, I take it in combinati...     9.0  20-May-12   \n",
              "1  \"My son is halfway through his fourth week of ...     8.0  27-Apr-10   \n",
              "2  \"I used to take another oral contraceptive, wh...     5.0  14-Dec-09   \n",
              "3  \"This is my first time using any form of birth...     8.0  03-Nov-15   \n",
              "4  \"Suboxone has completely turned my life around...     9.0  27-Nov-16   \n",
              "\n",
              "   usefulCount  \n",
              "0         27.0  \n",
              "1        192.0  \n",
              "2         17.0  \n",
              "3         10.0  \n",
              "4         37.0  "
            ]
          },
          "execution_count": 5,
          "metadata": {},
          "output_type": "execute_result"
        }
      ],
      "source": [
        "df.head()"
      ]
    },
    {
      "cell_type": "code",
      "execution_count": null,
      "metadata": {
        "id": "GBgKmMpwae_x"
      },
      "outputs": [],
      "source": [
        "df.dropna(subset = ['condition'], inplace = True)\n",
        "df.drop(columns = ['Unnamed: 0', 'date'], inplace = True)"
      ]
    },
    {
      "cell_type": "code",
      "execution_count": null,
      "metadata": {
        "id": "HlZWBIjxa7li"
      },
      "outputs": [],
      "source": [
        "#condition컬럼에서 이상한 값 제거\n",
        "df = df[~df['condition'].str.contains(\"users found this comment helpful.\", na = False, case = False)]\n"
      ]
    },
    {
      "cell_type": "markdown",
      "metadata": {
        "id": "u2kgA0v16D7p"
      },
      "source": [
        "**영어, 숫자만 남겨두고 제거 => 039와 관련된 단어 삭제를 위해 숫자 남김**"
      ]
    },
    {
      "cell_type": "code",
      "execution_count": null,
      "metadata": {
        "id": "5gLTUY25bAw5"
      },
      "outputs": [],
      "source": [
        "df['review'] = df['review'].apply(lambda x: re.sub(r'[^a-zA-Z0-9\\s]', '', x))"
      ]
    },
    {
      "cell_type": "markdown",
      "metadata": {
        "id": "Vl1sD7W_6AjZ"
      },
      "source": [
        "**소문자로 변환**"
      ]
    },
    {
      "cell_type": "code",
      "execution_count": null,
      "metadata": {
        "id": "HBzgrALq5jnZ"
      },
      "outputs": [],
      "source": [
        "df['review'] = df['review'].str.lower()\n",
        "df['drugName'] = df['drugName'].str.lower()\n",
        "df['condition'] = df['condition'].str.lower()"
      ]
    },
    {
      "cell_type": "code",
      "execution_count": null,
      "metadata": {
        "colab": {
          "base_uri": "https://localhost:8080/",
          "height": 206
        },
        "id": "P9RPiM85bGTS",
        "outputId": "51c01c76-37a3-4874-caf8-8d9671326155"
      },
      "outputs": [
        {
          "data": {
            "text/html": [
              "<div>\n",
              "<style scoped>\n",
              "    .dataframe tbody tr th:only-of-type {\n",
              "        vertical-align: middle;\n",
              "    }\n",
              "\n",
              "    .dataframe tbody tr th {\n",
              "        vertical-align: top;\n",
              "    }\n",
              "\n",
              "    .dataframe thead th {\n",
              "        text-align: right;\n",
              "    }\n",
              "</style>\n",
              "<table border=\"1\" class=\"dataframe\">\n",
              "  <thead>\n",
              "    <tr style=\"text-align: right;\">\n",
              "      <th></th>\n",
              "      <th>drugName</th>\n",
              "      <th>condition</th>\n",
              "      <th>review</th>\n",
              "      <th>rating</th>\n",
              "      <th>usefulCount</th>\n",
              "    </tr>\n",
              "  </thead>\n",
              "  <tbody>\n",
              "    <tr>\n",
              "      <th>0</th>\n",
              "      <td>valsartan</td>\n",
              "      <td>left ventricular dysfunction</td>\n",
              "      <td>it has no side effect i take it in combination...</td>\n",
              "      <td>9.0</td>\n",
              "      <td>27.0</td>\n",
              "    </tr>\n",
              "    <tr>\n",
              "      <th>1</th>\n",
              "      <td>guanfacine</td>\n",
              "      <td>adhd</td>\n",
              "      <td>my son is halfway through his fourth week of i...</td>\n",
              "      <td>8.0</td>\n",
              "      <td>192.0</td>\n",
              "    </tr>\n",
              "    <tr>\n",
              "      <th>2</th>\n",
              "      <td>lybrel</td>\n",
              "      <td>birth control</td>\n",
              "      <td>i used to take another oral contraceptive whic...</td>\n",
              "      <td>5.0</td>\n",
              "      <td>17.0</td>\n",
              "    </tr>\n",
              "    <tr>\n",
              "      <th>3</th>\n",
              "      <td>ortho evra</td>\n",
              "      <td>birth control</td>\n",
              "      <td>this is my first time using any form of birth ...</td>\n",
              "      <td>8.0</td>\n",
              "      <td>10.0</td>\n",
              "    </tr>\n",
              "    <tr>\n",
              "      <th>4</th>\n",
              "      <td>buprenorphine / naloxone</td>\n",
              "      <td>opiate dependence</td>\n",
              "      <td>suboxone has completely turned my life around ...</td>\n",
              "      <td>9.0</td>\n",
              "      <td>37.0</td>\n",
              "    </tr>\n",
              "  </tbody>\n",
              "</table>\n",
              "</div>"
            ],
            "text/plain": [
              "                   drugName                     condition  \\\n",
              "0                 valsartan  left ventricular dysfunction   \n",
              "1                guanfacine                          adhd   \n",
              "2                    lybrel                 birth control   \n",
              "3                ortho evra                 birth control   \n",
              "4  buprenorphine / naloxone             opiate dependence   \n",
              "\n",
              "                                              review  rating  usefulCount  \n",
              "0  it has no side effect i take it in combination...     9.0         27.0  \n",
              "1  my son is halfway through his fourth week of i...     8.0        192.0  \n",
              "2  i used to take another oral contraceptive whic...     5.0         17.0  \n",
              "3  this is my first time using any form of birth ...     8.0         10.0  \n",
              "4  suboxone has completely turned my life around ...     9.0         37.0  "
            ]
          },
          "execution_count": 10,
          "metadata": {},
          "output_type": "execute_result"
        }
      ],
      "source": [
        "df.head()"
      ]
    },
    {
      "cell_type": "code",
      "execution_count": null,
      "metadata": {
        "id": "iIF8wS_t3VRL"
      },
      "outputs": [],
      "source": [
        "df['tokenized_review'] = df['review']"
      ]
    },
    {
      "cell_type": "markdown",
      "metadata": {
        "id": "Mrvvzo55bOxJ"
      },
      "source": [
        "# **토큰화**"
      ]
    },
    {
      "cell_type": "code",
      "execution_count": null,
      "metadata": {
        "id": "NJTTmsA0dqb6"
      },
      "outputs": [],
      "source": [
        "from nltk.corpus import stopwords\n",
        "from nltk.tokenize import word_tokenize\n",
        "from konlpy.tag import Okt\n",
        "import nltk\n",
        "\n",
        "#nltk.download('all')"
      ]
    },
    {
      "cell_type": "code",
      "execution_count": null,
      "metadata": {
        "id": "npBJDhbHdR8J"
      },
      "outputs": [],
      "source": [
        "#nltk.download('punkt')"
      ]
    },
    {
      "cell_type": "code",
      "execution_count": null,
      "metadata": {
        "id": "Ing-zvBNbJNi"
      },
      "outputs": [],
      "source": [
        "def tokenize_text(text):\n",
        "    tokens = word_tokenize(text)\n",
        "    return tokens\n",
        "\n",
        "df['tokenized_review'] = df['review'].apply(tokenize_text)\n",
        "df['review'] = df['review'].apply(tokenize_text)"
      ]
    },
    {
      "cell_type": "markdown",
      "metadata": {
        "id": "Czd2qaMWdtFo"
      },
      "source": [
        "# **불용어 제거**"
      ]
    },
    {
      "cell_type": "markdown",
      "metadata": {
        "id": "y7xQKSQYessx"
      },
      "source": [
        "**토큰화만된 리뷰와 토큰화와 불용어를 제거한 리뷰 구분**"
      ]
    },
    {
      "cell_type": "code",
      "execution_count": null,
      "metadata": {
        "id": "bMpJzHqW-FHQ",
        "outputId": "0e1ace18-5e47-4689-efe9-d67189a7c894"
      },
      "outputs": [
        {
          "name": "stdout",
          "output_type": "stream",
          "text": [
            "{'forty', '‘m', 'nor', 'perhaps', 'six', 'whither', 'anything', 'get', 'nevertheless', 'rather', 'twenty', 'become', 'put', 'anyway', 'here', 'some', '‘ve', 'most', 'without', 'last', 'both', 'in', 'their', 'myself', 'wherein', 'have', 'amongst', 'ours', 'twelve', 'into', 'within', 'former', 'already', 'fifty', 'very', 'could', '’ll', 'me', 'anywhere', 'around', 'seem', 'whatever', '‘s', 'ten', 'beside', 'there', 'though', 'now', 'besides', 'five', 'might', 'third', 'somewhere', 'and', 'our', 'hundred', 'with', 'please', 'every', '’d', 'herein', 'any', 'whereupon', 'beyond', 'became', 'per', 'make', 'doing', 'indeed', 'whoever', 'ca', 'therein', 'afterwards', 'be', 'yourselves', 'since', 'we', 'side', 'them', 'latter', 'about', 'seemed', 'two', 'empty', 'part', 'always', 'being', 'ever', '’ve', 'has', 'off', 'is', 'cannot', 'whose', 'during', 'even', 'thru', 'did', 'thence', 'serious', 'us', 'everyone', 'enough', 'across', 'the', 'well', 'latterly', \"'d\", 'however', 'when', 'until', 'alone', 'toward', 'using', 'were', 'should', 'at', 'becomes', 'many', 'while', 'yours', 'towards', 'a', 'or', 'against', 'another', 'can', 'on', 'call', 'does', 'done', 'than', 'to', 'what', 'meanwhile', '’re', 'over', 'ourselves', 'each', 'still', 'together', 'mostly', 'mine', 'that', 'among', 'for', 'take', '‘re', 'else', 'hereafter', 'sometimes', 'an', 'yet', 'if', 'others', 'which', 'either', 'three', 'least', 'only', 'just', \"n't\", 'much', '‘d', 'one', 'his', 'give', 'hence', \"'re\", 'whence', 'above', 'himself', 'through', 'as', 'someone', 'her', 're', 'whom', 'how', 'whereas', 'moreover', 'sixty', 'hereupon', 'seeming', 'used', 'various', 'why', 'are', 'was', 'same', 'via', 'because', 'formerly', 'almost', 'such', 'had', 'due', 'thereby', 'further', 'onto', 'all', '’s', 'will', 'its', \"'s\", 'whereby', 'few', 'too', 'elsewhere', 'name', 'never', 'regarding', 'anyhow', 'this', 'you', 'been', 'him', 'it', 'not', 'below', \"'m\", \"'ve\", 'up', 'she', 'except', 'thereafter', 'other', 'something', 'he', 'themselves', 'n’t', 'unless', 'quite', 'eleven', 'may', 'whenever', 'whole', 'so', 'often', 'nothing', 'they', 'wherever', 'seems', 'although', 'namely', 'show', 'no', 'nobody', 'between', 'throughout', 'everywhere', 'anyone', 'several', 'once', 'but', '‘ll', 'yourself', 'bottom', 'after', 'then', 'four', 'am', 'by', 'really', 'who', 'down', 'noone', 'amount', 'less', 'sometime', 'from', 'say', 'thereupon', 'own', '’m', 'nine', 'go', 'again', 'i', 'somehow', 'before', 'back', 'your', 'my', 'out', \"'ll\", 'whether', 'beforehand', 'also', 'n‘t', 'must', 'next', 'whereafter', 'where', 'more', 'of', 'those', 'hers', 'move', 'front', 'keep', 'these', 'under', 'nowhere', 'hereby', 'everything', 'itself', 'none', 'neither', 'first', 'herself', 'made', 'thus', 'otherwise', 'therefore', 'fifteen', 'full', 'do', 'eight', 'would', 'along', 'see', 'becoming', 'behind', 'upon', 'top'}\n"
          ]
        }
      ],
      "source": [
        "import spacy\n",
        "\n",
        "spacy.load('en_core_web_md')\n",
        "stopwords2 = spacy.lang.en.stop_words.STOP_WORDS\n",
        "print(stopwords2)"
      ]
    },
    {
      "cell_type": "code",
      "execution_count": null,
      "metadata": {
        "id": "8RVO-_LWd9Aa"
      },
      "outputs": [],
      "source": [
        "del_list = ['one', 'two', 'three', 'four', 'five', 'six', 'seven', 'eight', 'nine', 'ten', 'first', 'second', 'third', 'fourth', 'fifth', 'sixth', 'seventh', 'eighth', 'ninth',\n",
        "            'week', 'weeks', 'almost', 'month', 'monthly', 'ago', 'year', 'years', 'months', 'a', 'b', 'c', 'd', 'e', 'f', 'g', 'h', 'i', 'j', 'k','l', 'm', 'o', 'p', 'q', 'r', 's', 't', 'v', 'w', 'x', 'y', 'z']\n",
        "stopwords2 = set(stopwords2)\n",
        "stop_words_list = stopwords.words('english') + del_list + list(stopwords2)\n",
        "stop_words = set(stop_words_list)\n",
        "updated_stopwords = stop_words"
      ]
    },
    {
      "cell_type": "code",
      "execution_count": null,
      "metadata": {
        "id": "e7plHIUfeWFA"
      },
      "outputs": [],
      "source": [
        "def remove_stopwords(text):\n",
        "    filtered_words = [word for word in text if word.lower() not in updated_stopwords]\n",
        "    return filtered_words\n",
        "\n",
        "\n",
        "#'가 039로 깨져있음\n",
        "def remove_039(tokens):\n",
        "    filtered_tokens = [token for token in tokens if not re.search(r'039', token)]\n",
        "    return filtered_tokens\n",
        "\n",
        "#영어만 남기고 삭제\n",
        "english_pattern = re.compile('[a-zA-Z]+')"
      ]
    },
    {
      "cell_type": "code",
      "execution_count": null,
      "metadata": {
        "colab": {
          "base_uri": "https://localhost:8080/",
          "height": 780
        },
        "id": "AZxtGqRceZt4",
        "outputId": "f2e419f1-49d0-4fc7-b2bd-77ca2b7da2f5"
      },
      "outputs": [
        {
          "data": {
            "text/html": [
              "<div>\n",
              "<style scoped>\n",
              "    .dataframe tbody tr th:only-of-type {\n",
              "        vertical-align: middle;\n",
              "    }\n",
              "\n",
              "    .dataframe tbody tr th {\n",
              "        vertical-align: top;\n",
              "    }\n",
              "\n",
              "    .dataframe thead th {\n",
              "        text-align: right;\n",
              "    }\n",
              "</style>\n",
              "<table border=\"1\" class=\"dataframe\">\n",
              "  <thead>\n",
              "    <tr style=\"text-align: right;\">\n",
              "      <th></th>\n",
              "      <th>drugName</th>\n",
              "      <th>condition</th>\n",
              "      <th>review</th>\n",
              "      <th>rating</th>\n",
              "      <th>usefulCount</th>\n",
              "      <th>tokenized_review</th>\n",
              "    </tr>\n",
              "  </thead>\n",
              "  <tbody>\n",
              "    <tr>\n",
              "      <th>0</th>\n",
              "      <td>valsartan</td>\n",
              "      <td>left ventricular dysfunction</td>\n",
              "      <td>[it, has, no, side, effect, i, take, it, in, c...</td>\n",
              "      <td>9.0</td>\n",
              "      <td>27.0</td>\n",
              "      <td>[it, has, no, side, effect, i, take, it, in, c...</td>\n",
              "    </tr>\n",
              "    <tr>\n",
              "      <th>1</th>\n",
              "      <td>guanfacine</td>\n",
              "      <td>adhd</td>\n",
              "      <td>[my, son, is, halfway, through, his, fourth, w...</td>\n",
              "      <td>8.0</td>\n",
              "      <td>192.0</td>\n",
              "      <td>[my, son, is, halfway, through, his, fourth, w...</td>\n",
              "    </tr>\n",
              "    <tr>\n",
              "      <th>2</th>\n",
              "      <td>lybrel</td>\n",
              "      <td>birth control</td>\n",
              "      <td>[i, used, to, take, another, oral, contracepti...</td>\n",
              "      <td>5.0</td>\n",
              "      <td>17.0</td>\n",
              "      <td>[i, used, to, take, another, oral, contracepti...</td>\n",
              "    </tr>\n",
              "    <tr>\n",
              "      <th>3</th>\n",
              "      <td>ortho evra</td>\n",
              "      <td>birth control</td>\n",
              "      <td>[this, is, my, first, time, using, any, form, ...</td>\n",
              "      <td>8.0</td>\n",
              "      <td>10.0</td>\n",
              "      <td>[this, is, my, first, time, using, any, form, ...</td>\n",
              "    </tr>\n",
              "    <tr>\n",
              "      <th>4</th>\n",
              "      <td>buprenorphine / naloxone</td>\n",
              "      <td>opiate dependence</td>\n",
              "      <td>[suboxone, has, completely, turned, my, life, ...</td>\n",
              "      <td>9.0</td>\n",
              "      <td>37.0</td>\n",
              "      <td>[suboxone, has, completely, turned, my, life, ...</td>\n",
              "    </tr>\n",
              "    <tr>\n",
              "      <th>5</th>\n",
              "      <td>cialis</td>\n",
              "      <td>benign prostatic hyperplasia</td>\n",
              "      <td>[2nd, day, on, 5mg, started, to, work, with, r...</td>\n",
              "      <td>2.0</td>\n",
              "      <td>43.0</td>\n",
              "      <td>[2nd, day, on, 5mg, started, to, work, with, r...</td>\n",
              "    </tr>\n",
              "    <tr>\n",
              "      <th>6</th>\n",
              "      <td>levonorgestrel</td>\n",
              "      <td>emergency contraception</td>\n",
              "      <td>[he, pulled, out, but, he, cummed, a, bit, in,...</td>\n",
              "      <td>1.0</td>\n",
              "      <td>5.0</td>\n",
              "      <td>[he, pulled, out, but, he, cummed, a, bit, in,...</td>\n",
              "    </tr>\n",
              "    <tr>\n",
              "      <th>7</th>\n",
              "      <td>aripiprazole</td>\n",
              "      <td>bipolar disorde</td>\n",
              "      <td>[abilify, changed, my, life, there, is, hope, ...</td>\n",
              "      <td>10.0</td>\n",
              "      <td>32.0</td>\n",
              "      <td>[abilify, changed, my, life, there, is, hope, ...</td>\n",
              "    </tr>\n",
              "    <tr>\n",
              "      <th>8</th>\n",
              "      <td>keppra</td>\n",
              "      <td>epilepsy</td>\n",
              "      <td>[i, ve, had, nothing, but, problems, with, the...</td>\n",
              "      <td>1.0</td>\n",
              "      <td>11.0</td>\n",
              "      <td>[i, ve, had, nothing, but, problems, with, the...</td>\n",
              "    </tr>\n",
              "    <tr>\n",
              "      <th>9</th>\n",
              "      <td>ethinyl estradiol / levonorgestrel</td>\n",
              "      <td>birth control</td>\n",
              "      <td>[i, had, been, on, the, pill, for, many, years...</td>\n",
              "      <td>8.0</td>\n",
              "      <td>1.0</td>\n",
              "      <td>[i, had, been, on, the, pill, for, many, years...</td>\n",
              "    </tr>\n",
              "    <tr>\n",
              "      <th>10</th>\n",
              "      <td>topiramate</td>\n",
              "      <td>migraine prevention</td>\n",
              "      <td>[i, have, been, on, this, medication, almost, ...</td>\n",
              "      <td>9.0</td>\n",
              "      <td>19.0</td>\n",
              "      <td>[i, have, been, on, this, medication, almost, ...</td>\n",
              "    </tr>\n",
              "    <tr>\n",
              "      <th>11</th>\n",
              "      <td>l-methylfolate</td>\n",
              "      <td>depression</td>\n",
              "      <td>[i, have, taken, antidepressants, for, years, ...</td>\n",
              "      <td>10.0</td>\n",
              "      <td>54.0</td>\n",
              "      <td>[i, have, taken, antidepressants, for, years, ...</td>\n",
              "    </tr>\n",
              "    <tr>\n",
              "      <th>12</th>\n",
              "      <td>pentasa</td>\n",
              "      <td>crohn's disease</td>\n",
              "      <td>[i, had, crohn039s, with, a, resection, 30, ye...</td>\n",
              "      <td>4.0</td>\n",
              "      <td>8.0</td>\n",
              "      <td>[i, had, crohn039s, with, a, resection, 30, ye...</td>\n",
              "    </tr>\n",
              "    <tr>\n",
              "      <th>13</th>\n",
              "      <td>dextromethorphan</td>\n",
              "      <td>cough</td>\n",
              "      <td>[have, a, little, bit, of, a, lingering, cough...</td>\n",
              "      <td>4.0</td>\n",
              "      <td>1.0</td>\n",
              "      <td>[have, a, little, bit, of, a, lingering, cough...</td>\n",
              "    </tr>\n",
              "    <tr>\n",
              "      <th>14</th>\n",
              "      <td>nexplanon</td>\n",
              "      <td>birth control</td>\n",
              "      <td>[started, nexplanon, 2, months, ago, because, ...</td>\n",
              "      <td>3.0</td>\n",
              "      <td>10.0</td>\n",
              "      <td>[started, nexplanon, 2, months, ago, because, ...</td>\n",
              "    </tr>\n",
              "  </tbody>\n",
              "</table>\n",
              "</div>"
            ],
            "text/plain": [
              "                              drugName                     condition  \\\n",
              "0                            valsartan  left ventricular dysfunction   \n",
              "1                           guanfacine                          adhd   \n",
              "2                               lybrel                 birth control   \n",
              "3                           ortho evra                 birth control   \n",
              "4             buprenorphine / naloxone             opiate dependence   \n",
              "5                               cialis  benign prostatic hyperplasia   \n",
              "6                       levonorgestrel       emergency contraception   \n",
              "7                         aripiprazole               bipolar disorde   \n",
              "8                               keppra                      epilepsy   \n",
              "9   ethinyl estradiol / levonorgestrel                 birth control   \n",
              "10                          topiramate           migraine prevention   \n",
              "11                      l-methylfolate                    depression   \n",
              "12                             pentasa               crohn's disease   \n",
              "13                    dextromethorphan                         cough   \n",
              "14                           nexplanon                 birth control   \n",
              "\n",
              "                                               review  rating  usefulCount  \\\n",
              "0   [it, has, no, side, effect, i, take, it, in, c...     9.0         27.0   \n",
              "1   [my, son, is, halfway, through, his, fourth, w...     8.0        192.0   \n",
              "2   [i, used, to, take, another, oral, contracepti...     5.0         17.0   \n",
              "3   [this, is, my, first, time, using, any, form, ...     8.0         10.0   \n",
              "4   [suboxone, has, completely, turned, my, life, ...     9.0         37.0   \n",
              "5   [2nd, day, on, 5mg, started, to, work, with, r...     2.0         43.0   \n",
              "6   [he, pulled, out, but, he, cummed, a, bit, in,...     1.0          5.0   \n",
              "7   [abilify, changed, my, life, there, is, hope, ...    10.0         32.0   \n",
              "8   [i, ve, had, nothing, but, problems, with, the...     1.0         11.0   \n",
              "9   [i, had, been, on, the, pill, for, many, years...     8.0          1.0   \n",
              "10  [i, have, been, on, this, medication, almost, ...     9.0         19.0   \n",
              "11  [i, have, taken, antidepressants, for, years, ...    10.0         54.0   \n",
              "12  [i, had, crohn039s, with, a, resection, 30, ye...     4.0          8.0   \n",
              "13  [have, a, little, bit, of, a, lingering, cough...     4.0          1.0   \n",
              "14  [started, nexplanon, 2, months, ago, because, ...     3.0         10.0   \n",
              "\n",
              "                                     tokenized_review  \n",
              "0   [it, has, no, side, effect, i, take, it, in, c...  \n",
              "1   [my, son, is, halfway, through, his, fourth, w...  \n",
              "2   [i, used, to, take, another, oral, contracepti...  \n",
              "3   [this, is, my, first, time, using, any, form, ...  \n",
              "4   [suboxone, has, completely, turned, my, life, ...  \n",
              "5   [2nd, day, on, 5mg, started, to, work, with, r...  \n",
              "6   [he, pulled, out, but, he, cummed, a, bit, in,...  \n",
              "7   [abilify, changed, my, life, there, is, hope, ...  \n",
              "8   [i, ve, had, nothing, but, problems, with, the...  \n",
              "9   [i, had, been, on, the, pill, for, many, years...  \n",
              "10  [i, have, been, on, this, medication, almost, ...  \n",
              "11  [i, have, taken, antidepressants, for, years, ...  \n",
              "12  [i, had, crohn039s, with, a, resection, 30, ye...  \n",
              "13  [have, a, little, bit, of, a, lingering, cough...  \n",
              "14  [started, nexplanon, 2, months, ago, because, ...  "
            ]
          },
          "execution_count": 18,
          "metadata": {},
          "output_type": "execute_result"
        }
      ],
      "source": [
        "df.head(15)"
      ]
    },
    {
      "cell_type": "code",
      "execution_count": null,
      "metadata": {
        "id": "xGMKhrTjehI5"
      },
      "outputs": [],
      "source": [
        "df['tokenized_review'] = df['tokenized_review'].apply(remove_stopwords)\n",
        "df['tokenized_review'] = df['tokenized_review'].apply(remove_039)\n",
        "\n",
        "\n",
        "df['review'] = df['review'].apply(remove_039)"
      ]
    },
    {
      "cell_type": "code",
      "execution_count": null,
      "metadata": {
        "id": "2AoKVWi287OC"
      },
      "outputs": [],
      "source": [
        "#숫자 제거\n",
        "df['review'] = df['review'].apply(lambda tokens: [token for token in tokens if english_pattern.match(token)])\n",
        "df['tokenized_review'] = df['tokenized_review'].apply(lambda tokens: [token for token in tokens if english_pattern.match(token)])\n",
        "#df['tokenized_review'] = df['tokenized_review'].apply(lambda x: re.sub(r'[^a-zA-Z\\s]', '', x))"
      ]
    },
    {
      "cell_type": "markdown",
      "metadata": {
        "id": "HJxploJEia0R"
      },
      "source": [
        "**어근 추출 : Lemmatization(표제어 추출)**"
      ]
    },
    {
      "cell_type": "code",
      "execution_count": null,
      "metadata": {
        "id": "ypytpU7RgG-I"
      },
      "outputs": [],
      "source": [
        "from nltk.stem import WordNetLemmatizer\n",
        "lemmatizer = WordNetLemmatizer()\n",
        "\n",
        "df['tokenized_review'] = df['tokenized_review'].apply(lambda x: [lemmatizer.lemmatize(word) for word in x])"
      ]
    },
    {
      "cell_type": "code",
      "execution_count": null,
      "metadata": {
        "id": "vohcmPRk-FHR"
      },
      "outputs": [],
      "source": [
        "from gensim.models import Word2Vec\n",
        "from gensim.models import KeyedVectors\n",
        "\n",
        "model = Word2Vec(sentences = df['tokenized_review'], vector_size = 100, window = 5, min_count = 3, workers = 4, sg = 0)"
      ]
    },
    {
      "cell_type": "code",
      "execution_count": null,
      "metadata": {
        "id": "nolp7uhM-FHR",
        "outputId": "52b7c49e-f9c1-4253-9026-15aa80a7dcd0"
      },
      "outputs": [
        {
          "name": "stdout",
          "output_type": "stream",
          "text": [
            "[('daughter', 0.8918386697769165), ('mother', 0.6906184554100037), ('child', 0.6808865666389465), ('youngest', 0.6424722671508789), ('mom', 0.614379346370697), ('grandson', 0.6139019131660461), ('newborn', 0.6123244166374207), ('oldest', 0.5973415374755859), ('twin', 0.5926852226257324), ('brother', 0.5868121385574341)]\n"
          ]
        }
      ],
      "source": [
        "model_result = model.wv.most_similar(\"son\")\n",
        "print(model_result)"
      ]
    },
    {
      "cell_type": "code",
      "execution_count": null,
      "metadata": {
        "id": "n4UQlSEN-FHR",
        "outputId": "e2f63cb7-bc88-4853-aafd-529c64af428c"
      },
      "outputs": [
        {
          "data": {
            "text/plain": [
              "0       [effect, combination, bystolic, mg, fish, oil]\n",
              "1    [son, halfway, intuniv, concerned, began, star...\n",
              "2    [oral, contraceptive, pill, cycle, happy, ligh...\n",
              "3    [time, form, birth, control, glad, went, patch...\n",
              "4    [suboxone, completely, turned, life, feel, hea...\n",
              "Name: tokenized_review, dtype: object"
            ]
          },
          "execution_count": 24,
          "metadata": {},
          "output_type": "execute_result"
        }
      ],
      "source": [
        "df['tokenized_review'].head()"
      ]
    },
    {
      "cell_type": "code",
      "execution_count": null,
      "metadata": {
        "colab": {
          "base_uri": "https://localhost:8080/",
          "height": 780
        },
        "id": "ziaKbhxU1Pgi",
        "outputId": "b0b56baa-f36f-4903-a9db-15ae4fa2ea5a"
      },
      "outputs": [
        {
          "data": {
            "text/html": [
              "<div>\n",
              "<style scoped>\n",
              "    .dataframe tbody tr th:only-of-type {\n",
              "        vertical-align: middle;\n",
              "    }\n",
              "\n",
              "    .dataframe tbody tr th {\n",
              "        vertical-align: top;\n",
              "    }\n",
              "\n",
              "    .dataframe thead th {\n",
              "        text-align: right;\n",
              "    }\n",
              "</style>\n",
              "<table border=\"1\" class=\"dataframe\">\n",
              "  <thead>\n",
              "    <tr style=\"text-align: right;\">\n",
              "      <th></th>\n",
              "      <th>drugName</th>\n",
              "      <th>condition</th>\n",
              "      <th>review</th>\n",
              "      <th>rating</th>\n",
              "      <th>usefulCount</th>\n",
              "      <th>tokenized_review</th>\n",
              "    </tr>\n",
              "  </thead>\n",
              "  <tbody>\n",
              "    <tr>\n",
              "      <th>0</th>\n",
              "      <td>valsartan</td>\n",
              "      <td>left ventricular dysfunction</td>\n",
              "      <td>[it, has, no, side, effect, i, take, it, in, c...</td>\n",
              "      <td>9.0</td>\n",
              "      <td>27.0</td>\n",
              "      <td>[effect, combination, bystolic, mg, fish, oil]</td>\n",
              "    </tr>\n",
              "    <tr>\n",
              "      <th>1</th>\n",
              "      <td>guanfacine</td>\n",
              "      <td>adhd</td>\n",
              "      <td>[my, son, is, halfway, through, his, fourth, w...</td>\n",
              "      <td>8.0</td>\n",
              "      <td>192.0</td>\n",
              "      <td>[son, halfway, intuniv, concerned, began, star...</td>\n",
              "    </tr>\n",
              "    <tr>\n",
              "      <th>2</th>\n",
              "      <td>lybrel</td>\n",
              "      <td>birth control</td>\n",
              "      <td>[i, used, to, take, another, oral, contracepti...</td>\n",
              "      <td>5.0</td>\n",
              "      <td>17.0</td>\n",
              "      <td>[oral, contraceptive, pill, cycle, happy, ligh...</td>\n",
              "    </tr>\n",
              "    <tr>\n",
              "      <th>3</th>\n",
              "      <td>ortho evra</td>\n",
              "      <td>birth control</td>\n",
              "      <td>[this, is, my, first, time, using, any, form, ...</td>\n",
              "      <td>8.0</td>\n",
              "      <td>10.0</td>\n",
              "      <td>[time, form, birth, control, glad, went, patch...</td>\n",
              "    </tr>\n",
              "    <tr>\n",
              "      <th>4</th>\n",
              "      <td>buprenorphine / naloxone</td>\n",
              "      <td>opiate dependence</td>\n",
              "      <td>[suboxone, has, completely, turned, my, life, ...</td>\n",
              "      <td>9.0</td>\n",
              "      <td>37.0</td>\n",
              "      <td>[suboxone, completely, turned, life, feel, hea...</td>\n",
              "    </tr>\n",
              "    <tr>\n",
              "      <th>5</th>\n",
              "      <td>cialis</td>\n",
              "      <td>benign prostatic hyperplasia</td>\n",
              "      <td>[day, on, started, to, work, with, rock, hard,...</td>\n",
              "      <td>2.0</td>\n",
              "      <td>43.0</td>\n",
              "      <td>[day, started, work, rock, hard, erection, exp...</td>\n",
              "    </tr>\n",
              "    <tr>\n",
              "      <th>6</th>\n",
              "      <td>levonorgestrel</td>\n",
              "      <td>emergency contraception</td>\n",
              "      <td>[he, pulled, out, but, he, cummed, a, bit, in,...</td>\n",
              "      <td>1.0</td>\n",
              "      <td>5.0</td>\n",
              "      <td>[pulled, cummed, bit, took, plan, hour, later,...</td>\n",
              "    </tr>\n",
              "    <tr>\n",
              "      <th>7</th>\n",
              "      <td>aripiprazole</td>\n",
              "      <td>bipolar disorde</td>\n",
              "      <td>[abilify, changed, my, life, there, is, hope, ...</td>\n",
              "      <td>10.0</td>\n",
              "      <td>32.0</td>\n",
              "      <td>[abilify, changed, life, hope, zoloft, clonidi...</td>\n",
              "    </tr>\n",
              "    <tr>\n",
              "      <th>8</th>\n",
              "      <td>keppra</td>\n",
              "      <td>epilepsy</td>\n",
              "      <td>[i, ve, had, nothing, but, problems, with, the...</td>\n",
              "      <td>1.0</td>\n",
              "      <td>11.0</td>\n",
              "      <td>[problem, keppera, constant, shaking, arm, amp...</td>\n",
              "    </tr>\n",
              "    <tr>\n",
              "      <th>9</th>\n",
              "      <td>ethinyl estradiol / levonorgestrel</td>\n",
              "      <td>birth control</td>\n",
              "      <td>[i, had, been, on, the, pill, for, many, years...</td>\n",
              "      <td>8.0</td>\n",
              "      <td>1.0</td>\n",
              "      <td>[pill, doctor, changed, rx, chateal, effective...</td>\n",
              "    </tr>\n",
              "    <tr>\n",
              "      <th>10</th>\n",
              "      <td>topiramate</td>\n",
              "      <td>migraine prevention</td>\n",
              "      <td>[i, have, been, on, this, medication, almost, ...</td>\n",
              "      <td>9.0</td>\n",
              "      <td>19.0</td>\n",
              "      <td>[medication, started, working, way, currently,...</td>\n",
              "    </tr>\n",
              "    <tr>\n",
              "      <th>11</th>\n",
              "      <td>l-methylfolate</td>\n",
              "      <td>depression</td>\n",
              "      <td>[i, have, taken, antidepressants, for, years, ...</td>\n",
              "      <td>10.0</td>\n",
              "      <td>54.0</td>\n",
              "      <td>[taken, antidepressant, improvement, moderate,...</td>\n",
              "    </tr>\n",
              "    <tr>\n",
              "      <th>12</th>\n",
              "      <td>pentasa</td>\n",
              "      <td>crohn's disease</td>\n",
              "      <td>[i, had, with, a, resection, years, ago, and, ...</td>\n",
              "      <td>4.0</td>\n",
              "      <td>8.0</td>\n",
              "      <td>[resection, remission, recently, bad, flare, n...</td>\n",
              "    </tr>\n",
              "    <tr>\n",
              "      <th>13</th>\n",
              "      <td>dextromethorphan</td>\n",
              "      <td>cough</td>\n",
              "      <td>[have, a, little, bit, of, a, lingering, cough...</td>\n",
              "      <td>4.0</td>\n",
              "      <td>1.0</td>\n",
              "      <td>[little, bit, lingering, cough, cold, giving, ...</td>\n",
              "    </tr>\n",
              "    <tr>\n",
              "      <th>14</th>\n",
              "      <td>nexplanon</td>\n",
              "      <td>birth control</td>\n",
              "      <td>[started, nexplanon, months, ago, because, i, ...</td>\n",
              "      <td>3.0</td>\n",
              "      <td>10.0</td>\n",
              "      <td>[started, nexplanon, minimal, inability, hormo...</td>\n",
              "    </tr>\n",
              "  </tbody>\n",
              "</table>\n",
              "</div>"
            ],
            "text/plain": [
              "                              drugName                     condition  \\\n",
              "0                            valsartan  left ventricular dysfunction   \n",
              "1                           guanfacine                          adhd   \n",
              "2                               lybrel                 birth control   \n",
              "3                           ortho evra                 birth control   \n",
              "4             buprenorphine / naloxone             opiate dependence   \n",
              "5                               cialis  benign prostatic hyperplasia   \n",
              "6                       levonorgestrel       emergency contraception   \n",
              "7                         aripiprazole               bipolar disorde   \n",
              "8                               keppra                      epilepsy   \n",
              "9   ethinyl estradiol / levonorgestrel                 birth control   \n",
              "10                          topiramate           migraine prevention   \n",
              "11                      l-methylfolate                    depression   \n",
              "12                             pentasa               crohn's disease   \n",
              "13                    dextromethorphan                         cough   \n",
              "14                           nexplanon                 birth control   \n",
              "\n",
              "                                               review  rating  usefulCount  \\\n",
              "0   [it, has, no, side, effect, i, take, it, in, c...     9.0         27.0   \n",
              "1   [my, son, is, halfway, through, his, fourth, w...     8.0        192.0   \n",
              "2   [i, used, to, take, another, oral, contracepti...     5.0         17.0   \n",
              "3   [this, is, my, first, time, using, any, form, ...     8.0         10.0   \n",
              "4   [suboxone, has, completely, turned, my, life, ...     9.0         37.0   \n",
              "5   [day, on, started, to, work, with, rock, hard,...     2.0         43.0   \n",
              "6   [he, pulled, out, but, he, cummed, a, bit, in,...     1.0          5.0   \n",
              "7   [abilify, changed, my, life, there, is, hope, ...    10.0         32.0   \n",
              "8   [i, ve, had, nothing, but, problems, with, the...     1.0         11.0   \n",
              "9   [i, had, been, on, the, pill, for, many, years...     8.0          1.0   \n",
              "10  [i, have, been, on, this, medication, almost, ...     9.0         19.0   \n",
              "11  [i, have, taken, antidepressants, for, years, ...    10.0         54.0   \n",
              "12  [i, had, with, a, resection, years, ago, and, ...     4.0          8.0   \n",
              "13  [have, a, little, bit, of, a, lingering, cough...     4.0          1.0   \n",
              "14  [started, nexplanon, months, ago, because, i, ...     3.0         10.0   \n",
              "\n",
              "                                     tokenized_review  \n",
              "0      [effect, combination, bystolic, mg, fish, oil]  \n",
              "1   [son, halfway, intuniv, concerned, began, star...  \n",
              "2   [oral, contraceptive, pill, cycle, happy, ligh...  \n",
              "3   [time, form, birth, control, glad, went, patch...  \n",
              "4   [suboxone, completely, turned, life, feel, hea...  \n",
              "5   [day, started, work, rock, hard, erection, exp...  \n",
              "6   [pulled, cummed, bit, took, plan, hour, later,...  \n",
              "7   [abilify, changed, life, hope, zoloft, clonidi...  \n",
              "8   [problem, keppera, constant, shaking, arm, amp...  \n",
              "9   [pill, doctor, changed, rx, chateal, effective...  \n",
              "10  [medication, started, working, way, currently,...  \n",
              "11  [taken, antidepressant, improvement, moderate,...  \n",
              "12  [resection, remission, recently, bad, flare, n...  \n",
              "13  [little, bit, lingering, cough, cold, giving, ...  \n",
              "14  [started, nexplanon, minimal, inability, hormo...  "
            ]
          },
          "execution_count": 25,
          "metadata": {},
          "output_type": "execute_result"
        }
      ],
      "source": [
        "df.head(15)"
      ]
    },
    {
      "cell_type": "markdown",
      "metadata": {
        "id": "WXeSw-Ma8HWn"
      },
      "source": [
        "# **텍스트 벡터화 or 시퀀스화 + padding**"
      ]
    },
    {
      "cell_type": "code",
      "execution_count": null,
      "metadata": {
        "id": "LVza4kt-5u7f"
      },
      "outputs": [],
      "source": [
        "from tensorflow.keras.preprocessing.text import Tokenizer\n",
        "from keras.preprocessing.sequence import pad_sequences\n",
        "\n",
        "review1 = df['review']\n",
        "review2 = df['tokenized_review']\n",
        "\n",
        "tokenizer = Tokenizer()\n",
        "\n",
        "tokenizer.fit_on_texts(review1)\n",
        "tokenizer.fit_on_texts(review2)\n",
        "\n",
        "review1_sequences = tokenizer.texts_to_sequences(review1)\n",
        "review2_sequences = tokenizer.texts_to_sequences(review2)\n",
        "\n",
        "max_length1 = max([len(seq) for seq in review1_sequences])\n",
        "df_review1_padded = pad_sequences(review1_sequences, maxlen=max_length1, padding='post')\n",
        "\n",
        "max_length2 = max([len(seq) for seq in review2_sequences])\n",
        "df_review2_padded = pad_sequences(review2_sequences, maxlen=max_length2, padding='post')\n",
        "\n",
        "df['review'] = df_review1_padded.tolist()\n",
        "\n",
        "df['tokenized_review'] = df_review2_padded.tolist()"
      ]
    },
    {
      "cell_type": "code",
      "execution_count": null,
      "metadata": {
        "id": "TSLGuGhXjh8P",
        "outputId": "7a205ff1-05d7-4bb3-ec2d-f796faf2d5e9"
      },
      "outputs": [
        {
          "data": {
            "text/html": [
              "<div>\n",
              "<style scoped>\n",
              "    .dataframe tbody tr th:only-of-type {\n",
              "        vertical-align: middle;\n",
              "    }\n",
              "\n",
              "    .dataframe tbody tr th {\n",
              "        vertical-align: top;\n",
              "    }\n",
              "\n",
              "    .dataframe thead th {\n",
              "        text-align: right;\n",
              "    }\n",
              "</style>\n",
              "<table border=\"1\" class=\"dataframe\">\n",
              "  <thead>\n",
              "    <tr style=\"text-align: right;\">\n",
              "      <th></th>\n",
              "      <th>drugName</th>\n",
              "      <th>condition</th>\n",
              "      <th>review</th>\n",
              "      <th>rating</th>\n",
              "      <th>usefulCount</th>\n",
              "      <th>tokenized_review</th>\n",
              "    </tr>\n",
              "  </thead>\n",
              "  <tbody>\n",
              "    <tr>\n",
              "      <th>0</th>\n",
              "      <td>valsartan</td>\n",
              "      <td>left ventricular dysfunction</td>\n",
              "      <td>[7, 51, 37, 47, 33, 1, 52, 7, 15, 734, 11, 266...</td>\n",
              "      <td>9.0</td>\n",
              "      <td>27.0</td>\n",
              "      <td>[33, 734, 2667, 95, 3522, 1380, 0, 0, 0, 0, 0,...</td>\n",
              "    </tr>\n",
              "    <tr>\n",
              "      <th>1</th>\n",
              "      <td>guanfacine</td>\n",
              "      <td>adhd</td>\n",
              "      <td>[5, 568, 19, 3038, 317, 754, 2330, 103, 11, 30...</td>\n",
              "      <td>8.0</td>\n",
              "      <td>192.0</td>\n",
              "      <td>[568, 3038, 3011, 1107, 293, 26, 22, 2113, 90,...</td>\n",
              "    </tr>\n",
              "    <tr>\n",
              "      <th>2</th>\n",
              "      <td>lybrel</td>\n",
              "      <td>birth control</td>\n",
              "      <td>[1, 203, 4, 52, 373, 1081, 1576, 117, 18, 31, ...</td>\n",
              "      <td>5.0</td>\n",
              "      <td>17.0</td>\n",
              "      <td>[1081, 1576, 31, 452, 197, 236, 32, 1727, 12, ...</td>\n",
              "    </tr>\n",
              "    <tr>\n",
              "      <th>3</th>\n",
              "      <td>ortho evra</td>\n",
              "      <td>birth control</td>\n",
              "      <td>[14, 19, 5, 56, 24, 261, 130, 608, 11, 85, 64,...</td>\n",
              "      <td>8.0</td>\n",
              "      <td>10.0</td>\n",
              "      <td>[24, 608, 85, 64, 522, 58, 347, 626, 730, 873,...</td>\n",
              "    </tr>\n",
              "    <tr>\n",
              "      <th>4</th>\n",
              "      <td>buprenorphine / naloxone</td>\n",
              "      <td>opiate dependence</td>\n",
              "      <td>[812, 51, 199, 700, 5, 48, 314, 1, 30, 2117, 1...</td>\n",
              "      <td>9.0</td>\n",
              "      <td>37.0</td>\n",
              "      <td>[812, 199, 700, 48, 30, 2117, 17498, 383, 832,...</td>\n",
              "    </tr>\n",
              "  </tbody>\n",
              "</table>\n",
              "</div>"
            ],
            "text/plain": [
              "                   drugName                     condition  \\\n",
              "0                 valsartan  left ventricular dysfunction   \n",
              "1                guanfacine                          adhd   \n",
              "2                    lybrel                 birth control   \n",
              "3                ortho evra                 birth control   \n",
              "4  buprenorphine / naloxone             opiate dependence   \n",
              "\n",
              "                                              review  rating  usefulCount  \\\n",
              "0  [7, 51, 37, 47, 33, 1, 52, 7, 15, 734, 11, 266...     9.0         27.0   \n",
              "1  [5, 568, 19, 3038, 317, 754, 2330, 103, 11, 30...     8.0        192.0   \n",
              "2  [1, 203, 4, 52, 373, 1081, 1576, 117, 18, 31, ...     5.0         17.0   \n",
              "3  [14, 19, 5, 56, 24, 261, 130, 608, 11, 85, 64,...     8.0         10.0   \n",
              "4  [812, 51, 199, 700, 5, 48, 314, 1, 30, 2117, 1...     9.0         37.0   \n",
              "\n",
              "                                    tokenized_review  \n",
              "0  [33, 734, 2667, 95, 3522, 1380, 0, 0, 0, 0, 0,...  \n",
              "1  [568, 3038, 3011, 1107, 293, 26, 22, 2113, 90,...  \n",
              "2  [1081, 1576, 31, 452, 197, 236, 32, 1727, 12, ...  \n",
              "3  [24, 608, 85, 64, 522, 58, 347, 626, 730, 873,...  \n",
              "4  [812, 199, 700, 48, 30, 2117, 17498, 383, 832,...  "
            ]
          },
          "execution_count": 27,
          "metadata": {},
          "output_type": "execute_result"
        }
      ],
      "source": [
        "df.head()"
      ]
    },
    {
      "cell_type": "markdown",
      "metadata": {
        "tags": [],
        "id": "hs2pCWSO-FHS"
      },
      "source": [
        "# **drugName, condition 처리**"
      ]
    },
    {
      "cell_type": "code",
      "execution_count": null,
      "metadata": {
        "id": "3gTyiJrL-FHS"
      },
      "outputs": [],
      "source": [
        "df_1 = df.copy()"
      ]
    },
    {
      "cell_type": "code",
      "execution_count": null,
      "metadata": {
        "id": "VH3YAC1e-FHS",
        "outputId": "2791c4ac-b501-448d-de7d-e55842ce1a80"
      },
      "outputs": [
        {
          "data": {
            "text/plain": [
              "3417"
            ]
          },
          "execution_count": 29,
          "metadata": {},
          "output_type": "execute_result"
        }
      ],
      "source": [
        "df_1['drugName'].nunique()"
      ]
    },
    {
      "cell_type": "code",
      "execution_count": null,
      "metadata": {
        "id": "MphHk2YW-FHS",
        "outputId": "456699f2-41e4-499d-9df1-8d5188adf473"
      },
      "outputs": [
        {
          "name": "stderr",
          "output_type": "stream",
          "text": [
            "<>:3: SyntaxWarning: invalid escape sequence '\\d'\n",
            "<>:4: SyntaxWarning: invalid escape sequence '\\d'\n",
            "<>:3: SyntaxWarning: invalid escape sequence '\\d'\n",
            "<>:4: SyntaxWarning: invalid escape sequence '\\d'\n",
            "/tmp/ipykernel_193208/3289786607.py:3: SyntaxWarning: invalid escape sequence '\\d'\n",
            "  df_1 = df_1[~df_1['condition'].str.match('\\d{2}-[a-zA-Z]{3}-\\d{2}', na=False)]\n",
            "/tmp/ipykernel_193208/3289786607.py:4: SyntaxWarning: invalid escape sequence '\\d'\n",
            "  df_1 = df_1[~df_1['drugName'].str.match('\\d+', na=False)]\n"
          ]
        }
      ],
      "source": [
        "#값들이 밀려서 condition에 날짜값같이 이상한 값들이 있어서 삭제\n",
        "#drugName에 숫자만 있는 행 제거(값이 밀림)\n",
        "df_1 = df_1[~df_1['condition'].str.match('\\d{2}-[a-zA-Z]{3}-\\d{2}', na=False)]\n",
        "df_1 = df_1[~df_1['drugName'].str.match('\\d+', na=False)]"
      ]
    },
    {
      "cell_type": "code",
      "execution_count": null,
      "metadata": {
        "id": "H-efcVaX-FHS",
        "outputId": "0f193be7-4a21-4ce9-fbd0-cce9cd001f94"
      },
      "outputs": [
        {
          "data": {
            "text/html": [
              "<div>\n",
              "<style scoped>\n",
              "    .dataframe tbody tr th:only-of-type {\n",
              "        vertical-align: middle;\n",
              "    }\n",
              "\n",
              "    .dataframe tbody tr th {\n",
              "        vertical-align: top;\n",
              "    }\n",
              "\n",
              "    .dataframe thead th {\n",
              "        text-align: right;\n",
              "    }\n",
              "</style>\n",
              "<table border=\"1\" class=\"dataframe\">\n",
              "  <thead>\n",
              "    <tr style=\"text-align: right;\">\n",
              "      <th></th>\n",
              "      <th>drugName</th>\n",
              "      <th>condition</th>\n",
              "      <th>review</th>\n",
              "      <th>rating</th>\n",
              "      <th>usefulCount</th>\n",
              "      <th>tokenized_review</th>\n",
              "    </tr>\n",
              "  </thead>\n",
              "  <tbody>\n",
              "    <tr>\n",
              "      <th>0</th>\n",
              "      <td>valsartan</td>\n",
              "      <td>left ventricular dysfunction</td>\n",
              "      <td>[7, 51, 37, 47, 33, 1, 52, 7, 15, 734, 11, 266...</td>\n",
              "      <td>9.0</td>\n",
              "      <td>27.0</td>\n",
              "      <td>[33, 734, 2667, 95, 3522, 1380, 0, 0, 0, 0, 0,...</td>\n",
              "    </tr>\n",
              "    <tr>\n",
              "      <th>1</th>\n",
              "      <td>guanfacine</td>\n",
              "      <td>adhd</td>\n",
              "      <td>[5, 568, 19, 3038, 317, 754, 2330, 103, 11, 30...</td>\n",
              "      <td>8.0</td>\n",
              "      <td>192.0</td>\n",
              "      <td>[568, 3038, 3011, 1107, 293, 26, 22, 2113, 90,...</td>\n",
              "    </tr>\n",
              "    <tr>\n",
              "      <th>2</th>\n",
              "      <td>lybrel</td>\n",
              "      <td>birth control</td>\n",
              "      <td>[1, 203, 4, 52, 373, 1081, 1576, 117, 18, 31, ...</td>\n",
              "      <td>5.0</td>\n",
              "      <td>17.0</td>\n",
              "      <td>[1081, 1576, 31, 452, 197, 236, 32, 1727, 12, ...</td>\n",
              "    </tr>\n",
              "    <tr>\n",
              "      <th>3</th>\n",
              "      <td>ortho evra</td>\n",
              "      <td>birth control</td>\n",
              "      <td>[14, 19, 5, 56, 24, 261, 130, 608, 11, 85, 64,...</td>\n",
              "      <td>8.0</td>\n",
              "      <td>10.0</td>\n",
              "      <td>[24, 608, 85, 64, 522, 58, 347, 626, 730, 873,...</td>\n",
              "    </tr>\n",
              "    <tr>\n",
              "      <th>4</th>\n",
              "      <td>buprenorphine / naloxone</td>\n",
              "      <td>opiate dependence</td>\n",
              "      <td>[812, 51, 199, 700, 5, 48, 314, 1, 30, 2117, 1...</td>\n",
              "      <td>9.0</td>\n",
              "      <td>37.0</td>\n",
              "      <td>[812, 199, 700, 48, 30, 2117, 17498, 383, 832,...</td>\n",
              "    </tr>\n",
              "  </tbody>\n",
              "</table>\n",
              "</div>"
            ],
            "text/plain": [
              "                   drugName                     condition  \\\n",
              "0                 valsartan  left ventricular dysfunction   \n",
              "1                guanfacine                          adhd   \n",
              "2                    lybrel                 birth control   \n",
              "3                ortho evra                 birth control   \n",
              "4  buprenorphine / naloxone             opiate dependence   \n",
              "\n",
              "                                              review  rating  usefulCount  \\\n",
              "0  [7, 51, 37, 47, 33, 1, 52, 7, 15, 734, 11, 266...     9.0         27.0   \n",
              "1  [5, 568, 19, 3038, 317, 754, 2330, 103, 11, 30...     8.0        192.0   \n",
              "2  [1, 203, 4, 52, 373, 1081, 1576, 117, 18, 31, ...     5.0         17.0   \n",
              "3  [14, 19, 5, 56, 24, 261, 130, 608, 11, 85, 64,...     8.0         10.0   \n",
              "4  [812, 51, 199, 700, 5, 48, 314, 1, 30, 2117, 1...     9.0         37.0   \n",
              "\n",
              "                                    tokenized_review  \n",
              "0  [33, 734, 2667, 95, 3522, 1380, 0, 0, 0, 0, 0,...  \n",
              "1  [568, 3038, 3011, 1107, 293, 26, 22, 2113, 90,...  \n",
              "2  [1081, 1576, 31, 452, 197, 236, 32, 1727, 12, ...  \n",
              "3  [24, 608, 85, 64, 522, 58, 347, 626, 730, 873,...  \n",
              "4  [812, 199, 700, 48, 30, 2117, 17498, 383, 832,...  "
            ]
          },
          "execution_count": 31,
          "metadata": {},
          "output_type": "execute_result"
        }
      ],
      "source": [
        "df_1.head()"
      ]
    },
    {
      "cell_type": "code",
      "execution_count": null,
      "metadata": {
        "id": "0o0cDhap-FHS"
      },
      "outputs": [],
      "source": [
        "df_con_encoded = pd.get_dummies(df_1['condition'], dtype=np.int64)\n",
        "df_drug_encoded = pd.get_dummies(df_1['drugName'], dtype=np.int64)"
      ]
    },
    {
      "cell_type": "code",
      "execution_count": null,
      "metadata": {
        "id": "il5d_06u-FHY",
        "outputId": "d892d104-df18-4761-ad34-7b2272434682"
      },
      "outputs": [
        {
          "data": {
            "text/html": [
              "<div>\n",
              "<style scoped>\n",
              "    .dataframe tbody tr th:only-of-type {\n",
              "        vertical-align: middle;\n",
              "    }\n",
              "\n",
              "    .dataframe tbody tr th {\n",
              "        vertical-align: top;\n",
              "    }\n",
              "\n",
              "    .dataframe thead th {\n",
              "        text-align: right;\n",
              "    }\n",
              "</style>\n",
              "<table border=\"1\" class=\"dataframe\">\n",
              "  <thead>\n",
              "    <tr style=\"text-align: right;\">\n",
              "      <th></th>\n",
              "      <th>abdominal distension</th>\n",
              "      <th>abnormal uterine bleeding</th>\n",
              "      <th>abortion</th>\n",
              "      <th>acetaminophen overdose</th>\n",
              "      <th>acial lipoatrophy</th>\n",
              "      <th>acial wrinkles</th>\n",
              "      <th>acne</th>\n",
              "      <th>actinic keratosis</th>\n",
              "      <th>actor ix deficiency</th>\n",
              "      <th>acute coronary syndrome</th>\n",
              "      <th>...</th>\n",
              "      <th>wegener's granulomatosis</th>\n",
              "      <th>weight loss</th>\n",
              "      <th>wilson's disease</th>\n",
              "      <th>wolff-parkinson-white syndrome</th>\n",
              "      <th>women (minoxidil)</th>\n",
              "      <th>women (oxybutynin)</th>\n",
              "      <th>wound cleansing</th>\n",
              "      <th>xerostomia</th>\n",
              "      <th>zen shoulde</th>\n",
              "      <th>zollinger-ellison syndrome</th>\n",
              "    </tr>\n",
              "  </thead>\n",
              "  <tbody>\n",
              "    <tr>\n",
              "      <th>0</th>\n",
              "      <td>0</td>\n",
              "      <td>0</td>\n",
              "      <td>0</td>\n",
              "      <td>0</td>\n",
              "      <td>0</td>\n",
              "      <td>0</td>\n",
              "      <td>0</td>\n",
              "      <td>0</td>\n",
              "      <td>0</td>\n",
              "      <td>0</td>\n",
              "      <td>...</td>\n",
              "      <td>0</td>\n",
              "      <td>0</td>\n",
              "      <td>0</td>\n",
              "      <td>0</td>\n",
              "      <td>0</td>\n",
              "      <td>0</td>\n",
              "      <td>0</td>\n",
              "      <td>0</td>\n",
              "      <td>0</td>\n",
              "      <td>0</td>\n",
              "    </tr>\n",
              "    <tr>\n",
              "      <th>1</th>\n",
              "      <td>0</td>\n",
              "      <td>0</td>\n",
              "      <td>0</td>\n",
              "      <td>0</td>\n",
              "      <td>0</td>\n",
              "      <td>0</td>\n",
              "      <td>0</td>\n",
              "      <td>0</td>\n",
              "      <td>0</td>\n",
              "      <td>0</td>\n",
              "      <td>...</td>\n",
              "      <td>0</td>\n",
              "      <td>0</td>\n",
              "      <td>0</td>\n",
              "      <td>0</td>\n",
              "      <td>0</td>\n",
              "      <td>0</td>\n",
              "      <td>0</td>\n",
              "      <td>0</td>\n",
              "      <td>0</td>\n",
              "      <td>0</td>\n",
              "    </tr>\n",
              "    <tr>\n",
              "      <th>2</th>\n",
              "      <td>0</td>\n",
              "      <td>0</td>\n",
              "      <td>0</td>\n",
              "      <td>0</td>\n",
              "      <td>0</td>\n",
              "      <td>0</td>\n",
              "      <td>0</td>\n",
              "      <td>0</td>\n",
              "      <td>0</td>\n",
              "      <td>0</td>\n",
              "      <td>...</td>\n",
              "      <td>0</td>\n",
              "      <td>0</td>\n",
              "      <td>0</td>\n",
              "      <td>0</td>\n",
              "      <td>0</td>\n",
              "      <td>0</td>\n",
              "      <td>0</td>\n",
              "      <td>0</td>\n",
              "      <td>0</td>\n",
              "      <td>0</td>\n",
              "    </tr>\n",
              "    <tr>\n",
              "      <th>3</th>\n",
              "      <td>0</td>\n",
              "      <td>0</td>\n",
              "      <td>0</td>\n",
              "      <td>0</td>\n",
              "      <td>0</td>\n",
              "      <td>0</td>\n",
              "      <td>0</td>\n",
              "      <td>0</td>\n",
              "      <td>0</td>\n",
              "      <td>0</td>\n",
              "      <td>...</td>\n",
              "      <td>0</td>\n",
              "      <td>0</td>\n",
              "      <td>0</td>\n",
              "      <td>0</td>\n",
              "      <td>0</td>\n",
              "      <td>0</td>\n",
              "      <td>0</td>\n",
              "      <td>0</td>\n",
              "      <td>0</td>\n",
              "      <td>0</td>\n",
              "    </tr>\n",
              "    <tr>\n",
              "      <th>4</th>\n",
              "      <td>0</td>\n",
              "      <td>0</td>\n",
              "      <td>0</td>\n",
              "      <td>0</td>\n",
              "      <td>0</td>\n",
              "      <td>0</td>\n",
              "      <td>0</td>\n",
              "      <td>0</td>\n",
              "      <td>0</td>\n",
              "      <td>0</td>\n",
              "      <td>...</td>\n",
              "      <td>0</td>\n",
              "      <td>0</td>\n",
              "      <td>0</td>\n",
              "      <td>0</td>\n",
              "      <td>0</td>\n",
              "      <td>0</td>\n",
              "      <td>0</td>\n",
              "      <td>0</td>\n",
              "      <td>0</td>\n",
              "      <td>0</td>\n",
              "    </tr>\n",
              "  </tbody>\n",
              "</table>\n",
              "<p>5 rows × 812 columns</p>\n",
              "</div>"
            ],
            "text/plain": [
              "   abdominal distension  abnormal uterine bleeding  abortion  \\\n",
              "0                     0                          0         0   \n",
              "1                     0                          0         0   \n",
              "2                     0                          0         0   \n",
              "3                     0                          0         0   \n",
              "4                     0                          0         0   \n",
              "\n",
              "   acetaminophen overdose  acial lipoatrophy  acial wrinkles  acne  \\\n",
              "0                       0                  0               0     0   \n",
              "1                       0                  0               0     0   \n",
              "2                       0                  0               0     0   \n",
              "3                       0                  0               0     0   \n",
              "4                       0                  0               0     0   \n",
              "\n",
              "   actinic keratosis  actor ix deficiency  acute coronary syndrome  ...  \\\n",
              "0                  0                    0                        0  ...   \n",
              "1                  0                    0                        0  ...   \n",
              "2                  0                    0                        0  ...   \n",
              "3                  0                    0                        0  ...   \n",
              "4                  0                    0                        0  ...   \n",
              "\n",
              "   wegener's granulomatosis  weight loss  wilson's disease  \\\n",
              "0                         0            0                 0   \n",
              "1                         0            0                 0   \n",
              "2                         0            0                 0   \n",
              "3                         0            0                 0   \n",
              "4                         0            0                 0   \n",
              "\n",
              "   wolff-parkinson-white syndrome  women (minoxidil)  women (oxybutynin)  \\\n",
              "0                               0                  0                   0   \n",
              "1                               0                  0                   0   \n",
              "2                               0                  0                   0   \n",
              "3                               0                  0                   0   \n",
              "4                               0                  0                   0   \n",
              "\n",
              "   wound cleansing  xerostomia  zen shoulde  zollinger-ellison syndrome  \n",
              "0                0           0            0                           0  \n",
              "1                0           0            0                           0  \n",
              "2                0           0            0                           0  \n",
              "3                0           0            0                           0  \n",
              "4                0           0            0                           0  \n",
              "\n",
              "[5 rows x 812 columns]"
            ]
          },
          "execution_count": 33,
          "metadata": {},
          "output_type": "execute_result"
        }
      ],
      "source": [
        "df_con_encoded.head()"
      ]
    },
    {
      "cell_type": "code",
      "execution_count": null,
      "metadata": {
        "id": "uCmyGcoN-FHZ",
        "outputId": "2b0fce34-7e15-48b7-ff22-e480cc3f69e2"
      },
      "outputs": [
        {
          "data": {
            "text/html": [
              "<div>\n",
              "<style scoped>\n",
              "    .dataframe tbody tr th:only-of-type {\n",
              "        vertical-align: middle;\n",
              "    }\n",
              "\n",
              "    .dataframe tbody tr th {\n",
              "        vertical-align: top;\n",
              "    }\n",
              "\n",
              "    .dataframe thead th {\n",
              "        text-align: right;\n",
              "    }\n",
              "</style>\n",
              "<table border=\"1\" class=\"dataframe\">\n",
              "  <thead>\n",
              "    <tr style=\"text-align: right;\">\n",
              "      <th></th>\n",
              "      <th>a + d cracked skin relief</th>\n",
              "      <th>a / b otic</th>\n",
              "      <th>abacavir / dolutegravir / lamivudine</th>\n",
              "      <th>abacavir / lamivudine / zidovudine</th>\n",
              "      <th>abatacept</th>\n",
              "      <th>abilify</th>\n",
              "      <th>abilify discmelt</th>\n",
              "      <th>abilify maintena</th>\n",
              "      <th>abiraterone</th>\n",
              "      <th>abobotulinumtoxina</th>\n",
              "      <th>...</th>\n",
              "      <th>zymine</th>\n",
              "      <th>zyprexa</th>\n",
              "      <th>zyprexa intramuscular</th>\n",
              "      <th>zyprexa zydis</th>\n",
              "      <th>zyrtec</th>\n",
              "      <th>zyrtec-d</th>\n",
              "      <th>zyrtec-d 12 hour</th>\n",
              "      <th>zytiga</th>\n",
              "      <th>zyvox</th>\n",
              "      <th>zzzquil</th>\n",
              "    </tr>\n",
              "  </thead>\n",
              "  <tbody>\n",
              "    <tr>\n",
              "      <th>0</th>\n",
              "      <td>0</td>\n",
              "      <td>0</td>\n",
              "      <td>0</td>\n",
              "      <td>0</td>\n",
              "      <td>0</td>\n",
              "      <td>0</td>\n",
              "      <td>0</td>\n",
              "      <td>0</td>\n",
              "      <td>0</td>\n",
              "      <td>0</td>\n",
              "      <td>...</td>\n",
              "      <td>0</td>\n",
              "      <td>0</td>\n",
              "      <td>0</td>\n",
              "      <td>0</td>\n",
              "      <td>0</td>\n",
              "      <td>0</td>\n",
              "      <td>0</td>\n",
              "      <td>0</td>\n",
              "      <td>0</td>\n",
              "      <td>0</td>\n",
              "    </tr>\n",
              "    <tr>\n",
              "      <th>1</th>\n",
              "      <td>0</td>\n",
              "      <td>0</td>\n",
              "      <td>0</td>\n",
              "      <td>0</td>\n",
              "      <td>0</td>\n",
              "      <td>0</td>\n",
              "      <td>0</td>\n",
              "      <td>0</td>\n",
              "      <td>0</td>\n",
              "      <td>0</td>\n",
              "      <td>...</td>\n",
              "      <td>0</td>\n",
              "      <td>0</td>\n",
              "      <td>0</td>\n",
              "      <td>0</td>\n",
              "      <td>0</td>\n",
              "      <td>0</td>\n",
              "      <td>0</td>\n",
              "      <td>0</td>\n",
              "      <td>0</td>\n",
              "      <td>0</td>\n",
              "    </tr>\n",
              "    <tr>\n",
              "      <th>2</th>\n",
              "      <td>0</td>\n",
              "      <td>0</td>\n",
              "      <td>0</td>\n",
              "      <td>0</td>\n",
              "      <td>0</td>\n",
              "      <td>0</td>\n",
              "      <td>0</td>\n",
              "      <td>0</td>\n",
              "      <td>0</td>\n",
              "      <td>0</td>\n",
              "      <td>...</td>\n",
              "      <td>0</td>\n",
              "      <td>0</td>\n",
              "      <td>0</td>\n",
              "      <td>0</td>\n",
              "      <td>0</td>\n",
              "      <td>0</td>\n",
              "      <td>0</td>\n",
              "      <td>0</td>\n",
              "      <td>0</td>\n",
              "      <td>0</td>\n",
              "    </tr>\n",
              "    <tr>\n",
              "      <th>3</th>\n",
              "      <td>0</td>\n",
              "      <td>0</td>\n",
              "      <td>0</td>\n",
              "      <td>0</td>\n",
              "      <td>0</td>\n",
              "      <td>0</td>\n",
              "      <td>0</td>\n",
              "      <td>0</td>\n",
              "      <td>0</td>\n",
              "      <td>0</td>\n",
              "      <td>...</td>\n",
              "      <td>0</td>\n",
              "      <td>0</td>\n",
              "      <td>0</td>\n",
              "      <td>0</td>\n",
              "      <td>0</td>\n",
              "      <td>0</td>\n",
              "      <td>0</td>\n",
              "      <td>0</td>\n",
              "      <td>0</td>\n",
              "      <td>0</td>\n",
              "    </tr>\n",
              "    <tr>\n",
              "      <th>4</th>\n",
              "      <td>0</td>\n",
              "      <td>0</td>\n",
              "      <td>0</td>\n",
              "      <td>0</td>\n",
              "      <td>0</td>\n",
              "      <td>0</td>\n",
              "      <td>0</td>\n",
              "      <td>0</td>\n",
              "      <td>0</td>\n",
              "      <td>0</td>\n",
              "      <td>...</td>\n",
              "      <td>0</td>\n",
              "      <td>0</td>\n",
              "      <td>0</td>\n",
              "      <td>0</td>\n",
              "      <td>0</td>\n",
              "      <td>0</td>\n",
              "      <td>0</td>\n",
              "      <td>0</td>\n",
              "      <td>0</td>\n",
              "      <td>0</td>\n",
              "    </tr>\n",
              "  </tbody>\n",
              "</table>\n",
              "<p>5 rows × 3412 columns</p>\n",
              "</div>"
            ],
            "text/plain": [
              "   a + d cracked skin relief  a / b otic  \\\n",
              "0                          0           0   \n",
              "1                          0           0   \n",
              "2                          0           0   \n",
              "3                          0           0   \n",
              "4                          0           0   \n",
              "\n",
              "   abacavir / dolutegravir / lamivudine  abacavir / lamivudine / zidovudine  \\\n",
              "0                                     0                                   0   \n",
              "1                                     0                                   0   \n",
              "2                                     0                                   0   \n",
              "3                                     0                                   0   \n",
              "4                                     0                                   0   \n",
              "\n",
              "   abatacept  abilify  abilify discmelt  abilify maintena  abiraterone  \\\n",
              "0          0        0                 0                 0            0   \n",
              "1          0        0                 0                 0            0   \n",
              "2          0        0                 0                 0            0   \n",
              "3          0        0                 0                 0            0   \n",
              "4          0        0                 0                 0            0   \n",
              "\n",
              "   abobotulinumtoxina  ...  zymine  zyprexa  zyprexa intramuscular  \\\n",
              "0                   0  ...       0        0                      0   \n",
              "1                   0  ...       0        0                      0   \n",
              "2                   0  ...       0        0                      0   \n",
              "3                   0  ...       0        0                      0   \n",
              "4                   0  ...       0        0                      0   \n",
              "\n",
              "   zyprexa zydis  zyrtec  zyrtec-d  zyrtec-d 12 hour  zytiga  zyvox  zzzquil  \n",
              "0              0       0         0                 0       0      0        0  \n",
              "1              0       0         0                 0       0      0        0  \n",
              "2              0       0         0                 0       0      0        0  \n",
              "3              0       0         0                 0       0      0        0  \n",
              "4              0       0         0                 0       0      0        0  \n",
              "\n",
              "[5 rows x 3412 columns]"
            ]
          },
          "execution_count": 34,
          "metadata": {},
          "output_type": "execute_result"
        }
      ],
      "source": [
        "df_drug_encoded.head()"
      ]
    },
    {
      "cell_type": "markdown",
      "metadata": {
        "id": "L5fdsqhP-FHZ"
      },
      "source": [
        "# **X, y값 분할, train, test셋 분할**"
      ]
    },
    {
      "cell_type": "code",
      "execution_count": null,
      "metadata": {
        "id": "hP8_YUBs-FHZ"
      },
      "outputs": [],
      "source": [
        "X = pd.concat([df_1[['tokenized_review']], df_con_encoded], axis=1)\n",
        "y = df_drug_encoded"
      ]
    },
    {
      "cell_type": "code",
      "execution_count": null,
      "metadata": {
        "id": "PxCP-pHA-FHZ",
        "outputId": "b956cbe8-39f4-4880-b7a1-73940b6ee351"
      },
      "outputs": [
        {
          "name": "stdout",
          "output_type": "stream",
          "text": [
            "0    [33, 734, 2667, 95, 3522, 1380, 0, 0, 0, 0, 0,...\n",
            "1    [568, 3038, 3011, 1107, 293, 26, 22, 2113, 90,...\n",
            "2    [1081, 1576, 31, 452, 197, 236, 32, 1727, 12, ...\n",
            "3    [24, 608, 85, 64, 522, 58, 347, 626, 730, 873,...\n",
            "4    [812, 199, 700, 48, 30, 2117, 17498, 383, 832,...\n",
            "Name: tokenized_review, dtype: object\n"
          ]
        }
      ],
      "source": [
        "print(X['tokenized_review'].head())"
      ]
    },
    {
      "cell_type": "code",
      "execution_count": null,
      "metadata": {
        "id": "SfO_3hyE-FHZ",
        "outputId": "28cfcd08-b06d-42b7-bde5-b6824d0f14a0"
      },
      "outputs": [
        {
          "name": "stdout",
          "output_type": "stream",
          "text": [
            "<class 'pandas.core.frame.DataFrame'>\n",
            "Index: 159472 entries, 0 to 161289\n",
            "Columns: 813 entries, tokenized_review to zollinger-ellison syndrome\n",
            "dtypes: int64(812), object(1)\n",
            "memory usage: 990.4+ MB\n"
          ]
        }
      ],
      "source": [
        "X.info()"
      ]
    },
    {
      "cell_type": "code",
      "execution_count": null,
      "metadata": {
        "id": "246j9oqb-FHZ",
        "outputId": "25547045-e4f7-4384-ed0d-91e4a5a32663"
      },
      "outputs": [
        {
          "name": "stdout",
          "output_type": "stream",
          "text": [
            "<class 'pandas.core.frame.DataFrame'>\n",
            "Index: 159472 entries, 0 to 161289\n",
            "Columns: 813 entries, tokenized_review to zollinger-ellison syndrome\n",
            "dtypes: int64(812), object(1)\n",
            "memory usage: 990.4+ MB\n"
          ]
        }
      ],
      "source": [
        "X.info()"
      ]
    },
    {
      "cell_type": "code",
      "execution_count": null,
      "metadata": {
        "id": "XRy08g9Z-FHZ"
      },
      "outputs": [],
      "source": [
        "from sklearn.model_selection import train_test_split\n",
        "\n",
        "X_train, X_test, y_train, y_test = train_test_split(X, y, test_size=0.2, random_state=42)"
      ]
    },
    {
      "cell_type": "code",
      "execution_count": null,
      "metadata": {
        "id": "n3K7sKEh-FHZ"
      },
      "outputs": [],
      "source": [
        "X_train = np.array(X_train['tokenized_review'].tolist())\n",
        "X_test = np.array(X_test['tokenized_review'].tolist())\n",
        "#y_train = np.array(y_train['review'].tolist())\n",
        "#y_test = np.array(y_test['review'].tolist())"
      ]
    },
    {
      "cell_type": "code",
      "execution_count": null,
      "metadata": {
        "id": "pmLyi6CK-FHa"
      },
      "outputs": [],
      "source": [
        "from tensorflow.keras import layers\n",
        "from tensorflow.keras import models\n",
        "\n",
        "model = models.Sequential()\n",
        "model.add(layers.Embedding(input_dim = len(tokenizer.word_index) + 1, output_dim = 128))\n",
        "model.add(layers.Bidirectional(layers.LSTM(64)))\n",
        "model.add(layers.LSTM(64))\n",
        "model.add(layers.Dense(3412, activation = 'softmax'))"
      ]
    },
    {
      "cell_type": "code",
      "execution_count": null,
      "metadata": {
        "id": "3YPiXkyQ-FHa"
      },
      "outputs": [],
      "source": [
        "from tensorflow.keras.optimizers import RMSprop\n",
        "model.compile(optimizer = RMSprop(learning_rate = 0.01), loss = 'categorical_crossentropy', metrics=['acc'])"
      ]
    },
    {
      "cell_type": "code",
      "execution_count": null,
      "metadata": {
        "id": "l4YVU-Kc-FHa",
        "outputId": "dd163dd1-9087-4fde-e7b2-5e143c0c9936"
      },
      "outputs": [
        {
          "data": {
            "text/plain": [
              "127577"
            ]
          },
          "execution_count": 43,
          "metadata": {},
          "output_type": "execute_result"
        }
      ],
      "source": [
        "len(X_train)"
      ]
    },
    {
      "cell_type": "code",
      "execution_count": null,
      "metadata": {
        "id": "1LKrp5yY-FHa",
        "outputId": "89149584-a4e8-46c5-9a1a-ac655b0da93f"
      },
      "outputs": [
        {
          "data": {
            "text/plain": [
              "127577"
            ]
          },
          "execution_count": 44,
          "metadata": {},
          "output_type": "execute_result"
        }
      ],
      "source": [
        "len(y_train)"
      ]
    },
    {
      "cell_type": "code",
      "execution_count": null,
      "metadata": {
        "id": "TAuA4SvZ-FHa"
      },
      "outputs": [],
      "source": [
        "history = model.fit(X_train, y_train, epochs = 50, batch_size = 128, validation_split = 0.2)"
      ]
    },
    {
      "cell_type": "code",
      "execution_count": null,
      "metadata": {
        "id": "sfXkpfM5-FHa"
      },
      "outputs": [],
      "source": []
    },
    {
      "cell_type": "code",
      "execution_count": null,
      "metadata": {
        "id": "bQ2jwOQv-FHa"
      },
      "outputs": [],
      "source": []
    }
  ],
  "metadata": {
    "colab": {
      "provenance": []
    },
    "kernelspec": {
      "display_name": "Python 3",
      "name": "python3"
    },
    "language_info": {
      "codemirror_mode": {
        "name": "ipython",
        "version": 3
      },
      "file_extension": ".py",
      "mimetype": "text/x-python",
      "name": "python",
      "nbconvert_exporter": "python",
      "pygments_lexer": "ipython3",
      "version": "3.12.2"
    }
  },
  "nbformat": 4,
  "nbformat_minor": 0
}