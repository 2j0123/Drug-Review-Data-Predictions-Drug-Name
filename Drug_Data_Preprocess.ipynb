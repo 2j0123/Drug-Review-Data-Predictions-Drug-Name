{
  "cells": [
    {
      "cell_type": "markdown",
      "metadata": {
        "colab_type": "text",
        "id": "view-in-github"
      },
      "source": [
        "<a href=\"https://colab.research.google.com/github/2j0123/WASSUP_Project_Team7_2/blob/JS/Drug_Data_EDA_Preprocess_2.ipynb\" target=\"_parent\"><img src=\"https://colab.research.google.com/assets/colab-badge.svg\" alt=\"Open In Colab\"/></a>"
      ]
    },
    {
      "cell_type": "markdown",
      "metadata": {
        "id": "xhUetlZYBrss"
      },
      "source": [
        "# Drug Dataset Preprocess"
      ]
    },
    {
      "cell_type": "code",
      "execution_count": 235,
      "metadata": {
        "id": "jVacvf717UAC"
      },
      "outputs": [],
      "source": [
        "import pandas as pd"
      ]
    },
    {
      "cell_type": "code",
      "execution_count": 236,
      "metadata": {
        "id": "az5921MX8V6M"
      },
      "outputs": [],
      "source": [
        "drug_data = pd.read_csv('/home/kdt-admin/miniconda3/envs/JS/WASSUP_Project_Team7_2/drugsComTrain_raw.csv')"
      ]
    },
    {
      "cell_type": "markdown",
      "metadata": {
        "id": "NQdQ4_BhDPud"
      },
      "source": [
        "## 전처리"
      ]
    },
    {
      "cell_type": "markdown",
      "metadata": {
        "id": "lbWwpctnJWk3"
      },
      "source": [
        "### 결측치 제거"
      ]
    },
    {
      "cell_type": "code",
      "execution_count": 237,
      "metadata": {
        "colab": {
          "base_uri": "https://localhost:8080/"
        },
        "id": "sGFHPOOXDPXu",
        "outputId": "21e130e8-9e51-4a60-9c1f-b365700b39af"
      },
      "outputs": [
        {
          "data": {
            "text/plain": [
              "uniqueID       0\n",
              "drugName       0\n",
              "condition      0\n",
              "review         0\n",
              "rating         0\n",
              "date           0\n",
              "usefulCount    0\n",
              "dtype: int64"
            ]
          },
          "execution_count": 237,
          "metadata": {},
          "output_type": "execute_result"
        }
      ],
      "source": [
        "drug_data = drug_data.dropna()\n",
        "drug_data.isna().sum()"
      ]
    },
    {
      "cell_type": "markdown",
      "metadata": {
        "id": "rWXkUty1ozif"
      },
      "source": [
        "### 전처리 함수"
      ]
    },
    {
      "cell_type": "markdown",
      "metadata": {
        "id": "-2evNX83KX12"
      },
      "source": [
        "#### 숫자와 영어 알파벳을 제외한 문자를 공백으로 대체"
      ]
    },
    {
      "cell_type": "code",
      "execution_count": 238,
      "metadata": {
        "id": "cz81EMg_JyMn"
      },
      "outputs": [],
      "source": [
        "import re\n",
        "\n",
        "def extract_word(text):\n",
        "    non_english = re.compile('[^a-zA-Z0-9]')\n",
        "    return non_english.sub(' ', text)"
      ]
    },
    {
      "cell_type": "markdown",
      "metadata": {
        "id": "Uzvc5XvrNNj-"
      },
      "source": [
        "#### 소문자로 변환"
      ]
    },
    {
      "cell_type": "code",
      "execution_count": 239,
      "metadata": {
        "id": "QDq0wEY5OvHd"
      },
      "outputs": [],
      "source": [
        "def fix_lower(text):\n",
        "    fixed_text = text.lower() # 소문자로 변환\n",
        "    return fixed_text"
      ]
    },
    {
      "cell_type": "markdown",
      "metadata": {
        "id": "g4n49o7LPhux"
      },
      "source": [
        "#### 불용어 제거"
      ]
    },
    {
      "cell_type": "code",
      "execution_count": 240,
      "metadata": {
        "colab": {
          "base_uri": "https://localhost:8080/"
        },
        "id": "UvQc7gO2bTQu",
        "outputId": "f7aa3d04-bec3-4342-b017-ac54ae5be435"
      },
      "outputs": [
        {
          "name": "stderr",
          "output_type": "stream",
          "text": [
            "[nltk_data] Downloading package punkt to /home/kdt-admin/nltk_data...\n",
            "[nltk_data]   Package punkt is already up-to-date!\n",
            "[nltk_data] Downloading package stopwords to /home/kdt-\n",
            "[nltk_data]     admin/nltk_data...\n",
            "[nltk_data]   Package stopwords is already up-to-date!\n"
          ]
        },
        {
          "data": {
            "text/plain": [
              "True"
            ]
          },
          "execution_count": 240,
          "metadata": {},
          "output_type": "execute_result"
        }
      ],
      "source": [
        "from nltk.tokenize import word_tokenize\n",
        "from nltk.corpus import stopwords\n",
        "import nltk\n",
        "nltk.download('punkt') #token\n",
        "nltk.download('stopwords')"
      ]
    },
    {
      "cell_type": "code",
      "execution_count": 241,
      "metadata": {
        "id": "wve8HxrZPh2K"
      },
      "outputs": [],
      "source": [
        "english_stopwords = set(stopwords.words('english'))\n",
        "english_stopwords.discard('no') # no를 불용어에 포함시키지 않음\n",
        "english_stopwords.discard('not') # not를 불용어에 포함시키지 않음\n",
        "\n",
        "def del_stopwords(tokens):\n",
        "    return [token for token in tokens if token not in english_stopwords and token.isalnum()]"
      ]
    },
    {
      "cell_type": "markdown",
      "metadata": {
        "id": "6wIeuDMwAiyR"
      },
      "source": [
        "#### 숫자와 수치형 단위 제거"
      ]
    },
    {
      "cell_type": "code",
      "execution_count": 242,
      "metadata": {
        "id": "iJ7vwNIVCN4q"
      },
      "outputs": [],
      "source": [
        "def del_numericalunits(text):\n",
        "    non_numericalunits = r'\\b\\d+(\\.\\d+)?\\s?\\S*' # 숫자와 단위 정규 표현식\n",
        "    return re.sub(non_numericalunits, '', text)"
      ]
    },
    {
      "cell_type": "markdown",
      "metadata": {
        "id": "nconyoDLLsXm"
      },
      "source": [
        "#### Lemmatization\n"
      ]
    },
    {
      "cell_type": "code",
      "execution_count": 243,
      "metadata": {
        "colab": {
          "base_uri": "https://localhost:8080/"
        },
        "id": "inWWNDf2L-Wo",
        "outputId": "1484726e-cf4f-45f3-8c49-587b577051ef"
      },
      "outputs": [
        {
          "name": "stderr",
          "output_type": "stream",
          "text": [
            "[nltk_data] Downloading package wordnet to /home/kdt-\n",
            "[nltk_data]     admin/nltk_data...\n",
            "[nltk_data]   Package wordnet is already up-to-date!\n",
            "[nltk_data] Downloading package averaged_perceptron_tagger to\n",
            "[nltk_data]     /home/kdt-admin/nltk_data...\n",
            "[nltk_data]   Package averaged_perceptron_tagger is already up-to-\n",
            "[nltk_data]       date!\n"
          ]
        }
      ],
      "source": [
        "from nltk.stem import WordNetLemmatizer\n",
        "\n",
        "nltk.download('wordnet')\n",
        "nltk.download('averaged_perceptron_tagger')\n",
        "\n",
        "lemmatizer = WordNetLemmatizer()\n",
        "\n",
        "def fix_lemmatization(tokens):\n",
        "    return [lemmatizer.lemmatize(token) for token in tokens]"
      ]
    },
    {
      "cell_type": "markdown",
      "metadata": {
        "id": "HR_YbnLCXh1a"
      },
      "source": [
        "#### 토큰화"
      ]
    },
    {
      "cell_type": "code",
      "execution_count": 244,
      "metadata": {
        "id": "2j4LecvsXgjb"
      },
      "outputs": [],
      "source": [
        "from nltk.tokenize import word_tokenize\n",
        "\n",
        "def fix_tokenize(text):\n",
        "    return word_tokenize(text)"
      ]
    },
    {
      "cell_type": "markdown",
      "metadata": {
        "id": "jn3KBABmaI8v"
      },
      "source": [
        "#### 공백 수정 및 토큰 연결"
      ]
    },
    {
      "cell_type": "code",
      "execution_count": 245,
      "metadata": {
        "id": "AuwnnknXaJCc"
      },
      "outputs": [],
      "source": [
        "def join_tokens(tokens):\n",
        "    return ' '.join(tokens) # 공백으로 연결"
      ]
    },
    {
      "cell_type": "markdown",
      "metadata": {},
      "source": [
        "#### 공백 제거"
      ]
    },
    {
      "cell_type": "code",
      "execution_count": 246,
      "metadata": {},
      "outputs": [],
      "source": [
        "def del_space(text):\n",
        "    return text.replace(\" \", \"\")"
      ]
    },
    {
      "cell_type": "markdown",
      "metadata": {},
      "source": [
        "#### html 코드 제거"
      ]
    },
    {
      "cell_type": "code",
      "execution_count": 247,
      "metadata": {},
      "outputs": [],
      "source": [
        "# from bs4 import BeautifulSoup\n",
        "\n",
        "def del_html(text):\n",
        "    # return BeautifulSoup(text, 'html.parser').get_text() # </span>만 제거되고 문장은 제거되지 않음.\n",
        "    if '</span> users found this comment helpful.' in text:\n",
        "        return ''\n",
        "    else:\n",
        "        return text"
      ]
    },
    {
      "cell_type": "markdown",
      "metadata": {},
      "source": [
        "#### apostrophe 제거"
      ]
    },
    {
      "cell_type": "code",
      "execution_count": 248,
      "metadata": {},
      "outputs": [],
      "source": [
        "def remove_apostrophe(text):\n",
        "    return text.replace(\"'\", \"\")"
      ]
    },
    {
      "cell_type": "markdown",
      "metadata": {},
      "source": [
        "#### Stemming"
      ]
    },
    {
      "cell_type": "code",
      "execution_count": 249,
      "metadata": {},
      "outputs": [],
      "source": [
        "from nltk.stem import PorterStemmer, LancasterStemmer\n",
        "\n",
        "porter_stemmer = PorterStemmer()\n",
        "\n",
        "lancaster_stemmer = LancasterStemmer()"
      ]
    },
    {
      "cell_type": "markdown",
      "metadata": {},
      "source": [
        "##### Porter Stemming "
      ]
    },
    {
      "cell_type": "code",
      "execution_count": 250,
      "metadata": {},
      "outputs": [],
      "source": [
        "def porter_stemming(review):\n",
        "    return [porter_stemmer.stem(word) for word in review]"
      ]
    },
    {
      "cell_type": "markdown",
      "metadata": {},
      "source": [
        "##### Lancaster stemming"
      ]
    },
    {
      "cell_type": "code",
      "execution_count": 251,
      "metadata": {},
      "outputs": [],
      "source": [
        "def lancaster_stemming(review):\n",
        "    return [lancaster_stemmer.stem(word) for word in review]"
      ]
    },
    {
      "cell_type": "markdown",
      "metadata": {
        "id": "C-HWOEXYHQ1a"
      },
      "source": [
        "#### Padding"
      ]
    },
    {
      "cell_type": "code",
      "execution_count": 252,
      "metadata": {
        "colab": {
          "base_uri": "https://localhost:8080/"
        },
        "id": "mCzY3YBwHg3N",
        "outputId": "28fb499c-fc71-48e2-b7af-625ffebcdcf5"
      },
      "outputs": [],
      "source": [
        "from keras.preprocessing.sequence import pad_sequences\n",
        "from tensorflow.keras.preprocessing.text import Tokenizer\n",
        "\n",
        "tokenizer = Tokenizer()"
      ]
    },
    {
      "cell_type": "markdown",
      "metadata": {},
      "source": [
        "##### Padding 적용 함수"
      ]
    },
    {
      "cell_type": "code",
      "execution_count": 253,
      "metadata": {},
      "outputs": [],
      "source": [
        "def convert_padding(df, column_name):\n",
        "    tokenizer.fit_on_texts(df[column_name])\n",
        "    sequences = tokenizer.texts_to_sequences(df[column_name])\n",
        "    max_length = max(len(sentence) for sentence in df[column_name]) # 최대 문장 길이\n",
        "    padded_review = pad_sequences(sequences, maxlen=max_length, padding='post') # Padding\n",
        "    \n",
        "    return padded_review.tolist()"
      ]
    },
    {
      "cell_type": "markdown",
      "metadata": {
        "id": "cMqWKYXhO_My"
      },
      "source": [
        "#### Embedding"
      ]
    },
    {
      "cell_type": "code",
      "execution_count": 254,
      "metadata": {
        "id": "a4sXmd7iPCUp"
      },
      "outputs": [],
      "source": [
        "import numpy as np\n",
        "\n",
        "embedding_index = {}\n",
        "with open('glove.6B.300d.txt', encoding='utf-8') as f:\n",
        "    for line in f:\n",
        "        values = line.split()\n",
        "        word = values[0]\n",
        "        coefs = np.asarray(values[1:], dtype='float32')\n",
        "        embedding_index[word] = coefs"
      ]
    },
    {
      "cell_type": "code",
      "execution_count": 255,
      "metadata": {},
      "outputs": [],
      "source": [
        "def convert_embedding(df, column_name):\n",
        "    embedded_sequences = []\n",
        "    \n",
        "    for sequence in df[column_name]:\n",
        "        embedded_sequence = []\n",
        "        for word_index in sequence:\n",
        "            if word_index != 0:  # 패딩된 값(0)인 경우 무시\n",
        "                word = tokenizer.index_word[word_index]\n",
        "                embedding_vector = embedding_index.get(word)\n",
        "                if embedding_vector is not None:\n",
        "                    embedded_sequence.append(embedding_vector)\n",
        "        embedded_sequences.append(embedded_sequence)\n",
        "    \n",
        "    return embedded_sequences "
      ]
    },
    {
      "cell_type": "markdown",
      "metadata": {},
      "source": [
        "### 'review' 전처리"
      ]
    },
    {
      "cell_type": "markdown",
      "metadata": {},
      "source": [
        "#### 'review' 전처리 통합 함수\n"
      ]
    },
    {
      "cell_type": "code",
      "execution_count": 256,
      "metadata": {},
      "outputs": [],
      "source": [
        "def preprocess_review(text):\n",
        "    fixed_text = del_html(text) # html 코드 제거\n",
        "    fixed_text = remove_apostrophe(fixed_text) # apostrophe 제거\n",
        "    fixed_text = extract_word(text) # 숫자와 영어 알파벳을 제외한 문자를 공백으로 대체\n",
        "    fixed_text = fix_lower(fixed_text) # 소문자로 변환\n",
        "    fixed_text = del_numericalunits(fixed_text) # 숫자와 수치형 단위 제거\n",
        "    tokens = fix_tokenize(fixed_text) # 토큰화\n",
        "    filtered_tokens = del_stopwords(tokens) # 불용어 제거\n",
        "    lemmatized_tokens = fix_lemmatization(filtered_tokens) # Lemmatization\n",
        "    fixed_text = join_tokens(lemmatized_tokens) # 공백 수정 및 토큰 연결\n",
        "    return fixed_text.split()"
      ]
    },
    {
      "cell_type": "markdown",
      "metadata": {},
      "source": [
        "#### 'review' 컬럼 전처리 통합 함수 적용\n"
      ]
    },
    {
      "cell_type": "code",
      "execution_count": 257,
      "metadata": {},
      "outputs": [],
      "source": [
        "drug_data['fixed_review'] = drug_data['review'].apply(preprocess_review)"
      ]
    },
    {
      "cell_type": "code",
      "execution_count": 258,
      "metadata": {},
      "outputs": [
        {
          "data": {
            "text/html": [
              "<div>\n",
              "<style scoped>\n",
              "    .dataframe tbody tr th:only-of-type {\n",
              "        vertical-align: middle;\n",
              "    }\n",
              "\n",
              "    .dataframe tbody tr th {\n",
              "        vertical-align: top;\n",
              "    }\n",
              "\n",
              "    .dataframe thead th {\n",
              "        text-align: right;\n",
              "    }\n",
              "</style>\n",
              "<table border=\"1\" class=\"dataframe\">\n",
              "  <thead>\n",
              "    <tr style=\"text-align: right;\">\n",
              "      <th></th>\n",
              "      <th>uniqueID</th>\n",
              "      <th>drugName</th>\n",
              "      <th>condition</th>\n",
              "      <th>review</th>\n",
              "      <th>rating</th>\n",
              "      <th>date</th>\n",
              "      <th>usefulCount</th>\n",
              "      <th>fixed_review</th>\n",
              "    </tr>\n",
              "  </thead>\n",
              "  <tbody>\n",
              "    <tr>\n",
              "      <th>0</th>\n",
              "      <td>206461</td>\n",
              "      <td>Valsartan</td>\n",
              "      <td>Left Ventricular Dysfunction</td>\n",
              "      <td>\"It has no side effect, I take it in combinati...</td>\n",
              "      <td>9</td>\n",
              "      <td>20-May-12</td>\n",
              "      <td>27</td>\n",
              "      <td>[no, side, effect, take, combination, bystolic...</td>\n",
              "    </tr>\n",
              "    <tr>\n",
              "      <th>1</th>\n",
              "      <td>95260</td>\n",
              "      <td>Guanfacine</td>\n",
              "      <td>ADHD</td>\n",
              "      <td>\"My son is halfway through his fourth week of ...</td>\n",
              "      <td>8</td>\n",
              "      <td>27-Apr-10</td>\n",
              "      <td>192</td>\n",
              "      <td>[son, halfway, fourth, week, intuniv, became, ...</td>\n",
              "    </tr>\n",
              "    <tr>\n",
              "      <th>2</th>\n",
              "      <td>92703</td>\n",
              "      <td>Lybrel</td>\n",
              "      <td>Birth Control</td>\n",
              "      <td>\"I used to take another oral contraceptive, wh...</td>\n",
              "      <td>5</td>\n",
              "      <td>14-Dec-09</td>\n",
              "      <td>17</td>\n",
              "      <td>[used, take, another, oral, contraceptive, cyc...</td>\n",
              "    </tr>\n",
              "    <tr>\n",
              "      <th>3</th>\n",
              "      <td>138000</td>\n",
              "      <td>Ortho Evra</td>\n",
              "      <td>Birth Control</td>\n",
              "      <td>\"This is my first time using any form of birth...</td>\n",
              "      <td>8</td>\n",
              "      <td>3-Nov-15</td>\n",
              "      <td>10</td>\n",
              "      <td>[first, time, using, form, birth, control, gla...</td>\n",
              "    </tr>\n",
              "    <tr>\n",
              "      <th>4</th>\n",
              "      <td>35696</td>\n",
              "      <td>Buprenorphine / naloxone</td>\n",
              "      <td>Opiate Dependence</td>\n",
              "      <td>\"Suboxone has completely turned my life around...</td>\n",
              "      <td>9</td>\n",
              "      <td>27-Nov-16</td>\n",
              "      <td>37</td>\n",
              "      <td>[suboxone, completely, turned, life, around, f...</td>\n",
              "    </tr>\n",
              "  </tbody>\n",
              "</table>\n",
              "</div>"
            ],
            "text/plain": [
              "   uniqueID                  drugName                     condition  \\\n",
              "0    206461                 Valsartan  Left Ventricular Dysfunction   \n",
              "1     95260                Guanfacine                          ADHD   \n",
              "2     92703                    Lybrel                 Birth Control   \n",
              "3    138000                Ortho Evra                 Birth Control   \n",
              "4     35696  Buprenorphine / naloxone             Opiate Dependence   \n",
              "\n",
              "                                              review  rating       date  \\\n",
              "0  \"It has no side effect, I take it in combinati...       9  20-May-12   \n",
              "1  \"My son is halfway through his fourth week of ...       8  27-Apr-10   \n",
              "2  \"I used to take another oral contraceptive, wh...       5  14-Dec-09   \n",
              "3  \"This is my first time using any form of birth...       8   3-Nov-15   \n",
              "4  \"Suboxone has completely turned my life around...       9  27-Nov-16   \n",
              "\n",
              "   usefulCount                                       fixed_review  \n",
              "0           27  [no, side, effect, take, combination, bystolic...  \n",
              "1          192  [son, halfway, fourth, week, intuniv, became, ...  \n",
              "2           17  [used, take, another, oral, contraceptive, cyc...  \n",
              "3           10  [first, time, using, form, birth, control, gla...  \n",
              "4           37  [suboxone, completely, turned, life, around, f...  "
            ]
          },
          "execution_count": 258,
          "metadata": {},
          "output_type": "execute_result"
        }
      ],
      "source": [
        "drug_data.head()"
      ]
    },
    {
      "cell_type": "markdown",
      "metadata": {},
      "source": [
        "#### 'review' 컬럼 Stemming 적용"
      ]
    },
    {
      "cell_type": "code",
      "execution_count": 259,
      "metadata": {},
      "outputs": [],
      "source": [
        "#drug_data['fixed_review'] = drug_data['fixed_review'].apply(lancaster_stemming)\n",
        "drug_data['fixed_review'] = drug_data['fixed_review'].apply(porter_stemming)"
      ]
    },
    {
      "cell_type": "code",
      "execution_count": 260,
      "metadata": {},
      "outputs": [
        {
          "name": "stdout",
          "output_type": "stream",
          "text": [
            "stemming result length :  32625\n"
          ]
        }
      ],
      "source": [
        "print(\"stemming result length : \", len(set(word for review in drug_data['fixed_review'] for word in review)))"
      ]
    },
    {
      "cell_type": "markdown",
      "metadata": {},
      "source": [
        "#### 'review' 컬럼 Padding 적용"
      ]
    },
    {
      "cell_type": "code",
      "execution_count": 261,
      "metadata": {},
      "outputs": [],
      "source": [
        "drug_data['fixed_review'] = convert_padding(drug_data, 'fixed_review')"
      ]
    },
    {
      "cell_type": "code",
      "execution_count": 262,
      "metadata": {},
      "outputs": [
        {
          "data": {
            "text/html": [
              "<div>\n",
              "<style scoped>\n",
              "    .dataframe tbody tr th:only-of-type {\n",
              "        vertical-align: middle;\n",
              "    }\n",
              "\n",
              "    .dataframe tbody tr th {\n",
              "        vertical-align: top;\n",
              "    }\n",
              "\n",
              "    .dataframe thead th {\n",
              "        text-align: right;\n",
              "    }\n",
              "</style>\n",
              "<table border=\"1\" class=\"dataframe\">\n",
              "  <thead>\n",
              "    <tr style=\"text-align: right;\">\n",
              "      <th></th>\n",
              "      <th>uniqueID</th>\n",
              "      <th>drugName</th>\n",
              "      <th>condition</th>\n",
              "      <th>review</th>\n",
              "      <th>rating</th>\n",
              "      <th>date</th>\n",
              "      <th>usefulCount</th>\n",
              "      <th>fixed_review</th>\n",
              "    </tr>\n",
              "  </thead>\n",
              "  <tbody>\n",
              "    <tr>\n",
              "      <th>0</th>\n",
              "      <td>206461</td>\n",
              "      <td>Valsartan</td>\n",
              "      <td>Left Ventricular Dysfunction</td>\n",
              "      <td>\"It has no side effect, I take it in combinati...</td>\n",
              "      <td>9</td>\n",
              "      <td>20-May-12</td>\n",
              "      <td>27</td>\n",
              "      <td>[6, 10, 4, 1, 476, 2135, 2430, 1145, 0, 0, 0, ...</td>\n",
              "    </tr>\n",
              "    <tr>\n",
              "      <th>1</th>\n",
              "      <td>95260</td>\n",
              "      <td>Guanfacine</td>\n",
              "      <td>ADHD</td>\n",
              "      <td>\"My son is halfway through his fourth week of ...</td>\n",
              "      <td>8</td>\n",
              "      <td>27-Apr-10</td>\n",
              "      <td>192</td>\n",
              "      <td>[474, 2482, 1289, 17, 2368, 284, 579, 241, 46,...</td>\n",
              "    </tr>\n",
              "    <tr>\n",
              "      <th>2</th>\n",
              "      <td>92703</td>\n",
              "      <td>Lybrel</td>\n",
              "      <td>Birth Control</td>\n",
              "      <td>\"I used to take another oral contraceptive, wh...</td>\n",
              "      <td>5</td>\n",
              "      <td>14-Dec-09</td>\n",
              "      <td>17</td>\n",
              "      <td>[16, 1, 166, 874, 954, 348, 153, 190, 18, 1405...</td>\n",
              "    </tr>\n",
              "    <tr>\n",
              "      <th>3</th>\n",
              "      <td>138000</td>\n",
              "      <td>Ortho Evra</td>\n",
              "      <td>Birth Control</td>\n",
              "      <td>\"This is my first time using any form of birth...</td>\n",
              "      <td>8</td>\n",
              "      <td>3-Nov-15</td>\n",
              "      <td>10</td>\n",
              "      <td>[13, 12, 16, 454, 67, 43, 450, 48, 257, 13, 34...</td>\n",
              "    </tr>\n",
              "    <tr>\n",
              "      <th>4</th>\n",
              "      <td>35696</td>\n",
              "      <td>Buprenorphine / naloxone</td>\n",
              "      <td>Opiate Dependence</td>\n",
              "      <td>\"Suboxone has completely turned my life around...</td>\n",
              "      <td>9</td>\n",
              "      <td>27-Nov-16</td>\n",
              "      <td>37</td>\n",
              "      <td>[713, 128, 363, 33, 131, 11, 1750, 866, 324, 1...</td>\n",
              "    </tr>\n",
              "  </tbody>\n",
              "</table>\n",
              "</div>"
            ],
            "text/plain": [
              "   uniqueID                  drugName                     condition  \\\n",
              "0    206461                 Valsartan  Left Ventricular Dysfunction   \n",
              "1     95260                Guanfacine                          ADHD   \n",
              "2     92703                    Lybrel                 Birth Control   \n",
              "3    138000                Ortho Evra                 Birth Control   \n",
              "4     35696  Buprenorphine / naloxone             Opiate Dependence   \n",
              "\n",
              "                                              review  rating       date  \\\n",
              "0  \"It has no side effect, I take it in combinati...       9  20-May-12   \n",
              "1  \"My son is halfway through his fourth week of ...       8  27-Apr-10   \n",
              "2  \"I used to take another oral contraceptive, wh...       5  14-Dec-09   \n",
              "3  \"This is my first time using any form of birth...       8   3-Nov-15   \n",
              "4  \"Suboxone has completely turned my life around...       9  27-Nov-16   \n",
              "\n",
              "   usefulCount                                       fixed_review  \n",
              "0           27  [6, 10, 4, 1, 476, 2135, 2430, 1145, 0, 0, 0, ...  \n",
              "1          192  [474, 2482, 1289, 17, 2368, 284, 579, 241, 46,...  \n",
              "2           17  [16, 1, 166, 874, 954, 348, 153, 190, 18, 1405...  \n",
              "3           10  [13, 12, 16, 454, 67, 43, 450, 48, 257, 13, 34...  \n",
              "4           37  [713, 128, 363, 33, 131, 11, 1750, 866, 324, 1...  "
            ]
          },
          "execution_count": 262,
          "metadata": {},
          "output_type": "execute_result"
        }
      ],
      "source": [
        "drug_data.head()"
      ]
    },
    {
      "cell_type": "markdown",
      "metadata": {},
      "source": [
        "#### 'review' 컬럼 Embedding 적용"
      ]
    },
    {
      "cell_type": "code",
      "execution_count": 263,
      "metadata": {},
      "outputs": [],
      "source": [
        "drug_data['fixed_review'] = convert_embedding(drug_data, 'fixed_review')"
      ]
    },
    {
      "cell_type": "code",
      "execution_count": 264,
      "metadata": {},
      "outputs": [
        {
          "data": {
            "text/html": [
              "<div>\n",
              "<style scoped>\n",
              "    .dataframe tbody tr th:only-of-type {\n",
              "        vertical-align: middle;\n",
              "    }\n",
              "\n",
              "    .dataframe tbody tr th {\n",
              "        vertical-align: top;\n",
              "    }\n",
              "\n",
              "    .dataframe thead th {\n",
              "        text-align: right;\n",
              "    }\n",
              "</style>\n",
              "<table border=\"1\" class=\"dataframe\">\n",
              "  <thead>\n",
              "    <tr style=\"text-align: right;\">\n",
              "      <th></th>\n",
              "      <th>uniqueID</th>\n",
              "      <th>drugName</th>\n",
              "      <th>condition</th>\n",
              "      <th>review</th>\n",
              "      <th>rating</th>\n",
              "      <th>date</th>\n",
              "      <th>usefulCount</th>\n",
              "      <th>fixed_review</th>\n",
              "    </tr>\n",
              "  </thead>\n",
              "  <tbody>\n",
              "    <tr>\n",
              "      <th>0</th>\n",
              "      <td>206461</td>\n",
              "      <td>Valsartan</td>\n",
              "      <td>Left Ventricular Dysfunction</td>\n",
              "      <td>\"It has no side effect, I take it in combinati...</td>\n",
              "      <td>9</td>\n",
              "      <td>20-May-12</td>\n",
              "      <td>27</td>\n",
              "      <td>[[-0.16843, -0.037651, -0.17304, -0.069757, -0...</td>\n",
              "    </tr>\n",
              "    <tr>\n",
              "      <th>1</th>\n",
              "      <td>95260</td>\n",
              "      <td>Guanfacine</td>\n",
              "      <td>ADHD</td>\n",
              "      <td>\"My son is halfway through his fourth week of ...</td>\n",
              "      <td>8</td>\n",
              "      <td>27-Apr-10</td>\n",
              "      <td>192</td>\n",
              "      <td>[[-0.13661, -0.21326, 0.20525, -0.54117, -0.13...</td>\n",
              "    </tr>\n",
              "    <tr>\n",
              "      <th>2</th>\n",
              "      <td>92703</td>\n",
              "      <td>Lybrel</td>\n",
              "      <td>Birth Control</td>\n",
              "      <td>\"I used to take another oral contraceptive, wh...</td>\n",
              "      <td>5</td>\n",
              "      <td>14-Dec-09</td>\n",
              "      <td>17</td>\n",
              "      <td>[[-0.10515, 0.13407, 0.13839, -0.647, 0.1243, ...</td>\n",
              "    </tr>\n",
              "    <tr>\n",
              "      <th>3</th>\n",
              "      <td>138000</td>\n",
              "      <td>Ortho Evra</td>\n",
              "      <td>Birth Control</td>\n",
              "      <td>\"This is my first time using any form of birth...</td>\n",
              "      <td>8</td>\n",
              "      <td>3-Nov-15</td>\n",
              "      <td>10</td>\n",
              "      <td>[[-0.15561, 0.50069, -0.23022, -0.33005, -0.23...</td>\n",
              "    </tr>\n",
              "    <tr>\n",
              "      <th>4</th>\n",
              "      <td>35696</td>\n",
              "      <td>Buprenorphine / naloxone</td>\n",
              "      <td>Opiate Dependence</td>\n",
              "      <td>\"Suboxone has completely turned my life around...</td>\n",
              "      <td>9</td>\n",
              "      <td>27-Nov-16</td>\n",
              "      <td>37</td>\n",
              "      <td>[[-0.053251, 0.1133, -0.031874, -0.23255, -0.2...</td>\n",
              "    </tr>\n",
              "  </tbody>\n",
              "</table>\n",
              "</div>"
            ],
            "text/plain": [
              "   uniqueID                  drugName                     condition  \\\n",
              "0    206461                 Valsartan  Left Ventricular Dysfunction   \n",
              "1     95260                Guanfacine                          ADHD   \n",
              "2     92703                    Lybrel                 Birth Control   \n",
              "3    138000                Ortho Evra                 Birth Control   \n",
              "4     35696  Buprenorphine / naloxone             Opiate Dependence   \n",
              "\n",
              "                                              review  rating       date  \\\n",
              "0  \"It has no side effect, I take it in combinati...       9  20-May-12   \n",
              "1  \"My son is halfway through his fourth week of ...       8  27-Apr-10   \n",
              "2  \"I used to take another oral contraceptive, wh...       5  14-Dec-09   \n",
              "3  \"This is my first time using any form of birth...       8   3-Nov-15   \n",
              "4  \"Suboxone has completely turned my life around...       9  27-Nov-16   \n",
              "\n",
              "   usefulCount                                       fixed_review  \n",
              "0           27  [[-0.16843, -0.037651, -0.17304, -0.069757, -0...  \n",
              "1          192  [[-0.13661, -0.21326, 0.20525, -0.54117, -0.13...  \n",
              "2           17  [[-0.10515, 0.13407, 0.13839, -0.647, 0.1243, ...  \n",
              "3           10  [[-0.15561, 0.50069, -0.23022, -0.33005, -0.23...  \n",
              "4           37  [[-0.053251, 0.1133, -0.031874, -0.23255, -0.2...  "
            ]
          },
          "execution_count": 264,
          "metadata": {},
          "output_type": "execute_result"
        }
      ],
      "source": [
        "drug_data.head()"
      ]
    },
    {
      "cell_type": "markdown",
      "metadata": {},
      "source": [
        "### 'condition' 전처리"
      ]
    },
    {
      "cell_type": "markdown",
      "metadata": {},
      "source": [
        "#### 'condition' 전처리 통합 함수"
      ]
    },
    {
      "cell_type": "code",
      "execution_count": 265,
      "metadata": {},
      "outputs": [],
      "source": [
        "def preprocess_condition(text):\n",
        "    fixed_text = del_html(text) # html 코드 제거\n",
        "    #fixed_text = del_space(fixed_text) # 공백 제거\n",
        "    fixed_text = remove_apostrophe(fixed_text) # apostrophe 제거\n",
        "    fixed_text = extract_word(fixed_text) # 숫자와 영어 알파벳을 제외한 문자를 공백으로 대체\n",
        "    fixed_text = fix_lower(fixed_text) # 소문자로 변환\n",
        "    tokens = fix_tokenize(fixed_text) # 토큰화\n",
        "    fixed_text = join_tokens(tokens) # 공백 수정 및 토큰 연결\n",
        "    return fixed_text.split()"
      ]
    },
    {
      "cell_type": "markdown",
      "metadata": {},
      "source": [
        "#### 'condition' 전처리 통합 함수 적용"
      ]
    },
    {
      "cell_type": "code",
      "execution_count": 266,
      "metadata": {},
      "outputs": [],
      "source": [
        "drug_data['fixed_condition'] = drug_data['condition'].apply(preprocess_condition)"
      ]
    },
    {
      "cell_type": "code",
      "execution_count": 267,
      "metadata": {},
      "outputs": [
        {
          "data": {
            "text/html": [
              "<div>\n",
              "<style scoped>\n",
              "    .dataframe tbody tr th:only-of-type {\n",
              "        vertical-align: middle;\n",
              "    }\n",
              "\n",
              "    .dataframe tbody tr th {\n",
              "        vertical-align: top;\n",
              "    }\n",
              "\n",
              "    .dataframe thead th {\n",
              "        text-align: right;\n",
              "    }\n",
              "</style>\n",
              "<table border=\"1\" class=\"dataframe\">\n",
              "  <thead>\n",
              "    <tr style=\"text-align: right;\">\n",
              "      <th></th>\n",
              "      <th>uniqueID</th>\n",
              "      <th>drugName</th>\n",
              "      <th>condition</th>\n",
              "      <th>review</th>\n",
              "      <th>rating</th>\n",
              "      <th>date</th>\n",
              "      <th>usefulCount</th>\n",
              "      <th>fixed_review</th>\n",
              "      <th>fixed_condition</th>\n",
              "    </tr>\n",
              "  </thead>\n",
              "  <tbody>\n",
              "    <tr>\n",
              "      <th>0</th>\n",
              "      <td>206461</td>\n",
              "      <td>Valsartan</td>\n",
              "      <td>Left Ventricular Dysfunction</td>\n",
              "      <td>\"It has no side effect, I take it in combinati...</td>\n",
              "      <td>9</td>\n",
              "      <td>20-May-12</td>\n",
              "      <td>27</td>\n",
              "      <td>[[-0.16843, -0.037651, -0.17304, -0.069757, -0...</td>\n",
              "      <td>[left, ventricular, dysfunction]</td>\n",
              "    </tr>\n",
              "    <tr>\n",
              "      <th>1</th>\n",
              "      <td>95260</td>\n",
              "      <td>Guanfacine</td>\n",
              "      <td>ADHD</td>\n",
              "      <td>\"My son is halfway through his fourth week of ...</td>\n",
              "      <td>8</td>\n",
              "      <td>27-Apr-10</td>\n",
              "      <td>192</td>\n",
              "      <td>[[-0.13661, -0.21326, 0.20525, -0.54117, -0.13...</td>\n",
              "      <td>[adhd]</td>\n",
              "    </tr>\n",
              "    <tr>\n",
              "      <th>2</th>\n",
              "      <td>92703</td>\n",
              "      <td>Lybrel</td>\n",
              "      <td>Birth Control</td>\n",
              "      <td>\"I used to take another oral contraceptive, wh...</td>\n",
              "      <td>5</td>\n",
              "      <td>14-Dec-09</td>\n",
              "      <td>17</td>\n",
              "      <td>[[-0.10515, 0.13407, 0.13839, -0.647, 0.1243, ...</td>\n",
              "      <td>[birth, control]</td>\n",
              "    </tr>\n",
              "    <tr>\n",
              "      <th>3</th>\n",
              "      <td>138000</td>\n",
              "      <td>Ortho Evra</td>\n",
              "      <td>Birth Control</td>\n",
              "      <td>\"This is my first time using any form of birth...</td>\n",
              "      <td>8</td>\n",
              "      <td>3-Nov-15</td>\n",
              "      <td>10</td>\n",
              "      <td>[[-0.15561, 0.50069, -0.23022, -0.33005, -0.23...</td>\n",
              "      <td>[birth, control]</td>\n",
              "    </tr>\n",
              "    <tr>\n",
              "      <th>4</th>\n",
              "      <td>35696</td>\n",
              "      <td>Buprenorphine / naloxone</td>\n",
              "      <td>Opiate Dependence</td>\n",
              "      <td>\"Suboxone has completely turned my life around...</td>\n",
              "      <td>9</td>\n",
              "      <td>27-Nov-16</td>\n",
              "      <td>37</td>\n",
              "      <td>[[-0.053251, 0.1133, -0.031874, -0.23255, -0.2...</td>\n",
              "      <td>[opiate, dependence]</td>\n",
              "    </tr>\n",
              "  </tbody>\n",
              "</table>\n",
              "</div>"
            ],
            "text/plain": [
              "   uniqueID                  drugName                     condition  \\\n",
              "0    206461                 Valsartan  Left Ventricular Dysfunction   \n",
              "1     95260                Guanfacine                          ADHD   \n",
              "2     92703                    Lybrel                 Birth Control   \n",
              "3    138000                Ortho Evra                 Birth Control   \n",
              "4     35696  Buprenorphine / naloxone             Opiate Dependence   \n",
              "\n",
              "                                              review  rating       date  \\\n",
              "0  \"It has no side effect, I take it in combinati...       9  20-May-12   \n",
              "1  \"My son is halfway through his fourth week of ...       8  27-Apr-10   \n",
              "2  \"I used to take another oral contraceptive, wh...       5  14-Dec-09   \n",
              "3  \"This is my first time using any form of birth...       8   3-Nov-15   \n",
              "4  \"Suboxone has completely turned my life around...       9  27-Nov-16   \n",
              "\n",
              "   usefulCount                                       fixed_review  \\\n",
              "0           27  [[-0.16843, -0.037651, -0.17304, -0.069757, -0...   \n",
              "1          192  [[-0.13661, -0.21326, 0.20525, -0.54117, -0.13...   \n",
              "2           17  [[-0.10515, 0.13407, 0.13839, -0.647, 0.1243, ...   \n",
              "3           10  [[-0.15561, 0.50069, -0.23022, -0.33005, -0.23...   \n",
              "4           37  [[-0.053251, 0.1133, -0.031874, -0.23255, -0.2...   \n",
              "\n",
              "                    fixed_condition  \n",
              "0  [left, ventricular, dysfunction]  \n",
              "1                            [adhd]  \n",
              "2                  [birth, control]  \n",
              "3                  [birth, control]  \n",
              "4              [opiate, dependence]  "
            ]
          },
          "execution_count": 267,
          "metadata": {},
          "output_type": "execute_result"
        }
      ],
      "source": [
        "drug_data.head()"
      ]
    },
    {
      "cell_type": "markdown",
      "metadata": {},
      "source": [
        "#### 'condition' 컬럼 Stemming 적용"
      ]
    },
    {
      "cell_type": "code",
      "execution_count": 268,
      "metadata": {},
      "outputs": [],
      "source": [
        "drug_data['fixed_condition'] = drug_data['fixed_condition'].apply(porter_stemming)"
      ]
    },
    {
      "cell_type": "code",
      "execution_count": 269,
      "metadata": {},
      "outputs": [
        {
          "name": "stdout",
          "output_type": "stream",
          "text": [
            "stemming result length :  975\n"
          ]
        }
      ],
      "source": [
        "print(\"stemming result length : \", len(set(word for review in drug_data['fixed_condition'] for word in review)))"
      ]
    },
    {
      "cell_type": "markdown",
      "metadata": {},
      "source": [
        "#### 'condition' 컬럼 Padding 적용"
      ]
    },
    {
      "cell_type": "code",
      "execution_count": 270,
      "metadata": {},
      "outputs": [],
      "source": [
        "drug_data['fixed_condition'] = convert_padding(drug_data, 'fixed_condition')"
      ]
    },
    {
      "cell_type": "code",
      "execution_count": 271,
      "metadata": {},
      "outputs": [
        {
          "data": {
            "text/html": [
              "<div>\n",
              "<style scoped>\n",
              "    .dataframe tbody tr th:only-of-type {\n",
              "        vertical-align: middle;\n",
              "    }\n",
              "\n",
              "    .dataframe tbody tr th {\n",
              "        vertical-align: top;\n",
              "    }\n",
              "\n",
              "    .dataframe thead th {\n",
              "        text-align: right;\n",
              "    }\n",
              "</style>\n",
              "<table border=\"1\" class=\"dataframe\">\n",
              "  <thead>\n",
              "    <tr style=\"text-align: right;\">\n",
              "      <th></th>\n",
              "      <th>uniqueID</th>\n",
              "      <th>drugName</th>\n",
              "      <th>condition</th>\n",
              "      <th>review</th>\n",
              "      <th>rating</th>\n",
              "      <th>date</th>\n",
              "      <th>usefulCount</th>\n",
              "      <th>fixed_review</th>\n",
              "      <th>fixed_condition</th>\n",
              "    </tr>\n",
              "  </thead>\n",
              "  <tbody>\n",
              "    <tr>\n",
              "      <th>0</th>\n",
              "      <td>206461</td>\n",
              "      <td>Valsartan</td>\n",
              "      <td>Left Ventricular Dysfunction</td>\n",
              "      <td>\"It has no side effect, I take it in combinati...</td>\n",
              "      <td>9</td>\n",
              "      <td>20-May-12</td>\n",
              "      <td>27</td>\n",
              "      <td>[[-0.16843, -0.037651, -0.17304, -0.069757, -0...</td>\n",
              "      <td>[311, 3662, 661, 0, 0, 0, 0, 0]</td>\n",
              "    </tr>\n",
              "    <tr>\n",
              "      <th>1</th>\n",
              "      <td>95260</td>\n",
              "      <td>Guanfacine</td>\n",
              "      <td>ADHD</td>\n",
              "      <td>\"My son is halfway through his fourth week of ...</td>\n",
              "      <td>8</td>\n",
              "      <td>27-Apr-10</td>\n",
              "      <td>192</td>\n",
              "      <td>[[-0.13661, -0.21326, 0.20525, -0.54117, -0.13...</td>\n",
              "      <td>[249, 0, 0, 0, 0, 0, 0, 0]</td>\n",
              "    </tr>\n",
              "    <tr>\n",
              "      <th>2</th>\n",
              "      <td>92703</td>\n",
              "      <td>Lybrel</td>\n",
              "      <td>Birth Control</td>\n",
              "      <td>\"I used to take another oral contraceptive, wh...</td>\n",
              "      <td>5</td>\n",
              "      <td>14-Dec-09</td>\n",
              "      <td>17</td>\n",
              "      <td>[[-0.10515, 0.13407, 0.13839, -0.647, 0.1243, ...</td>\n",
              "      <td>[14, 12, 0, 0, 0, 0, 0, 0]</td>\n",
              "    </tr>\n",
              "    <tr>\n",
              "      <th>3</th>\n",
              "      <td>138000</td>\n",
              "      <td>Ortho Evra</td>\n",
              "      <td>Birth Control</td>\n",
              "      <td>\"This is my first time using any form of birth...</td>\n",
              "      <td>8</td>\n",
              "      <td>3-Nov-15</td>\n",
              "      <td>10</td>\n",
              "      <td>[[-0.15561, 0.50069, -0.23022, -0.33005, -0.23...</td>\n",
              "      <td>[14, 12, 0, 0, 0, 0, 0, 0]</td>\n",
              "    </tr>\n",
              "    <tr>\n",
              "      <th>4</th>\n",
              "      <td>35696</td>\n",
              "      <td>Buprenorphine / naloxone</td>\n",
              "      <td>Opiate Dependence</td>\n",
              "      <td>\"Suboxone has completely turned my life around...</td>\n",
              "      <td>9</td>\n",
              "      <td>27-Nov-16</td>\n",
              "      <td>37</td>\n",
              "      <td>[[-0.053251, 0.1133, -0.031874, -0.23255, -0.2...</td>\n",
              "      <td>[492, 415, 0, 0, 0, 0, 0, 0]</td>\n",
              "    </tr>\n",
              "  </tbody>\n",
              "</table>\n",
              "</div>"
            ],
            "text/plain": [
              "   uniqueID                  drugName                     condition  \\\n",
              "0    206461                 Valsartan  Left Ventricular Dysfunction   \n",
              "1     95260                Guanfacine                          ADHD   \n",
              "2     92703                    Lybrel                 Birth Control   \n",
              "3    138000                Ortho Evra                 Birth Control   \n",
              "4     35696  Buprenorphine / naloxone             Opiate Dependence   \n",
              "\n",
              "                                              review  rating       date  \\\n",
              "0  \"It has no side effect, I take it in combinati...       9  20-May-12   \n",
              "1  \"My son is halfway through his fourth week of ...       8  27-Apr-10   \n",
              "2  \"I used to take another oral contraceptive, wh...       5  14-Dec-09   \n",
              "3  \"This is my first time using any form of birth...       8   3-Nov-15   \n",
              "4  \"Suboxone has completely turned my life around...       9  27-Nov-16   \n",
              "\n",
              "   usefulCount                                       fixed_review  \\\n",
              "0           27  [[-0.16843, -0.037651, -0.17304, -0.069757, -0...   \n",
              "1          192  [[-0.13661, -0.21326, 0.20525, -0.54117, -0.13...   \n",
              "2           17  [[-0.10515, 0.13407, 0.13839, -0.647, 0.1243, ...   \n",
              "3           10  [[-0.15561, 0.50069, -0.23022, -0.33005, -0.23...   \n",
              "4           37  [[-0.053251, 0.1133, -0.031874, -0.23255, -0.2...   \n",
              "\n",
              "                   fixed_condition  \n",
              "0  [311, 3662, 661, 0, 0, 0, 0, 0]  \n",
              "1       [249, 0, 0, 0, 0, 0, 0, 0]  \n",
              "2       [14, 12, 0, 0, 0, 0, 0, 0]  \n",
              "3       [14, 12, 0, 0, 0, 0, 0, 0]  \n",
              "4     [492, 415, 0, 0, 0, 0, 0, 0]  "
            ]
          },
          "execution_count": 271,
          "metadata": {},
          "output_type": "execute_result"
        }
      ],
      "source": [
        "drug_data.head()"
      ]
    },
    {
      "cell_type": "markdown",
      "metadata": {},
      "source": [
        "#### 'condition' 컬럼 Embedding 적용"
      ]
    },
    {
      "cell_type": "code",
      "execution_count": 272,
      "metadata": {},
      "outputs": [],
      "source": [
        "drug_data['fixed_condition'] = convert_embedding(drug_data, 'fixed_condition')"
      ]
    },
    {
      "cell_type": "code",
      "execution_count": 273,
      "metadata": {},
      "outputs": [
        {
          "data": {
            "text/html": [
              "<div>\n",
              "<style scoped>\n",
              "    .dataframe tbody tr th:only-of-type {\n",
              "        vertical-align: middle;\n",
              "    }\n",
              "\n",
              "    .dataframe tbody tr th {\n",
              "        vertical-align: top;\n",
              "    }\n",
              "\n",
              "    .dataframe thead th {\n",
              "        text-align: right;\n",
              "    }\n",
              "</style>\n",
              "<table border=\"1\" class=\"dataframe\">\n",
              "  <thead>\n",
              "    <tr style=\"text-align: right;\">\n",
              "      <th></th>\n",
              "      <th>uniqueID</th>\n",
              "      <th>drugName</th>\n",
              "      <th>condition</th>\n",
              "      <th>review</th>\n",
              "      <th>rating</th>\n",
              "      <th>date</th>\n",
              "      <th>usefulCount</th>\n",
              "      <th>fixed_review</th>\n",
              "      <th>fixed_condition</th>\n",
              "    </tr>\n",
              "  </thead>\n",
              "  <tbody>\n",
              "    <tr>\n",
              "      <th>0</th>\n",
              "      <td>206461</td>\n",
              "      <td>Valsartan</td>\n",
              "      <td>Left Ventricular Dysfunction</td>\n",
              "      <td>\"It has no side effect, I take it in combinati...</td>\n",
              "      <td>9</td>\n",
              "      <td>20-May-12</td>\n",
              "      <td>27</td>\n",
              "      <td>[[-0.16843, -0.037651, -0.17304, -0.069757, -0...</td>\n",
              "      <td>[[0.038089, -0.02724, -0.063579, -0.46381, 0.1...</td>\n",
              "    </tr>\n",
              "    <tr>\n",
              "      <th>1</th>\n",
              "      <td>95260</td>\n",
              "      <td>Guanfacine</td>\n",
              "      <td>ADHD</td>\n",
              "      <td>\"My son is halfway through his fourth week of ...</td>\n",
              "      <td>8</td>\n",
              "      <td>27-Apr-10</td>\n",
              "      <td>192</td>\n",
              "      <td>[[-0.13661, -0.21326, 0.20525, -0.54117, -0.13...</td>\n",
              "      <td>[[-0.22986, 0.2479, 0.035986, 0.78691, 0.64195...</td>\n",
              "    </tr>\n",
              "    <tr>\n",
              "      <th>2</th>\n",
              "      <td>92703</td>\n",
              "      <td>Lybrel</td>\n",
              "      <td>Birth Control</td>\n",
              "      <td>\"I used to take another oral contraceptive, wh...</td>\n",
              "      <td>5</td>\n",
              "      <td>14-Dec-09</td>\n",
              "      <td>17</td>\n",
              "      <td>[[-0.10515, 0.13407, 0.13839, -0.647, 0.1243, ...</td>\n",
              "      <td>[[-0.11292, -0.33504, -0.24223, 0.2406, -0.285...</td>\n",
              "    </tr>\n",
              "    <tr>\n",
              "      <th>3</th>\n",
              "      <td>138000</td>\n",
              "      <td>Ortho Evra</td>\n",
              "      <td>Birth Control</td>\n",
              "      <td>\"This is my first time using any form of birth...</td>\n",
              "      <td>8</td>\n",
              "      <td>3-Nov-15</td>\n",
              "      <td>10</td>\n",
              "      <td>[[-0.15561, 0.50069, -0.23022, -0.33005, -0.23...</td>\n",
              "      <td>[[-0.11292, -0.33504, -0.24223, 0.2406, -0.285...</td>\n",
              "    </tr>\n",
              "    <tr>\n",
              "      <th>4</th>\n",
              "      <td>35696</td>\n",
              "      <td>Buprenorphine / naloxone</td>\n",
              "      <td>Opiate Dependence</td>\n",
              "      <td>\"Suboxone has completely turned my life around...</td>\n",
              "      <td>9</td>\n",
              "      <td>27-Nov-16</td>\n",
              "      <td>37</td>\n",
              "      <td>[[-0.053251, 0.1133, -0.031874, -0.23255, -0.2...</td>\n",
              "      <td>[[-0.077826, 0.30547, 0.52047, -0.24198, 0.060...</td>\n",
              "    </tr>\n",
              "  </tbody>\n",
              "</table>\n",
              "</div>"
            ],
            "text/plain": [
              "   uniqueID                  drugName                     condition  \\\n",
              "0    206461                 Valsartan  Left Ventricular Dysfunction   \n",
              "1     95260                Guanfacine                          ADHD   \n",
              "2     92703                    Lybrel                 Birth Control   \n",
              "3    138000                Ortho Evra                 Birth Control   \n",
              "4     35696  Buprenorphine / naloxone             Opiate Dependence   \n",
              "\n",
              "                                              review  rating       date  \\\n",
              "0  \"It has no side effect, I take it in combinati...       9  20-May-12   \n",
              "1  \"My son is halfway through his fourth week of ...       8  27-Apr-10   \n",
              "2  \"I used to take another oral contraceptive, wh...       5  14-Dec-09   \n",
              "3  \"This is my first time using any form of birth...       8   3-Nov-15   \n",
              "4  \"Suboxone has completely turned my life around...       9  27-Nov-16   \n",
              "\n",
              "   usefulCount                                       fixed_review  \\\n",
              "0           27  [[-0.16843, -0.037651, -0.17304, -0.069757, -0...   \n",
              "1          192  [[-0.13661, -0.21326, 0.20525, -0.54117, -0.13...   \n",
              "2           17  [[-0.10515, 0.13407, 0.13839, -0.647, 0.1243, ...   \n",
              "3           10  [[-0.15561, 0.50069, -0.23022, -0.33005, -0.23...   \n",
              "4           37  [[-0.053251, 0.1133, -0.031874, -0.23255, -0.2...   \n",
              "\n",
              "                                     fixed_condition  \n",
              "0  [[0.038089, -0.02724, -0.063579, -0.46381, 0.1...  \n",
              "1  [[-0.22986, 0.2479, 0.035986, 0.78691, 0.64195...  \n",
              "2  [[-0.11292, -0.33504, -0.24223, 0.2406, -0.285...  \n",
              "3  [[-0.11292, -0.33504, -0.24223, 0.2406, -0.285...  \n",
              "4  [[-0.077826, 0.30547, 0.52047, -0.24198, 0.060...  "
            ]
          },
          "execution_count": 273,
          "metadata": {},
          "output_type": "execute_result"
        }
      ],
      "source": [
        "drug_data.head()"
      ]
    },
    {
      "cell_type": "markdown",
      "metadata": {},
      "source": [
        "### 'fixed_condition', 'fixed_review' 컬럼이 모두 비어 있는 행 제거"
      ]
    },
    {
      "cell_type": "markdown",
      "metadata": {},
      "source": [
        "#### fixed_condition'와 'fixed_review' 컬럼이 모두 비어 있는 리스트 행 개수"
      ]
    },
    {
      "cell_type": "code",
      "execution_count": 274,
      "metadata": {},
      "outputs": [
        {
          "name": "stdout",
          "output_type": "stream",
          "text": [
            "Counts of 'fixed_condition', 'fixed_review' is Empty : 34\n"
          ]
        }
      ],
      "source": [
        "empty_both_rows = (drug_data['fixed_condition'].apply(len) == 0) & (drug_data['fixed_review'].apply(len) == 0)\n",
        "empty_both_count = empty_both_rows.sum()\n",
        "\n",
        "print(\"Counts of 'fixed_condition', 'fixed_review' is Empty :\", empty_both_count)"
      ]
    },
    {
      "cell_type": "markdown",
      "metadata": {},
      "source": [
        "#### fixed_condition'와 'fixed_review' 컬럼이 모두 비어 있는 리스트 행 제거"
      ]
    },
    {
      "cell_type": "code",
      "execution_count": 275,
      "metadata": {},
      "outputs": [
        {
          "name": "stdout",
          "output_type": "stream",
          "text": [
            "Before Delete Dataset Size : (160398, 9)\n",
            "After Delete Dataset Size  : (160364, 9)\n"
          ]
        }
      ],
      "source": [
        "print(\"Before Delete Dataset Size :\", drug_data.shape)\n",
        "\n",
        "# 'fixed_condition'와 'fixed_review' 컬럼이 모두 비어 있는 행 제거\n",
        "drug_data = drug_data[~((drug_data['fixed_condition'].apply(len) == 0) & (drug_data['fixed_review'].apply(len) == 0))]\n",
        "\n",
        "# 제거 후 데이터셋 정보 확인\n",
        "print(\"After Delete Dataset Size  :\", drug_data.shape)"
      ]
    },
    {
      "cell_type": "markdown",
      "metadata": {},
      "source": [
        "#### 'condition', 'drugName' 이상치 처리"
      ]
    },
    {
      "cell_type": "code",
      "execution_count": 276,
      "metadata": {},
      "outputs": [
        {
          "name": "stderr",
          "output_type": "stream",
          "text": [
            "<>:1: SyntaxWarning: invalid escape sequence '\\d'\n",
            "<>:2: SyntaxWarning: invalid escape sequence '\\d'\n",
            "<>:1: SyntaxWarning: invalid escape sequence '\\d'\n",
            "<>:2: SyntaxWarning: invalid escape sequence '\\d'\n",
            "/tmp/ipykernel_153318/3280500795.py:1: SyntaxWarning: invalid escape sequence '\\d'\n",
            "  drug_data = drug_data[~drug_data['condition'].str.match('\\d{2}-[a-zA-Z]{3}-\\d{2}', na=False)]\n",
            "/tmp/ipykernel_153318/3280500795.py:2: SyntaxWarning: invalid escape sequence '\\d'\n",
            "  drug_data = drug_data[~drug_data['drugName'].str.match('\\d+', na=False)]\n"
          ]
        }
      ],
      "source": [
        "drug_data = drug_data[~drug_data['condition'].str.match('\\d{2}-[a-zA-Z]{3}-\\d{2}', na=False)]\n",
        "drug_data = drug_data[~drug_data['drugName'].str.match('\\d+', na=False)]"
      ]
    },
    {
      "cell_type": "markdown",
      "metadata": {},
      "source": [
        "### 'drugName' 인코딩"
      ]
    },
    {
      "cell_type": "markdown",
      "metadata": {},
      "source": [
        "#### 'drugName' Label Encoding"
      ]
    },
    {
      "cell_type": "code",
      "execution_count": 289,
      "metadata": {},
      "outputs": [
        {
          "name": "stdout",
          "output_type": "stream",
          "text": [
            "                        drugName  encoded_drugName\n",
            "0                      Valsartan              3197\n",
            "1                     Guanfacine              1428\n",
            "2                         Lybrel              1850\n",
            "3                     Ortho Evra              2279\n",
            "4       Buprenorphine / naloxone               515\n",
            "...                          ...               ...\n",
            "161292                   Campral               554\n",
            "161293            Metoclopramide              1970\n",
            "161294                   Orencia              2273\n",
            "161295        Thyroid desiccated              3022\n",
            "161296              Lubiprostone              1836\n",
            "\n",
            "[160364 rows x 2 columns]\n"
          ]
        }
      ],
      "source": [
        "from sklearn.preprocessing import LabelEncoder\n",
        "\n",
        "label_encoder = LabelEncoder()\n",
        "\n",
        "drug_data['encoded_drugName'] = label_encoder.fit_transform(drug_data['drugName'])\n",
        "\n",
        "print(drug_data[['drugName', 'encoded_drugName']])"
      ]
    },
    {
      "cell_type": "markdown",
      "metadata": {},
      "source": [
        "#### 'drugName' Label Encoding MAX number"
      ]
    },
    {
      "cell_type": "code",
      "execution_count": 295,
      "metadata": {},
      "outputs": [
        {
          "name": "stdout",
          "output_type": "stream",
          "text": [
            "MAX Number : 3429\n"
          ]
        }
      ],
      "source": [
        "print(\"MAX Number :\", drug_data['encoded_drugName'].max())"
      ]
    },
    {
      "cell_type": "code",
      "execution_count": 290,
      "metadata": {},
      "outputs": [
        {
          "data": {
            "text/html": [
              "<div>\n",
              "<style scoped>\n",
              "    .dataframe tbody tr th:only-of-type {\n",
              "        vertical-align: middle;\n",
              "    }\n",
              "\n",
              "    .dataframe tbody tr th {\n",
              "        vertical-align: top;\n",
              "    }\n",
              "\n",
              "    .dataframe thead th {\n",
              "        text-align: right;\n",
              "    }\n",
              "</style>\n",
              "<table border=\"1\" class=\"dataframe\">\n",
              "  <thead>\n",
              "    <tr style=\"text-align: right;\">\n",
              "      <th></th>\n",
              "      <th>uniqueID</th>\n",
              "      <th>drugName</th>\n",
              "      <th>condition</th>\n",
              "      <th>review</th>\n",
              "      <th>rating</th>\n",
              "      <th>date</th>\n",
              "      <th>usefulCount</th>\n",
              "      <th>fixed_review</th>\n",
              "      <th>fixed_condition</th>\n",
              "      <th>sentiment</th>\n",
              "      <th>fixed_date</th>\n",
              "      <th>encoded_drugName</th>\n",
              "    </tr>\n",
              "  </thead>\n",
              "  <tbody>\n",
              "    <tr>\n",
              "      <th>0</th>\n",
              "      <td>206461</td>\n",
              "      <td>Valsartan</td>\n",
              "      <td>Left Ventricular Dysfunction</td>\n",
              "      <td>\"It has no side effect, I take it in combinati...</td>\n",
              "      <td>9</td>\n",
              "      <td>20-May-12</td>\n",
              "      <td>27</td>\n",
              "      <td>[[-0.16843, -0.037651, -0.17304, -0.069757, -0...</td>\n",
              "      <td>[[0.038089, -0.02724, -0.063579, -0.46381, 0.1...</td>\n",
              "      <td>1</td>\n",
              "      <td>2012-05-20</td>\n",
              "      <td>3197</td>\n",
              "    </tr>\n",
              "    <tr>\n",
              "      <th>1</th>\n",
              "      <td>95260</td>\n",
              "      <td>Guanfacine</td>\n",
              "      <td>ADHD</td>\n",
              "      <td>\"My son is halfway through his fourth week of ...</td>\n",
              "      <td>8</td>\n",
              "      <td>27-Apr-10</td>\n",
              "      <td>192</td>\n",
              "      <td>[[-0.13661, -0.21326, 0.20525, -0.54117, -0.13...</td>\n",
              "      <td>[[-0.22986, 0.2479, 0.035986, 0.78691, 0.64195...</td>\n",
              "      <td>1</td>\n",
              "      <td>2010-04-27</td>\n",
              "      <td>1428</td>\n",
              "    </tr>\n",
              "    <tr>\n",
              "      <th>2</th>\n",
              "      <td>92703</td>\n",
              "      <td>Lybrel</td>\n",
              "      <td>Birth Control</td>\n",
              "      <td>\"I used to take another oral contraceptive, wh...</td>\n",
              "      <td>5</td>\n",
              "      <td>14-Dec-09</td>\n",
              "      <td>17</td>\n",
              "      <td>[[-0.10515, 0.13407, 0.13839, -0.647, 0.1243, ...</td>\n",
              "      <td>[[-0.11292, -0.33504, -0.24223, 0.2406, -0.285...</td>\n",
              "      <td>2</td>\n",
              "      <td>2009-12-14</td>\n",
              "      <td>1850</td>\n",
              "    </tr>\n",
              "    <tr>\n",
              "      <th>3</th>\n",
              "      <td>138000</td>\n",
              "      <td>Ortho Evra</td>\n",
              "      <td>Birth Control</td>\n",
              "      <td>\"This is my first time using any form of birth...</td>\n",
              "      <td>8</td>\n",
              "      <td>3-Nov-15</td>\n",
              "      <td>10</td>\n",
              "      <td>[[-0.15561, 0.50069, -0.23022, -0.33005, -0.23...</td>\n",
              "      <td>[[-0.11292, -0.33504, -0.24223, 0.2406, -0.285...</td>\n",
              "      <td>1</td>\n",
              "      <td>2015-11-03</td>\n",
              "      <td>2279</td>\n",
              "    </tr>\n",
              "    <tr>\n",
              "      <th>4</th>\n",
              "      <td>35696</td>\n",
              "      <td>Buprenorphine / naloxone</td>\n",
              "      <td>Opiate Dependence</td>\n",
              "      <td>\"Suboxone has completely turned my life around...</td>\n",
              "      <td>9</td>\n",
              "      <td>27-Nov-16</td>\n",
              "      <td>37</td>\n",
              "      <td>[[-0.053251, 0.1133, -0.031874, -0.23255, -0.2...</td>\n",
              "      <td>[[-0.077826, 0.30547, 0.52047, -0.24198, 0.060...</td>\n",
              "      <td>1</td>\n",
              "      <td>2016-11-27</td>\n",
              "      <td>515</td>\n",
              "    </tr>\n",
              "  </tbody>\n",
              "</table>\n",
              "</div>"
            ],
            "text/plain": [
              "   uniqueID                  drugName                     condition  \\\n",
              "0    206461                 Valsartan  Left Ventricular Dysfunction   \n",
              "1     95260                Guanfacine                          ADHD   \n",
              "2     92703                    Lybrel                 Birth Control   \n",
              "3    138000                Ortho Evra                 Birth Control   \n",
              "4     35696  Buprenorphine / naloxone             Opiate Dependence   \n",
              "\n",
              "                                              review  rating       date  \\\n",
              "0  \"It has no side effect, I take it in combinati...       9  20-May-12   \n",
              "1  \"My son is halfway through his fourth week of ...       8  27-Apr-10   \n",
              "2  \"I used to take another oral contraceptive, wh...       5  14-Dec-09   \n",
              "3  \"This is my first time using any form of birth...       8   3-Nov-15   \n",
              "4  \"Suboxone has completely turned my life around...       9  27-Nov-16   \n",
              "\n",
              "   usefulCount                                       fixed_review  \\\n",
              "0           27  [[-0.16843, -0.037651, -0.17304, -0.069757, -0...   \n",
              "1          192  [[-0.13661, -0.21326, 0.20525, -0.54117, -0.13...   \n",
              "2           17  [[-0.10515, 0.13407, 0.13839, -0.647, 0.1243, ...   \n",
              "3           10  [[-0.15561, 0.50069, -0.23022, -0.33005, -0.23...   \n",
              "4           37  [[-0.053251, 0.1133, -0.031874, -0.23255, -0.2...   \n",
              "\n",
              "                                     fixed_condition  sentiment fixed_date  \\\n",
              "0  [[0.038089, -0.02724, -0.063579, -0.46381, 0.1...          1 2012-05-20   \n",
              "1  [[-0.22986, 0.2479, 0.035986, 0.78691, 0.64195...          1 2010-04-27   \n",
              "2  [[-0.11292, -0.33504, -0.24223, 0.2406, -0.285...          2 2009-12-14   \n",
              "3  [[-0.11292, -0.33504, -0.24223, 0.2406, -0.285...          1 2015-11-03   \n",
              "4  [[-0.077826, 0.30547, 0.52047, -0.24198, 0.060...          1 2016-11-27   \n",
              "\n",
              "   encoded_drugName  \n",
              "0              3197  \n",
              "1              1428  \n",
              "2              1850  \n",
              "3              2279  \n",
              "4               515  "
            ]
          },
          "execution_count": 290,
          "metadata": {},
          "output_type": "execute_result"
        }
      ],
      "source": [
        "drug_data.head()"
      ]
    },
    {
      "cell_type": "markdown",
      "metadata": {
        "id": "r3aYI7iCpHep"
      },
      "source": [
        "### 파생변수 'sentiment' 생성"
      ]
    },
    {
      "cell_type": "markdown",
      "metadata": {
        "id": "J0jb_DVW4Pht"
      },
      "source": [
        "#### rating(평점)이 8 이상이면 1(긍정), 5이상 7이하이면 2(보통), 1이상 4이하이면 3(부정)\n",
        "// describe()를 근거로 하지만 75% 가 10이기 때문에 위배될 가능성"
      ]
    },
    {
      "cell_type": "code",
      "execution_count": 277,
      "metadata": {
        "id": "B4Ehz8WopLLx"
      },
      "outputs": [],
      "source": [
        "drug_data['sentiment'] = drug_data['rating'].apply(lambda x: 1 if x >= 8 else (2 if x >= 5 else 3))"
      ]
    },
    {
      "cell_type": "code",
      "execution_count": 278,
      "metadata": {
        "colab": {
          "base_uri": "https://localhost:8080/",
          "height": 537
        },
        "id": "67c7EW5hpeaA",
        "outputId": "aeb5e2f7-46f6-4d31-ee25-d77be7c2c88a"
      },
      "outputs": [
        {
          "data": {
            "text/html": [
              "<div>\n",
              "<style scoped>\n",
              "    .dataframe tbody tr th:only-of-type {\n",
              "        vertical-align: middle;\n",
              "    }\n",
              "\n",
              "    .dataframe tbody tr th {\n",
              "        vertical-align: top;\n",
              "    }\n",
              "\n",
              "    .dataframe thead th {\n",
              "        text-align: right;\n",
              "    }\n",
              "</style>\n",
              "<table border=\"1\" class=\"dataframe\">\n",
              "  <thead>\n",
              "    <tr style=\"text-align: right;\">\n",
              "      <th></th>\n",
              "      <th>uniqueID</th>\n",
              "      <th>drugName</th>\n",
              "      <th>condition</th>\n",
              "      <th>review</th>\n",
              "      <th>rating</th>\n",
              "      <th>date</th>\n",
              "      <th>usefulCount</th>\n",
              "      <th>fixed_review</th>\n",
              "      <th>fixed_condition</th>\n",
              "      <th>sentiment</th>\n",
              "    </tr>\n",
              "  </thead>\n",
              "  <tbody>\n",
              "    <tr>\n",
              "      <th>0</th>\n",
              "      <td>206461</td>\n",
              "      <td>Valsartan</td>\n",
              "      <td>Left Ventricular Dysfunction</td>\n",
              "      <td>\"It has no side effect, I take it in combinati...</td>\n",
              "      <td>9</td>\n",
              "      <td>20-May-12</td>\n",
              "      <td>27</td>\n",
              "      <td>[[-0.16843, -0.037651, -0.17304, -0.069757, -0...</td>\n",
              "      <td>[[0.038089, -0.02724, -0.063579, -0.46381, 0.1...</td>\n",
              "      <td>1</td>\n",
              "    </tr>\n",
              "    <tr>\n",
              "      <th>1</th>\n",
              "      <td>95260</td>\n",
              "      <td>Guanfacine</td>\n",
              "      <td>ADHD</td>\n",
              "      <td>\"My son is halfway through his fourth week of ...</td>\n",
              "      <td>8</td>\n",
              "      <td>27-Apr-10</td>\n",
              "      <td>192</td>\n",
              "      <td>[[-0.13661, -0.21326, 0.20525, -0.54117, -0.13...</td>\n",
              "      <td>[[-0.22986, 0.2479, 0.035986, 0.78691, 0.64195...</td>\n",
              "      <td>1</td>\n",
              "    </tr>\n",
              "    <tr>\n",
              "      <th>2</th>\n",
              "      <td>92703</td>\n",
              "      <td>Lybrel</td>\n",
              "      <td>Birth Control</td>\n",
              "      <td>\"I used to take another oral contraceptive, wh...</td>\n",
              "      <td>5</td>\n",
              "      <td>14-Dec-09</td>\n",
              "      <td>17</td>\n",
              "      <td>[[-0.10515, 0.13407, 0.13839, -0.647, 0.1243, ...</td>\n",
              "      <td>[[-0.11292, -0.33504, -0.24223, 0.2406, -0.285...</td>\n",
              "      <td>2</td>\n",
              "    </tr>\n",
              "    <tr>\n",
              "      <th>3</th>\n",
              "      <td>138000</td>\n",
              "      <td>Ortho Evra</td>\n",
              "      <td>Birth Control</td>\n",
              "      <td>\"This is my first time using any form of birth...</td>\n",
              "      <td>8</td>\n",
              "      <td>3-Nov-15</td>\n",
              "      <td>10</td>\n",
              "      <td>[[-0.15561, 0.50069, -0.23022, -0.33005, -0.23...</td>\n",
              "      <td>[[-0.11292, -0.33504, -0.24223, 0.2406, -0.285...</td>\n",
              "      <td>1</td>\n",
              "    </tr>\n",
              "    <tr>\n",
              "      <th>4</th>\n",
              "      <td>35696</td>\n",
              "      <td>Buprenorphine / naloxone</td>\n",
              "      <td>Opiate Dependence</td>\n",
              "      <td>\"Suboxone has completely turned my life around...</td>\n",
              "      <td>9</td>\n",
              "      <td>27-Nov-16</td>\n",
              "      <td>37</td>\n",
              "      <td>[[-0.053251, 0.1133, -0.031874, -0.23255, -0.2...</td>\n",
              "      <td>[[-0.077826, 0.30547, 0.52047, -0.24198, 0.060...</td>\n",
              "      <td>1</td>\n",
              "    </tr>\n",
              "    <tr>\n",
              "      <th>5</th>\n",
              "      <td>155963</td>\n",
              "      <td>Cialis</td>\n",
              "      <td>Benign Prostatic Hyperplasia</td>\n",
              "      <td>\"2nd day on 5mg started to work with rock hard...</td>\n",
              "      <td>2</td>\n",
              "      <td>28-Nov-15</td>\n",
              "      <td>43</td>\n",
              "      <td>[[-0.24501, -0.12491, -0.2536, 0.33819, -0.105...</td>\n",
              "      <td>[[-0.641, -0.80264, 0.39142, -0.59499, 0.34665...</td>\n",
              "      <td>3</td>\n",
              "    </tr>\n",
              "    <tr>\n",
              "      <th>6</th>\n",
              "      <td>165907</td>\n",
              "      <td>Levonorgestrel</td>\n",
              "      <td>Emergency Contraception</td>\n",
              "      <td>\"He pulled out, but he cummed a bit in me. I t...</td>\n",
              "      <td>1</td>\n",
              "      <td>7-Mar-17</td>\n",
              "      <td>5</td>\n",
              "      <td>[[0.30355, -0.059372, -0.2152, -0.12084, -0.09...</td>\n",
              "      <td>[]</td>\n",
              "      <td>3</td>\n",
              "    </tr>\n",
              "    <tr>\n",
              "      <th>7</th>\n",
              "      <td>102654</td>\n",
              "      <td>Aripiprazole</td>\n",
              "      <td>Bipolar Disorde</td>\n",
              "      <td>\"Abilify changed my life. There is hope. I was...</td>\n",
              "      <td>10</td>\n",
              "      <td>14-Mar-15</td>\n",
              "      <td>32</td>\n",
              "      <td>[[0.017519, -0.26919, 0.30792, 0.079229, 0.110...</td>\n",
              "      <td>[[-0.56538, -0.016191, 0.16879, -0.10513, 0.58...</td>\n",
              "      <td>1</td>\n",
              "    </tr>\n",
              "    <tr>\n",
              "      <th>8</th>\n",
              "      <td>74811</td>\n",
              "      <td>Keppra</td>\n",
              "      <td>Epilepsy</td>\n",
              "      <td>\" I Ve had  nothing but problems with the Kepp...</td>\n",
              "      <td>1</td>\n",
              "      <td>9-Aug-16</td>\n",
              "      <td>11</td>\n",
              "      <td>[[0.015157, -0.37755, -0.40063, 0.081775, -0.1...</td>\n",
              "      <td>[]</td>\n",
              "      <td>3</td>\n",
              "    </tr>\n",
              "    <tr>\n",
              "      <th>9</th>\n",
              "      <td>48928</td>\n",
              "      <td>Ethinyl estradiol / levonorgestrel</td>\n",
              "      <td>Birth Control</td>\n",
              "      <td>\"I had been on the pill for many years. When m...</td>\n",
              "      <td>8</td>\n",
              "      <td>8-Dec-16</td>\n",
              "      <td>1</td>\n",
              "      <td>[[-0.59305, 0.62782, 0.21467, 0.67512, 0.63928...</td>\n",
              "      <td>[[-0.11292, -0.33504, -0.24223, 0.2406, -0.285...</td>\n",
              "      <td>1</td>\n",
              "    </tr>\n",
              "  </tbody>\n",
              "</table>\n",
              "</div>"
            ],
            "text/plain": [
              "   uniqueID                            drugName                     condition  \\\n",
              "0    206461                           Valsartan  Left Ventricular Dysfunction   \n",
              "1     95260                          Guanfacine                          ADHD   \n",
              "2     92703                              Lybrel                 Birth Control   \n",
              "3    138000                          Ortho Evra                 Birth Control   \n",
              "4     35696            Buprenorphine / naloxone             Opiate Dependence   \n",
              "5    155963                              Cialis  Benign Prostatic Hyperplasia   \n",
              "6    165907                      Levonorgestrel       Emergency Contraception   \n",
              "7    102654                        Aripiprazole               Bipolar Disorde   \n",
              "8     74811                              Keppra                      Epilepsy   \n",
              "9     48928  Ethinyl estradiol / levonorgestrel                 Birth Control   \n",
              "\n",
              "                                              review  rating       date  \\\n",
              "0  \"It has no side effect, I take it in combinati...       9  20-May-12   \n",
              "1  \"My son is halfway through his fourth week of ...       8  27-Apr-10   \n",
              "2  \"I used to take another oral contraceptive, wh...       5  14-Dec-09   \n",
              "3  \"This is my first time using any form of birth...       8   3-Nov-15   \n",
              "4  \"Suboxone has completely turned my life around...       9  27-Nov-16   \n",
              "5  \"2nd day on 5mg started to work with rock hard...       2  28-Nov-15   \n",
              "6  \"He pulled out, but he cummed a bit in me. I t...       1   7-Mar-17   \n",
              "7  \"Abilify changed my life. There is hope. I was...      10  14-Mar-15   \n",
              "8  \" I Ve had  nothing but problems with the Kepp...       1   9-Aug-16   \n",
              "9  \"I had been on the pill for many years. When m...       8   8-Dec-16   \n",
              "\n",
              "   usefulCount                                       fixed_review  \\\n",
              "0           27  [[-0.16843, -0.037651, -0.17304, -0.069757, -0...   \n",
              "1          192  [[-0.13661, -0.21326, 0.20525, -0.54117, -0.13...   \n",
              "2           17  [[-0.10515, 0.13407, 0.13839, -0.647, 0.1243, ...   \n",
              "3           10  [[-0.15561, 0.50069, -0.23022, -0.33005, -0.23...   \n",
              "4           37  [[-0.053251, 0.1133, -0.031874, -0.23255, -0.2...   \n",
              "5           43  [[-0.24501, -0.12491, -0.2536, 0.33819, -0.105...   \n",
              "6            5  [[0.30355, -0.059372, -0.2152, -0.12084, -0.09...   \n",
              "7           32  [[0.017519, -0.26919, 0.30792, 0.079229, 0.110...   \n",
              "8           11  [[0.015157, -0.37755, -0.40063, 0.081775, -0.1...   \n",
              "9            1  [[-0.59305, 0.62782, 0.21467, 0.67512, 0.63928...   \n",
              "\n",
              "                                     fixed_condition  sentiment  \n",
              "0  [[0.038089, -0.02724, -0.063579, -0.46381, 0.1...          1  \n",
              "1  [[-0.22986, 0.2479, 0.035986, 0.78691, 0.64195...          1  \n",
              "2  [[-0.11292, -0.33504, -0.24223, 0.2406, -0.285...          2  \n",
              "3  [[-0.11292, -0.33504, -0.24223, 0.2406, -0.285...          1  \n",
              "4  [[-0.077826, 0.30547, 0.52047, -0.24198, 0.060...          1  \n",
              "5  [[-0.641, -0.80264, 0.39142, -0.59499, 0.34665...          3  \n",
              "6                                                 []          3  \n",
              "7  [[-0.56538, -0.016191, 0.16879, -0.10513, 0.58...          1  \n",
              "8                                                 []          3  \n",
              "9  [[-0.11292, -0.33504, -0.24223, 0.2406, -0.285...          1  "
            ]
          },
          "execution_count": 278,
          "metadata": {},
          "output_type": "execute_result"
        }
      ],
      "source": [
        "drug_data.head(10)"
      ]
    },
    {
      "cell_type": "markdown",
      "metadata": {
        "id": "yfm9jzUi94Mi"
      },
      "source": [
        "### 'fixed_date' 생성"
      ]
    },
    {
      "cell_type": "markdown",
      "metadata": {},
      "source": [
        "#### 'date' 컬럼 'datetime' 형식으로 변환"
      ]
    },
    {
      "cell_type": "code",
      "execution_count": 279,
      "metadata": {
        "colab": {
          "base_uri": "https://localhost:8080/"
        },
        "id": "sBCZSZ9A9pnB",
        "outputId": "aed13a09-3a4e-46e9-fd2e-0210f7603886"
      },
      "outputs": [
        {
          "name": "stderr",
          "output_type": "stream",
          "text": [
            "/tmp/ipykernel_153318/4049783553.py:1: UserWarning: Could not infer format, so each element will be parsed individually, falling back to `dateutil`. To ensure parsing is consistent and as-expected, please specify a format.\n",
            "  drug_data['fixed_date'] = pd.to_datetime(drug_data['date'])\n"
          ]
        }
      ],
      "source": [
        "drug_data['fixed_date'] = pd.to_datetime(drug_data['date'])"
      ]
    },
    {
      "cell_type": "code",
      "execution_count": 280,
      "metadata": {
        "colab": {
          "base_uri": "https://localhost:8080/",
          "height": 293
        },
        "id": "TqQPCFS1_n9l",
        "outputId": "5b463462-a9e0-43b1-c979-cbac13f75a6a"
      },
      "outputs": [
        {
          "data": {
            "text/html": [
              "<div>\n",
              "<style scoped>\n",
              "    .dataframe tbody tr th:only-of-type {\n",
              "        vertical-align: middle;\n",
              "    }\n",
              "\n",
              "    .dataframe tbody tr th {\n",
              "        vertical-align: top;\n",
              "    }\n",
              "\n",
              "    .dataframe thead th {\n",
              "        text-align: right;\n",
              "    }\n",
              "</style>\n",
              "<table border=\"1\" class=\"dataframe\">\n",
              "  <thead>\n",
              "    <tr style=\"text-align: right;\">\n",
              "      <th></th>\n",
              "      <th>uniqueID</th>\n",
              "      <th>drugName</th>\n",
              "      <th>condition</th>\n",
              "      <th>review</th>\n",
              "      <th>rating</th>\n",
              "      <th>date</th>\n",
              "      <th>usefulCount</th>\n",
              "      <th>fixed_review</th>\n",
              "      <th>fixed_condition</th>\n",
              "      <th>sentiment</th>\n",
              "      <th>fixed_date</th>\n",
              "    </tr>\n",
              "  </thead>\n",
              "  <tbody>\n",
              "    <tr>\n",
              "      <th>0</th>\n",
              "      <td>206461</td>\n",
              "      <td>Valsartan</td>\n",
              "      <td>Left Ventricular Dysfunction</td>\n",
              "      <td>\"It has no side effect, I take it in combinati...</td>\n",
              "      <td>9</td>\n",
              "      <td>20-May-12</td>\n",
              "      <td>27</td>\n",
              "      <td>[[-0.16843, -0.037651, -0.17304, -0.069757, -0...</td>\n",
              "      <td>[[0.038089, -0.02724, -0.063579, -0.46381, 0.1...</td>\n",
              "      <td>1</td>\n",
              "      <td>2012-05-20</td>\n",
              "    </tr>\n",
              "    <tr>\n",
              "      <th>1</th>\n",
              "      <td>95260</td>\n",
              "      <td>Guanfacine</td>\n",
              "      <td>ADHD</td>\n",
              "      <td>\"My son is halfway through his fourth week of ...</td>\n",
              "      <td>8</td>\n",
              "      <td>27-Apr-10</td>\n",
              "      <td>192</td>\n",
              "      <td>[[-0.13661, -0.21326, 0.20525, -0.54117, -0.13...</td>\n",
              "      <td>[[-0.22986, 0.2479, 0.035986, 0.78691, 0.64195...</td>\n",
              "      <td>1</td>\n",
              "      <td>2010-04-27</td>\n",
              "    </tr>\n",
              "    <tr>\n",
              "      <th>2</th>\n",
              "      <td>92703</td>\n",
              "      <td>Lybrel</td>\n",
              "      <td>Birth Control</td>\n",
              "      <td>\"I used to take another oral contraceptive, wh...</td>\n",
              "      <td>5</td>\n",
              "      <td>14-Dec-09</td>\n",
              "      <td>17</td>\n",
              "      <td>[[-0.10515, 0.13407, 0.13839, -0.647, 0.1243, ...</td>\n",
              "      <td>[[-0.11292, -0.33504, -0.24223, 0.2406, -0.285...</td>\n",
              "      <td>2</td>\n",
              "      <td>2009-12-14</td>\n",
              "    </tr>\n",
              "    <tr>\n",
              "      <th>3</th>\n",
              "      <td>138000</td>\n",
              "      <td>Ortho Evra</td>\n",
              "      <td>Birth Control</td>\n",
              "      <td>\"This is my first time using any form of birth...</td>\n",
              "      <td>8</td>\n",
              "      <td>3-Nov-15</td>\n",
              "      <td>10</td>\n",
              "      <td>[[-0.15561, 0.50069, -0.23022, -0.33005, -0.23...</td>\n",
              "      <td>[[-0.11292, -0.33504, -0.24223, 0.2406, -0.285...</td>\n",
              "      <td>1</td>\n",
              "      <td>2015-11-03</td>\n",
              "    </tr>\n",
              "    <tr>\n",
              "      <th>4</th>\n",
              "      <td>35696</td>\n",
              "      <td>Buprenorphine / naloxone</td>\n",
              "      <td>Opiate Dependence</td>\n",
              "      <td>\"Suboxone has completely turned my life around...</td>\n",
              "      <td>9</td>\n",
              "      <td>27-Nov-16</td>\n",
              "      <td>37</td>\n",
              "      <td>[[-0.053251, 0.1133, -0.031874, -0.23255, -0.2...</td>\n",
              "      <td>[[-0.077826, 0.30547, 0.52047, -0.24198, 0.060...</td>\n",
              "      <td>1</td>\n",
              "      <td>2016-11-27</td>\n",
              "    </tr>\n",
              "  </tbody>\n",
              "</table>\n",
              "</div>"
            ],
            "text/plain": [
              "   uniqueID                  drugName                     condition  \\\n",
              "0    206461                 Valsartan  Left Ventricular Dysfunction   \n",
              "1     95260                Guanfacine                          ADHD   \n",
              "2     92703                    Lybrel                 Birth Control   \n",
              "3    138000                Ortho Evra                 Birth Control   \n",
              "4     35696  Buprenorphine / naloxone             Opiate Dependence   \n",
              "\n",
              "                                              review  rating       date  \\\n",
              "0  \"It has no side effect, I take it in combinati...       9  20-May-12   \n",
              "1  \"My son is halfway through his fourth week of ...       8  27-Apr-10   \n",
              "2  \"I used to take another oral contraceptive, wh...       5  14-Dec-09   \n",
              "3  \"This is my first time using any form of birth...       8   3-Nov-15   \n",
              "4  \"Suboxone has completely turned my life around...       9  27-Nov-16   \n",
              "\n",
              "   usefulCount                                       fixed_review  \\\n",
              "0           27  [[-0.16843, -0.037651, -0.17304, -0.069757, -0...   \n",
              "1          192  [[-0.13661, -0.21326, 0.20525, -0.54117, -0.13...   \n",
              "2           17  [[-0.10515, 0.13407, 0.13839, -0.647, 0.1243, ...   \n",
              "3           10  [[-0.15561, 0.50069, -0.23022, -0.33005, -0.23...   \n",
              "4           37  [[-0.053251, 0.1133, -0.031874, -0.23255, -0.2...   \n",
              "\n",
              "                                     fixed_condition  sentiment fixed_date  \n",
              "0  [[0.038089, -0.02724, -0.063579, -0.46381, 0.1...          1 2012-05-20  \n",
              "1  [[-0.22986, 0.2479, 0.035986, 0.78691, 0.64195...          1 2010-04-27  \n",
              "2  [[-0.11292, -0.33504, -0.24223, 0.2406, -0.285...          2 2009-12-14  \n",
              "3  [[-0.11292, -0.33504, -0.24223, 0.2406, -0.285...          1 2015-11-03  \n",
              "4  [[-0.077826, 0.30547, 0.52047, -0.24198, 0.060...          1 2016-11-27  "
            ]
          },
          "execution_count": 280,
          "metadata": {},
          "output_type": "execute_result"
        }
      ],
      "source": [
        "drug_data.head()"
      ]
    },
    {
      "cell_type": "markdown",
      "metadata": {
        "id": "9uyFcHgjwk-t"
      },
      "source": [
        "## 모델링에 불필요한 컬럼 제거 후 새로운 데이터 프레임 생성"
      ]
    },
    {
      "cell_type": "code",
      "execution_count": 296,
      "metadata": {
        "id": "amgySahqwoQn"
      },
      "outputs": [
        {
          "data": {
            "text/html": [
              "<div>\n",
              "<style scoped>\n",
              "    .dataframe tbody tr th:only-of-type {\n",
              "        vertical-align: middle;\n",
              "    }\n",
              "\n",
              "    .dataframe tbody tr th {\n",
              "        vertical-align: top;\n",
              "    }\n",
              "\n",
              "    .dataframe thead th {\n",
              "        text-align: right;\n",
              "    }\n",
              "</style>\n",
              "<table border=\"1\" class=\"dataframe\">\n",
              "  <thead>\n",
              "    <tr style=\"text-align: right;\">\n",
              "      <th></th>\n",
              "      <th>uniqueID</th>\n",
              "      <th>drugName</th>\n",
              "      <th>condition</th>\n",
              "      <th>review</th>\n",
              "      <th>rating</th>\n",
              "      <th>date</th>\n",
              "      <th>usefulCount</th>\n",
              "      <th>fixed_review</th>\n",
              "      <th>fixed_condition</th>\n",
              "      <th>sentiment</th>\n",
              "      <th>fixed_date</th>\n",
              "      <th>encoded_drugName</th>\n",
              "    </tr>\n",
              "  </thead>\n",
              "  <tbody>\n",
              "    <tr>\n",
              "      <th>0</th>\n",
              "      <td>206461</td>\n",
              "      <td>Valsartan</td>\n",
              "      <td>Left Ventricular Dysfunction</td>\n",
              "      <td>\"It has no side effect, I take it in combinati...</td>\n",
              "      <td>9</td>\n",
              "      <td>20-May-12</td>\n",
              "      <td>27</td>\n",
              "      <td>[[-0.16843, -0.037651, -0.17304, -0.069757, -0...</td>\n",
              "      <td>[[0.038089, -0.02724, -0.063579, -0.46381, 0.1...</td>\n",
              "      <td>1</td>\n",
              "      <td>2012-05-20</td>\n",
              "      <td>3197</td>\n",
              "    </tr>\n",
              "    <tr>\n",
              "      <th>1</th>\n",
              "      <td>95260</td>\n",
              "      <td>Guanfacine</td>\n",
              "      <td>ADHD</td>\n",
              "      <td>\"My son is halfway through his fourth week of ...</td>\n",
              "      <td>8</td>\n",
              "      <td>27-Apr-10</td>\n",
              "      <td>192</td>\n",
              "      <td>[[-0.13661, -0.21326, 0.20525, -0.54117, -0.13...</td>\n",
              "      <td>[[-0.22986, 0.2479, 0.035986, 0.78691, 0.64195...</td>\n",
              "      <td>1</td>\n",
              "      <td>2010-04-27</td>\n",
              "      <td>1428</td>\n",
              "    </tr>\n",
              "    <tr>\n",
              "      <th>2</th>\n",
              "      <td>92703</td>\n",
              "      <td>Lybrel</td>\n",
              "      <td>Birth Control</td>\n",
              "      <td>\"I used to take another oral contraceptive, wh...</td>\n",
              "      <td>5</td>\n",
              "      <td>14-Dec-09</td>\n",
              "      <td>17</td>\n",
              "      <td>[[-0.10515, 0.13407, 0.13839, -0.647, 0.1243, ...</td>\n",
              "      <td>[[-0.11292, -0.33504, -0.24223, 0.2406, -0.285...</td>\n",
              "      <td>2</td>\n",
              "      <td>2009-12-14</td>\n",
              "      <td>1850</td>\n",
              "    </tr>\n",
              "    <tr>\n",
              "      <th>3</th>\n",
              "      <td>138000</td>\n",
              "      <td>Ortho Evra</td>\n",
              "      <td>Birth Control</td>\n",
              "      <td>\"This is my first time using any form of birth...</td>\n",
              "      <td>8</td>\n",
              "      <td>3-Nov-15</td>\n",
              "      <td>10</td>\n",
              "      <td>[[-0.15561, 0.50069, -0.23022, -0.33005, -0.23...</td>\n",
              "      <td>[[-0.11292, -0.33504, -0.24223, 0.2406, -0.285...</td>\n",
              "      <td>1</td>\n",
              "      <td>2015-11-03</td>\n",
              "      <td>2279</td>\n",
              "    </tr>\n",
              "    <tr>\n",
              "      <th>4</th>\n",
              "      <td>35696</td>\n",
              "      <td>Buprenorphine / naloxone</td>\n",
              "      <td>Opiate Dependence</td>\n",
              "      <td>\"Suboxone has completely turned my life around...</td>\n",
              "      <td>9</td>\n",
              "      <td>27-Nov-16</td>\n",
              "      <td>37</td>\n",
              "      <td>[[-0.053251, 0.1133, -0.031874, -0.23255, -0.2...</td>\n",
              "      <td>[[-0.077826, 0.30547, 0.52047, -0.24198, 0.060...</td>\n",
              "      <td>1</td>\n",
              "      <td>2016-11-27</td>\n",
              "      <td>515</td>\n",
              "    </tr>\n",
              "  </tbody>\n",
              "</table>\n",
              "</div>"
            ],
            "text/plain": [
              "   uniqueID                  drugName                     condition  \\\n",
              "0    206461                 Valsartan  Left Ventricular Dysfunction   \n",
              "1     95260                Guanfacine                          ADHD   \n",
              "2     92703                    Lybrel                 Birth Control   \n",
              "3    138000                Ortho Evra                 Birth Control   \n",
              "4     35696  Buprenorphine / naloxone             Opiate Dependence   \n",
              "\n",
              "                                              review  rating       date  \\\n",
              "0  \"It has no side effect, I take it in combinati...       9  20-May-12   \n",
              "1  \"My son is halfway through his fourth week of ...       8  27-Apr-10   \n",
              "2  \"I used to take another oral contraceptive, wh...       5  14-Dec-09   \n",
              "3  \"This is my first time using any form of birth...       8   3-Nov-15   \n",
              "4  \"Suboxone has completely turned my life around...       9  27-Nov-16   \n",
              "\n",
              "   usefulCount                                       fixed_review  \\\n",
              "0           27  [[-0.16843, -0.037651, -0.17304, -0.069757, -0...   \n",
              "1          192  [[-0.13661, -0.21326, 0.20525, -0.54117, -0.13...   \n",
              "2           17  [[-0.10515, 0.13407, 0.13839, -0.647, 0.1243, ...   \n",
              "3           10  [[-0.15561, 0.50069, -0.23022, -0.33005, -0.23...   \n",
              "4           37  [[-0.053251, 0.1133, -0.031874, -0.23255, -0.2...   \n",
              "\n",
              "                                     fixed_condition  sentiment fixed_date  \\\n",
              "0  [[0.038089, -0.02724, -0.063579, -0.46381, 0.1...          1 2012-05-20   \n",
              "1  [[-0.22986, 0.2479, 0.035986, 0.78691, 0.64195...          1 2010-04-27   \n",
              "2  [[-0.11292, -0.33504, -0.24223, 0.2406, -0.285...          2 2009-12-14   \n",
              "3  [[-0.11292, -0.33504, -0.24223, 0.2406, -0.285...          1 2015-11-03   \n",
              "4  [[-0.077826, 0.30547, 0.52047, -0.24198, 0.060...          1 2016-11-27   \n",
              "\n",
              "   encoded_drugName  \n",
              "0              3197  \n",
              "1              1428  \n",
              "2              1850  \n",
              "3              2279  \n",
              "4               515  "
            ]
          },
          "execution_count": 296,
          "metadata": {},
          "output_type": "execute_result"
        }
      ],
      "source": [
        "drug_data.head()"
      ]
    },
    {
      "cell_type": "markdown",
      "metadata": {},
      "source": [
        "### 전처리가 끝난 데이터셋 백업"
      ]
    },
    {
      "cell_type": "code",
      "execution_count": 297,
      "metadata": {},
      "outputs": [],
      "source": [
        "drug_data_after_preprocess = drug_data"
      ]
    },
    {
      "cell_type": "code",
      "execution_count": 299,
      "metadata": {},
      "outputs": [
        {
          "ename": "KeyboardInterrupt",
          "evalue": "",
          "output_type": "error",
          "traceback": [
            "\u001b[0;31m---------------------------------------------------------------------------\u001b[0m",
            "\u001b[0;31mKeyboardInterrupt\u001b[0m                         Traceback (most recent call last)",
            "Cell \u001b[0;32mIn[299], line 1\u001b[0m\n\u001b[0;32m----> 1\u001b[0m \u001b[43mdrug_data_after_preprocess\u001b[49m\u001b[38;5;241;43m.\u001b[39;49m\u001b[43mto_csv\u001b[49m\u001b[43m(\u001b[49m\u001b[38;5;124;43m'\u001b[39;49m\u001b[38;5;124;43mdrug_data_after_preprocess.csv\u001b[39;49m\u001b[38;5;124;43m'\u001b[39;49m\u001b[43m,\u001b[49m\u001b[43m \u001b[49m\u001b[43mindex\u001b[49m\u001b[38;5;241;43m=\u001b[39;49m\u001b[38;5;28;43;01mTrue\u001b[39;49;00m\u001b[43m)\u001b[49m\n",
            "File \u001b[0;32m~/miniconda3/lib/python3.12/site-packages/pandas/util/_decorators.py:333\u001b[0m, in \u001b[0;36mdeprecate_nonkeyword_arguments.<locals>.decorate.<locals>.wrapper\u001b[0;34m(*args, **kwargs)\u001b[0m\n\u001b[1;32m    327\u001b[0m \u001b[38;5;28;01mif\u001b[39;00m \u001b[38;5;28mlen\u001b[39m(args) \u001b[38;5;241m>\u001b[39m num_allow_args:\n\u001b[1;32m    328\u001b[0m     warnings\u001b[38;5;241m.\u001b[39mwarn(\n\u001b[1;32m    329\u001b[0m         msg\u001b[38;5;241m.\u001b[39mformat(arguments\u001b[38;5;241m=\u001b[39m_format_argument_list(allow_args)),\n\u001b[1;32m    330\u001b[0m         \u001b[38;5;167;01mFutureWarning\u001b[39;00m,\n\u001b[1;32m    331\u001b[0m         stacklevel\u001b[38;5;241m=\u001b[39mfind_stack_level(),\n\u001b[1;32m    332\u001b[0m     )\n\u001b[0;32m--> 333\u001b[0m \u001b[38;5;28;01mreturn\u001b[39;00m \u001b[43mfunc\u001b[49m\u001b[43m(\u001b[49m\u001b[38;5;241;43m*\u001b[39;49m\u001b[43margs\u001b[49m\u001b[43m,\u001b[49m\u001b[43m \u001b[49m\u001b[38;5;241;43m*\u001b[39;49m\u001b[38;5;241;43m*\u001b[39;49m\u001b[43mkwargs\u001b[49m\u001b[43m)\u001b[49m\n",
            "File \u001b[0;32m~/miniconda3/lib/python3.12/site-packages/pandas/core/generic.py:3964\u001b[0m, in \u001b[0;36mNDFrame.to_csv\u001b[0;34m(self, path_or_buf, sep, na_rep, float_format, columns, header, index, index_label, mode, encoding, compression, quoting, quotechar, lineterminator, chunksize, date_format, doublequote, escapechar, decimal, errors, storage_options)\u001b[0m\n\u001b[1;32m   3953\u001b[0m df \u001b[38;5;241m=\u001b[39m \u001b[38;5;28mself\u001b[39m \u001b[38;5;28;01mif\u001b[39;00m \u001b[38;5;28misinstance\u001b[39m(\u001b[38;5;28mself\u001b[39m, ABCDataFrame) \u001b[38;5;28;01melse\u001b[39;00m \u001b[38;5;28mself\u001b[39m\u001b[38;5;241m.\u001b[39mto_frame()\n\u001b[1;32m   3955\u001b[0m formatter \u001b[38;5;241m=\u001b[39m DataFrameFormatter(\n\u001b[1;32m   3956\u001b[0m     frame\u001b[38;5;241m=\u001b[39mdf,\n\u001b[1;32m   3957\u001b[0m     header\u001b[38;5;241m=\u001b[39mheader,\n\u001b[0;32m   (...)\u001b[0m\n\u001b[1;32m   3961\u001b[0m     decimal\u001b[38;5;241m=\u001b[39mdecimal,\n\u001b[1;32m   3962\u001b[0m )\n\u001b[0;32m-> 3964\u001b[0m \u001b[38;5;28;01mreturn\u001b[39;00m \u001b[43mDataFrameRenderer\u001b[49m\u001b[43m(\u001b[49m\u001b[43mformatter\u001b[49m\u001b[43m)\u001b[49m\u001b[38;5;241;43m.\u001b[39;49m\u001b[43mto_csv\u001b[49m\u001b[43m(\u001b[49m\n\u001b[1;32m   3965\u001b[0m \u001b[43m    \u001b[49m\u001b[43mpath_or_buf\u001b[49m\u001b[43m,\u001b[49m\n\u001b[1;32m   3966\u001b[0m \u001b[43m    \u001b[49m\u001b[43mlineterminator\u001b[49m\u001b[38;5;241;43m=\u001b[39;49m\u001b[43mlineterminator\u001b[49m\u001b[43m,\u001b[49m\n\u001b[1;32m   3967\u001b[0m \u001b[43m    \u001b[49m\u001b[43msep\u001b[49m\u001b[38;5;241;43m=\u001b[39;49m\u001b[43msep\u001b[49m\u001b[43m,\u001b[49m\n\u001b[1;32m   3968\u001b[0m \u001b[43m    \u001b[49m\u001b[43mencoding\u001b[49m\u001b[38;5;241;43m=\u001b[39;49m\u001b[43mencoding\u001b[49m\u001b[43m,\u001b[49m\n\u001b[1;32m   3969\u001b[0m \u001b[43m    \u001b[49m\u001b[43merrors\u001b[49m\u001b[38;5;241;43m=\u001b[39;49m\u001b[43merrors\u001b[49m\u001b[43m,\u001b[49m\n\u001b[1;32m   3970\u001b[0m \u001b[43m    \u001b[49m\u001b[43mcompression\u001b[49m\u001b[38;5;241;43m=\u001b[39;49m\u001b[43mcompression\u001b[49m\u001b[43m,\u001b[49m\n\u001b[1;32m   3971\u001b[0m \u001b[43m    \u001b[49m\u001b[43mquoting\u001b[49m\u001b[38;5;241;43m=\u001b[39;49m\u001b[43mquoting\u001b[49m\u001b[43m,\u001b[49m\n\u001b[1;32m   3972\u001b[0m \u001b[43m    \u001b[49m\u001b[43mcolumns\u001b[49m\u001b[38;5;241;43m=\u001b[39;49m\u001b[43mcolumns\u001b[49m\u001b[43m,\u001b[49m\n\u001b[1;32m   3973\u001b[0m \u001b[43m    \u001b[49m\u001b[43mindex_label\u001b[49m\u001b[38;5;241;43m=\u001b[39;49m\u001b[43mindex_label\u001b[49m\u001b[43m,\u001b[49m\n\u001b[1;32m   3974\u001b[0m \u001b[43m    \u001b[49m\u001b[43mmode\u001b[49m\u001b[38;5;241;43m=\u001b[39;49m\u001b[43mmode\u001b[49m\u001b[43m,\u001b[49m\n\u001b[1;32m   3975\u001b[0m \u001b[43m    \u001b[49m\u001b[43mchunksize\u001b[49m\u001b[38;5;241;43m=\u001b[39;49m\u001b[43mchunksize\u001b[49m\u001b[43m,\u001b[49m\n\u001b[1;32m   3976\u001b[0m \u001b[43m    \u001b[49m\u001b[43mquotechar\u001b[49m\u001b[38;5;241;43m=\u001b[39;49m\u001b[43mquotechar\u001b[49m\u001b[43m,\u001b[49m\n\u001b[1;32m   3977\u001b[0m \u001b[43m    \u001b[49m\u001b[43mdate_format\u001b[49m\u001b[38;5;241;43m=\u001b[39;49m\u001b[43mdate_format\u001b[49m\u001b[43m,\u001b[49m\n\u001b[1;32m   3978\u001b[0m \u001b[43m    \u001b[49m\u001b[43mdoublequote\u001b[49m\u001b[38;5;241;43m=\u001b[39;49m\u001b[43mdoublequote\u001b[49m\u001b[43m,\u001b[49m\n\u001b[1;32m   3979\u001b[0m \u001b[43m    \u001b[49m\u001b[43mescapechar\u001b[49m\u001b[38;5;241;43m=\u001b[39;49m\u001b[43mescapechar\u001b[49m\u001b[43m,\u001b[49m\n\u001b[1;32m   3980\u001b[0m \u001b[43m    \u001b[49m\u001b[43mstorage_options\u001b[49m\u001b[38;5;241;43m=\u001b[39;49m\u001b[43mstorage_options\u001b[49m\u001b[43m,\u001b[49m\n\u001b[1;32m   3981\u001b[0m \u001b[43m\u001b[49m\u001b[43m)\u001b[49m\n",
            "File \u001b[0;32m~/miniconda3/lib/python3.12/site-packages/pandas/io/formats/format.py:1014\u001b[0m, in \u001b[0;36mDataFrameRenderer.to_csv\u001b[0;34m(self, path_or_buf, encoding, sep, columns, index_label, mode, compression, quoting, quotechar, lineterminator, chunksize, date_format, doublequote, escapechar, errors, storage_options)\u001b[0m\n\u001b[1;32m    993\u001b[0m     created_buffer \u001b[38;5;241m=\u001b[39m \u001b[38;5;28;01mFalse\u001b[39;00m\n\u001b[1;32m    995\u001b[0m csv_formatter \u001b[38;5;241m=\u001b[39m CSVFormatter(\n\u001b[1;32m    996\u001b[0m     path_or_buf\u001b[38;5;241m=\u001b[39mpath_or_buf,\n\u001b[1;32m    997\u001b[0m     lineterminator\u001b[38;5;241m=\u001b[39mlineterminator,\n\u001b[0;32m   (...)\u001b[0m\n\u001b[1;32m   1012\u001b[0m     formatter\u001b[38;5;241m=\u001b[39m\u001b[38;5;28mself\u001b[39m\u001b[38;5;241m.\u001b[39mfmt,\n\u001b[1;32m   1013\u001b[0m )\n\u001b[0;32m-> 1014\u001b[0m \u001b[43mcsv_formatter\u001b[49m\u001b[38;5;241;43m.\u001b[39;49m\u001b[43msave\u001b[49m\u001b[43m(\u001b[49m\u001b[43m)\u001b[49m\n\u001b[1;32m   1016\u001b[0m \u001b[38;5;28;01mif\u001b[39;00m created_buffer:\n\u001b[1;32m   1017\u001b[0m     \u001b[38;5;28;01massert\u001b[39;00m \u001b[38;5;28misinstance\u001b[39m(path_or_buf, StringIO)\n",
            "File \u001b[0;32m~/miniconda3/lib/python3.12/site-packages/pandas/io/formats/csvs.py:270\u001b[0m, in \u001b[0;36mCSVFormatter.save\u001b[0;34m(self)\u001b[0m\n\u001b[1;32m    251\u001b[0m \u001b[38;5;28;01mwith\u001b[39;00m get_handle(\n\u001b[1;32m    252\u001b[0m     \u001b[38;5;28mself\u001b[39m\u001b[38;5;241m.\u001b[39mfilepath_or_buffer,\n\u001b[1;32m    253\u001b[0m     \u001b[38;5;28mself\u001b[39m\u001b[38;5;241m.\u001b[39mmode,\n\u001b[0;32m   (...)\u001b[0m\n\u001b[1;32m    258\u001b[0m ) \u001b[38;5;28;01mas\u001b[39;00m handles:\n\u001b[1;32m    259\u001b[0m     \u001b[38;5;66;03m# Note: self.encoding is irrelevant here\u001b[39;00m\n\u001b[1;32m    260\u001b[0m     \u001b[38;5;28mself\u001b[39m\u001b[38;5;241m.\u001b[39mwriter \u001b[38;5;241m=\u001b[39m csvlib\u001b[38;5;241m.\u001b[39mwriter(\n\u001b[1;32m    261\u001b[0m         handles\u001b[38;5;241m.\u001b[39mhandle,\n\u001b[1;32m    262\u001b[0m         lineterminator\u001b[38;5;241m=\u001b[39m\u001b[38;5;28mself\u001b[39m\u001b[38;5;241m.\u001b[39mlineterminator,\n\u001b[0;32m   (...)\u001b[0m\n\u001b[1;32m    267\u001b[0m         quotechar\u001b[38;5;241m=\u001b[39m\u001b[38;5;28mself\u001b[39m\u001b[38;5;241m.\u001b[39mquotechar,\n\u001b[1;32m    268\u001b[0m     )\n\u001b[0;32m--> 270\u001b[0m     \u001b[38;5;28;43mself\u001b[39;49m\u001b[38;5;241;43m.\u001b[39;49m\u001b[43m_save\u001b[49m\u001b[43m(\u001b[49m\u001b[43m)\u001b[49m\n",
            "File \u001b[0;32m~/miniconda3/lib/python3.12/site-packages/pandas/io/formats/csvs.py:275\u001b[0m, in \u001b[0;36mCSVFormatter._save\u001b[0;34m(self)\u001b[0m\n\u001b[1;32m    273\u001b[0m \u001b[38;5;28;01mif\u001b[39;00m \u001b[38;5;28mself\u001b[39m\u001b[38;5;241m.\u001b[39m_need_to_save_header:\n\u001b[1;32m    274\u001b[0m     \u001b[38;5;28mself\u001b[39m\u001b[38;5;241m.\u001b[39m_save_header()\n\u001b[0;32m--> 275\u001b[0m \u001b[38;5;28;43mself\u001b[39;49m\u001b[38;5;241;43m.\u001b[39;49m\u001b[43m_save_body\u001b[49m\u001b[43m(\u001b[49m\u001b[43m)\u001b[49m\n",
            "File \u001b[0;32m~/miniconda3/lib/python3.12/site-packages/pandas/io/formats/csvs.py:313\u001b[0m, in \u001b[0;36mCSVFormatter._save_body\u001b[0;34m(self)\u001b[0m\n\u001b[1;32m    311\u001b[0m \u001b[38;5;28;01mif\u001b[39;00m start_i \u001b[38;5;241m>\u001b[39m\u001b[38;5;241m=\u001b[39m end_i:\n\u001b[1;32m    312\u001b[0m     \u001b[38;5;28;01mbreak\u001b[39;00m\n\u001b[0;32m--> 313\u001b[0m \u001b[38;5;28;43mself\u001b[39;49m\u001b[38;5;241;43m.\u001b[39;49m\u001b[43m_save_chunk\u001b[49m\u001b[43m(\u001b[49m\u001b[43mstart_i\u001b[49m\u001b[43m,\u001b[49m\u001b[43m \u001b[49m\u001b[43mend_i\u001b[49m\u001b[43m)\u001b[49m\n",
            "File \u001b[0;32m~/miniconda3/lib/python3.12/site-packages/pandas/io/formats/csvs.py:324\u001b[0m, in \u001b[0;36mCSVFormatter._save_chunk\u001b[0;34m(self, start_i, end_i)\u001b[0m\n\u001b[1;32m    321\u001b[0m data \u001b[38;5;241m=\u001b[39m \u001b[38;5;28mlist\u001b[39m(res\u001b[38;5;241m.\u001b[39m_iter_column_arrays())\n\u001b[1;32m    323\u001b[0m ix \u001b[38;5;241m=\u001b[39m \u001b[38;5;28mself\u001b[39m\u001b[38;5;241m.\u001b[39mdata_index[slicer]\u001b[38;5;241m.\u001b[39m_get_values_for_csv(\u001b[38;5;241m*\u001b[39m\u001b[38;5;241m*\u001b[39m\u001b[38;5;28mself\u001b[39m\u001b[38;5;241m.\u001b[39m_number_format)\n\u001b[0;32m--> 324\u001b[0m \u001b[43mlibwriters\u001b[49m\u001b[38;5;241;43m.\u001b[39;49m\u001b[43mwrite_csv_rows\u001b[49m\u001b[43m(\u001b[49m\n\u001b[1;32m    325\u001b[0m \u001b[43m    \u001b[49m\u001b[43mdata\u001b[49m\u001b[43m,\u001b[49m\n\u001b[1;32m    326\u001b[0m \u001b[43m    \u001b[49m\u001b[43mix\u001b[49m\u001b[43m,\u001b[49m\n\u001b[1;32m    327\u001b[0m \u001b[43m    \u001b[49m\u001b[38;5;28;43mself\u001b[39;49m\u001b[38;5;241;43m.\u001b[39;49m\u001b[43mnlevels\u001b[49m\u001b[43m,\u001b[49m\n\u001b[1;32m    328\u001b[0m \u001b[43m    \u001b[49m\u001b[38;5;28;43mself\u001b[39;49m\u001b[38;5;241;43m.\u001b[39;49m\u001b[43mcols\u001b[49m\u001b[43m,\u001b[49m\n\u001b[1;32m    329\u001b[0m \u001b[43m    \u001b[49m\u001b[38;5;28;43mself\u001b[39;49m\u001b[38;5;241;43m.\u001b[39;49m\u001b[43mwriter\u001b[49m\u001b[43m,\u001b[49m\n\u001b[1;32m    330\u001b[0m \u001b[43m\u001b[49m\u001b[43m)\u001b[49m\n",
            "File \u001b[0;32mwriters.pyx:56\u001b[0m, in \u001b[0;36mpandas._libs.writers.write_csv_rows\u001b[0;34m()\u001b[0m\n",
            "File \u001b[0;32m~/miniconda3/lib/python3.12/site-packages/numpy/core/arrayprint.py:1508\u001b[0m, in \u001b[0;36m_array_repr_implementation\u001b[0;34m(arr, max_line_width, precision, suppress_small, array2string)\u001b[0m\n\u001b[1;32m   1506\u001b[0m     lst \u001b[38;5;241m=\u001b[39m \u001b[38;5;28mrepr\u001b[39m(arr\u001b[38;5;241m.\u001b[39mitem())\n\u001b[1;32m   1507\u001b[0m \u001b[38;5;28;01melif\u001b[39;00m arr\u001b[38;5;241m.\u001b[39msize \u001b[38;5;241m>\u001b[39m \u001b[38;5;241m0\u001b[39m \u001b[38;5;129;01mor\u001b[39;00m arr\u001b[38;5;241m.\u001b[39mshape \u001b[38;5;241m==\u001b[39m (\u001b[38;5;241m0\u001b[39m,):\n\u001b[0;32m-> 1508\u001b[0m     lst \u001b[38;5;241m=\u001b[39m \u001b[43marray2string\u001b[49m\u001b[43m(\u001b[49m\u001b[43marr\u001b[49m\u001b[43m,\u001b[49m\u001b[43m \u001b[49m\u001b[43mmax_line_width\u001b[49m\u001b[43m,\u001b[49m\u001b[43m \u001b[49m\u001b[43mprecision\u001b[49m\u001b[43m,\u001b[49m\u001b[43m \u001b[49m\u001b[43msuppress_small\u001b[49m\u001b[43m,\u001b[49m\n\u001b[1;32m   1509\u001b[0m \u001b[43m                       \u001b[49m\u001b[38;5;124;43m'\u001b[39;49m\u001b[38;5;124;43m, \u001b[39;49m\u001b[38;5;124;43m'\u001b[39;49m\u001b[43m,\u001b[49m\u001b[43m \u001b[49m\u001b[43mprefix\u001b[49m\u001b[43m,\u001b[49m\u001b[43m \u001b[49m\u001b[43msuffix\u001b[49m\u001b[38;5;241;43m=\u001b[39;49m\u001b[43msuffix\u001b[49m\u001b[43m)\u001b[49m\n\u001b[1;32m   1510\u001b[0m \u001b[38;5;28;01melse\u001b[39;00m:  \u001b[38;5;66;03m# show zero-length shape unless it is (0,)\u001b[39;00m\n\u001b[1;32m   1511\u001b[0m     lst \u001b[38;5;241m=\u001b[39m \u001b[38;5;124m\"\u001b[39m\u001b[38;5;124m[], shape=\u001b[39m\u001b[38;5;132;01m%s\u001b[39;00m\u001b[38;5;124m\"\u001b[39m \u001b[38;5;241m%\u001b[39m (\u001b[38;5;28mrepr\u001b[39m(arr\u001b[38;5;241m.\u001b[39mshape),)\n",
            "File \u001b[0;32m~/miniconda3/lib/python3.12/site-packages/numpy/core/arrayprint.py:736\u001b[0m, in \u001b[0;36marray2string\u001b[0;34m(a, max_line_width, precision, suppress_small, separator, prefix, style, formatter, threshold, edgeitems, sign, floatmode, suffix, legacy)\u001b[0m\n\u001b[1;32m    733\u001b[0m \u001b[38;5;28;01mif\u001b[39;00m a\u001b[38;5;241m.\u001b[39msize \u001b[38;5;241m==\u001b[39m \u001b[38;5;241m0\u001b[39m:\n\u001b[1;32m    734\u001b[0m     \u001b[38;5;28;01mreturn\u001b[39;00m \u001b[38;5;124m\"\u001b[39m\u001b[38;5;124m[]\u001b[39m\u001b[38;5;124m\"\u001b[39m\n\u001b[0;32m--> 736\u001b[0m \u001b[38;5;28;01mreturn\u001b[39;00m \u001b[43m_array2string\u001b[49m\u001b[43m(\u001b[49m\u001b[43ma\u001b[49m\u001b[43m,\u001b[49m\u001b[43m \u001b[49m\u001b[43moptions\u001b[49m\u001b[43m,\u001b[49m\u001b[43m \u001b[49m\u001b[43mseparator\u001b[49m\u001b[43m,\u001b[49m\u001b[43m \u001b[49m\u001b[43mprefix\u001b[49m\u001b[43m)\u001b[49m\n",
            "File \u001b[0;32m~/miniconda3/lib/python3.12/site-packages/numpy/core/arrayprint.py:513\u001b[0m, in \u001b[0;36m_recursive_guard.<locals>.decorating_function.<locals>.wrapper\u001b[0;34m(self, *args, **kwargs)\u001b[0m\n\u001b[1;32m    511\u001b[0m repr_running\u001b[38;5;241m.\u001b[39madd(key)\n\u001b[1;32m    512\u001b[0m \u001b[38;5;28;01mtry\u001b[39;00m:\n\u001b[0;32m--> 513\u001b[0m     \u001b[38;5;28;01mreturn\u001b[39;00m \u001b[43mf\u001b[49m\u001b[43m(\u001b[49m\u001b[38;5;28;43mself\u001b[39;49m\u001b[43m,\u001b[49m\u001b[43m \u001b[49m\u001b[38;5;241;43m*\u001b[39;49m\u001b[43margs\u001b[49m\u001b[43m,\u001b[49m\u001b[43m \u001b[49m\u001b[38;5;241;43m*\u001b[39;49m\u001b[38;5;241;43m*\u001b[39;49m\u001b[43mkwargs\u001b[49m\u001b[43m)\u001b[49m\n\u001b[1;32m    514\u001b[0m \u001b[38;5;28;01mfinally\u001b[39;00m:\n\u001b[1;32m    515\u001b[0m     repr_running\u001b[38;5;241m.\u001b[39mdiscard(key)\n",
            "File \u001b[0;32m~/miniconda3/lib/python3.12/site-packages/numpy/core/arrayprint.py:546\u001b[0m, in \u001b[0;36m_array2string\u001b[0;34m(a, options, separator, prefix)\u001b[0m\n\u001b[1;32m    543\u001b[0m \u001b[38;5;66;03m# skip over array(\u001b[39;00m\n\u001b[1;32m    544\u001b[0m next_line_prefix \u001b[38;5;241m+\u001b[39m\u001b[38;5;241m=\u001b[39m \u001b[38;5;124m\"\u001b[39m\u001b[38;5;124m \u001b[39m\u001b[38;5;124m\"\u001b[39m\u001b[38;5;241m*\u001b[39m\u001b[38;5;28mlen\u001b[39m(prefix)\n\u001b[0;32m--> 546\u001b[0m lst \u001b[38;5;241m=\u001b[39m \u001b[43m_formatArray\u001b[49m\u001b[43m(\u001b[49m\u001b[43ma\u001b[49m\u001b[43m,\u001b[49m\u001b[43m \u001b[49m\u001b[43mformat_function\u001b[49m\u001b[43m,\u001b[49m\u001b[43m \u001b[49m\u001b[43moptions\u001b[49m\u001b[43m[\u001b[49m\u001b[38;5;124;43m'\u001b[39;49m\u001b[38;5;124;43mlinewidth\u001b[39;49m\u001b[38;5;124;43m'\u001b[39;49m\u001b[43m]\u001b[49m\u001b[43m,\u001b[49m\n\u001b[1;32m    547\u001b[0m \u001b[43m                   \u001b[49m\u001b[43mnext_line_prefix\u001b[49m\u001b[43m,\u001b[49m\u001b[43m \u001b[49m\u001b[43mseparator\u001b[49m\u001b[43m,\u001b[49m\u001b[43m \u001b[49m\u001b[43moptions\u001b[49m\u001b[43m[\u001b[49m\u001b[38;5;124;43m'\u001b[39;49m\u001b[38;5;124;43medgeitems\u001b[39;49m\u001b[38;5;124;43m'\u001b[39;49m\u001b[43m]\u001b[49m\u001b[43m,\u001b[49m\n\u001b[1;32m    548\u001b[0m \u001b[43m                   \u001b[49m\u001b[43msummary_insert\u001b[49m\u001b[43m,\u001b[49m\u001b[43m \u001b[49m\u001b[43moptions\u001b[49m\u001b[43m[\u001b[49m\u001b[38;5;124;43m'\u001b[39;49m\u001b[38;5;124;43mlegacy\u001b[39;49m\u001b[38;5;124;43m'\u001b[39;49m\u001b[43m]\u001b[49m\u001b[43m)\u001b[49m\n\u001b[1;32m    549\u001b[0m \u001b[38;5;28;01mreturn\u001b[39;00m lst\n",
            "File \u001b[0;32m~/miniconda3/lib/python3.12/site-packages/numpy/core/arrayprint.py:889\u001b[0m, in \u001b[0;36m_formatArray\u001b[0;34m(a, format_function, line_width, next_line_prefix, separator, edge_items, summary_insert, legacy)\u001b[0m\n\u001b[1;32m    885\u001b[0m     \u001b[38;5;28;01mreturn\u001b[39;00m s\n\u001b[1;32m    887\u001b[0m \u001b[38;5;28;01mtry\u001b[39;00m:\n\u001b[1;32m    888\u001b[0m     \u001b[38;5;66;03m# invoke the recursive part with an initial index and prefix\u001b[39;00m\n\u001b[0;32m--> 889\u001b[0m     \u001b[38;5;28;01mreturn\u001b[39;00m \u001b[43mrecurser\u001b[49m\u001b[43m(\u001b[49m\u001b[43mindex\u001b[49m\u001b[38;5;241;43m=\u001b[39;49m\u001b[43m(\u001b[49m\u001b[43m)\u001b[49m\u001b[43m,\u001b[49m\n\u001b[1;32m    890\u001b[0m \u001b[43m                    \u001b[49m\u001b[43mhanging_indent\u001b[49m\u001b[38;5;241;43m=\u001b[39;49m\u001b[43mnext_line_prefix\u001b[49m\u001b[43m,\u001b[49m\n\u001b[1;32m    891\u001b[0m \u001b[43m                    \u001b[49m\u001b[43mcurr_width\u001b[49m\u001b[38;5;241;43m=\u001b[39;49m\u001b[43mline_width\u001b[49m\u001b[43m)\u001b[49m\n\u001b[1;32m    892\u001b[0m \u001b[38;5;28;01mfinally\u001b[39;00m:\n\u001b[1;32m    893\u001b[0m     \u001b[38;5;66;03m# recursive closures have a cyclic reference to themselves, which\u001b[39;00m\n\u001b[1;32m    894\u001b[0m     \u001b[38;5;66;03m# requires gc to collect (gh-10620). To avoid this problem, for\u001b[39;00m\n\u001b[1;32m    895\u001b[0m     \u001b[38;5;66;03m# performance and PyPy friendliness, we break the cycle:\u001b[39;00m\n\u001b[1;32m    896\u001b[0m     recurser \u001b[38;5;241m=\u001b[39m \u001b[38;5;28;01mNone\u001b[39;00m\n",
            "File \u001b[0;32m~/miniconda3/lib/python3.12/site-packages/numpy/core/arrayprint.py:846\u001b[0m, in \u001b[0;36m_formatArray.<locals>.recurser\u001b[0;34m(index, hanging_indent, curr_width)\u001b[0m\n\u001b[1;32m    844\u001b[0m \u001b[38;5;28;01mfor\u001b[39;00m i \u001b[38;5;129;01min\u001b[39;00m \u001b[38;5;28mrange\u001b[39m(trailing_items, \u001b[38;5;241m1\u001b[39m, \u001b[38;5;241m-\u001b[39m\u001b[38;5;241m1\u001b[39m):\n\u001b[1;32m    845\u001b[0m     word \u001b[38;5;241m=\u001b[39m recurser(index \u001b[38;5;241m+\u001b[39m (\u001b[38;5;241m-\u001b[39mi,), next_hanging_indent, next_width)\n\u001b[0;32m--> 846\u001b[0m     s, line \u001b[38;5;241m=\u001b[39m \u001b[43m_extendLine_pretty\u001b[49m\u001b[43m(\u001b[49m\n\u001b[1;32m    847\u001b[0m \u001b[43m        \u001b[49m\u001b[43ms\u001b[49m\u001b[43m,\u001b[49m\u001b[43m \u001b[49m\u001b[43mline\u001b[49m\u001b[43m,\u001b[49m\u001b[43m \u001b[49m\u001b[43mword\u001b[49m\u001b[43m,\u001b[49m\u001b[43m \u001b[49m\u001b[43melem_width\u001b[49m\u001b[43m,\u001b[49m\u001b[43m \u001b[49m\u001b[43mhanging_indent\u001b[49m\u001b[43m,\u001b[49m\u001b[43m \u001b[49m\u001b[43mlegacy\u001b[49m\u001b[43m)\u001b[49m\n\u001b[1;32m    848\u001b[0m     line \u001b[38;5;241m+\u001b[39m\u001b[38;5;241m=\u001b[39m separator\n\u001b[1;32m    850\u001b[0m \u001b[38;5;28;01mif\u001b[39;00m legacy \u001b[38;5;241m<\u001b[39m\u001b[38;5;241m=\u001b[39m \u001b[38;5;241m113\u001b[39m:\n\u001b[1;32m    851\u001b[0m     \u001b[38;5;66;03m# width of the separator is not considered on 1.13\u001b[39;00m\n",
            "File \u001b[0;32m~/miniconda3/lib/python3.12/site-packages/numpy/core/arrayprint.py:759\u001b[0m, in \u001b[0;36m_extendLine_pretty\u001b[0;34m(s, line, word, line_width, next_line_prefix, legacy)\u001b[0m\n\u001b[1;32m    757\u001b[0m words \u001b[38;5;241m=\u001b[39m word\u001b[38;5;241m.\u001b[39msplitlines()\n\u001b[1;32m    758\u001b[0m \u001b[38;5;28;01mif\u001b[39;00m \u001b[38;5;28mlen\u001b[39m(words) \u001b[38;5;241m==\u001b[39m \u001b[38;5;241m1\u001b[39m \u001b[38;5;129;01mor\u001b[39;00m legacy \u001b[38;5;241m<\u001b[39m\u001b[38;5;241m=\u001b[39m \u001b[38;5;241m113\u001b[39m:\n\u001b[0;32m--> 759\u001b[0m     \u001b[38;5;28;01mreturn\u001b[39;00m \u001b[43m_extendLine\u001b[49m\u001b[43m(\u001b[49m\u001b[43ms\u001b[49m\u001b[43m,\u001b[49m\u001b[43m \u001b[49m\u001b[43mline\u001b[49m\u001b[43m,\u001b[49m\u001b[43m \u001b[49m\u001b[43mword\u001b[49m\u001b[43m,\u001b[49m\u001b[43m \u001b[49m\u001b[43mline_width\u001b[49m\u001b[43m,\u001b[49m\u001b[43m \u001b[49m\u001b[43mnext_line_prefix\u001b[49m\u001b[43m,\u001b[49m\u001b[43m \u001b[49m\u001b[43mlegacy\u001b[49m\u001b[43m)\u001b[49m\n\u001b[1;32m    761\u001b[0m max_word_length \u001b[38;5;241m=\u001b[39m \u001b[38;5;28mmax\u001b[39m(\u001b[38;5;28mlen\u001b[39m(word) \u001b[38;5;28;01mfor\u001b[39;00m word \u001b[38;5;129;01min\u001b[39;00m words)\n\u001b[1;32m    762\u001b[0m \u001b[38;5;28;01mif\u001b[39;00m (\u001b[38;5;28mlen\u001b[39m(line) \u001b[38;5;241m+\u001b[39m max_word_length \u001b[38;5;241m>\u001b[39m line_width \u001b[38;5;129;01mand\u001b[39;00m\n\u001b[1;32m    763\u001b[0m         \u001b[38;5;28mlen\u001b[39m(line) \u001b[38;5;241m>\u001b[39m \u001b[38;5;28mlen\u001b[39m(next_line_prefix)):\n",
            "File \u001b[0;32m~/miniconda3/lib/python3.12/site-packages/numpy/core/arrayprint.py:739\u001b[0m, in \u001b[0;36m_extendLine\u001b[0;34m(s, line, word, line_width, next_line_prefix, legacy)\u001b[0m\n\u001b[1;32m    734\u001b[0m         \u001b[38;5;28;01mreturn\u001b[39;00m \u001b[38;5;124m\"\u001b[39m\u001b[38;5;124m[]\u001b[39m\u001b[38;5;124m\"\u001b[39m\n\u001b[1;32m    736\u001b[0m     \u001b[38;5;28;01mreturn\u001b[39;00m _array2string(a, options, separator, prefix)\n\u001b[0;32m--> 739\u001b[0m \u001b[38;5;28;01mdef\u001b[39;00m \u001b[38;5;21m_extendLine\u001b[39m(s, line, word, line_width, next_line_prefix, legacy):\n\u001b[1;32m    740\u001b[0m     needs_wrap \u001b[38;5;241m=\u001b[39m \u001b[38;5;28mlen\u001b[39m(line) \u001b[38;5;241m+\u001b[39m \u001b[38;5;28mlen\u001b[39m(word) \u001b[38;5;241m>\u001b[39m line_width\n\u001b[1;32m    741\u001b[0m     \u001b[38;5;28;01mif\u001b[39;00m legacy \u001b[38;5;241m>\u001b[39m \u001b[38;5;241m113\u001b[39m:\n\u001b[1;32m    742\u001b[0m         \u001b[38;5;66;03m# don't wrap lines if it won't help\u001b[39;00m\n",
            "\u001b[0;31mKeyboardInterrupt\u001b[0m: "
          ]
        }
      ],
      "source": [
        "drug_data_after_preprocess.to_csv('drug_data_after_preprocess.csv', index=True)"
      ]
    },
    {
      "cell_type": "markdown",
      "metadata": {},
      "source": [
        "### 모델링을 위한 불필요한 컬럼 제거"
      ]
    },
    {
      "cell_type": "code",
      "execution_count": null,
      "metadata": {},
      "outputs": [],
      "source": [
        "drug_data_for_modeling = drug_data.drop(columns=['uniqueID', 'drugName', 'conditioni', 'review', 'rating', 'date', 'usefulCount', 'sentiment', 'fixed_date'])"
      ]
    },
    {
      "cell_type": "markdown",
      "metadata": {},
      "source": [
        "### 모델링을 위한 불필요한 컬럼이 제거된 데이터셋 백업"
      ]
    },
    {
      "cell_type": "code",
      "execution_count": null,
      "metadata": {},
      "outputs": [],
      "source": [
        "drug_data_for_modeling.to_csv('drug_data_for_modeling.csv', index=True)"
      ]
    }
  ],
  "metadata": {
    "colab": {
      "authorship_tag": "ABX9TyNw6KAfonQQn/FAytMFYXi9",
      "include_colab_link": true,
      "provenance": []
    },
    "kernelspec": {
      "display_name": "Python 3",
      "name": "python3"
    },
    "language_info": {
      "codemirror_mode": {
        "name": "ipython",
        "version": 3
      },
      "file_extension": ".py",
      "mimetype": "text/x-python",
      "name": "python",
      "nbconvert_exporter": "python",
      "pygments_lexer": "ipython3",
      "version": "3.12.2"
    }
  },
  "nbformat": 4,
  "nbformat_minor": 0
}
