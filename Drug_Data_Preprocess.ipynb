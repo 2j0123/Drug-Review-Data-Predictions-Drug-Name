{
  "cells": [
    {
      "cell_type": "markdown",
      "metadata": {
        "colab_type": "text",
        "id": "view-in-github"
      },
      "source": [
        "<a href=\"https://colab.research.google.com/github/2j0123/WASSUP_Project_Team7_2/blob/JS/Drug_Data_EDA_Preprocess_2.ipynb\" target=\"_parent\"><img src=\"https://colab.research.google.com/assets/colab-badge.svg\" alt=\"Open In Colab\"/></a>"
      ]
    },
    {
      "cell_type": "markdown",
      "metadata": {
        "id": "xhUetlZYBrss"
      },
      "source": [
        "# Drug Dataset Preprocess"
      ]
    },
    {
      "cell_type": "code",
      "execution_count": 1,
      "metadata": {
        "id": "jVacvf717UAC"
      },
      "outputs": [],
      "source": [
        "import pandas as pd"
      ]
    },
    {
      "cell_type": "code",
      "execution_count": 2,
      "metadata": {
        "id": "az5921MX8V6M"
      },
      "outputs": [],
      "source": [
        "drug_data = pd.read_csv('/home/kdt-admin/miniconda3/envs/JS/WASSUP_Project_Team7_2/drugsComTrain_raw.csv')"
      ]
    },
    {
      "cell_type": "markdown",
      "metadata": {
        "id": "NQdQ4_BhDPud"
      },
      "source": [
        "## 전처리"
      ]
    },
    {
      "cell_type": "markdown",
      "metadata": {
        "id": "lbWwpctnJWk3"
      },
      "source": [
        "### 결측치 제거"
      ]
    },
    {
      "cell_type": "code",
      "execution_count": 3,
      "metadata": {
        "colab": {
          "base_uri": "https://localhost:8080/"
        },
        "id": "sGFHPOOXDPXu",
        "outputId": "21e130e8-9e51-4a60-9c1f-b365700b39af"
      },
      "outputs": [
        {
          "data": {
            "text/plain": [
              "uniqueID       0\n",
              "drugName       0\n",
              "condition      0\n",
              "review         0\n",
              "rating         0\n",
              "date           0\n",
              "usefulCount    0\n",
              "dtype: int64"
            ]
          },
          "execution_count": 3,
          "metadata": {},
          "output_type": "execute_result"
        }
      ],
      "source": [
        "drug_data = drug_data.dropna()\n",
        "drug_data.isna().sum()"
      ]
    },
    {
      "cell_type": "markdown",
      "metadata": {
        "id": "rWXkUty1ozif"
      },
      "source": [
        "### 전처리 함수"
      ]
    },
    {
      "cell_type": "markdown",
      "metadata": {
        "id": "-2evNX83KX12"
      },
      "source": [
        "#### 숫자와 영어 알파벳을 제외한 문자를 공백으로 대체"
      ]
    },
    {
      "cell_type": "code",
      "execution_count": 4,
      "metadata": {
        "id": "cz81EMg_JyMn"
      },
      "outputs": [],
      "source": [
        "import re\n",
        "\n",
        "def extract_word(text):\n",
        "    non_english = re.compile('[^a-zA-Z0-9]')\n",
        "    return non_english.sub(' ', text)"
      ]
    },
    {
      "cell_type": "markdown",
      "metadata": {
        "id": "Uzvc5XvrNNj-"
      },
      "source": [
        "#### 소문자로 변환"
      ]
    },
    {
      "cell_type": "code",
      "execution_count": 5,
      "metadata": {
        "id": "QDq0wEY5OvHd"
      },
      "outputs": [],
      "source": [
        "def fix_lower(text):\n",
        "    fixed_text = text.lower() # 소문자로 변환\n",
        "    return fixed_text"
      ]
    },
    {
      "cell_type": "markdown",
      "metadata": {
        "id": "g4n49o7LPhux"
      },
      "source": [
        "#### 불용어 제거"
      ]
    },
    {
      "cell_type": "code",
      "execution_count": 6,
      "metadata": {
        "colab": {
          "base_uri": "https://localhost:8080/"
        },
        "id": "UvQc7gO2bTQu",
        "outputId": "f7aa3d04-bec3-4342-b017-ac54ae5be435"
      },
      "outputs": [
        {
          "name": "stderr",
          "output_type": "stream",
          "text": [
            "[nltk_data] Downloading package punkt to /home/kdt-admin/nltk_data...\n",
            "[nltk_data]   Package punkt is already up-to-date!\n",
            "[nltk_data] Downloading package stopwords to /home/kdt-\n",
            "[nltk_data]     admin/nltk_data...\n",
            "[nltk_data]   Package stopwords is already up-to-date!\n"
          ]
        },
        {
          "data": {
            "text/plain": [
              "True"
            ]
          },
          "execution_count": 6,
          "metadata": {},
          "output_type": "execute_result"
        }
      ],
      "source": [
        "from nltk.tokenize import word_tokenize\n",
        "from nltk.corpus import stopwords\n",
        "import nltk\n",
        "nltk.download('punkt') #token\n",
        "nltk.download('stopwords')"
      ]
    },
    {
      "cell_type": "code",
      "execution_count": 7,
      "metadata": {
        "id": "wve8HxrZPh2K"
      },
      "outputs": [],
      "source": [
        "english_stopwords = set(stopwords.words('english'))\n",
        "english_stopwords.discard('no') # no를 불용어에 포함시키지 않음\n",
        "english_stopwords.discard('not') # not를 불용어에 포함시키지 않음\n",
        "\n",
        "def del_stopwords(tokens):\n",
        "    return [token for token in tokens if token not in english_stopwords and token.isalnum()]"
      ]
    },
    {
      "cell_type": "markdown",
      "metadata": {
        "id": "6wIeuDMwAiyR"
      },
      "source": [
        "#### 숫자와 수치형 단위 제거"
      ]
    },
    {
      "cell_type": "code",
      "execution_count": 8,
      "metadata": {
        "id": "iJ7vwNIVCN4q"
      },
      "outputs": [],
      "source": [
        "def del_numericalunits(text):\n",
        "    non_numericalunits = r'\\b\\d+(\\.\\d+)?\\s?\\S*' # 숫자와 단위 정규 표현식\n",
        "    return re.sub(non_numericalunits, '', text)"
      ]
    },
    {
      "cell_type": "markdown",
      "metadata": {
        "id": "nconyoDLLsXm"
      },
      "source": [
        "#### Lemmatization\n"
      ]
    },
    {
      "cell_type": "code",
      "execution_count": 9,
      "metadata": {
        "colab": {
          "base_uri": "https://localhost:8080/"
        },
        "id": "inWWNDf2L-Wo",
        "outputId": "1484726e-cf4f-45f3-8c49-587b577051ef"
      },
      "outputs": [
        {
          "name": "stderr",
          "output_type": "stream",
          "text": [
            "[nltk_data] Downloading package wordnet to /home/kdt-\n",
            "[nltk_data]     admin/nltk_data...\n",
            "[nltk_data]   Package wordnet is already up-to-date!\n",
            "[nltk_data] Downloading package averaged_perceptron_tagger to\n",
            "[nltk_data]     /home/kdt-admin/nltk_data...\n",
            "[nltk_data]   Package averaged_perceptron_tagger is already up-to-\n",
            "[nltk_data]       date!\n"
          ]
        }
      ],
      "source": [
        "from nltk.stem import WordNetLemmatizer\n",
        "\n",
        "nltk.download('wordnet')\n",
        "nltk.download('averaged_perceptron_tagger')\n",
        "\n",
        "lemmatizer = WordNetLemmatizer()\n",
        "\n",
        "def fix_lemmatization(tokens):\n",
        "    return [lemmatizer.lemmatize(token) for token in tokens]"
      ]
    },
    {
      "cell_type": "markdown",
      "metadata": {
        "id": "HR_YbnLCXh1a"
      },
      "source": [
        "#### 토큰화"
      ]
    },
    {
      "cell_type": "code",
      "execution_count": 10,
      "metadata": {
        "id": "2j4LecvsXgjb"
      },
      "outputs": [],
      "source": [
        "from nltk.tokenize import word_tokenize\n",
        "\n",
        "def fix_tokenize(text):\n",
        "    return word_tokenize(text)"
      ]
    },
    {
      "cell_type": "markdown",
      "metadata": {
        "id": "jn3KBABmaI8v"
      },
      "source": [
        "#### 공백 수정 및 토큰 연결"
      ]
    },
    {
      "cell_type": "code",
      "execution_count": 11,
      "metadata": {
        "id": "AuwnnknXaJCc"
      },
      "outputs": [],
      "source": [
        "def join_tokens(tokens):\n",
        "    return ' '.join(tokens) # 공백으로 연결"
      ]
    },
    {
      "cell_type": "markdown",
      "metadata": {},
      "source": [
        "#### 공백 제거"
      ]
    },
    {
      "cell_type": "code",
      "execution_count": 12,
      "metadata": {},
      "outputs": [],
      "source": [
        "def del_space(text):\n",
        "    return text.replace(\" \", \"\")"
      ]
    },
    {
      "cell_type": "markdown",
      "metadata": {},
      "source": [
        "#### html 코드 제거"
      ]
    },
    {
      "cell_type": "code",
      "execution_count": 13,
      "metadata": {},
      "outputs": [],
      "source": [
        "# from bs4 import BeautifulSoup\n",
        "\n",
        "def del_html(text):\n",
        "    # return BeautifulSoup(text, 'html.parser').get_text() # </span>만 제거되고 문장은 제거되지 않음.\n",
        "    if '</span> users found this comment helpful.' in text:\n",
        "        return ''\n",
        "    else:\n",
        "        return text"
      ]
    },
    {
      "cell_type": "markdown",
      "metadata": {},
      "source": [
        "#### apostrophe 제거"
      ]
    },
    {
      "cell_type": "code",
      "execution_count": 14,
      "metadata": {},
      "outputs": [],
      "source": [
        "def remove_apostrophe(text):\n",
        "    return text.replace(\"'\", \"\")"
      ]
    },
    {
      "cell_type": "markdown",
      "metadata": {},
      "source": [
        "#### Stemming"
      ]
    },
    {
      "cell_type": "code",
      "execution_count": 15,
      "metadata": {},
      "outputs": [],
      "source": [
        "from nltk.stem import PorterStemmer, LancasterStemmer\n",
        "\n",
        "porter_stemmer = PorterStemmer()\n",
        "\n",
        "lancaster_stemmer = LancasterStemmer()"
      ]
    },
    {
      "cell_type": "markdown",
      "metadata": {},
      "source": [
        "##### Porter Stemming "
      ]
    },
    {
      "cell_type": "code",
      "execution_count": 16,
      "metadata": {},
      "outputs": [],
      "source": [
        "def porter_stemming(review):\n",
        "    return [porter_stemmer.stem(word) for word in review]"
      ]
    },
    {
      "cell_type": "markdown",
      "metadata": {},
      "source": [
        "##### Lancaster stemming"
      ]
    },
    {
      "cell_type": "code",
      "execution_count": 17,
      "metadata": {},
      "outputs": [],
      "source": [
        "def lancaster_stemming(review):\n",
        "    return [lancaster_stemmer.stem(word) for word in review]"
      ]
    },
    {
      "cell_type": "markdown",
      "metadata": {
        "id": "C-HWOEXYHQ1a"
      },
      "source": [
        "#### Padding"
      ]
    },
    {
      "cell_type": "code",
      "execution_count": 18,
      "metadata": {
        "colab": {
          "base_uri": "https://localhost:8080/"
        },
        "id": "mCzY3YBwHg3N",
        "outputId": "28fb499c-fc71-48e2-b7af-625ffebcdcf5"
      },
      "outputs": [
        {
          "name": "stderr",
          "output_type": "stream",
          "text": [
            "2024-04-07 21:17:12.059370: I tensorflow/core/platform/cpu_feature_guard.cc:210] This TensorFlow binary is optimized to use available CPU instructions in performance-critical operations.\n",
            "To enable the following instructions: AVX2 FMA, in other operations, rebuild TensorFlow with the appropriate compiler flags.\n",
            "2024-04-07 21:17:13.164410: W tensorflow/compiler/tf2tensorrt/utils/py_utils.cc:38] TF-TRT Warning: Could not find TensorRT\n"
          ]
        }
      ],
      "source": [
        "from keras.preprocessing.sequence import pad_sequences\n",
        "from tensorflow.keras.preprocessing.text import Tokenizer\n",
        "\n",
        "tokenizer = Tokenizer()"
      ]
    },
    {
      "cell_type": "markdown",
      "metadata": {},
      "source": [
        "##### Padding 적용 함수"
      ]
    },
    {
      "cell_type": "code",
      "execution_count": 19,
      "metadata": {},
      "outputs": [],
      "source": [
        "def convert_padding(df, column_name):\n",
        "    tokenizer.fit_on_texts(df[column_name])\n",
        "    sequences = tokenizer.texts_to_sequences(df[column_name])\n",
        "    max_length = max(len(sentence) for sentence in df[column_name]) # 최대 문장 길이\n",
        "    padded_review = pad_sequences(sequences, maxlen=max_length, padding='post') # Padding\n",
        "    \n",
        "    return padded_review.tolist()"
      ]
    },
    {
      "cell_type": "markdown",
      "metadata": {
        "id": "cMqWKYXhO_My"
      },
      "source": [
        "#### Embedding"
      ]
    },
    {
      "cell_type": "code",
      "execution_count": 20,
      "metadata": {
        "id": "a4sXmd7iPCUp"
      },
      "outputs": [],
      "source": [
        "import numpy as np\n",
        "\n",
        "embedding_index = {}\n",
        "with open('glove.6B.50d.txt', encoding='utf-8') as f:\n",
        "    for line in f:\n",
        "        values = line.split()\n",
        "        word = values[0]\n",
        "        coefs = np.asarray(values[1:], dtype='float32')\n",
        "        embedding_index[word] = coefs"
      ]
    },
    {
      "cell_type": "code",
      "execution_count": 21,
      "metadata": {},
      "outputs": [],
      "source": [
        "#def convert_embedding(df, column_name):\n",
        "#    embedded_sequences = []\n",
        "    \n",
        "#    for sequence in df[column_name]:\n",
        "#        embedded_sequence = []\n",
        "#        for word_index in sequence:\n",
        "#            if word_index != 0:  # 패딩된 값(0)인 경우 무시\n",
        "#                word = tokenizer.index_word[word_index]\n",
        "#                embedding_vector = embedding_index.get(word)\n",
        "#                if embedding_vector is not None:\n",
        "#                    embedded_sequence.append(embedding_vector)\n",
        "#        embedded_sequences.append(embedded_sequence)\n",
        "#    \n",
        "#    return np.array(embedded_sequences)"
      ]
    },
    {
      "cell_type": "code",
      "execution_count": 22,
      "metadata": {},
      "outputs": [],
      "source": [
        "def convert_embedding(sentence):\n",
        "    embedded_sentence = []\n",
        "    for word in sentence:\n",
        "        embedding_vector = embedding_index.get(word)\n",
        "        if embedding_vector is not None:\n",
        "            embedded_sentence.append(embedding_vector)\n",
        "    return np.array(embedded_sentence)"
      ]
    },
    {
      "cell_type": "markdown",
      "metadata": {},
      "source": [
        "### 'review' 전처리"
      ]
    },
    {
      "cell_type": "markdown",
      "metadata": {},
      "source": [
        "#### 'review' 전처리 통합 함수\n"
      ]
    },
    {
      "cell_type": "code",
      "execution_count": 23,
      "metadata": {},
      "outputs": [],
      "source": [
        "def preprocess_review(text):\n",
        "    fixed_text = del_html(text) # html 코드 제거\n",
        "    fixed_text = remove_apostrophe(fixed_text) # apostrophe 제거\n",
        "    fixed_text = extract_word(text) # 숫자와 영어 알파벳을 제외한 문자를 공백으로 대체\n",
        "    fixed_text = fix_lower(fixed_text) # 소문자로 변환\n",
        "    fixed_text = del_numericalunits(fixed_text) # 숫자와 수치형 단위 제거\n",
        "    tokens = fix_tokenize(fixed_text) # 토큰화\n",
        "    filtered_tokens = del_stopwords(tokens) # 불용어 제거\n",
        "    lemmatized_tokens = fix_lemmatization(filtered_tokens) # Lemmatization\n",
        "    fixed_text = join_tokens(lemmatized_tokens) # 공백 수정 및 토큰 연결\n",
        "    return fixed_text.split()"
      ]
    },
    {
      "cell_type": "markdown",
      "metadata": {},
      "source": [
        "#### 'review' 컬럼 전처리 통합 함수 적용\n"
      ]
    },
    {
      "cell_type": "code",
      "execution_count": 24,
      "metadata": {},
      "outputs": [],
      "source": [
        "drug_data['fixed_review'] = drug_data['review'].apply(preprocess_review)"
      ]
    },
    {
      "cell_type": "code",
      "execution_count": 25,
      "metadata": {},
      "outputs": [
        {
          "data": {
            "text/html": [
              "<div>\n",
              "<style scoped>\n",
              "    .dataframe tbody tr th:only-of-type {\n",
              "        vertical-align: middle;\n",
              "    }\n",
              "\n",
              "    .dataframe tbody tr th {\n",
              "        vertical-align: top;\n",
              "    }\n",
              "\n",
              "    .dataframe thead th {\n",
              "        text-align: right;\n",
              "    }\n",
              "</style>\n",
              "<table border=\"1\" class=\"dataframe\">\n",
              "  <thead>\n",
              "    <tr style=\"text-align: right;\">\n",
              "      <th></th>\n",
              "      <th>uniqueID</th>\n",
              "      <th>drugName</th>\n",
              "      <th>condition</th>\n",
              "      <th>review</th>\n",
              "      <th>rating</th>\n",
              "      <th>date</th>\n",
              "      <th>usefulCount</th>\n",
              "      <th>fixed_review</th>\n",
              "    </tr>\n",
              "  </thead>\n",
              "  <tbody>\n",
              "    <tr>\n",
              "      <th>0</th>\n",
              "      <td>206461</td>\n",
              "      <td>Valsartan</td>\n",
              "      <td>Left Ventricular Dysfunction</td>\n",
              "      <td>\"It has no side effect, I take it in combinati...</td>\n",
              "      <td>9</td>\n",
              "      <td>20-May-12</td>\n",
              "      <td>27</td>\n",
              "      <td>[no, side, effect, take, combination, bystolic...</td>\n",
              "    </tr>\n",
              "    <tr>\n",
              "      <th>1</th>\n",
              "      <td>95260</td>\n",
              "      <td>Guanfacine</td>\n",
              "      <td>ADHD</td>\n",
              "      <td>\"My son is halfway through his fourth week of ...</td>\n",
              "      <td>8</td>\n",
              "      <td>27-Apr-10</td>\n",
              "      <td>192</td>\n",
              "      <td>[son, halfway, fourth, week, intuniv, became, ...</td>\n",
              "    </tr>\n",
              "    <tr>\n",
              "      <th>2</th>\n",
              "      <td>92703</td>\n",
              "      <td>Lybrel</td>\n",
              "      <td>Birth Control</td>\n",
              "      <td>\"I used to take another oral contraceptive, wh...</td>\n",
              "      <td>5</td>\n",
              "      <td>14-Dec-09</td>\n",
              "      <td>17</td>\n",
              "      <td>[used, take, another, oral, contraceptive, cyc...</td>\n",
              "    </tr>\n",
              "    <tr>\n",
              "      <th>3</th>\n",
              "      <td>138000</td>\n",
              "      <td>Ortho Evra</td>\n",
              "      <td>Birth Control</td>\n",
              "      <td>\"This is my first time using any form of birth...</td>\n",
              "      <td>8</td>\n",
              "      <td>3-Nov-15</td>\n",
              "      <td>10</td>\n",
              "      <td>[first, time, using, form, birth, control, gla...</td>\n",
              "    </tr>\n",
              "    <tr>\n",
              "      <th>4</th>\n",
              "      <td>35696</td>\n",
              "      <td>Buprenorphine / naloxone</td>\n",
              "      <td>Opiate Dependence</td>\n",
              "      <td>\"Suboxone has completely turned my life around...</td>\n",
              "      <td>9</td>\n",
              "      <td>27-Nov-16</td>\n",
              "      <td>37</td>\n",
              "      <td>[suboxone, completely, turned, life, around, f...</td>\n",
              "    </tr>\n",
              "  </tbody>\n",
              "</table>\n",
              "</div>"
            ],
            "text/plain": [
              "   uniqueID                  drugName                     condition  \\\n",
              "0    206461                 Valsartan  Left Ventricular Dysfunction   \n",
              "1     95260                Guanfacine                          ADHD   \n",
              "2     92703                    Lybrel                 Birth Control   \n",
              "3    138000                Ortho Evra                 Birth Control   \n",
              "4     35696  Buprenorphine / naloxone             Opiate Dependence   \n",
              "\n",
              "                                              review  rating       date  \\\n",
              "0  \"It has no side effect, I take it in combinati...       9  20-May-12   \n",
              "1  \"My son is halfway through his fourth week of ...       8  27-Apr-10   \n",
              "2  \"I used to take another oral contraceptive, wh...       5  14-Dec-09   \n",
              "3  \"This is my first time using any form of birth...       8   3-Nov-15   \n",
              "4  \"Suboxone has completely turned my life around...       9  27-Nov-16   \n",
              "\n",
              "   usefulCount                                       fixed_review  \n",
              "0           27  [no, side, effect, take, combination, bystolic...  \n",
              "1          192  [son, halfway, fourth, week, intuniv, became, ...  \n",
              "2           17  [used, take, another, oral, contraceptive, cyc...  \n",
              "3           10  [first, time, using, form, birth, control, gla...  \n",
              "4           37  [suboxone, completely, turned, life, around, f...  "
            ]
          },
          "execution_count": 25,
          "metadata": {},
          "output_type": "execute_result"
        }
      ],
      "source": [
        "drug_data.head()"
      ]
    },
    {
      "cell_type": "markdown",
      "metadata": {},
      "source": [
        "#### 'review' 컬럼 Stemming 적용"
      ]
    },
    {
      "cell_type": "code",
      "execution_count": 26,
      "metadata": {},
      "outputs": [],
      "source": [
        "#drug_data['fixed_review'] = drug_data['fixed_review'].apply(lancaster_stemming)\n",
        "drug_data['fixed_review'] = drug_data['fixed_review'].apply(porter_stemming)"
      ]
    },
    {
      "cell_type": "code",
      "execution_count": 27,
      "metadata": {},
      "outputs": [
        {
          "name": "stdout",
          "output_type": "stream",
          "text": [
            "stemming result length :  32625\n"
          ]
        }
      ],
      "source": [
        "print(\"stemming result length : \", len(set(word for review in drug_data['fixed_review'] for word in review)))"
      ]
    },
    {
      "cell_type": "code",
      "execution_count": 28,
      "metadata": {},
      "outputs": [
        {
          "data": {
            "image/png": "[encoded data removed]",
            "text/plain": [
              "<Figure size 640x480 with 1 Axes>"
            ]
          },
          "metadata": {},
          "output_type": "display_data"
        }
      ],
      "source": [
        "import matplotlib.pyplot as plt\n",
        "\n",
        "# 'fixed_review' 열의 각 리뷰의 길이 계산\n",
        "review_lengths = drug_data['fixed_review'].apply(len)\n",
        "\n",
        "# 히스토그램으로 리뷰의 길이 분포 시각화\n",
        "plt.hist(review_lengths, bins=50, color='skyblue', edgecolor='black')\n",
        "plt.xlabel('Review Length')\n",
        "plt.ylabel('Frequency')\n",
        "plt.title('Distribution of Review Lengths')\n",
        "plt.show()"
      ]
    },
    {
      "cell_type": "code",
      "execution_count": 29,
      "metadata": {},
      "outputs": [
        {
          "name": "stdout",
          "output_type": "stream",
          "text": [
            "The length of the longest review: 949\n"
          ]
        }
      ],
      "source": [
        "# 'fixed_review' 열에서 가장 긴 리뷰의 길이를 찾습니다.\n",
        "max_length = review_lengths.max()\n",
        "\n",
        "# 가장 긴 리뷰의 길이를 출력합니다.\n",
        "print(\"The length of the longest review:\", max_length)"
      ]
    },
    {
      "cell_type": "code",
      "execution_count": 30,
      "metadata": {},
      "outputs": [
        {
          "name": "stdout",
          "output_type": "stream",
          "text": [
            "Number of reviews with length >= 200: 51\n",
            "Number of rows after removing long reviews: 160347\n"
          ]
        }
      ],
      "source": [
        "# 'fixed_review' 열에서 각 리뷰의 길이 계산\n",
        "review_lengths = drug_data['fixed_review'].apply(len)\n",
        "\n",
        "# 리뷰의 길이가 200자 이상인 인덱스를 찾습니다.\n",
        "long_reviews_index = review_lengths[review_lengths >= 200].index\n",
        "\n",
        "# 리뷰의 길이가 200자 이상인 리뷰의 개수를 세기\n",
        "long_reviews_count = (review_lengths >= 200).sum()\n",
        "\n",
        "# 결과 출력\n",
        "print(\"Number of reviews with length >= 200:\", long_reviews_count)\n",
        "\n",
        "# 해당 인덱스를 사용하여 데이터프레임에서 해당 행을 삭제합니다.\n",
        "drug_data = drug_data.drop(long_reviews_index)\n",
        "\n",
        "# 삭제 후의 데이터프레임 정보 출력\n",
        "print(\"Number of rows after removing long reviews:\", len(drug_data))"
      ]
    },
    {
      "cell_type": "code",
      "execution_count": 31,
      "metadata": {},
      "outputs": [
        {
          "data": {
            "image/png": "[encoded data removed]",
            "text/plain": [
              "<Figure size 640x480 with 1 Axes>"
            ]
          },
          "metadata": {},
          "output_type": "display_data"
        }
      ],
      "source": [
        "import matplotlib.pyplot as plt\n",
        "\n",
        "# 'fixed_review' 열의 각 리뷰의 길이 계산\n",
        "review_lengths = drug_data['fixed_review'].apply(len)\n",
        "\n",
        "\n",
        "# 히스토그램으로 리뷰의 길이 분포 시각화\n",
        "plt.hist(review_lengths, bins=50, color='skyblue', edgecolor='black')\n",
        "plt.xlabel('Review Length')\n",
        "plt.ylabel('Frequency')\n",
        "plt.title('Distribution of Review Lengths')\n",
        "plt.show()"
      ]
    },
    {
      "cell_type": "code",
      "execution_count": 32,
      "metadata": {},
      "outputs": [
        {
          "name": "stdout",
          "output_type": "stream",
          "text": [
            "Number of reviews with length >= 200: 183\n",
            "Total number of reviews: 160347\n"
          ]
        }
      ],
      "source": [
        "# 'fixed_review' 열에서 각 리뷰의 길이 계산\n",
        "review_lengths = drug_data['fixed_review'].apply(len)\n",
        "\n",
        "# 리뷰의 길이가 100자 이상인 리뷰의 개수를 세기\n",
        "long_reviews_count = (review_lengths >= 100).sum()\n",
        "\n",
        "# 전체 리뷰의 개수\n",
        "total_reviews_count = len(drug_data)\n",
        "\n",
        "# 결과 출력\n",
        "print(\"Number of reviews with length >= 200:\", long_reviews_count)\n",
        "print(\"Total number of reviews:\", total_reviews_count)"
      ]
    },
    {
      "cell_type": "code",
      "execution_count": 33,
      "metadata": {},
      "outputs": [
        {
          "name": "stdout",
          "output_type": "stream",
          "text": [
            "Number of rows after removing long reviews: 160164\n"
          ]
        }
      ],
      "source": [
        "# 리뷰의 길이가 100 이상인 인덱스를 찾습니다.\n",
        "long_reviews_index = review_lengths[review_lengths >= 100].index\n",
        "\n",
        "# 해당 인덱스를 사용하여 데이터프레임에서 해당 행을 삭제합니다.\n",
        "drug_data = drug_data.drop(long_reviews_index)\n",
        "\n",
        "# 삭제 후의 데이터프레임 정보 출력\n",
        "print(\"Number of rows after removing long reviews:\", len(drug_data))"
      ]
    },
    {
      "cell_type": "code",
      "execution_count": 34,
      "metadata": {},
      "outputs": [
        {
          "data": {
            "image/png": "[encoded data removed]",
            "text/plain": [
              "<Figure size 640x480 with 1 Axes>"
            ]
          },
          "metadata": {},
          "output_type": "display_data"
        }
      ],
      "source": [
        "import matplotlib.pyplot as plt\n",
        "\n",
        "# 'fixed_review' 열의 각 리뷰의 길이 계산\n",
        "review_lengths = drug_data['fixed_review'].apply(len)\n",
        "\n",
        "# 히스토그램으로 리뷰의 길이 분포 시각화\n",
        "plt.hist(review_lengths, bins=50, color='skyblue', edgecolor='black')\n",
        "plt.xlabel('Review Length')\n",
        "plt.ylabel('Frequency')\n",
        "plt.title('Distribution of Review Lengths')\n",
        "plt.show()"
      ]
    },
    {
      "cell_type": "markdown",
      "metadata": {},
      "source": [
        "#### 'review' 컬럼 Padding 적용"
      ]
    },
    {
      "cell_type": "code",
      "execution_count": 35,
      "metadata": {},
      "outputs": [],
      "source": [
        "#drug_data['fixed_review'] = convert_padding(drug_data, 'fixed_review')"
      ]
    },
    {
      "cell_type": "code",
      "execution_count": 36,
      "metadata": {},
      "outputs": [],
      "source": [
        "#drug_data.head()"
      ]
    },
    {
      "cell_type": "code",
      "execution_count": 37,
      "metadata": {},
      "outputs": [],
      "source": [
        "#print(drug_data['fixed_review'][0])\n",
        "#print(len(drug_data['fixed_review'][0]))"
      ]
    },
    {
      "cell_type": "markdown",
      "metadata": {},
      "source": [
        "#### 'review' 컬럼 Embedding 적용"
      ]
    },
    {
      "cell_type": "code",
      "execution_count": 38,
      "metadata": {},
      "outputs": [],
      "source": [
        "#drug_data['fixed_review'] = convert_embedding(drug_data, 'fixed_review')"
      ]
    },
    {
      "cell_type": "code",
      "execution_count": 39,
      "metadata": {},
      "outputs": [],
      "source": [
        "#drug_data.head()"
      ]
    },
    {
      "cell_type": "markdown",
      "metadata": {},
      "source": [
        "### 'condition', 'drugName' 이상치 처리"
      ]
    },
    {
      "cell_type": "code",
      "execution_count": 40,
      "metadata": {},
      "outputs": [],
      "source": [
        "drug_data = drug_data[~drug_data['condition'].str.match('\\d{2}-[a-zA-Z]{3}-\\d{2}', na=False)]\n",
        "drug_data = drug_data[~drug_data['drugName'].str.match('\\d+', na=False)]"
      ]
    },
    {
      "cell_type": "markdown",
      "metadata": {},
      "source": [
        "### 'condition' 전처리"
      ]
    },
    {
      "cell_type": "markdown",
      "metadata": {},
      "source": [
        "#### 'condition' 전처리 통합 함수"
      ]
    },
    {
      "cell_type": "code",
      "execution_count": 41,
      "metadata": {},
      "outputs": [],
      "source": [
        "def preprocess_condition(text):\n",
        "    fixed_text = del_html(text) # html 코드 제거\n",
        "    #fixed_text = del_space(fixed_text) # 공백 제거\n",
        "    fixed_text = remove_apostrophe(fixed_text) # apostrophe 제거\n",
        "    fixed_text = extract_word(fixed_text) # 숫자와 영어 알파벳을 제외한 문자를 공백으로 대체\n",
        "    fixed_text = fix_lower(fixed_text) # 소문자로 변환\n",
        "    tokens = fix_tokenize(fixed_text) # 토큰화\n",
        "    fixed_text = join_tokens(tokens) # 공백 수정 및 토큰 연결\n",
        "    return fixed_text.split()"
      ]
    },
    {
      "cell_type": "markdown",
      "metadata": {},
      "source": [
        "#### 'condition' 전처리 통합 함수 적용"
      ]
    },
    {
      "cell_type": "code",
      "execution_count": 42,
      "metadata": {},
      "outputs": [],
      "source": [
        "drug_data['fixed_condition'] = drug_data['condition'].apply(preprocess_condition)"
      ]
    },
    {
      "cell_type": "code",
      "execution_count": 43,
      "metadata": {},
      "outputs": [
        {
          "data": {
            "text/html": [
              "<div>\n",
              "<style scoped>\n",
              "    .dataframe tbody tr th:only-of-type {\n",
              "        vertical-align: middle;\n",
              "    }\n",
              "\n",
              "    .dataframe tbody tr th {\n",
              "        vertical-align: top;\n",
              "    }\n",
              "\n",
              "    .dataframe thead th {\n",
              "        text-align: right;\n",
              "    }\n",
              "</style>\n",
              "<table border=\"1\" class=\"dataframe\">\n",
              "  <thead>\n",
              "    <tr style=\"text-align: right;\">\n",
              "      <th></th>\n",
              "      <th>uniqueID</th>\n",
              "      <th>drugName</th>\n",
              "      <th>condition</th>\n",
              "      <th>review</th>\n",
              "      <th>rating</th>\n",
              "      <th>date</th>\n",
              "      <th>usefulCount</th>\n",
              "      <th>fixed_review</th>\n",
              "      <th>fixed_condition</th>\n",
              "    </tr>\n",
              "  </thead>\n",
              "  <tbody>\n",
              "    <tr>\n",
              "      <th>0</th>\n",
              "      <td>206461</td>\n",
              "      <td>Valsartan</td>\n",
              "      <td>Left Ventricular Dysfunction</td>\n",
              "      <td>\"It has no side effect, I take it in combinati...</td>\n",
              "      <td>9</td>\n",
              "      <td>20-May-12</td>\n",
              "      <td>27</td>\n",
              "      <td>[no, side, effect, take, combin, bystol, fish,...</td>\n",
              "      <td>[left, ventricular, dysfunction]</td>\n",
              "    </tr>\n",
              "    <tr>\n",
              "      <th>1</th>\n",
              "      <td>95260</td>\n",
              "      <td>Guanfacine</td>\n",
              "      <td>ADHD</td>\n",
              "      <td>\"My son is halfway through his fourth week of ...</td>\n",
              "      <td>8</td>\n",
              "      <td>27-Apr-10</td>\n",
              "      <td>192</td>\n",
              "      <td>[son, halfway, fourth, week, intuniv, becam, c...</td>\n",
              "      <td>[adhd]</td>\n",
              "    </tr>\n",
              "    <tr>\n",
              "      <th>2</th>\n",
              "      <td>92703</td>\n",
              "      <td>Lybrel</td>\n",
              "      <td>Birth Control</td>\n",
              "      <td>\"I used to take another oral contraceptive, wh...</td>\n",
              "      <td>5</td>\n",
              "      <td>14-Dec-09</td>\n",
              "      <td>17</td>\n",
              "      <td>[use, take, anoth, oral, contracept, cycl, hap...</td>\n",
              "      <td>[birth, control]</td>\n",
              "    </tr>\n",
              "    <tr>\n",
              "      <th>3</th>\n",
              "      <td>138000</td>\n",
              "      <td>Ortho Evra</td>\n",
              "      <td>Birth Control</td>\n",
              "      <td>\"This is my first time using any form of birth...</td>\n",
              "      <td>8</td>\n",
              "      <td>3-Nov-15</td>\n",
              "      <td>10</td>\n",
              "      <td>[first, time, use, form, birth, control, glad,...</td>\n",
              "      <td>[birth, control]</td>\n",
              "    </tr>\n",
              "    <tr>\n",
              "      <th>4</th>\n",
              "      <td>35696</td>\n",
              "      <td>Buprenorphine / naloxone</td>\n",
              "      <td>Opiate Dependence</td>\n",
              "      <td>\"Suboxone has completely turned my life around...</td>\n",
              "      <td>9</td>\n",
              "      <td>27-Nov-16</td>\n",
              "      <td>37</td>\n",
              "      <td>[suboxon, complet, turn, life, around, feel, h...</td>\n",
              "      <td>[opiate, dependence]</td>\n",
              "    </tr>\n",
              "  </tbody>\n",
              "</table>\n",
              "</div>"
            ],
            "text/plain": [
              "   uniqueID                  drugName                     condition  \\\n",
              "0    206461                 Valsartan  Left Ventricular Dysfunction   \n",
              "1     95260                Guanfacine                          ADHD   \n",
              "2     92703                    Lybrel                 Birth Control   \n",
              "3    138000                Ortho Evra                 Birth Control   \n",
              "4     35696  Buprenorphine / naloxone             Opiate Dependence   \n",
              "\n",
              "                                              review  rating       date  \\\n",
              "0  \"It has no side effect, I take it in combinati...       9  20-May-12   \n",
              "1  \"My son is halfway through his fourth week of ...       8  27-Apr-10   \n",
              "2  \"I used to take another oral contraceptive, wh...       5  14-Dec-09   \n",
              "3  \"This is my first time using any form of birth...       8   3-Nov-15   \n",
              "4  \"Suboxone has completely turned my life around...       9  27-Nov-16   \n",
              "\n",
              "   usefulCount                                       fixed_review  \\\n",
              "0           27  [no, side, effect, take, combin, bystol, fish,...   \n",
              "1          192  [son, halfway, fourth, week, intuniv, becam, c...   \n",
              "2           17  [use, take, anoth, oral, contracept, cycl, hap...   \n",
              "3           10  [first, time, use, form, birth, control, glad,...   \n",
              "4           37  [suboxon, complet, turn, life, around, feel, h...   \n",
              "\n",
              "                    fixed_condition  \n",
              "0  [left, ventricular, dysfunction]  \n",
              "1                            [adhd]  \n",
              "2                  [birth, control]  \n",
              "3                  [birth, control]  \n",
              "4              [opiate, dependence]  "
            ]
          },
          "execution_count": 43,
          "metadata": {},
          "output_type": "execute_result"
        }
      ],
      "source": [
        "drug_data.head()"
      ]
    },
    {
      "cell_type": "markdown",
      "metadata": {},
      "source": [
        "#### 'condition' 컬럼 Stemming 적용"
      ]
    },
    {
      "cell_type": "code",
      "execution_count": 44,
      "metadata": {},
      "outputs": [],
      "source": [
        "drug_data['fixed_condition'] = drug_data['fixed_condition'].apply(porter_stemming)"
      ]
    },
    {
      "cell_type": "code",
      "execution_count": 45,
      "metadata": {},
      "outputs": [
        {
          "name": "stdout",
          "output_type": "stream",
          "text": [
            "stemming result length :  975\n"
          ]
        }
      ],
      "source": [
        "print(\"stemming result length : \", len(set(word for review in drug_data['fixed_condition'] for word in review)))"
      ]
    },
    {
      "cell_type": "markdown",
      "metadata": {},
      "source": [
        "#### 'condition' 컬럼 Padding 적용"
      ]
    },
    {
      "cell_type": "code",
      "execution_count": 46,
      "metadata": {},
      "outputs": [],
      "source": [
        "#drug_data['fixed_condition'] = convert_padding(drug_data, 'fixed_condition')"
      ]
    },
    {
      "cell_type": "code",
      "execution_count": 47,
      "metadata": {},
      "outputs": [],
      "source": [
        "#drug_data.head()"
      ]
    },
    {
      "cell_type": "markdown",
      "metadata": {},
      "source": [
        "#### 'condition' 컬럼 Embedding 적용"
      ]
    },
    {
      "cell_type": "code",
      "execution_count": 48,
      "metadata": {},
      "outputs": [],
      "source": [
        "#drug_data['fixed_condition'] = convert_embedding(drug_data, 'fixed_condition')"
      ]
    },
    {
      "cell_type": "code",
      "execution_count": 49,
      "metadata": {},
      "outputs": [],
      "source": [
        "#drug_data.head()"
      ]
    },
    {
      "cell_type": "markdown",
      "metadata": {},
      "source": [
        "### 'Combined_re_con' 생성"
      ]
    },
    {
      "cell_type": "markdown",
      "metadata": {},
      "source": [
        "#### fixed_condition'와 'fixed_review' 컬럼이 모두 비어 있는 리스트 행 개수"
      ]
    },
    {
      "cell_type": "code",
      "execution_count": 50,
      "metadata": {},
      "outputs": [],
      "source": [
        "#empty_both_rows = (drug_data['fixed_condition'].apply(len) == 0) & (drug_data['fixed_review'].apply(len) == 0)\n",
        "#empty_both_count = empty_both_rows.sum()\n",
        "\n",
        "#print(\"Counts of 'fixed_condition', 'fixed_review' is Empty :\", empty_both_count)"
      ]
    },
    {
      "cell_type": "markdown",
      "metadata": {},
      "source": [
        "#### fixed_condition'와 'fixed_review' 컬럼이 모두 비어 있는 리스트 행 제거"
      ]
    },
    {
      "cell_type": "code",
      "execution_count": 51,
      "metadata": {},
      "outputs": [],
      "source": [
        "#print(\"Before Delete Dataset Size :\", drug_data.shape)\n",
        "\n",
        "#drug_data = drug_data[~((drug_data['fixed_condition'].apply(len) == 0) & (drug_data['fixed_review'].apply(len) == 0))]\n",
        "\n",
        "#print(\"After Delete Dataset Size  :\", drug_data.shape)"
      ]
    },
    {
      "cell_type": "code",
      "execution_count": 52,
      "metadata": {},
      "outputs": [],
      "source": [
        "#drug_data.head()"
      ]
    },
    {
      "cell_type": "markdown",
      "metadata": {},
      "source": [
        "#### 'fixed_review' , 'fixed_condition' 결합"
      ]
    },
    {
      "cell_type": "code",
      "execution_count": 53,
      "metadata": {},
      "outputs": [],
      "source": [
        "drug_data['Combined_re_con'] = drug_data['fixed_review'] + drug_data['fixed_condition']"
      ]
    },
    {
      "cell_type": "code",
      "execution_count": 54,
      "metadata": {},
      "outputs": [
        {
          "data": {
            "text/plain": [
              "0    [no, side, effect, take, combin, bystol, fish,...\n",
              "1    [son, halfway, fourth, week, intuniv, becam, c...\n",
              "2    [use, take, anoth, oral, contracept, cycl, hap...\n",
              "3    [first, time, use, form, birth, control, glad,...\n",
              "4    [suboxon, complet, turn, life, around, feel, h...\n",
              "Name: Combined_re_con, dtype: object"
            ]
          },
          "execution_count": 54,
          "metadata": {},
          "output_type": "execute_result"
        }
      ],
      "source": [
        "drug_data['Combined_re_con'].head()"
      ]
    },
    {
      "cell_type": "code",
      "execution_count": 55,
      "metadata": {},
      "outputs": [
        {
          "name": "stdout",
          "output_type": "stream",
          "text": [
            "Max length: 101\n"
          ]
        }
      ],
      "source": [
        "max_length = drug_data['Combined_re_con'].apply(len).max()\n",
        "\n",
        "print(\"Max length:\", max_length)"
      ]
    },
    {
      "cell_type": "markdown",
      "metadata": {},
      "source": [
        "#### 'Combined_re_con' 컬럼 등장 빈도 3회 미만 단어"
      ]
    },
    {
      "cell_type": "code",
      "execution_count": 56,
      "metadata": {},
      "outputs": [
        {
          "name": "stdout",
          "output_type": "stream",
          "text": [
            "총 단어: 32647\n",
            "등장 빈도가 3회 미만인 단어 : 16568\n"
          ]
        }
      ],
      "source": [
        "from collections import Counter\n",
        "\n",
        "words = []\n",
        "for text in drug_data['Combined_re_con']:\n",
        "    words.extend(text)\n",
        "\n",
        "word_freq = Counter(words)\n",
        "\n",
        "words_to_remove = {word for word, freq in word_freq.items() if freq < 3} # 등장 빈도 3회 미만 단어\n",
        "\n",
        "print(\"총 단어:\", len(set(words)))\n",
        "\n",
        "print(\"등장 빈도가 3회 미만인 단어 :\", len(words_to_remove))"
      ]
    },
    {
      "cell_type": "markdown",
      "metadata": {},
      "source": [
        "#### 'Combined_re_con' 등장 빈도 3회 미만 단어 제거"
      ]
    },
    {
      "cell_type": "code",
      "execution_count": 57,
      "metadata": {},
      "outputs": [
        {
          "name": "stdout",
          "output_type": "stream",
          "text": [
            "총 단어: 16079\n"
          ]
        }
      ],
      "source": [
        "drug_data['Combined_re_con'] = drug_data['Combined_re_con'].apply(\n",
        "    lambda text_list: [word for word in text_list if word not in words_to_remove]\n",
        ")\n",
        "\n",
        "words = []\n",
        "for text in drug_data['Combined_re_con']: # 제거 후 총 단어 개수 \n",
        "    words.extend(text)\n",
        "\n",
        "print(\"총 단어:\", len(set(words)))"
      ]
    },
    {
      "cell_type": "code",
      "execution_count": 58,
      "metadata": {},
      "outputs": [
        {
          "data": {
            "text/plain": [
              "0"
            ]
          },
          "execution_count": 58,
          "metadata": {},
          "output_type": "execute_result"
        }
      ],
      "source": [
        "drug_data['Combined_re_con'].isnull().sum()"
      ]
    },
    {
      "cell_type": "code",
      "execution_count": 59,
      "metadata": {},
      "outputs": [
        {
          "data": {
            "text/plain": [
              "0    [no, side, effect, take, combin, bystol, fish,...\n",
              "1    [son, halfway, fourth, week, intuniv, becam, c...\n",
              "2    [use, take, anoth, oral, contracept, cycl, hap...\n",
              "3    [first, time, use, form, birth, control, glad,...\n",
              "4    [suboxon, complet, turn, life, around, feel, h...\n",
              "Name: Combined_re_con, dtype: object"
            ]
          },
          "execution_count": 59,
          "metadata": {},
          "output_type": "execute_result"
        }
      ],
      "source": [
        "drug_data['Combined_re_con'].head()"
      ]
    },
    {
      "cell_type": "markdown",
      "metadata": {},
      "source": [
        "#### 'Combined_re_con' Padding 적용"
      ]
    },
    {
      "cell_type": "code",
      "execution_count": 60,
      "metadata": {},
      "outputs": [
        {
          "data": {
            "text/plain": [
              "pandas.core.series.Series"
            ]
          },
          "execution_count": 60,
          "metadata": {},
          "output_type": "execute_result"
        }
      ],
      "source": [
        "type(drug_data['Combined_re_con'])"
      ]
    },
    {
      "cell_type": "code",
      "execution_count": 61,
      "metadata": {},
      "outputs": [],
      "source": [
        "drug_data['Padding_re_con'] = convert_padding(drug_data, 'Combined_re_con')"
      ]
    },
    {
      "cell_type": "code",
      "execution_count": 62,
      "metadata": {},
      "outputs": [
        {
          "name": "stdout",
          "output_type": "stream",
          "text": [
            "MAX : 16079\n"
          ]
        }
      ],
      "source": [
        "print(\"MAX :\", max([max(row) for row in drug_data['Padding_re_con']]))"
      ]
    },
    {
      "cell_type": "markdown",
      "metadata": {},
      "source": [
        "#### 'Combined_re_con' Embedding 적용"
      ]
    },
    {
      "cell_type": "code",
      "execution_count": 63,
      "metadata": {},
      "outputs": [],
      "source": [
        "#drug_data['Embedding_re_con'] = convert_embedding(drug_data, 'Padding_re_con')"
      ]
    },
    {
      "cell_type": "code",
      "execution_count": 64,
      "metadata": {},
      "outputs": [
        {
          "data": {
            "text/html": [
              "<div>\n",
              "<style scoped>\n",
              "    .dataframe tbody tr th:only-of-type {\n",
              "        vertical-align: middle;\n",
              "    }\n",
              "\n",
              "    .dataframe tbody tr th {\n",
              "        vertical-align: top;\n",
              "    }\n",
              "\n",
              "    .dataframe thead th {\n",
              "        text-align: right;\n",
              "    }\n",
              "</style>\n",
              "<table border=\"1\" class=\"dataframe\">\n",
              "  <thead>\n",
              "    <tr style=\"text-align: right;\">\n",
              "      <th></th>\n",
              "      <th>uniqueID</th>\n",
              "      <th>drugName</th>\n",
              "      <th>condition</th>\n",
              "      <th>review</th>\n",
              "      <th>rating</th>\n",
              "      <th>date</th>\n",
              "      <th>usefulCount</th>\n",
              "      <th>fixed_review</th>\n",
              "      <th>fixed_condition</th>\n",
              "      <th>Combined_re_con</th>\n",
              "      <th>Padding_re_con</th>\n",
              "    </tr>\n",
              "  </thead>\n",
              "  <tbody>\n",
              "    <tr>\n",
              "      <th>0</th>\n",
              "      <td>206461</td>\n",
              "      <td>Valsartan</td>\n",
              "      <td>Left Ventricular Dysfunction</td>\n",
              "      <td>\"It has no side effect, I take it in combinati...</td>\n",
              "      <td>9</td>\n",
              "      <td>20-May-12</td>\n",
              "      <td>27</td>\n",
              "      <td>[no, side, effect, take, combin, bystol, fish,...</td>\n",
              "      <td>[left, ventricular, dysfunct]</td>\n",
              "      <td>[no, side, effect, take, combin, bystol, fish,...</td>\n",
              "      <td>[7, 10, 4, 1, 494, 2198, 2492, 1197, 312, 3649...</td>\n",
              "    </tr>\n",
              "    <tr>\n",
              "      <th>1</th>\n",
              "      <td>95260</td>\n",
              "      <td>Guanfacine</td>\n",
              "      <td>ADHD</td>\n",
              "      <td>\"My son is halfway through his fourth week of ...</td>\n",
              "      <td>8</td>\n",
              "      <td>27-Apr-10</td>\n",
              "      <td>192</td>\n",
              "      <td>[son, halfway, fourth, week, intuniv, becam, c...</td>\n",
              "      <td>[adhd]</td>\n",
              "      <td>[son, halfway, fourth, week, intuniv, becam, c...</td>\n",
              "      <td>[493, 2555, 1336, 19, 2455, 303, 614, 257, 48,...</td>\n",
              "    </tr>\n",
              "    <tr>\n",
              "      <th>2</th>\n",
              "      <td>92703</td>\n",
              "      <td>Lybrel</td>\n",
              "      <td>Birth Control</td>\n",
              "      <td>\"I used to take another oral contraceptive, wh...</td>\n",
              "      <td>5</td>\n",
              "      <td>14-Dec-09</td>\n",
              "      <td>17</td>\n",
              "      <td>[use, take, anoth, oral, contracept, cycl, hap...</td>\n",
              "      <td>[birth, control]</td>\n",
              "      <td>[use, take, anoth, oral, contracept, cycl, hap...</td>\n",
              "      <td>[17, 1, 172, 885, 370, 359, 159, 190, 20, 1457...</td>\n",
              "    </tr>\n",
              "    <tr>\n",
              "      <th>3</th>\n",
              "      <td>138000</td>\n",
              "      <td>Ortho Evra</td>\n",
              "      <td>Birth Control</td>\n",
              "      <td>\"This is my first time using any form of birth...</td>\n",
              "      <td>8</td>\n",
              "      <td>3-Nov-15</td>\n",
              "      <td>10</td>\n",
              "      <td>[first, time, use, form, birth, control, glad,...</td>\n",
              "      <td>[birth, control]</td>\n",
              "      <td>[first, time, use, form, birth, control, glad,...</td>\n",
              "      <td>[15, 13, 17, 475, 14, 12, 469, 50, 278, 15, 35...</td>\n",
              "    </tr>\n",
              "    <tr>\n",
              "      <th>4</th>\n",
              "      <td>35696</td>\n",
              "      <td>Buprenorphine / naloxone</td>\n",
              "      <td>Opiate Dependence</td>\n",
              "      <td>\"Suboxone has completely turned my life around...</td>\n",
              "      <td>9</td>\n",
              "      <td>27-Nov-16</td>\n",
              "      <td>37</td>\n",
              "      <td>[suboxon, complet, turn, life, around, feel, h...</td>\n",
              "      <td>[opiat, depend]</td>\n",
              "      <td>[suboxon, complet, turn, life, around, feel, h...</td>\n",
              "      <td>[746, 134, 376, 37, 137, 11, 1808, 888, 338, 1...</td>\n",
              "    </tr>\n",
              "  </tbody>\n",
              "</table>\n",
              "</div>"
            ],
            "text/plain": [
              "   uniqueID                  drugName                     condition  \\\n",
              "0    206461                 Valsartan  Left Ventricular Dysfunction   \n",
              "1     95260                Guanfacine                          ADHD   \n",
              "2     92703                    Lybrel                 Birth Control   \n",
              "3    138000                Ortho Evra                 Birth Control   \n",
              "4     35696  Buprenorphine / naloxone             Opiate Dependence   \n",
              "\n",
              "                                              review  rating       date  \\\n",
              "0  \"It has no side effect, I take it in combinati...       9  20-May-12   \n",
              "1  \"My son is halfway through his fourth week of ...       8  27-Apr-10   \n",
              "2  \"I used to take another oral contraceptive, wh...       5  14-Dec-09   \n",
              "3  \"This is my first time using any form of birth...       8   3-Nov-15   \n",
              "4  \"Suboxone has completely turned my life around...       9  27-Nov-16   \n",
              "\n",
              "   usefulCount                                       fixed_review  \\\n",
              "0           27  [no, side, effect, take, combin, bystol, fish,...   \n",
              "1          192  [son, halfway, fourth, week, intuniv, becam, c...   \n",
              "2           17  [use, take, anoth, oral, contracept, cycl, hap...   \n",
              "3           10  [first, time, use, form, birth, control, glad,...   \n",
              "4           37  [suboxon, complet, turn, life, around, feel, h...   \n",
              "\n",
              "                 fixed_condition  \\\n",
              "0  [left, ventricular, dysfunct]   \n",
              "1                         [adhd]   \n",
              "2               [birth, control]   \n",
              "3               [birth, control]   \n",
              "4                [opiat, depend]   \n",
              "\n",
              "                                     Combined_re_con  \\\n",
              "0  [no, side, effect, take, combin, bystol, fish,...   \n",
              "1  [son, halfway, fourth, week, intuniv, becam, c...   \n",
              "2  [use, take, anoth, oral, contracept, cycl, hap...   \n",
              "3  [first, time, use, form, birth, control, glad,...   \n",
              "4  [suboxon, complet, turn, life, around, feel, h...   \n",
              "\n",
              "                                      Padding_re_con  \n",
              "0  [7, 10, 4, 1, 494, 2198, 2492, 1197, 312, 3649...  \n",
              "1  [493, 2555, 1336, 19, 2455, 303, 614, 257, 48,...  \n",
              "2  [17, 1, 172, 885, 370, 359, 159, 190, 20, 1457...  \n",
              "3  [15, 13, 17, 475, 14, 12, 469, 50, 278, 15, 35...  \n",
              "4  [746, 134, 376, 37, 137, 11, 1808, 888, 338, 1...  "
            ]
          },
          "execution_count": 64,
          "metadata": {},
          "output_type": "execute_result"
        }
      ],
      "source": [
        "drug_data.head()"
      ]
    },
    {
      "cell_type": "markdown",
      "metadata": {},
      "source": [
        "### 'drugName' 인코딩"
      ]
    },
    {
      "cell_type": "markdown",
      "metadata": {},
      "source": [
        "#### 'drugName' Label Encoding"
      ]
    },
    {
      "cell_type": "code",
      "execution_count": 65,
      "metadata": {},
      "outputs": [
        {
          "name": "stdout",
          "output_type": "stream",
          "text": [
            "                        drugName  encoded_drugName\n",
            "0                      Valsartan              3197\n",
            "1                     Guanfacine              1428\n",
            "2                         Lybrel              1851\n",
            "3                     Ortho Evra              2279\n",
            "4       Buprenorphine / naloxone               515\n",
            "...                          ...               ...\n",
            "161292                   Campral               554\n",
            "161293            Metoclopramide              1971\n",
            "161294                   Orencia              2273\n",
            "161295        Thyroid desiccated              3022\n",
            "161296              Lubiprostone              1837\n",
            "\n",
            "[160164 rows x 2 columns]\n"
          ]
        }
      ],
      "source": [
        "from sklearn.preprocessing import LabelEncoder\n",
        "\n",
        "# LabelEncoder 초기화\n",
        "label_encoder = LabelEncoder()\n",
        "\n",
        "drug_data['encoded_drugName'] = label_encoder.fit_transform(drug_data['drugName'])\n",
        "\n",
        "print(drug_data[['drugName', 'encoded_drugName']])"
      ]
    },
    {
      "cell_type": "markdown",
      "metadata": {},
      "source": [
        "#### 'drugName' Label Encoding MAX number"
      ]
    },
    {
      "cell_type": "code",
      "execution_count": 66,
      "metadata": {},
      "outputs": [
        {
          "name": "stdout",
          "output_type": "stream",
          "text": [
            "MAX Number : 3429\n"
          ]
        }
      ],
      "source": [
        "print(\"MAX Number :\", drug_data['encoded_drugName'].max())"
      ]
    },
    {
      "cell_type": "code",
      "execution_count": 67,
      "metadata": {},
      "outputs": [
        {
          "data": {
            "text/html": [
              "<div>\n",
              "<style scoped>\n",
              "    .dataframe tbody tr th:only-of-type {\n",
              "        vertical-align: middle;\n",
              "    }\n",
              "\n",
              "    .dataframe tbody tr th {\n",
              "        vertical-align: top;\n",
              "    }\n",
              "\n",
              "    .dataframe thead th {\n",
              "        text-align: right;\n",
              "    }\n",
              "</style>\n",
              "<table border=\"1\" class=\"dataframe\">\n",
              "  <thead>\n",
              "    <tr style=\"text-align: right;\">\n",
              "      <th></th>\n",
              "      <th>uniqueID</th>\n",
              "      <th>drugName</th>\n",
              "      <th>condition</th>\n",
              "      <th>review</th>\n",
              "      <th>rating</th>\n",
              "      <th>date</th>\n",
              "      <th>usefulCount</th>\n",
              "      <th>fixed_review</th>\n",
              "      <th>fixed_condition</th>\n",
              "      <th>Combined_re_con</th>\n",
              "      <th>Padding_re_con</th>\n",
              "      <th>encoded_drugName</th>\n",
              "    </tr>\n",
              "  </thead>\n",
              "  <tbody>\n",
              "    <tr>\n",
              "      <th>0</th>\n",
              "      <td>206461</td>\n",
              "      <td>Valsartan</td>\n",
              "      <td>Left Ventricular Dysfunction</td>\n",
              "      <td>\"It has no side effect, I take it in combinati...</td>\n",
              "      <td>9</td>\n",
              "      <td>20-May-12</td>\n",
              "      <td>27</td>\n",
              "      <td>[no, side, effect, take, combin, bystol, fish,...</td>\n",
              "      <td>[left, ventricular, dysfunct]</td>\n",
              "      <td>[no, side, effect, take, combin, bystol, fish,...</td>\n",
              "      <td>[7, 10, 4, 1, 494, 2198, 2492, 1197, 312, 3649...</td>\n",
              "      <td>3197</td>\n",
              "    </tr>\n",
              "    <tr>\n",
              "      <th>1</th>\n",
              "      <td>95260</td>\n",
              "      <td>Guanfacine</td>\n",
              "      <td>ADHD</td>\n",
              "      <td>\"My son is halfway through his fourth week of ...</td>\n",
              "      <td>8</td>\n",
              "      <td>27-Apr-10</td>\n",
              "      <td>192</td>\n",
              "      <td>[son, halfway, fourth, week, intuniv, becam, c...</td>\n",
              "      <td>[adhd]</td>\n",
              "      <td>[son, halfway, fourth, week, intuniv, becam, c...</td>\n",
              "      <td>[493, 2555, 1336, 19, 2455, 303, 614, 257, 48,...</td>\n",
              "      <td>1428</td>\n",
              "    </tr>\n",
              "    <tr>\n",
              "      <th>2</th>\n",
              "      <td>92703</td>\n",
              "      <td>Lybrel</td>\n",
              "      <td>Birth Control</td>\n",
              "      <td>\"I used to take another oral contraceptive, wh...</td>\n",
              "      <td>5</td>\n",
              "      <td>14-Dec-09</td>\n",
              "      <td>17</td>\n",
              "      <td>[use, take, anoth, oral, contracept, cycl, hap...</td>\n",
              "      <td>[birth, control]</td>\n",
              "      <td>[use, take, anoth, oral, contracept, cycl, hap...</td>\n",
              "      <td>[17, 1, 172, 885, 370, 359, 159, 190, 20, 1457...</td>\n",
              "      <td>1851</td>\n",
              "    </tr>\n",
              "    <tr>\n",
              "      <th>3</th>\n",
              "      <td>138000</td>\n",
              "      <td>Ortho Evra</td>\n",
              "      <td>Birth Control</td>\n",
              "      <td>\"This is my first time using any form of birth...</td>\n",
              "      <td>8</td>\n",
              "      <td>3-Nov-15</td>\n",
              "      <td>10</td>\n",
              "      <td>[first, time, use, form, birth, control, glad,...</td>\n",
              "      <td>[birth, control]</td>\n",
              "      <td>[first, time, use, form, birth, control, glad,...</td>\n",
              "      <td>[15, 13, 17, 475, 14, 12, 469, 50, 278, 15, 35...</td>\n",
              "      <td>2279</td>\n",
              "    </tr>\n",
              "    <tr>\n",
              "      <th>4</th>\n",
              "      <td>35696</td>\n",
              "      <td>Buprenorphine / naloxone</td>\n",
              "      <td>Opiate Dependence</td>\n",
              "      <td>\"Suboxone has completely turned my life around...</td>\n",
              "      <td>9</td>\n",
              "      <td>27-Nov-16</td>\n",
              "      <td>37</td>\n",
              "      <td>[suboxon, complet, turn, life, around, feel, h...</td>\n",
              "      <td>[opiat, depend]</td>\n",
              "      <td>[suboxon, complet, turn, life, around, feel, h...</td>\n",
              "      <td>[746, 134, 376, 37, 137, 11, 1808, 888, 338, 1...</td>\n",
              "      <td>515</td>\n",
              "    </tr>\n",
              "  </tbody>\n",
              "</table>\n",
              "</div>"
            ],
            "text/plain": [
              "   uniqueID                  drugName                     condition  \\\n",
              "0    206461                 Valsartan  Left Ventricular Dysfunction   \n",
              "1     95260                Guanfacine                          ADHD   \n",
              "2     92703                    Lybrel                 Birth Control   \n",
              "3    138000                Ortho Evra                 Birth Control   \n",
              "4     35696  Buprenorphine / naloxone             Opiate Dependence   \n",
              "\n",
              "                                              review  rating       date  \\\n",
              "0  \"It has no side effect, I take it in combinati...       9  20-May-12   \n",
              "1  \"My son is halfway through his fourth week of ...       8  27-Apr-10   \n",
              "2  \"I used to take another oral contraceptive, wh...       5  14-Dec-09   \n",
              "3  \"This is my first time using any form of birth...       8   3-Nov-15   \n",
              "4  \"Suboxone has completely turned my life around...       9  27-Nov-16   \n",
              "\n",
              "   usefulCount                                       fixed_review  \\\n",
              "0           27  [no, side, effect, take, combin, bystol, fish,...   \n",
              "1          192  [son, halfway, fourth, week, intuniv, becam, c...   \n",
              "2           17  [use, take, anoth, oral, contracept, cycl, hap...   \n",
              "3           10  [first, time, use, form, birth, control, glad,...   \n",
              "4           37  [suboxon, complet, turn, life, around, feel, h...   \n",
              "\n",
              "                 fixed_condition  \\\n",
              "0  [left, ventricular, dysfunct]   \n",
              "1                         [adhd]   \n",
              "2               [birth, control]   \n",
              "3               [birth, control]   \n",
              "4                [opiat, depend]   \n",
              "\n",
              "                                     Combined_re_con  \\\n",
              "0  [no, side, effect, take, combin, bystol, fish,...   \n",
              "1  [son, halfway, fourth, week, intuniv, becam, c...   \n",
              "2  [use, take, anoth, oral, contracept, cycl, hap...   \n",
              "3  [first, time, use, form, birth, control, glad,...   \n",
              "4  [suboxon, complet, turn, life, around, feel, h...   \n",
              "\n",
              "                                      Padding_re_con  encoded_drugName  \n",
              "0  [7, 10, 4, 1, 494, 2198, 2492, 1197, 312, 3649...              3197  \n",
              "1  [493, 2555, 1336, 19, 2455, 303, 614, 257, 48,...              1428  \n",
              "2  [17, 1, 172, 885, 370, 359, 159, 190, 20, 1457...              1851  \n",
              "3  [15, 13, 17, 475, 14, 12, 469, 50, 278, 15, 35...              2279  \n",
              "4  [746, 134, 376, 37, 137, 11, 1808, 888, 338, 1...               515  "
            ]
          },
          "execution_count": 67,
          "metadata": {},
          "output_type": "execute_result"
        }
      ],
      "source": [
        "drug_data.head()"
      ]
    },
    {
      "cell_type": "markdown",
      "metadata": {
        "id": "r3aYI7iCpHep"
      },
      "source": [
        "### 파생변수 'sentiment' 생성"
      ]
    },
    {
      "cell_type": "markdown",
      "metadata": {
        "id": "J0jb_DVW4Pht"
      },
      "source": [
        "#### rating(평점)이 8 이상이면 1(긍정), 5이상 7이하이면 2(보통), 1이상 4이하이면 3(부정)\n",
        "// describe()를 근거로 하지만 75% 가 10이기 때문에 위배될 가능성"
      ]
    },
    {
      "cell_type": "code",
      "execution_count": 68,
      "metadata": {
        "id": "B4Ehz8WopLLx"
      },
      "outputs": [],
      "source": [
        "drug_data['sentiment'] = drug_data['rating'].apply(lambda x: 1 if x >= 8 else (2 if x >= 5 else 3))"
      ]
    },
    {
      "cell_type": "code",
      "execution_count": 69,
      "metadata": {
        "colab": {
          "base_uri": "https://localhost:8080/",
          "height": 537
        },
        "id": "67c7EW5hpeaA",
        "outputId": "aeb5e2f7-46f6-4d31-ee25-d77be7c2c88a"
      },
      "outputs": [
        {
          "data": {
            "text/html": [
              "<div>\n",
              "<style scoped>\n",
              "    .dataframe tbody tr th:only-of-type {\n",
              "        vertical-align: middle;\n",
              "    }\n",
              "\n",
              "    .dataframe tbody tr th {\n",
              "        vertical-align: top;\n",
              "    }\n",
              "\n",
              "    .dataframe thead th {\n",
              "        text-align: right;\n",
              "    }\n",
              "</style>\n",
              "<table border=\"1\" class=\"dataframe\">\n",
              "  <thead>\n",
              "    <tr style=\"text-align: right;\">\n",
              "      <th></th>\n",
              "      <th>uniqueID</th>\n",
              "      <th>drugName</th>\n",
              "      <th>condition</th>\n",
              "      <th>review</th>\n",
              "      <th>rating</th>\n",
              "      <th>date</th>\n",
              "      <th>usefulCount</th>\n",
              "      <th>fixed_review</th>\n",
              "      <th>fixed_condition</th>\n",
              "      <th>Combined_re_con</th>\n",
              "      <th>Padding_re_con</th>\n",
              "      <th>encoded_drugName</th>\n",
              "      <th>sentiment</th>\n",
              "    </tr>\n",
              "  </thead>\n",
              "  <tbody>\n",
              "    <tr>\n",
              "      <th>0</th>\n",
              "      <td>206461</td>\n",
              "      <td>Valsartan</td>\n",
              "      <td>Left Ventricular Dysfunction</td>\n",
              "      <td>\"It has no side effect, I take it in combinati...</td>\n",
              "      <td>9</td>\n",
              "      <td>20-May-12</td>\n",
              "      <td>27</td>\n",
              "      <td>[no, side, effect, take, combin, bystol, fish,...</td>\n",
              "      <td>[left, ventricular, dysfunct]</td>\n",
              "      <td>[no, side, effect, take, combin, bystol, fish,...</td>\n",
              "      <td>[7, 10, 4, 1, 494, 2198, 2492, 1197, 312, 3649...</td>\n",
              "      <td>3197</td>\n",
              "      <td>1</td>\n",
              "    </tr>\n",
              "    <tr>\n",
              "      <th>1</th>\n",
              "      <td>95260</td>\n",
              "      <td>Guanfacine</td>\n",
              "      <td>ADHD</td>\n",
              "      <td>\"My son is halfway through his fourth week of ...</td>\n",
              "      <td>8</td>\n",
              "      <td>27-Apr-10</td>\n",
              "      <td>192</td>\n",
              "      <td>[son, halfway, fourth, week, intuniv, becam, c...</td>\n",
              "      <td>[adhd]</td>\n",
              "      <td>[son, halfway, fourth, week, intuniv, becam, c...</td>\n",
              "      <td>[493, 2555, 1336, 19, 2455, 303, 614, 257, 48,...</td>\n",
              "      <td>1428</td>\n",
              "      <td>1</td>\n",
              "    </tr>\n",
              "    <tr>\n",
              "      <th>2</th>\n",
              "      <td>92703</td>\n",
              "      <td>Lybrel</td>\n",
              "      <td>Birth Control</td>\n",
              "      <td>\"I used to take another oral contraceptive, wh...</td>\n",
              "      <td>5</td>\n",
              "      <td>14-Dec-09</td>\n",
              "      <td>17</td>\n",
              "      <td>[use, take, anoth, oral, contracept, cycl, hap...</td>\n",
              "      <td>[birth, control]</td>\n",
              "      <td>[use, take, anoth, oral, contracept, cycl, hap...</td>\n",
              "      <td>[17, 1, 172, 885, 370, 359, 159, 190, 20, 1457...</td>\n",
              "      <td>1851</td>\n",
              "      <td>2</td>\n",
              "    </tr>\n",
              "    <tr>\n",
              "      <th>3</th>\n",
              "      <td>138000</td>\n",
              "      <td>Ortho Evra</td>\n",
              "      <td>Birth Control</td>\n",
              "      <td>\"This is my first time using any form of birth...</td>\n",
              "      <td>8</td>\n",
              "      <td>3-Nov-15</td>\n",
              "      <td>10</td>\n",
              "      <td>[first, time, use, form, birth, control, glad,...</td>\n",
              "      <td>[birth, control]</td>\n",
              "      <td>[first, time, use, form, birth, control, glad,...</td>\n",
              "      <td>[15, 13, 17, 475, 14, 12, 469, 50, 278, 15, 35...</td>\n",
              "      <td>2279</td>\n",
              "      <td>1</td>\n",
              "    </tr>\n",
              "    <tr>\n",
              "      <th>4</th>\n",
              "      <td>35696</td>\n",
              "      <td>Buprenorphine / naloxone</td>\n",
              "      <td>Opiate Dependence</td>\n",
              "      <td>\"Suboxone has completely turned my life around...</td>\n",
              "      <td>9</td>\n",
              "      <td>27-Nov-16</td>\n",
              "      <td>37</td>\n",
              "      <td>[suboxon, complet, turn, life, around, feel, h...</td>\n",
              "      <td>[opiat, depend]</td>\n",
              "      <td>[suboxon, complet, turn, life, around, feel, h...</td>\n",
              "      <td>[746, 134, 376, 37, 137, 11, 1808, 888, 338, 1...</td>\n",
              "      <td>515</td>\n",
              "      <td>1</td>\n",
              "    </tr>\n",
              "    <tr>\n",
              "      <th>5</th>\n",
              "      <td>155963</td>\n",
              "      <td>Cialis</td>\n",
              "      <td>Benign Prostatic Hyperplasia</td>\n",
              "      <td>\"2nd day on 5mg started to work with rock hard...</td>\n",
              "      <td>2</td>\n",
              "      <td>28-Nov-15</td>\n",
              "      <td>43</td>\n",
              "      <td>[day, start, work, rock, hard, erect, howev, e...</td>\n",
              "      <td>[benign, prostat, hyperplasia]</td>\n",
              "      <td>[day, start, work, rock, hard, erect, howev, e...</td>\n",
              "      <td>[3, 9, 6, 1675, 252, 865, 120, 9166, 72, 261, ...</td>\n",
              "      <td>668</td>\n",
              "      <td>3</td>\n",
              "    </tr>\n",
              "    <tr>\n",
              "      <th>6</th>\n",
              "      <td>165907</td>\n",
              "      <td>Levonorgestrel</td>\n",
              "      <td>Emergency Contraception</td>\n",
              "      <td>\"He pulled out, but he cummed a bit in me. I t...</td>\n",
              "      <td>1</td>\n",
              "      <td>7-Mar-17</td>\n",
              "      <td>5</td>\n",
              "      <td>[pull, cum, bit, took, plan, b, later, took, p...</td>\n",
              "      <td>[emerg, contracept]</td>\n",
              "      <td>[pull, cum, bit, took, plan, b, later, took, p...</td>\n",
              "      <td>[895, 3019, 195, 35, 284, 416, 148, 35, 320, 3...</td>\n",
              "      <td>1745</td>\n",
              "      <td>3</td>\n",
              "    </tr>\n",
              "    <tr>\n",
              "      <th>7</th>\n",
              "      <td>102654</td>\n",
              "      <td>Aripiprazole</td>\n",
              "      <td>Bipolar Disorde</td>\n",
              "      <td>\"Abilify changed my life. There is hope. I was...</td>\n",
              "      <td>10</td>\n",
              "      <td>14-Mar-15</td>\n",
              "      <td>32</td>\n",
              "      <td>[abilifi, chang, life, hope, zoloft, clonidin,...</td>\n",
              "      <td>[bipolar, disord]</td>\n",
              "      <td>[abilifi, chang, life, hope, zoloft, clonidin,...</td>\n",
              "      <td>[807, 77, 37, 92, 356, 1797, 15, 9, 807, 433, ...</td>\n",
              "      <td>259</td>\n",
              "      <td>1</td>\n",
              "    </tr>\n",
              "    <tr>\n",
              "      <th>8</th>\n",
              "      <td>74811</td>\n",
              "      <td>Keppra</td>\n",
              "      <td>Epilepsy</td>\n",
              "      <td>\" I Ve had  nothing but problems with the Kepp...</td>\n",
              "      <td>1</td>\n",
              "      <td>9-Aug-16</td>\n",
              "      <td>11</td>\n",
              "      <td>[noth, problem, keppera, constant, shake, arm,...</td>\n",
              "      <td>[epilepsi]</td>\n",
              "      <td>[noth, problem, keppera, constant, shake, arm,...</td>\n",
              "      <td>[100, 75, 10101, 333, 731, 379, 94, 242, 94, 2...</td>\n",
              "      <td>1659</td>\n",
              "      <td>3</td>\n",
              "    </tr>\n",
              "    <tr>\n",
              "      <th>9</th>\n",
              "      <td>48928</td>\n",
              "      <td>Ethinyl estradiol / levonorgestrel</td>\n",
              "      <td>Birth Control</td>\n",
              "      <td>\"I had been on the pill for many years. When m...</td>\n",
              "      <td>8</td>\n",
              "      <td>8-Dec-16</td>\n",
              "      <td>1</td>\n",
              "      <td>[pill, mani, year, doctor, chang, rx, chateal,...</td>\n",
              "      <td>[birth, control]</td>\n",
              "      <td>[pill, mani, year, doctor, chang, rx, chateal,...</td>\n",
              "      <td>[21, 133, 26, 32, 77, 1392, 2755, 4, 43, 24, 1...</td>\n",
              "      <td>1179</td>\n",
              "      <td>1</td>\n",
              "    </tr>\n",
              "  </tbody>\n",
              "</table>\n",
              "</div>"
            ],
            "text/plain": [
              "   uniqueID                            drugName                     condition  \\\n",
              "0    206461                           Valsartan  Left Ventricular Dysfunction   \n",
              "1     95260                          Guanfacine                          ADHD   \n",
              "2     92703                              Lybrel                 Birth Control   \n",
              "3    138000                          Ortho Evra                 Birth Control   \n",
              "4     35696            Buprenorphine / naloxone             Opiate Dependence   \n",
              "5    155963                              Cialis  Benign Prostatic Hyperplasia   \n",
              "6    165907                      Levonorgestrel       Emergency Contraception   \n",
              "7    102654                        Aripiprazole               Bipolar Disorde   \n",
              "8     74811                              Keppra                      Epilepsy   \n",
              "9     48928  Ethinyl estradiol / levonorgestrel                 Birth Control   \n",
              "\n",
              "                                              review  rating       date  \\\n",
              "0  \"It has no side effect, I take it in combinati...       9  20-May-12   \n",
              "1  \"My son is halfway through his fourth week of ...       8  27-Apr-10   \n",
              "2  \"I used to take another oral contraceptive, wh...       5  14-Dec-09   \n",
              "3  \"This is my first time using any form of birth...       8   3-Nov-15   \n",
              "4  \"Suboxone has completely turned my life around...       9  27-Nov-16   \n",
              "5  \"2nd day on 5mg started to work with rock hard...       2  28-Nov-15   \n",
              "6  \"He pulled out, but he cummed a bit in me. I t...       1   7-Mar-17   \n",
              "7  \"Abilify changed my life. There is hope. I was...      10  14-Mar-15   \n",
              "8  \" I Ve had  nothing but problems with the Kepp...       1   9-Aug-16   \n",
              "9  \"I had been on the pill for many years. When m...       8   8-Dec-16   \n",
              "\n",
              "   usefulCount                                       fixed_review  \\\n",
              "0           27  [no, side, effect, take, combin, bystol, fish,...   \n",
              "1          192  [son, halfway, fourth, week, intuniv, becam, c...   \n",
              "2           17  [use, take, anoth, oral, contracept, cycl, hap...   \n",
              "3           10  [first, time, use, form, birth, control, glad,...   \n",
              "4           37  [suboxon, complet, turn, life, around, feel, h...   \n",
              "5           43  [day, start, work, rock, hard, erect, howev, e...   \n",
              "6            5  [pull, cum, bit, took, plan, b, later, took, p...   \n",
              "7           32  [abilifi, chang, life, hope, zoloft, clonidin,...   \n",
              "8           11  [noth, problem, keppera, constant, shake, arm,...   \n",
              "9            1  [pill, mani, year, doctor, chang, rx, chateal,...   \n",
              "\n",
              "                  fixed_condition  \\\n",
              "0   [left, ventricular, dysfunct]   \n",
              "1                          [adhd]   \n",
              "2                [birth, control]   \n",
              "3                [birth, control]   \n",
              "4                 [opiat, depend]   \n",
              "5  [benign, prostat, hyperplasia]   \n",
              "6             [emerg, contracept]   \n",
              "7               [bipolar, disord]   \n",
              "8                      [epilepsi]   \n",
              "9                [birth, control]   \n",
              "\n",
              "                                     Combined_re_con  \\\n",
              "0  [no, side, effect, take, combin, bystol, fish,...   \n",
              "1  [son, halfway, fourth, week, intuniv, becam, c...   \n",
              "2  [use, take, anoth, oral, contracept, cycl, hap...   \n",
              "3  [first, time, use, form, birth, control, glad,...   \n",
              "4  [suboxon, complet, turn, life, around, feel, h...   \n",
              "5  [day, start, work, rock, hard, erect, howev, e...   \n",
              "6  [pull, cum, bit, took, plan, b, later, took, p...   \n",
              "7  [abilifi, chang, life, hope, zoloft, clonidin,...   \n",
              "8  [noth, problem, keppera, constant, shake, arm,...   \n",
              "9  [pill, mani, year, doctor, chang, rx, chateal,...   \n",
              "\n",
              "                                      Padding_re_con  encoded_drugName  \\\n",
              "0  [7, 10, 4, 1, 494, 2198, 2492, 1197, 312, 3649...              3197   \n",
              "1  [493, 2555, 1336, 19, 2455, 303, 614, 257, 48,...              1428   \n",
              "2  [17, 1, 172, 885, 370, 359, 159, 190, 20, 1457...              1851   \n",
              "3  [15, 13, 17, 475, 14, 12, 469, 50, 278, 15, 35...              2279   \n",
              "4  [746, 134, 376, 37, 137, 11, 1808, 888, 338, 1...               515   \n",
              "5  [3, 9, 6, 1675, 252, 865, 120, 9166, 72, 261, ...               668   \n",
              "6  [895, 3019, 195, 35, 284, 416, 148, 35, 320, 3...              1745   \n",
              "7  [807, 77, 37, 92, 356, 1797, 15, 9, 807, 433, ...               259   \n",
              "8  [100, 75, 10101, 333, 731, 379, 94, 242, 94, 2...              1659   \n",
              "9  [21, 133, 26, 32, 77, 1392, 2755, 4, 43, 24, 1...              1179   \n",
              "\n",
              "   sentiment  \n",
              "0          1  \n",
              "1          1  \n",
              "2          2  \n",
              "3          1  \n",
              "4          1  \n",
              "5          3  \n",
              "6          3  \n",
              "7          1  \n",
              "8          3  \n",
              "9          1  "
            ]
          },
          "execution_count": 69,
          "metadata": {},
          "output_type": "execute_result"
        }
      ],
      "source": [
        "drug_data.head(10)"
      ]
    },
    {
      "cell_type": "markdown",
      "metadata": {
        "id": "yfm9jzUi94Mi"
      },
      "source": [
        "### 'fixed_date' 생성"
      ]
    },
    {
      "cell_type": "markdown",
      "metadata": {},
      "source": [
        "#### 'date' 컬럼 'datetime' 형식으로 변환"
      ]
    },
    {
      "cell_type": "code",
      "execution_count": 70,
      "metadata": {
        "colab": {
          "base_uri": "https://localhost:8080/"
        },
        "id": "sBCZSZ9A9pnB",
        "outputId": "aed13a09-3a4e-46e9-fd2e-0210f7603886"
      },
      "outputs": [
        {
          "name": "stderr",
          "output_type": "stream",
          "text": [
            "/tmp/ipykernel_255168/4049783553.py:1: UserWarning: Could not infer format, so each element will be parsed individually, falling back to `dateutil`. To ensure parsing is consistent and as-expected, please specify a format.\n",
            "  drug_data['fixed_date'] = pd.to_datetime(drug_data['date'])\n"
          ]
        }
      ],
      "source": [
        "drug_data['fixed_date'] = pd.to_datetime(drug_data['date'])"
      ]
    },
    {
      "cell_type": "code",
      "execution_count": 71,
      "metadata": {
        "colab": {
          "base_uri": "https://localhost:8080/",
          "height": 293
        },
        "id": "TqQPCFS1_n9l",
        "outputId": "5b463462-a9e0-43b1-c979-cbac13f75a6a"
      },
      "outputs": [
        {
          "data": {
            "text/html": [
              "<div>\n",
              "<style scoped>\n",
              "    .dataframe tbody tr th:only-of-type {\n",
              "        vertical-align: middle;\n",
              "    }\n",
              "\n",
              "    .dataframe tbody tr th {\n",
              "        vertical-align: top;\n",
              "    }\n",
              "\n",
              "    .dataframe thead th {\n",
              "        text-align: right;\n",
              "    }\n",
              "</style>\n",
              "<table border=\"1\" class=\"dataframe\">\n",
              "  <thead>\n",
              "    <tr style=\"text-align: right;\">\n",
              "      <th></th>\n",
              "      <th>uniqueID</th>\n",
              "      <th>drugName</th>\n",
              "      <th>condition</th>\n",
              "      <th>review</th>\n",
              "      <th>rating</th>\n",
              "      <th>date</th>\n",
              "      <th>usefulCount</th>\n",
              "      <th>fixed_review</th>\n",
              "      <th>fixed_condition</th>\n",
              "      <th>Combined_re_con</th>\n",
              "      <th>Padding_re_con</th>\n",
              "      <th>encoded_drugName</th>\n",
              "      <th>sentiment</th>\n",
              "      <th>fixed_date</th>\n",
              "    </tr>\n",
              "  </thead>\n",
              "  <tbody>\n",
              "    <tr>\n",
              "      <th>0</th>\n",
              "      <td>206461</td>\n",
              "      <td>Valsartan</td>\n",
              "      <td>Left Ventricular Dysfunction</td>\n",
              "      <td>\"It has no side effect, I take it in combinati...</td>\n",
              "      <td>9</td>\n",
              "      <td>20-May-12</td>\n",
              "      <td>27</td>\n",
              "      <td>[no, side, effect, take, combin, bystol, fish,...</td>\n",
              "      <td>[left, ventricular, dysfunct]</td>\n",
              "      <td>[no, side, effect, take, combin, bystol, fish,...</td>\n",
              "      <td>[7, 10, 4, 1, 494, 2198, 2492, 1197, 312, 3649...</td>\n",
              "      <td>3197</td>\n",
              "      <td>1</td>\n",
              "      <td>2012-05-20</td>\n",
              "    </tr>\n",
              "    <tr>\n",
              "      <th>1</th>\n",
              "      <td>95260</td>\n",
              "      <td>Guanfacine</td>\n",
              "      <td>ADHD</td>\n",
              "      <td>\"My son is halfway through his fourth week of ...</td>\n",
              "      <td>8</td>\n",
              "      <td>27-Apr-10</td>\n",
              "      <td>192</td>\n",
              "      <td>[son, halfway, fourth, week, intuniv, becam, c...</td>\n",
              "      <td>[adhd]</td>\n",
              "      <td>[son, halfway, fourth, week, intuniv, becam, c...</td>\n",
              "      <td>[493, 2555, 1336, 19, 2455, 303, 614, 257, 48,...</td>\n",
              "      <td>1428</td>\n",
              "      <td>1</td>\n",
              "      <td>2010-04-27</td>\n",
              "    </tr>\n",
              "    <tr>\n",
              "      <th>2</th>\n",
              "      <td>92703</td>\n",
              "      <td>Lybrel</td>\n",
              "      <td>Birth Control</td>\n",
              "      <td>\"I used to take another oral contraceptive, wh...</td>\n",
              "      <td>5</td>\n",
              "      <td>14-Dec-09</td>\n",
              "      <td>17</td>\n",
              "      <td>[use, take, anoth, oral, contracept, cycl, hap...</td>\n",
              "      <td>[birth, control]</td>\n",
              "      <td>[use, take, anoth, oral, contracept, cycl, hap...</td>\n",
              "      <td>[17, 1, 172, 885, 370, 359, 159, 190, 20, 1457...</td>\n",
              "      <td>1851</td>\n",
              "      <td>2</td>\n",
              "      <td>2009-12-14</td>\n",
              "    </tr>\n",
              "    <tr>\n",
              "      <th>3</th>\n",
              "      <td>138000</td>\n",
              "      <td>Ortho Evra</td>\n",
              "      <td>Birth Control</td>\n",
              "      <td>\"This is my first time using any form of birth...</td>\n",
              "      <td>8</td>\n",
              "      <td>3-Nov-15</td>\n",
              "      <td>10</td>\n",
              "      <td>[first, time, use, form, birth, control, glad,...</td>\n",
              "      <td>[birth, control]</td>\n",
              "      <td>[first, time, use, form, birth, control, glad,...</td>\n",
              "      <td>[15, 13, 17, 475, 14, 12, 469, 50, 278, 15, 35...</td>\n",
              "      <td>2279</td>\n",
              "      <td>1</td>\n",
              "      <td>2015-11-03</td>\n",
              "    </tr>\n",
              "    <tr>\n",
              "      <th>4</th>\n",
              "      <td>35696</td>\n",
              "      <td>Buprenorphine / naloxone</td>\n",
              "      <td>Opiate Dependence</td>\n",
              "      <td>\"Suboxone has completely turned my life around...</td>\n",
              "      <td>9</td>\n",
              "      <td>27-Nov-16</td>\n",
              "      <td>37</td>\n",
              "      <td>[suboxon, complet, turn, life, around, feel, h...</td>\n",
              "      <td>[opiat, depend]</td>\n",
              "      <td>[suboxon, complet, turn, life, around, feel, h...</td>\n",
              "      <td>[746, 134, 376, 37, 137, 11, 1808, 888, 338, 1...</td>\n",
              "      <td>515</td>\n",
              "      <td>1</td>\n",
              "      <td>2016-11-27</td>\n",
              "    </tr>\n",
              "  </tbody>\n",
              "</table>\n",
              "</div>"
            ],
            "text/plain": [
              "   uniqueID                  drugName                     condition  \\\n",
              "0    206461                 Valsartan  Left Ventricular Dysfunction   \n",
              "1     95260                Guanfacine                          ADHD   \n",
              "2     92703                    Lybrel                 Birth Control   \n",
              "3    138000                Ortho Evra                 Birth Control   \n",
              "4     35696  Buprenorphine / naloxone             Opiate Dependence   \n",
              "\n",
              "                                              review  rating       date  \\\n",
              "0  \"It has no side effect, I take it in combinati...       9  20-May-12   \n",
              "1  \"My son is halfway through his fourth week of ...       8  27-Apr-10   \n",
              "2  \"I used to take another oral contraceptive, wh...       5  14-Dec-09   \n",
              "3  \"This is my first time using any form of birth...       8   3-Nov-15   \n",
              "4  \"Suboxone has completely turned my life around...       9  27-Nov-16   \n",
              "\n",
              "   usefulCount                                       fixed_review  \\\n",
              "0           27  [no, side, effect, take, combin, bystol, fish,...   \n",
              "1          192  [son, halfway, fourth, week, intuniv, becam, c...   \n",
              "2           17  [use, take, anoth, oral, contracept, cycl, hap...   \n",
              "3           10  [first, time, use, form, birth, control, glad,...   \n",
              "4           37  [suboxon, complet, turn, life, around, feel, h...   \n",
              "\n",
              "                 fixed_condition  \\\n",
              "0  [left, ventricular, dysfunct]   \n",
              "1                         [adhd]   \n",
              "2               [birth, control]   \n",
              "3               [birth, control]   \n",
              "4                [opiat, depend]   \n",
              "\n",
              "                                     Combined_re_con  \\\n",
              "0  [no, side, effect, take, combin, bystol, fish,...   \n",
              "1  [son, halfway, fourth, week, intuniv, becam, c...   \n",
              "2  [use, take, anoth, oral, contracept, cycl, hap...   \n",
              "3  [first, time, use, form, birth, control, glad,...   \n",
              "4  [suboxon, complet, turn, life, around, feel, h...   \n",
              "\n",
              "                                      Padding_re_con  encoded_drugName  \\\n",
              "0  [7, 10, 4, 1, 494, 2198, 2492, 1197, 312, 3649...              3197   \n",
              "1  [493, 2555, 1336, 19, 2455, 303, 614, 257, 48,...              1428   \n",
              "2  [17, 1, 172, 885, 370, 359, 159, 190, 20, 1457...              1851   \n",
              "3  [15, 13, 17, 475, 14, 12, 469, 50, 278, 15, 35...              2279   \n",
              "4  [746, 134, 376, 37, 137, 11, 1808, 888, 338, 1...               515   \n",
              "\n",
              "   sentiment fixed_date  \n",
              "0          1 2012-05-20  \n",
              "1          1 2010-04-27  \n",
              "2          2 2009-12-14  \n",
              "3          1 2015-11-03  \n",
              "4          1 2016-11-27  "
            ]
          },
          "execution_count": 71,
          "metadata": {},
          "output_type": "execute_result"
        }
      ],
      "source": [
        "drug_data.head()"
      ]
    },
    {
      "cell_type": "markdown",
      "metadata": {
        "id": "9uyFcHgjwk-t"
      },
      "source": [
        "## 모델링에 불필요한 컬럼 제거 후 새로운 데이터 프레임 생성"
      ]
    },
    {
      "cell_type": "code",
      "execution_count": 72,
      "metadata": {
        "id": "amgySahqwoQn"
      },
      "outputs": [
        {
          "data": {
            "text/html": [
              "<div>\n",
              "<style scoped>\n",
              "    .dataframe tbody tr th:only-of-type {\n",
              "        vertical-align: middle;\n",
              "    }\n",
              "\n",
              "    .dataframe tbody tr th {\n",
              "        vertical-align: top;\n",
              "    }\n",
              "\n",
              "    .dataframe thead th {\n",
              "        text-align: right;\n",
              "    }\n",
              "</style>\n",
              "<table border=\"1\" class=\"dataframe\">\n",
              "  <thead>\n",
              "    <tr style=\"text-align: right;\">\n",
              "      <th></th>\n",
              "      <th>uniqueID</th>\n",
              "      <th>drugName</th>\n",
              "      <th>condition</th>\n",
              "      <th>review</th>\n",
              "      <th>rating</th>\n",
              "      <th>date</th>\n",
              "      <th>usefulCount</th>\n",
              "      <th>fixed_review</th>\n",
              "      <th>fixed_condition</th>\n",
              "      <th>Combined_re_con</th>\n",
              "      <th>Padding_re_con</th>\n",
              "      <th>encoded_drugName</th>\n",
              "      <th>sentiment</th>\n",
              "      <th>fixed_date</th>\n",
              "    </tr>\n",
              "  </thead>\n",
              "  <tbody>\n",
              "    <tr>\n",
              "      <th>0</th>\n",
              "      <td>206461</td>\n",
              "      <td>Valsartan</td>\n",
              "      <td>Left Ventricular Dysfunction</td>\n",
              "      <td>\"It has no side effect, I take it in combinati...</td>\n",
              "      <td>9</td>\n",
              "      <td>20-May-12</td>\n",
              "      <td>27</td>\n",
              "      <td>[no, side, effect, take, combin, bystol, fish,...</td>\n",
              "      <td>[left, ventricular, dysfunct]</td>\n",
              "      <td>[no, side, effect, take, combin, bystol, fish,...</td>\n",
              "      <td>[7, 10, 4, 1, 494, 2198, 2492, 1197, 312, 3649...</td>\n",
              "      <td>3197</td>\n",
              "      <td>1</td>\n",
              "      <td>2012-05-20</td>\n",
              "    </tr>\n",
              "    <tr>\n",
              "      <th>1</th>\n",
              "      <td>95260</td>\n",
              "      <td>Guanfacine</td>\n",
              "      <td>ADHD</td>\n",
              "      <td>\"My son is halfway through his fourth week of ...</td>\n",
              "      <td>8</td>\n",
              "      <td>27-Apr-10</td>\n",
              "      <td>192</td>\n",
              "      <td>[son, halfway, fourth, week, intuniv, becam, c...</td>\n",
              "      <td>[adhd]</td>\n",
              "      <td>[son, halfway, fourth, week, intuniv, becam, c...</td>\n",
              "      <td>[493, 2555, 1336, 19, 2455, 303, 614, 257, 48,...</td>\n",
              "      <td>1428</td>\n",
              "      <td>1</td>\n",
              "      <td>2010-04-27</td>\n",
              "    </tr>\n",
              "    <tr>\n",
              "      <th>2</th>\n",
              "      <td>92703</td>\n",
              "      <td>Lybrel</td>\n",
              "      <td>Birth Control</td>\n",
              "      <td>\"I used to take another oral contraceptive, wh...</td>\n",
              "      <td>5</td>\n",
              "      <td>14-Dec-09</td>\n",
              "      <td>17</td>\n",
              "      <td>[use, take, anoth, oral, contracept, cycl, hap...</td>\n",
              "      <td>[birth, control]</td>\n",
              "      <td>[use, take, anoth, oral, contracept, cycl, hap...</td>\n",
              "      <td>[17, 1, 172, 885, 370, 359, 159, 190, 20, 1457...</td>\n",
              "      <td>1851</td>\n",
              "      <td>2</td>\n",
              "      <td>2009-12-14</td>\n",
              "    </tr>\n",
              "    <tr>\n",
              "      <th>3</th>\n",
              "      <td>138000</td>\n",
              "      <td>Ortho Evra</td>\n",
              "      <td>Birth Control</td>\n",
              "      <td>\"This is my first time using any form of birth...</td>\n",
              "      <td>8</td>\n",
              "      <td>3-Nov-15</td>\n",
              "      <td>10</td>\n",
              "      <td>[first, time, use, form, birth, control, glad,...</td>\n",
              "      <td>[birth, control]</td>\n",
              "      <td>[first, time, use, form, birth, control, glad,...</td>\n",
              "      <td>[15, 13, 17, 475, 14, 12, 469, 50, 278, 15, 35...</td>\n",
              "      <td>2279</td>\n",
              "      <td>1</td>\n",
              "      <td>2015-11-03</td>\n",
              "    </tr>\n",
              "    <tr>\n",
              "      <th>4</th>\n",
              "      <td>35696</td>\n",
              "      <td>Buprenorphine / naloxone</td>\n",
              "      <td>Opiate Dependence</td>\n",
              "      <td>\"Suboxone has completely turned my life around...</td>\n",
              "      <td>9</td>\n",
              "      <td>27-Nov-16</td>\n",
              "      <td>37</td>\n",
              "      <td>[suboxon, complet, turn, life, around, feel, h...</td>\n",
              "      <td>[opiat, depend]</td>\n",
              "      <td>[suboxon, complet, turn, life, around, feel, h...</td>\n",
              "      <td>[746, 134, 376, 37, 137, 11, 1808, 888, 338, 1...</td>\n",
              "      <td>515</td>\n",
              "      <td>1</td>\n",
              "      <td>2016-11-27</td>\n",
              "    </tr>\n",
              "  </tbody>\n",
              "</table>\n",
              "</div>"
            ],
            "text/plain": [
              "   uniqueID                  drugName                     condition  \\\n",
              "0    206461                 Valsartan  Left Ventricular Dysfunction   \n",
              "1     95260                Guanfacine                          ADHD   \n",
              "2     92703                    Lybrel                 Birth Control   \n",
              "3    138000                Ortho Evra                 Birth Control   \n",
              "4     35696  Buprenorphine / naloxone             Opiate Dependence   \n",
              "\n",
              "                                              review  rating       date  \\\n",
              "0  \"It has no side effect, I take it in combinati...       9  20-May-12   \n",
              "1  \"My son is halfway through his fourth week of ...       8  27-Apr-10   \n",
              "2  \"I used to take another oral contraceptive, wh...       5  14-Dec-09   \n",
              "3  \"This is my first time using any form of birth...       8   3-Nov-15   \n",
              "4  \"Suboxone has completely turned my life around...       9  27-Nov-16   \n",
              "\n",
              "   usefulCount                                       fixed_review  \\\n",
              "0           27  [no, side, effect, take, combin, bystol, fish,...   \n",
              "1          192  [son, halfway, fourth, week, intuniv, becam, c...   \n",
              "2           17  [use, take, anoth, oral, contracept, cycl, hap...   \n",
              "3           10  [first, time, use, form, birth, control, glad,...   \n",
              "4           37  [suboxon, complet, turn, life, around, feel, h...   \n",
              "\n",
              "                 fixed_condition  \\\n",
              "0  [left, ventricular, dysfunct]   \n",
              "1                         [adhd]   \n",
              "2               [birth, control]   \n",
              "3               [birth, control]   \n",
              "4                [opiat, depend]   \n",
              "\n",
              "                                     Combined_re_con  \\\n",
              "0  [no, side, effect, take, combin, bystol, fish,...   \n",
              "1  [son, halfway, fourth, week, intuniv, becam, c...   \n",
              "2  [use, take, anoth, oral, contracept, cycl, hap...   \n",
              "3  [first, time, use, form, birth, control, glad,...   \n",
              "4  [suboxon, complet, turn, life, around, feel, h...   \n",
              "\n",
              "                                      Padding_re_con  encoded_drugName  \\\n",
              "0  [7, 10, 4, 1, 494, 2198, 2492, 1197, 312, 3649...              3197   \n",
              "1  [493, 2555, 1336, 19, 2455, 303, 614, 257, 48,...              1428   \n",
              "2  [17, 1, 172, 885, 370, 359, 159, 190, 20, 1457...              1851   \n",
              "3  [15, 13, 17, 475, 14, 12, 469, 50, 278, 15, 35...              2279   \n",
              "4  [746, 134, 376, 37, 137, 11, 1808, 888, 338, 1...               515   \n",
              "\n",
              "   sentiment fixed_date  \n",
              "0          1 2012-05-20  \n",
              "1          1 2010-04-27  \n",
              "2          2 2009-12-14  \n",
              "3          1 2015-11-03  \n",
              "4          1 2016-11-27  "
            ]
          },
          "execution_count": 72,
          "metadata": {},
          "output_type": "execute_result"
        }
      ],
      "source": [
        "drug_data.head()"
      ]
    },
    {
      "cell_type": "markdown",
      "metadata": {},
      "source": [
        "### 전처리가 끝난 데이터셋 백업"
      ]
    },
    {
      "cell_type": "code",
      "execution_count": 73,
      "metadata": {},
      "outputs": [],
      "source": [
        "drug_data_after_preprocess = drug_data"
      ]
    },
    {
      "cell_type": "code",
      "execution_count": 74,
      "metadata": {},
      "outputs": [],
      "source": [
        "#drug_data_after_preprocess.to_csv('drug_data_after_preprocess.csv', index=True)"
      ]
    },
    {
      "cell_type": "markdown",
      "metadata": {},
      "source": [
        "### 모델링을 위한 불필요한 컬럼 제거"
      ]
    },
    {
      "cell_type": "code",
      "execution_count": 75,
      "metadata": {},
      "outputs": [],
      "source": [
        "#drug_data_for_modeling = drug_data.drop(columns=['uniqueID', 'drugName', 'condition', 'review', 'rating', 'date', 'usefulCount', 'sentiment', 'fixed_date'])\n",
        "drug_data_for_modeling = drug_data[['Combined_re_con', 'encoded_drugName']].copy()"
      ]
    },
    {
      "cell_type": "markdown",
      "metadata": {},
      "source": [
        "### 모델링을 위한 불필요한 컬럼이 제거된 데이터셋 백업"
      ]
    },
    {
      "cell_type": "code",
      "execution_count": 76,
      "metadata": {},
      "outputs": [],
      "source": [
        "drug_data_for_modeling.to_csv('drug_data_for_modeling.csv', index=False)"
      ]
    },
    {
      "cell_type": "code",
      "execution_count": 77,
      "metadata": {},
      "outputs": [
        {
          "data": {
            "text/html": [
              "<div>\n",
              "<style scoped>\n",
              "    .dataframe tbody tr th:only-of-type {\n",
              "        vertical-align: middle;\n",
              "    }\n",
              "\n",
              "    .dataframe tbody tr th {\n",
              "        vertical-align: top;\n",
              "    }\n",
              "\n",
              "    .dataframe thead th {\n",
              "        text-align: right;\n",
              "    }\n",
              "</style>\n",
              "<table border=\"1\" class=\"dataframe\">\n",
              "  <thead>\n",
              "    <tr style=\"text-align: right;\">\n",
              "      <th></th>\n",
              "      <th>Combined_re_con</th>\n",
              "      <th>encoded_drugName</th>\n",
              "    </tr>\n",
              "  </thead>\n",
              "  <tbody>\n",
              "    <tr>\n",
              "      <th>0</th>\n",
              "      <td>[no, side, effect, take, combin, bystol, fish,...</td>\n",
              "      <td>3197</td>\n",
              "    </tr>\n",
              "    <tr>\n",
              "      <th>1</th>\n",
              "      <td>[son, halfway, fourth, week, intuniv, becam, c...</td>\n",
              "      <td>1428</td>\n",
              "    </tr>\n",
              "    <tr>\n",
              "      <th>2</th>\n",
              "      <td>[use, take, anoth, oral, contracept, cycl, hap...</td>\n",
              "      <td>1851</td>\n",
              "    </tr>\n",
              "    <tr>\n",
              "      <th>3</th>\n",
              "      <td>[first, time, use, form, birth, control, glad,...</td>\n",
              "      <td>2279</td>\n",
              "    </tr>\n",
              "    <tr>\n",
              "      <th>4</th>\n",
              "      <td>[suboxon, complet, turn, life, around, feel, h...</td>\n",
              "      <td>515</td>\n",
              "    </tr>\n",
              "  </tbody>\n",
              "</table>\n",
              "</div>"
            ],
            "text/plain": [
              "                                     Combined_re_con  encoded_drugName\n",
              "0  [no, side, effect, take, combin, bystol, fish,...              3197\n",
              "1  [son, halfway, fourth, week, intuniv, becam, c...              1428\n",
              "2  [use, take, anoth, oral, contracept, cycl, hap...              1851\n",
              "3  [first, time, use, form, birth, control, glad,...              2279\n",
              "4  [suboxon, complet, turn, life, around, feel, h...               515"
            ]
          },
          "execution_count": 77,
          "metadata": {},
          "output_type": "execute_result"
        }
      ],
      "source": [
        "drug_data_for_modeling.head()"
      ]
    },
    {
      "cell_type": "code",
      "execution_count": 80,
      "metadata": {},
      "outputs": [
        {
          "name": "stdout",
          "output_type": "stream",
          "text": [
            "패딩된 시퀀스의 크기: (160164, 89, 50)\n"
          ]
        }
      ],
      "source": [
        "from tensorflow.keras.preprocessing.sequence import pad_sequences\n",
        "\n",
        "X_embedded = []\n",
        "for sentence in drug_data_for_modeling['Combined_re_con']:\n",
        "    embedded_sentence = convert_embedding(sentence)\n",
        "    X_embedded.append(embedded_sentence)\n",
        "\n",
        "MAX_SEQUENCE_LENGTH = max(len(seq) for seq in X_embedded)\n",
        "X_padded = pad_sequences(X_embedded, maxlen=MAX_SEQUENCE_LENGTH, padding='post')\n",
        "\n",
        "print(\"패딩된 시퀀스의 크기:\", X_padded.shape)"
      ]
    },
    {
      "cell_type": "code",
      "execution_count": 81,
      "metadata": {},
      "outputs": [],
      "source": [
        "from sklearn.model_selection import train_test_split\n",
        "from tensorflow.keras.models import Sequential\n",
        "from tensorflow.keras.layers import LSTM, Dense\n",
        "\n",
        "EMBEDDING_DIM = 50\n",
        "NUM_CLASSES = drug_data_for_modeling['encoded_drugName'].nunique()\n",
        "\n",
        "X = X_padded\n",
        "y = drug_data_for_modeling['encoded_drugName']\n",
        "\n",
        "X_train, X_val, y_train, y_val = train_test_split(X, y, test_size=0.2, random_state=42)\n",
        "\n",
        "#model = Sequential([\n",
        "#    LSTM(64, input_shape=(MAX_SEQUENCE_LENGTH, EMBEDDING_DIM)), \n",
        "#    Dense(NUM_CLASSES, activation='softmax')\n",
        "#])\n",
        "\n",
        "#model.compile(loss='sparse_categorical_crossentropy', optimizer='adam', metrics=['accuracy'])\n",
        "\n",
        "#model.fit(X_train, y_train, epochs=10, batch_size=32, validation_data=(X_val, y_val))\n",
        "\n",
        "#loss, accuracy = model.evaluate(X_val, y_val)"
      ]
    },
    {
      "cell_type": "code",
      "execution_count": 82,
      "metadata": {},
      "outputs": [],
      "source": [
        "drug_data_for_h20 = drug_data[['Padding_re_con', 'encoded_drugName']].copy()"
      ]
    },
    {
      "cell_type": "code",
      "execution_count": 1,
      "metadata": {},
      "outputs": [],
      "source": [
        "drug_data_for_h20.to_csv('drug_data_for_h20.csv', index=False)"
      ]
    },
    {
      "cell_type": "code",
      "execution_count": 84,
      "metadata": {},
      "outputs": [
        {
          "data": {
            "text/html": [
              "<div>\n",
              "<style scoped>\n",
              "    .dataframe tbody tr th:only-of-type {\n",
              "        vertical-align: middle;\n",
              "    }\n",
              "\n",
              "    .dataframe tbody tr th {\n",
              "        vertical-align: top;\n",
              "    }\n",
              "\n",
              "    .dataframe thead th {\n",
              "        text-align: right;\n",
              "    }\n",
              "</style>\n",
              "<table border=\"1\" class=\"dataframe\">\n",
              "  <thead>\n",
              "    <tr style=\"text-align: right;\">\n",
              "      <th></th>\n",
              "      <th>Padding_re_con</th>\n",
              "      <th>encoded_drugName</th>\n",
              "    </tr>\n",
              "  </thead>\n",
              "  <tbody>\n",
              "    <tr>\n",
              "      <th>0</th>\n",
              "      <td>[7, 10, 4, 1, 494, 2198, 2492, 1197, 312, 3649...</td>\n",
              "      <td>3197</td>\n",
              "    </tr>\n",
              "    <tr>\n",
              "      <th>1</th>\n",
              "      <td>[493, 2555, 1336, 19, 2455, 303, 614, 257, 48,...</td>\n",
              "      <td>1428</td>\n",
              "    </tr>\n",
              "    <tr>\n",
              "      <th>2</th>\n",
              "      <td>[17, 1, 172, 885, 370, 359, 159, 190, 20, 1457...</td>\n",
              "      <td>1851</td>\n",
              "    </tr>\n",
              "    <tr>\n",
              "      <th>3</th>\n",
              "      <td>[15, 13, 17, 475, 14, 12, 469, 50, 278, 15, 35...</td>\n",
              "      <td>2279</td>\n",
              "    </tr>\n",
              "    <tr>\n",
              "      <th>4</th>\n",
              "      <td>[746, 134, 376, 37, 137, 11, 1808, 888, 338, 1...</td>\n",
              "      <td>515</td>\n",
              "    </tr>\n",
              "  </tbody>\n",
              "</table>\n",
              "</div>"
            ],
            "text/plain": [
              "                                      Padding_re_con  encoded_drugName\n",
              "0  [7, 10, 4, 1, 494, 2198, 2492, 1197, 312, 3649...              3197\n",
              "1  [493, 2555, 1336, 19, 2455, 303, 614, 257, 48,...              1428\n",
              "2  [17, 1, 172, 885, 370, 359, 159, 190, 20, 1457...              1851\n",
              "3  [15, 13, 17, 475, 14, 12, 469, 50, 278, 15, 35...              2279\n",
              "4  [746, 134, 376, 37, 137, 11, 1808, 888, 338, 1...               515"
            ]
          },
          "execution_count": 84,
          "metadata": {},
          "output_type": "execute_result"
        }
      ],
      "source": [
        "drug_data_for_h20.head()"
      ]
    }
  ],
  "metadata": {
    "colab": {
      "authorship_tag": "ABX9TyNw6KAfonQQn/FAytMFYXi9",
      "include_colab_link": true,
      "provenance": []
    },
    "kernelspec": {
      "display_name": "Python 3",
      "name": "python3"
    },
    "language_info": {
      "codemirror_mode": {
        "name": "ipython",
        "version": 3
      },
      "file_extension": ".py",
      "mimetype": "text/x-python",
      "name": "python",
      "nbconvert_exporter": "python",
      "pygments_lexer": "ipython3",
      "version": "3.10.14"
    }
  },
  "nbformat": 4,
  "nbformat_minor": 0
}
