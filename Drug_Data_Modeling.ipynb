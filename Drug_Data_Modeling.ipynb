{
 "cells": [
  {
   "cell_type": "code",
   "execution_count": 1,
   "metadata": {},
   "outputs": [],
   "source": [
    "import pandas as pd"
   ]
  },
  {
   "cell_type": "code",
   "execution_count": 26,
   "metadata": {},
   "outputs": [],
   "source": [
    "drug_data_for_modeling = pd.read_csv('/home/kdt-admin/miniconda3/envs/JS/WASSUP_Project_Team7_2-1/drug_data_for_h20.csv')"
   ]
  },
  {
   "cell_type": "code",
   "execution_count": 32,
   "metadata": {},
   "outputs": [
    {
     "data": {
      "text/html": [
       "<div>\n",
       "<style scoped>\n",
       "    .dataframe tbody tr th:only-of-type {\n",
       "        vertical-align: middle;\n",
       "    }\n",
       "\n",
       "    .dataframe tbody tr th {\n",
       "        vertical-align: top;\n",
       "    }\n",
       "\n",
       "    .dataframe thead th {\n",
       "        text-align: right;\n",
       "    }\n",
       "</style>\n",
       "<table border=\"1\" class=\"dataframe\">\n",
       "  <thead>\n",
       "    <tr style=\"text-align: right;\">\n",
       "      <th></th>\n",
       "      <th>Padding_re_con</th>\n",
       "      <th>encoded_drugName</th>\n",
       "    </tr>\n",
       "  </thead>\n",
       "  <tbody>\n",
       "    <tr>\n",
       "      <th>0</th>\n",
       "      <td>[7, 10, 4, 1, 494, 2198, 2492, 1197, 312, 3649...</td>\n",
       "      <td>3197</td>\n",
       "    </tr>\n",
       "    <tr>\n",
       "      <th>1</th>\n",
       "      <td>[493, 2555, 1336, 19, 2455, 303, 614, 257, 48,...</td>\n",
       "      <td>1428</td>\n",
       "    </tr>\n",
       "    <tr>\n",
       "      <th>2</th>\n",
       "      <td>[17, 1, 172, 885, 370, 359, 159, 190, 20, 1457...</td>\n",
       "      <td>1851</td>\n",
       "    </tr>\n",
       "    <tr>\n",
       "      <th>3</th>\n",
       "      <td>[15, 13, 17, 475, 14, 12, 469, 50, 278, 15, 35...</td>\n",
       "      <td>2279</td>\n",
       "    </tr>\n",
       "    <tr>\n",
       "      <th>4</th>\n",
       "      <td>[746, 134, 376, 37, 137, 11, 1808, 888, 338, 1...</td>\n",
       "      <td>515</td>\n",
       "    </tr>\n",
       "  </tbody>\n",
       "</table>\n",
       "</div>"
      ],
      "text/plain": [
       "                                      Padding_re_con  encoded_drugName\n",
       "0  [7, 10, 4, 1, 494, 2198, 2492, 1197, 312, 3649...              3197\n",
       "1  [493, 2555, 1336, 19, 2455, 303, 614, 257, 48,...              1428\n",
       "2  [17, 1, 172, 885, 370, 359, 159, 190, 20, 1457...              1851\n",
       "3  [15, 13, 17, 475, 14, 12, 469, 50, 278, 15, 35...              2279\n",
       "4  [746, 134, 376, 37, 137, 11, 1808, 888, 338, 1...               515"
      ]
     },
     "execution_count": 32,
     "metadata": {},
     "output_type": "execute_result"
    }
   ],
   "source": [
    "drug_data_for_modeling.head()"
   ]
  },
  {
   "cell_type": "markdown",
   "metadata": {},
   "source": [
    "### TPOT"
   ]
  },
  {
   "cell_type": "code",
   "execution_count": 37,
   "metadata": {},
   "outputs": [
    {
     "data": {
      "application/vnd.jupyter.widget-view+json": {
       "model_id": "f523f908cd3943ba878f860895fa4796",
       "version_major": 2,
       "version_minor": 0
      },
      "text/plain": [
       "Optimization Progress:   0%|          | 0/120 [00:00<?, ?pipeline/s]"
      ]
     },
     "metadata": {},
     "output_type": "display_data"
    },
    {
     "name": "stdout",
     "output_type": "stream",
     "text": [
      "\n",
      "Generation 1 - Current best internal CV score: 0.23301154321908113\n",
      "\n",
      "Generation 2 - Current best internal CV score: 0.23301154321908113\n",
      "\n",
      "Generation 3 - Current best internal CV score: 0.23301154321908113\n",
      "\n",
      "Generation 4 - Current best internal CV score: 0.23301154321908113\n",
      "\n",
      "Generation 5 - Current best internal CV score: 0.2859573573539388\n",
      "\n",
      "Best pipeline: MultinomialNB(SelectPercentile(input_matrix, percentile=16), alpha=0.001, fit_prior=True)\n",
      "Test accuracy: 0.28333281303655605\n"
     ]
    }
   ],
   "source": [
    "from tpot import TPOTClassifier\n",
    "from sklearn.model_selection import train_test_split\n",
    "from sklearn.feature_extraction.text import TfidfVectorizer\n",
    "\n",
    "tfidf_vectorizer = TfidfVectorizer()\n",
    "\n",
    "X_tfidf = tfidf_vectorizer.fit_transform(drug_data_for_modeling['Padding_re_con'])\n",
    "\n",
    "X = X_tfidf\n",
    "y = drug_data_for_modeling['encoded_drugName']\n",
    "\n",
    "X_train, X_test, y_train, y_test = train_test_split(X, y, test_size=0.2, random_state=42)\n",
    "\n",
    "tpot = TPOTClassifier(config_dict='TPOT sparse', generations=5, population_size=20, verbosity=2, random_state=42)\n",
    "tpot.fit(X_train, y_train)\n",
    "\n",
    "print(\"Test accuracy:\", tpot.score(X_test, y_test))"
   ]
  },
  {
   "cell_type": "code",
   "execution_count": 38,
   "metadata": {},
   "outputs": [],
   "source": [
    "tpot.export('drugdata_tpot_pipeline.py')"
   ]
  }
 ],
 "metadata": {
  "kernelspec": {
   "display_name": "base",
   "language": "python",
   "name": "python3"
  },
  "language_info": {
   "codemirror_mode": {
    "name": "ipython",
    "version": 3
   },
   "file_extension": ".py",
   "mimetype": "text/x-python",
   "name": "python",
   "nbconvert_exporter": "python",
   "pygments_lexer": "ipython3",
   "version": "3.10.14"
  }
 },
 "nbformat": 4,
 "nbformat_minor": 2
}
