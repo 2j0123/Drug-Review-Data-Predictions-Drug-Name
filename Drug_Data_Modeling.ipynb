{
 "cells": [
  {
   "cell_type": "code",
   "execution_count": 3,
   "metadata": {},
   "outputs": [],
   "source": [
    "import pandas as pd"
   ]
  },
  {
   "cell_type": "markdown",
   "metadata": {},
   "source": [
    "### TPOT"
   ]
  },
  {
   "cell_type": "code",
   "execution_count": 4,
   "metadata": {},
   "outputs": [],
   "source": [
    "drug_data_for_tpot = pd.read_csv('/home/kdt-admin/miniconda3/envs/JS/WASSUP_Project_Team7_2-1/data/drug_data_for_tpot.csv')"
   ]
  },
  {
   "cell_type": "code",
   "execution_count": 4,
   "metadata": {},
   "outputs": [
    {
     "data": {
      "text/html": [
       "<div>\n",
       "<style scoped>\n",
       "    .dataframe tbody tr th:only-of-type {\n",
       "        vertical-align: middle;\n",
       "    }\n",
       "\n",
       "    .dataframe tbody tr th {\n",
       "        vertical-align: top;\n",
       "    }\n",
       "\n",
       "    .dataframe thead th {\n",
       "        text-align: right;\n",
       "    }\n",
       "</style>\n",
       "<table border=\"1\" class=\"dataframe\">\n",
       "  <thead>\n",
       "    <tr style=\"text-align: right;\">\n",
       "      <th></th>\n",
       "      <th>Padding_re_con</th>\n",
       "      <th>encoded_drugName</th>\n",
       "    </tr>\n",
       "  </thead>\n",
       "  <tbody>\n",
       "    <tr>\n",
       "      <th>0</th>\n",
       "      <td>[7, 10, 4, 1, 494, 2198, 2492, 1197, 312, 3649...</td>\n",
       "      <td>3197</td>\n",
       "    </tr>\n",
       "    <tr>\n",
       "      <th>1</th>\n",
       "      <td>[493, 2555, 1336, 19, 2455, 303, 614, 257, 48,...</td>\n",
       "      <td>1428</td>\n",
       "    </tr>\n",
       "    <tr>\n",
       "      <th>2</th>\n",
       "      <td>[17, 1, 172, 885, 370, 359, 159, 190, 20, 1457...</td>\n",
       "      <td>1851</td>\n",
       "    </tr>\n",
       "    <tr>\n",
       "      <th>3</th>\n",
       "      <td>[15, 13, 17, 475, 14, 12, 469, 50, 278, 15, 35...</td>\n",
       "      <td>2279</td>\n",
       "    </tr>\n",
       "    <tr>\n",
       "      <th>4</th>\n",
       "      <td>[746, 134, 376, 37, 137, 11, 1808, 888, 338, 1...</td>\n",
       "      <td>515</td>\n",
       "    </tr>\n",
       "  </tbody>\n",
       "</table>\n",
       "</div>"
      ],
      "text/plain": [
       "                                      Padding_re_con  encoded_drugName\n",
       "0  [7, 10, 4, 1, 494, 2198, 2492, 1197, 312, 3649...              3197\n",
       "1  [493, 2555, 1336, 19, 2455, 303, 614, 257, 48,...              1428\n",
       "2  [17, 1, 172, 885, 370, 359, 159, 190, 20, 1457...              1851\n",
       "3  [15, 13, 17, 475, 14, 12, 469, 50, 278, 15, 35...              2279\n",
       "4  [746, 134, 376, 37, 137, 11, 1808, 888, 338, 1...               515"
      ]
     },
     "execution_count": 4,
     "metadata": {},
     "output_type": "execute_result"
    }
   ],
   "source": [
    "drug_data_for_tpot.head()"
   ]
  },
  {
   "cell_type": "code",
   "execution_count": 6,
   "metadata": {},
   "outputs": [
    {
     "name": "stderr",
     "output_type": "stream",
     "text": [
      "/home/kdt-admin/miniconda3/envs/JS/lib/python3.10/site-packages/tpot/builtins/__init__.py:36: UserWarning: Warning: optional dependency `torch` is not available. - skipping import of NN models.\n",
      "  warnings.warn(\"Warning: optional dependency `torch` is not available. - skipping import of NN models.\")\n"
     ]
    }
   ],
   "source": [
    "from tpot import TPOTClassifier\n",
    "from sklearn.model_selection import train_test_split\n",
    "from sklearn.feature_extraction.text import TfidfVectorizer\n",
    "\n",
    "tfidf_vectorizer = TfidfVectorizer()\n",
    "\n",
    "X_tfidf = tfidf_vectorizer.fit_transform(drug_data_for_tpot['Padding_re_con'])\n",
    "\n",
    "X = X_tfidf\n",
    "y = drug_data_for_tpot['encoded_drugName']\n",
    "\n",
    "X_train, X_test, y_train, y_test = train_test_split(X, y, test_size=0.2, random_state=42)\n",
    "\n",
    "tpot = TPOTClassifier(config_dict='TPOT sparse', generations=5, population_size=20, verbosity=2, random_state=42)\n",
    "tpot.fit(X_train, y_train)\n",
    "\n",
    "print(\"Test accuracy:\", tpot.score(X_test, y_test))"
   ]
  },
  {
   "cell_type": "markdown",
   "metadata": {},
   "source": [
    "\n",
    "Generation 1 - Current best internal CV score: 0.23301154321908113\n",
    "\n",
    "Generation 2 - Current best internal CV score: 0.23301154321908113\n",
    "\n",
    "Generation 3 - Current best internal CV score: 0.23301154321908113\n",
    "\n",
    "Generation 4 - Current best internal CV score: 0.23301154321908113\n",
    "\n",
    "Generation 5 - Current best internal CV score: 0.2859573573539388\n",
    "\n",
    "Best pipeline: MultinomialNB(SelectPercentile(input_matrix, percentile=16), alpha=0.001, fit_prior=True)\n",
    "Test accuracy: 0.28333281303655605"
   ]
  },
  {
   "cell_type": "code",
   "execution_count": null,
   "metadata": {},
   "outputs": [],
   "source": [
    "tpot.export('drugdata_tpot_pipeline.py')"
   ]
  },
  {
   "cell_type": "code",
   "execution_count": 35,
   "metadata": {},
   "outputs": [],
   "source": [
    "from sklearn.feature_selection import SelectPercentile, f_classif\n",
    "from sklearn.naive_bayes import MultinomialNB\n",
    "from sklearn.pipeline import make_pipeline\n",
    "from sklearn.feature_extraction.text import TfidfVectorizer\n",
    "from sklearn.model_selection import train_test_split\n",
    "\n",
    "tfidf_vectorizer = TfidfVectorizer()\n",
    "\n",
    "X_tfidf = tfidf_vectorizer.fit_transform(drug_data_for_tpot['Padding_re_con'])\n",
    "\n",
    "X = X_tfidf\n",
    "y = drug_data_for_tpot['encoded_drugName']\n",
    "\n",
    "X_train, X_test, y_train, y_test = train_test_split(X, y, test_size=0.2, random_state=42)"
   ]
  },
  {
   "cell_type": "code",
   "execution_count": 36,
   "metadata": {},
   "outputs": [
    {
     "name": "stderr",
     "output_type": "stream",
     "text": [
      "/home/kdt-admin/miniconda3/envs/JS/lib/python3.10/site-packages/sklearn/feature_selection/_univariate_selection.py:112: UserWarning: Features [0 0 0 0 0 0 0 0 0 0 0 0 0 0 0 0 0 0 0 0 0 0 0 0 0 0 0 0 0 0 0 0 0 0 0 0 0\n",
      " 0 0 0 0 0 0 0 0 0 0 0 0 0 0 0 0 0 0 0 0 0 0 0 0 0 0 0 0 0 0 0 0 0 0 0 0 0\n",
      " 0 0 0 0 0 0 0 0 0 0] are constant.\n",
      "  warnings.warn(\"Features %s are constant.\" % constant_features_idx, UserWarning)\n",
      "/home/kdt-admin/miniconda3/envs/JS/lib/python3.10/site-packages/sklearn/feature_selection/_univariate_selection.py:113: RuntimeWarning: divide by zero encountered in divide\n",
      "  f = msb / msw\n",
      "/home/kdt-admin/miniconda3/envs/JS/lib/python3.10/site-packages/sklearn/feature_selection/_univariate_selection.py:113: RuntimeWarning: invalid value encountered in divide\n",
      "  f = msb / msw\n"
     ]
    }
   ],
   "source": [
    "tpot_pipeline = make_pipeline(\n",
    "    SelectPercentile(score_func=f_classif, percentile=16),\n",
    "    MultinomialNB(alpha=0.001, fit_prior=True)\n",
    ")\n",
    "\n",
    "tpot_pipeline.fit(X_train, y_train)\n",
    "\n",
    "accuracy = tpot_pipeline.score(X_test, y_test)"
   ]
  },
  {
   "cell_type": "code",
   "execution_count": 30,
   "metadata": {},
   "outputs": [
    {
     "name": "stdout",
     "output_type": "stream",
     "text": [
      "Test accuracy: 0.28333281303655605\n"
     ]
    }
   ],
   "source": [
    "y_pred = tpot_pipeline.predict(X_test)\n",
    "\n",
    "accuracy = (y_pred == y_test).mean()\n",
    "print(\"Test accuracy:\", accuracy)"
   ]
  },
  {
   "cell_type": "markdown",
   "metadata": {},
   "source": [
    "### 가중치 추가"
   ]
  },
  {
   "cell_type": "code",
   "execution_count": 37,
   "metadata": {},
   "outputs": [],
   "source": [
    "drug_data_pp_weight= pd.read_csv('/home/kdt-admin/miniconda3/envs/JS/WASSUP_Project_Team7_2-1/data/drug_data_pp_weight.csv')"
   ]
  },
  {
   "cell_type": "code",
   "execution_count": 38,
   "metadata": {},
   "outputs": [
    {
     "data": {
      "text/html": [
       "<div>\n",
       "<style scoped>\n",
       "    .dataframe tbody tr th:only-of-type {\n",
       "        vertical-align: middle;\n",
       "    }\n",
       "\n",
       "    .dataframe tbody tr th {\n",
       "        vertical-align: top;\n",
       "    }\n",
       "\n",
       "    .dataframe thead th {\n",
       "        text-align: right;\n",
       "    }\n",
       "</style>\n",
       "<table border=\"1\" class=\"dataframe\">\n",
       "  <thead>\n",
       "    <tr style=\"text-align: right;\">\n",
       "      <th></th>\n",
       "      <th>Padding_re_con</th>\n",
       "      <th>encoded_drugName</th>\n",
       "      <th>sentiment</th>\n",
       "      <th>uC_rank</th>\n",
       "    </tr>\n",
       "  </thead>\n",
       "  <tbody>\n",
       "    <tr>\n",
       "      <th>0</th>\n",
       "      <td>[7, 10, 4, 1, 494, 2198, 2492, 1197, 312, 3649...</td>\n",
       "      <td>3197</td>\n",
       "      <td>3</td>\n",
       "      <td>2</td>\n",
       "    </tr>\n",
       "    <tr>\n",
       "      <th>1</th>\n",
       "      <td>[493, 2555, 1336, 19, 2455, 303, 614, 257, 48,...</td>\n",
       "      <td>1428</td>\n",
       "      <td>3</td>\n",
       "      <td>5</td>\n",
       "    </tr>\n",
       "    <tr>\n",
       "      <th>2</th>\n",
       "      <td>[17, 1, 172, 885, 370, 359, 159, 190, 20, 1457...</td>\n",
       "      <td>1851</td>\n",
       "      <td>2</td>\n",
       "      <td>2</td>\n",
       "    </tr>\n",
       "    <tr>\n",
       "      <th>3</th>\n",
       "      <td>[15, 13, 17, 475, 14, 12, 469, 50, 278, 15, 35...</td>\n",
       "      <td>2279</td>\n",
       "      <td>3</td>\n",
       "      <td>1</td>\n",
       "    </tr>\n",
       "    <tr>\n",
       "      <th>4</th>\n",
       "      <td>[746, 134, 376, 37, 137, 11, 1808, 888, 338, 1...</td>\n",
       "      <td>515</td>\n",
       "      <td>3</td>\n",
       "      <td>4</td>\n",
       "    </tr>\n",
       "  </tbody>\n",
       "</table>\n",
       "</div>"
      ],
      "text/plain": [
       "                                      Padding_re_con  encoded_drugName  \\\n",
       "0  [7, 10, 4, 1, 494, 2198, 2492, 1197, 312, 3649...              3197   \n",
       "1  [493, 2555, 1336, 19, 2455, 303, 614, 257, 48,...              1428   \n",
       "2  [17, 1, 172, 885, 370, 359, 159, 190, 20, 1457...              1851   \n",
       "3  [15, 13, 17, 475, 14, 12, 469, 50, 278, 15, 35...              2279   \n",
       "4  [746, 134, 376, 37, 137, 11, 1808, 888, 338, 1...               515   \n",
       "\n",
       "   sentiment  uC_rank  \n",
       "0          3        2  \n",
       "1          3        5  \n",
       "2          2        2  \n",
       "3          3        1  \n",
       "4          3        4  "
      ]
     },
     "execution_count": 38,
     "metadata": {},
     "output_type": "execute_result"
    }
   ],
   "source": [
    "drug_data_pp_weight.head()"
   ]
  },
  {
   "cell_type": "code",
   "execution_count": 40,
   "metadata": {},
   "outputs": [
    {
     "data": {
      "text/plain": [
       "(159958, 4)"
      ]
     },
     "execution_count": 40,
     "metadata": {},
     "output_type": "execute_result"
    }
   ],
   "source": [
    "drug_data_pp_weight.shape"
   ]
  },
  {
   "cell_type": "markdown",
   "metadata": {},
   "source": [
    "#### 전체 drugName"
   ]
  },
  {
   "cell_type": "code",
   "execution_count": 42,
   "metadata": {},
   "outputs": [
    {
     "name": "stderr",
     "output_type": "stream",
     "text": [
      "/home/kdt-admin/miniconda3/envs/JS/lib/python3.10/site-packages/sklearn/feature_selection/_univariate_selection.py:113: RuntimeWarning: divide by zero encountered in divide\n",
      "  f = msb / msw\n"
     ]
    },
    {
     "name": "stdout",
     "output_type": "stream",
     "text": [
      "Accuracy: 0.28632158039509875\n"
     ]
    }
   ],
   "source": [
    "from sklearn.compose import ColumnTransformer\n",
    "from sklearn.pipeline import Pipeline\n",
    "from sklearn.feature_extraction.text import TfidfVectorizer\n",
    "from sklearn.feature_selection import SelectPercentile, f_classif\n",
    "from sklearn.naive_bayes import MultinomialNB\n",
    "from sklearn.model_selection import train_test_split\n",
    "import numpy as np\n",
    "\n",
    "def apply_importance(df):\n",
    "    importance = df['uC_rank']  + df['sentiment']\n",
    "    return importance\n",
    "\n",
    "\n",
    "preprocessor = ColumnTransformer(\n",
    "    transformers=[\n",
    "        ('text', TfidfVectorizer(), 'Padding_re_con')\n",
    "    ],\n",
    "    remainder='passthrough'\n",
    ")\n",
    "\n",
    "tpot_pipeline = Pipeline(steps=[\n",
    "    ('preprocessor', preprocessor),  \n",
    "    ('selector', SelectPercentile(score_func=f_classif, percentile=16)),  \n",
    "    ('classifier', MultinomialNB(alpha=0.001, fit_prior=True))  \n",
    "])\n",
    "\n",
    "X = drug_data_pp_weight[['sentiment', 'uC_rank', 'Padding_re_con']]\n",
    "y = drug_data_pp_weight['encoded_drugName']\n",
    "X_train, X_test, y_train, y_test = train_test_split(X, y, test_size=0.2, random_state=42)\n",
    "\n",
    "# 가중치 계산 및 추가\n",
    "X_train['importance'] = X_train.apply(apply_importance, axis=1)\n",
    "X_test['importance'] = X_test.apply(apply_importance, axis=1)\n",
    "\n",
    "# 학습\n",
    "tpot_pipeline.fit(X_train, y_train)\n",
    "\n",
    "# 정확도\n",
    "accuracy = tpot_pipeline.score(X_test, y_test)\n",
    "print(\"Accuracy:\", accuracy)"
   ]
  },
  {
   "cell_type": "markdown",
   "metadata": {},
   "source": [
    "#### TOP 100 drugName"
   ]
  },
  {
   "cell_type": "code",
   "execution_count": 43,
   "metadata": {},
   "outputs": [
    {
     "data": {
      "text/html": [
       "<div>\n",
       "<style scoped>\n",
       "    .dataframe tbody tr th:only-of-type {\n",
       "        vertical-align: middle;\n",
       "    }\n",
       "\n",
       "    .dataframe tbody tr th {\n",
       "        vertical-align: top;\n",
       "    }\n",
       "\n",
       "    .dataframe thead th {\n",
       "        text-align: right;\n",
       "    }\n",
       "</style>\n",
       "<table border=\"1\" class=\"dataframe\">\n",
       "  <thead>\n",
       "    <tr style=\"text-align: right;\">\n",
       "      <th></th>\n",
       "      <th>Padding_re_con</th>\n",
       "      <th>encoded_drugName</th>\n",
       "      <th>sentiment</th>\n",
       "      <th>uC_rank</th>\n",
       "    </tr>\n",
       "  </thead>\n",
       "  <tbody>\n",
       "    <tr>\n",
       "      <th>0</th>\n",
       "      <td>[746, 134, 376, 37, 137, 11, 1808, 888, 338, 1...</td>\n",
       "      <td>515</td>\n",
       "      <td>3</td>\n",
       "      <td>4</td>\n",
       "    </tr>\n",
       "    <tr>\n",
       "      <th>1</th>\n",
       "      <td>[895, 3019, 195, 35, 284, 416, 148, 35, 320, 3...</td>\n",
       "      <td>1745</td>\n",
       "      <td>1</td>\n",
       "      <td>1</td>\n",
       "    </tr>\n",
       "    <tr>\n",
       "      <th>2</th>\n",
       "      <td>[807, 77, 37, 92, 356, 1797, 15, 9, 807, 433, ...</td>\n",
       "      <td>259</td>\n",
       "      <td>3</td>\n",
       "      <td>3</td>\n",
       "    </tr>\n",
       "    <tr>\n",
       "      <th>3</th>\n",
       "      <td>[21, 133, 26, 32, 77, 1392, 2755, 4, 43, 24, 1...</td>\n",
       "      <td>1179</td>\n",
       "      <td>3</td>\n",
       "      <td>1</td>\n",
       "    </tr>\n",
       "    <tr>\n",
       "      <th>4</th>\n",
       "      <td>[29, 76, 52, 19, 9, 6, 154, 422, 7, 72, 97, 16...</td>\n",
       "      <td>3056</td>\n",
       "      <td>3</td>\n",
       "      <td>2</td>\n",
       "    </tr>\n",
       "  </tbody>\n",
       "</table>\n",
       "</div>"
      ],
      "text/plain": [
       "                                      Padding_re_con  encoded_drugName  \\\n",
       "0  [746, 134, 376, 37, 137, 11, 1808, 888, 338, 1...               515   \n",
       "1  [895, 3019, 195, 35, 284, 416, 148, 35, 320, 3...              1745   \n",
       "2  [807, 77, 37, 92, 356, 1797, 15, 9, 807, 433, ...               259   \n",
       "3  [21, 133, 26, 32, 77, 1392, 2755, 4, 43, 24, 1...              1179   \n",
       "4  [29, 76, 52, 19, 9, 6, 154, 422, 7, 72, 97, 16...              3056   \n",
       "\n",
       "   sentiment  uC_rank  \n",
       "0          3        4  \n",
       "1          1        1  \n",
       "2          3        3  \n",
       "3          3        1  \n",
       "4          3        2  "
      ]
     },
     "execution_count": 43,
     "metadata": {},
     "output_type": "execute_result"
    }
   ],
   "source": [
    "drug_data_drugTop100 = pd.read_csv('/home/kdt-admin/miniconda3/envs/JS/WASSUP_Project_Team7_2-1/data/drug_data_drugTop100.csv')\n",
    "drug_data_drugTop100.head()"
   ]
  },
  {
   "cell_type": "code",
   "execution_count": 48,
   "metadata": {},
   "outputs": [
    {
     "name": "stdout",
     "output_type": "stream",
     "text": [
      "Accuracy: 0.40891897272546285\n"
     ]
    }
   ],
   "source": [
    "X = drug_data_drugTop100[['sentiment', 'uC_rank', 'Padding_re_con']]\n",
    "y = drug_data_drugTop100['encoded_drugName']\n",
    "X_train, X_test, y_train, y_test = train_test_split(X, y, test_size=0.2, random_state=42)\n",
    "\n",
    "X_train['importance'] = X_train.apply(apply_importance, axis=1)\n",
    "X_test['importance'] = X_test.apply(apply_importance, axis=1)\n",
    "\n",
    "tpot_pipeline.fit(X_train, y_train)\n",
    "\n",
    "accuracy = tpot_pipeline.score(X_test, y_test)\n",
    "print(\"Accuracy:\", accuracy)"
   ]
  },
  {
   "cell_type": "markdown",
   "metadata": {},
   "source": [
    "#### TOP 50 drugName"
   ]
  },
  {
   "cell_type": "code",
   "execution_count": 44,
   "metadata": {},
   "outputs": [
    {
     "data": {
      "text/html": [
       "<div>\n",
       "<style scoped>\n",
       "    .dataframe tbody tr th:only-of-type {\n",
       "        vertical-align: middle;\n",
       "    }\n",
       "\n",
       "    .dataframe tbody tr th {\n",
       "        vertical-align: top;\n",
       "    }\n",
       "\n",
       "    .dataframe thead th {\n",
       "        text-align: right;\n",
       "    }\n",
       "</style>\n",
       "<table border=\"1\" class=\"dataframe\">\n",
       "  <thead>\n",
       "    <tr style=\"text-align: right;\">\n",
       "      <th></th>\n",
       "      <th>Padding_re_con</th>\n",
       "      <th>encoded_drugName</th>\n",
       "      <th>sentiment</th>\n",
       "      <th>uC_rank</th>\n",
       "    </tr>\n",
       "  </thead>\n",
       "  <tbody>\n",
       "    <tr>\n",
       "      <th>0</th>\n",
       "      <td>[895, 3019, 195, 35, 284, 416, 148, 35, 320, 3...</td>\n",
       "      <td>1745</td>\n",
       "      <td>1</td>\n",
       "      <td>1</td>\n",
       "    </tr>\n",
       "    <tr>\n",
       "      <th>1</th>\n",
       "      <td>[21, 133, 26, 32, 77, 1392, 2755, 4, 43, 24, 1...</td>\n",
       "      <td>1179</td>\n",
       "      <td>3</td>\n",
       "      <td>1</td>\n",
       "    </tr>\n",
       "    <tr>\n",
       "      <th>2</th>\n",
       "      <td>[29, 76, 52, 19, 9, 6, 154, 422, 7, 72, 97, 16...</td>\n",
       "      <td>3056</td>\n",
       "      <td>3</td>\n",
       "      <td>2</td>\n",
       "    </tr>\n",
       "    <tr>\n",
       "      <th>3</th>\n",
       "      <td>[9, 375, 66, 585, 449, 370, 1, 144, 1703, 1, 3...</td>\n",
       "      <td>2145</td>\n",
       "      <td>1</td>\n",
       "      <td>1</td>\n",
       "    </tr>\n",
       "    <tr>\n",
       "      <th>4</th>\n",
       "      <td>[1, 1398, 39, 762, 51, 90, 18, 36, 251, 39, 53...</td>\n",
       "      <td>1784</td>\n",
       "      <td>3</td>\n",
       "      <td>2</td>\n",
       "    </tr>\n",
       "  </tbody>\n",
       "</table>\n",
       "</div>"
      ],
      "text/plain": [
       "                                      Padding_re_con  encoded_drugName  \\\n",
       "0  [895, 3019, 195, 35, 284, 416, 148, 35, 320, 3...              1745   \n",
       "1  [21, 133, 26, 32, 77, 1392, 2755, 4, 43, 24, 1...              1179   \n",
       "2  [29, 76, 52, 19, 9, 6, 154, 422, 7, 72, 97, 16...              3056   \n",
       "3  [9, 375, 66, 585, 449, 370, 1, 144, 1703, 1, 3...              2145   \n",
       "4  [1, 1398, 39, 762, 51, 90, 18, 36, 251, 39, 53...              1784   \n",
       "\n",
       "   sentiment  uC_rank  \n",
       "0          1        1  \n",
       "1          3        1  \n",
       "2          3        2  \n",
       "3          1        1  \n",
       "4          3        2  "
      ]
     },
     "execution_count": 44,
     "metadata": {},
     "output_type": "execute_result"
    }
   ],
   "source": [
    "drug_data_drugTop50 = pd.read_csv('/home/kdt-admin/miniconda3/envs/JS/WASSUP_Project_Team7_2-1/data/drug_data_drugTop50.csv')\n",
    "drug_data_drugTop50.head()"
   ]
  },
  {
   "cell_type": "code",
   "execution_count": 49,
   "metadata": {},
   "outputs": [
    {
     "name": "stdout",
     "output_type": "stream",
     "text": [
      "Accuracy: 0.49314416301656827\n"
     ]
    }
   ],
   "source": [
    "X = drug_data_drugTop50[['sentiment', 'uC_rank', 'Padding_re_con']]\n",
    "y = drug_data_drugTop50['encoded_drugName']\n",
    "X_train, X_test, y_train, y_test = train_test_split(X, y, test_size=0.2, random_state=42)\n",
    "\n",
    "X_train['importance'] = X_train.apply(apply_importance, axis=1)\n",
    "X_test['importance'] = X_test.apply(apply_importance, axis=1)\n",
    "\n",
    "tpot_pipeline.fit(X_train, y_train)\n",
    "\n",
    "accuracy = tpot_pipeline.score(X_test, y_test)\n",
    "print(\"Accuracy:\", accuracy)"
   ]
  },
  {
   "cell_type": "markdown",
   "metadata": {},
   "source": [
    "#### TOP 30 drugName"
   ]
  },
  {
   "cell_type": "code",
   "execution_count": 45,
   "metadata": {},
   "outputs": [
    {
     "data": {
      "text/html": [
       "<div>\n",
       "<style scoped>\n",
       "    .dataframe tbody tr th:only-of-type {\n",
       "        vertical-align: middle;\n",
       "    }\n",
       "\n",
       "    .dataframe tbody tr th {\n",
       "        vertical-align: top;\n",
       "    }\n",
       "\n",
       "    .dataframe thead th {\n",
       "        text-align: right;\n",
       "    }\n",
       "</style>\n",
       "<table border=\"1\" class=\"dataframe\">\n",
       "  <thead>\n",
       "    <tr style=\"text-align: right;\">\n",
       "      <th></th>\n",
       "      <th>Padding_re_con</th>\n",
       "      <th>encoded_drugName</th>\n",
       "      <th>sentiment</th>\n",
       "      <th>uC_rank</th>\n",
       "    </tr>\n",
       "  </thead>\n",
       "  <tbody>\n",
       "    <tr>\n",
       "      <th>0</th>\n",
       "      <td>[895, 3019, 195, 35, 284, 416, 148, 35, 320, 3...</td>\n",
       "      <td>1745</td>\n",
       "      <td>1</td>\n",
       "      <td>1</td>\n",
       "    </tr>\n",
       "    <tr>\n",
       "      <th>1</th>\n",
       "      <td>[21, 133, 26, 32, 77, 1392, 2755, 4, 43, 24, 1...</td>\n",
       "      <td>1179</td>\n",
       "      <td>3</td>\n",
       "      <td>1</td>\n",
       "    </tr>\n",
       "    <tr>\n",
       "      <th>2</th>\n",
       "      <td>[9, 375, 66, 585, 449, 370, 1, 144, 1703, 1, 3...</td>\n",
       "      <td>2145</td>\n",
       "      <td>1</td>\n",
       "      <td>1</td>\n",
       "    </tr>\n",
       "    <tr>\n",
       "      <th>3</th>\n",
       "      <td>[375, 338, 238, 280, 106, 65, 20, 227, 190, 22...</td>\n",
       "      <td>1186</td>\n",
       "      <td>3</td>\n",
       "      <td>1</td>\n",
       "    </tr>\n",
       "    <tr>\n",
       "      <th>4</th>\n",
       "      <td>[356, 27, 85, 163, 1, 115, 1237, 90, 3, 31, 53...</td>\n",
       "      <td>2798</td>\n",
       "      <td>3</td>\n",
       "      <td>1</td>\n",
       "    </tr>\n",
       "  </tbody>\n",
       "</table>\n",
       "</div>"
      ],
      "text/plain": [
       "                                      Padding_re_con  encoded_drugName  \\\n",
       "0  [895, 3019, 195, 35, 284, 416, 148, 35, 320, 3...              1745   \n",
       "1  [21, 133, 26, 32, 77, 1392, 2755, 4, 43, 24, 1...              1179   \n",
       "2  [9, 375, 66, 585, 449, 370, 1, 144, 1703, 1, 3...              2145   \n",
       "3  [375, 338, 238, 280, 106, 65, 20, 227, 190, 22...              1186   \n",
       "4  [356, 27, 85, 163, 1, 115, 1237, 90, 3, 31, 53...              2798   \n",
       "\n",
       "   sentiment  uC_rank  \n",
       "0          1        1  \n",
       "1          3        1  \n",
       "2          1        1  \n",
       "3          3        1  \n",
       "4          3        1  "
      ]
     },
     "execution_count": 45,
     "metadata": {},
     "output_type": "execute_result"
    }
   ],
   "source": [
    "drug_data_drugTop30 = pd.read_csv('/home/kdt-admin/miniconda3/envs/JS/WASSUP_Project_Team7_2-1/data/drug_data_drugTop30.csv')\n",
    "drug_data_drugTop30.head()"
   ]
  },
  {
   "cell_type": "code",
   "execution_count": 50,
   "metadata": {},
   "outputs": [
    {
     "name": "stdout",
     "output_type": "stream",
     "text": [
      "Accuracy: 0.5245029758136001\n"
     ]
    }
   ],
   "source": [
    "X = drug_data_drugTop30[['sentiment', 'uC_rank', 'Padding_re_con']]\n",
    "y = drug_data_drugTop30['encoded_drugName']\n",
    "X_train, X_test, y_train, y_test = train_test_split(X, y, test_size=0.2, random_state=42)\n",
    "\n",
    "X_train['importance'] = X_train.apply(apply_importance, axis=1)\n",
    "X_test['importance'] = X_test.apply(apply_importance, axis=1)\n",
    "\n",
    "tpot_pipeline.fit(X_train, y_train)\n",
    "\n",
    "accuracy = tpot_pipeline.score(X_test, y_test)\n",
    "print(\"Accuracy:\", accuracy)"
   ]
  },
  {
   "cell_type": "markdown",
   "metadata": {},
   "source": [
    "#### TOP 10 drugName"
   ]
  },
  {
   "cell_type": "code",
   "execution_count": 46,
   "metadata": {},
   "outputs": [
    {
     "data": {
      "text/html": [
       "<div>\n",
       "<style scoped>\n",
       "    .dataframe tbody tr th:only-of-type {\n",
       "        vertical-align: middle;\n",
       "    }\n",
       "\n",
       "    .dataframe tbody tr th {\n",
       "        vertical-align: top;\n",
       "    }\n",
       "\n",
       "    .dataframe thead th {\n",
       "        text-align: right;\n",
       "    }\n",
       "</style>\n",
       "<table border=\"1\" class=\"dataframe\">\n",
       "  <thead>\n",
       "    <tr style=\"text-align: right;\">\n",
       "      <th></th>\n",
       "      <th>Padding_re_con</th>\n",
       "      <th>encoded_drugName</th>\n",
       "      <th>sentiment</th>\n",
       "      <th>uC_rank</th>\n",
       "    </tr>\n",
       "  </thead>\n",
       "  <tbody>\n",
       "    <tr>\n",
       "      <th>0</th>\n",
       "      <td>[895, 3019, 195, 35, 284, 416, 148, 35, 320, 3...</td>\n",
       "      <td>1745</td>\n",
       "      <td>1</td>\n",
       "      <td>1</td>\n",
       "    </tr>\n",
       "    <tr>\n",
       "      <th>1</th>\n",
       "      <td>[21, 133, 26, 32, 77, 1392, 2755, 4, 43, 24, 1...</td>\n",
       "      <td>1179</td>\n",
       "      <td>3</td>\n",
       "      <td>1</td>\n",
       "    </tr>\n",
       "    <tr>\n",
       "      <th>2</th>\n",
       "      <td>[9, 375, 66, 585, 449, 370, 1, 144, 1703, 1, 3...</td>\n",
       "      <td>2145</td>\n",
       "      <td>1</td>\n",
       "      <td>1</td>\n",
       "    </tr>\n",
       "    <tr>\n",
       "      <th>3</th>\n",
       "      <td>[375, 338, 238, 280, 106, 65, 20, 227, 190, 22...</td>\n",
       "      <td>1186</td>\n",
       "      <td>3</td>\n",
       "      <td>1</td>\n",
       "    </tr>\n",
       "    <tr>\n",
       "      <th>4</th>\n",
       "      <td>[356, 27, 85, 163, 1, 115, 1237, 90, 3, 31, 53...</td>\n",
       "      <td>2798</td>\n",
       "      <td>3</td>\n",
       "      <td>1</td>\n",
       "    </tr>\n",
       "  </tbody>\n",
       "</table>\n",
       "</div>"
      ],
      "text/plain": [
       "                                      Padding_re_con  encoded_drugName  \\\n",
       "0  [895, 3019, 195, 35, 284, 416, 148, 35, 320, 3...              1745   \n",
       "1  [21, 133, 26, 32, 77, 1392, 2755, 4, 43, 24, 1...              1179   \n",
       "2  [9, 375, 66, 585, 449, 370, 1, 144, 1703, 1, 3...              2145   \n",
       "3  [375, 338, 238, 280, 106, 65, 20, 227, 190, 22...              1186   \n",
       "4  [356, 27, 85, 163, 1, 115, 1237, 90, 3, 31, 53...              2798   \n",
       "\n",
       "   sentiment  uC_rank  \n",
       "0          1        1  \n",
       "1          3        1  \n",
       "2          1        1  \n",
       "3          3        1  \n",
       "4          3        1  "
      ]
     },
     "execution_count": 46,
     "metadata": {},
     "output_type": "execute_result"
    }
   ],
   "source": [
    "drug_data_drugTop10 = pd.read_csv('/home/kdt-admin/miniconda3/envs/JS/WASSUP_Project_Team7_2-1/data/drug_data_drugTop10.csv')\n",
    "drug_data_drugTop10.head()"
   ]
  },
  {
   "cell_type": "code",
   "execution_count": 51,
   "metadata": {},
   "outputs": [
    {
     "name": "stdout",
     "output_type": "stream",
     "text": [
      "Accuracy: 0.6802850356294536\n"
     ]
    }
   ],
   "source": [
    "X = drug_data_drugTop10[['sentiment', 'uC_rank', 'Padding_re_con']]\n",
    "y = drug_data_drugTop10['encoded_drugName']\n",
    "X_train, X_test, y_train, y_test = train_test_split(X, y, test_size=0.2, random_state=42)\n",
    "\n",
    "X_train['importance'] = X_train.apply(apply_importance, axis=1)\n",
    "X_test['importance'] = X_test.apply(apply_importance, axis=1)\n",
    "\n",
    "tpot_pipeline.fit(X_train, y_train)\n",
    "\n",
    "accuracy = tpot_pipeline.score(X_test, y_test)\n",
    "print(\"Accuracy:\", accuracy)"
   ]
  },
  {
   "cell_type": "markdown",
   "metadata": {},
   "source": [
    "#### TOP 3 drugName"
   ]
  },
  {
   "cell_type": "code",
   "execution_count": 52,
   "metadata": {},
   "outputs": [
    {
     "data": {
      "text/html": [
       "<div>\n",
       "<style scoped>\n",
       "    .dataframe tbody tr th:only-of-type {\n",
       "        vertical-align: middle;\n",
       "    }\n",
       "\n",
       "    .dataframe tbody tr th {\n",
       "        vertical-align: top;\n",
       "    }\n",
       "\n",
       "    .dataframe thead th {\n",
       "        text-align: right;\n",
       "    }\n",
       "</style>\n",
       "<table border=\"1\" class=\"dataframe\">\n",
       "  <thead>\n",
       "    <tr style=\"text-align: right;\">\n",
       "      <th></th>\n",
       "      <th>Padding_re_con</th>\n",
       "      <th>encoded_drugName</th>\n",
       "      <th>sentiment</th>\n",
       "      <th>uC_rank</th>\n",
       "    </tr>\n",
       "  </thead>\n",
       "  <tbody>\n",
       "    <tr>\n",
       "      <th>0</th>\n",
       "      <td>[895, 3019, 195, 35, 284, 416, 148, 35, 320, 3...</td>\n",
       "      <td>1745</td>\n",
       "      <td>1</td>\n",
       "      <td>1</td>\n",
       "    </tr>\n",
       "    <tr>\n",
       "      <th>1</th>\n",
       "      <td>[375, 338, 238, 280, 106, 65, 20, 227, 190, 22...</td>\n",
       "      <td>1186</td>\n",
       "      <td>3</td>\n",
       "      <td>1</td>\n",
       "    </tr>\n",
       "    <tr>\n",
       "      <th>2</th>\n",
       "      <td>[96, 61, 2, 320, 331, 152, 102, 44, 70, 8, 20,...</td>\n",
       "      <td>1186</td>\n",
       "      <td>3</td>\n",
       "      <td>1</td>\n",
       "    </tr>\n",
       "    <tr>\n",
       "      <th>3</th>\n",
       "      <td>[345, 74, 76, 26, 66, 135, 2315, 136, 7, 63, 2...</td>\n",
       "      <td>1745</td>\n",
       "      <td>1</td>\n",
       "      <td>1</td>\n",
       "    </tr>\n",
       "    <tr>\n",
       "      <th>4</th>\n",
       "      <td>[13, 568, 263, 2315, 1249, 568, 891, 39, 441, ...</td>\n",
       "      <td>1745</td>\n",
       "      <td>3</td>\n",
       "      <td>1</td>\n",
       "    </tr>\n",
       "  </tbody>\n",
       "</table>\n",
       "</div>"
      ],
      "text/plain": [
       "                                      Padding_re_con  encoded_drugName  \\\n",
       "0  [895, 3019, 195, 35, 284, 416, 148, 35, 320, 3...              1745   \n",
       "1  [375, 338, 238, 280, 106, 65, 20, 227, 190, 22...              1186   \n",
       "2  [96, 61, 2, 320, 331, 152, 102, 44, 70, 8, 20,...              1186   \n",
       "3  [345, 74, 76, 26, 66, 135, 2315, 136, 7, 63, 2...              1745   \n",
       "4  [13, 568, 263, 2315, 1249, 568, 891, 39, 441, ...              1745   \n",
       "\n",
       "   sentiment  uC_rank  \n",
       "0          1        1  \n",
       "1          3        1  \n",
       "2          3        1  \n",
       "3          1        1  \n",
       "4          3        1  "
      ]
     },
     "execution_count": 52,
     "metadata": {},
     "output_type": "execute_result"
    }
   ],
   "source": [
    "drug_data_drugTop3 = pd.read_csv('/home/kdt-admin/miniconda3/envs/JS/WASSUP_Project_Team7_2-1/data/drug_data_drugTop3.csv')\n",
    "drug_data_drugTop3.head()"
   ]
  },
  {
   "cell_type": "code",
   "execution_count": 53,
   "metadata": {},
   "outputs": [
    {
     "name": "stdout",
     "output_type": "stream",
     "text": [
      "Accuracy: 0.9043927648578811\n"
     ]
    }
   ],
   "source": [
    "X = drug_data_drugTop3[['sentiment', 'uC_rank', 'Padding_re_con']]\n",
    "y = drug_data_drugTop3['encoded_drugName']\n",
    "X_train, X_test, y_train, y_test = train_test_split(X, y, test_size=0.2, random_state=42)\n",
    "\n",
    "X_train['importance'] = X_train.apply(apply_importance, axis=1)\n",
    "X_test['importance'] = X_test.apply(apply_importance, axis=1)\n",
    "\n",
    "tpot_pipeline.fit(X_train, y_train)\n",
    "\n",
    "accuracy = tpot_pipeline.score(X_test, y_test)\n",
    "print(\"Accuracy:\", accuracy)"
   ]
  }
 ],
 "metadata": {
  "kernelspec": {
   "display_name": "base",
   "language": "python",
   "name": "python3"
  },
  "language_info": {
   "codemirror_mode": {
    "name": "ipython",
    "version": 3
   },
   "file_extension": ".py",
   "mimetype": "text/x-python",
   "name": "python",
   "nbconvert_exporter": "python",
   "pygments_lexer": "ipython3",
   "version": "3.10.14"
  }
 },
 "nbformat": 4,
 "nbformat_minor": 2
}
