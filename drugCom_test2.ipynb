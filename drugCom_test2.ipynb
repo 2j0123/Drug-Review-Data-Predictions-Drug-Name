{
  "cells": [
    {
      "cell_type": "markdown",
      "metadata": {
        "id": "veq-sfXR8XRx"
      },
      "source": [
        "**텍스트 정제 => 토큰화(시퀀스 변형 x) => 불용어 제거 => 텍스트 정규화 => 표제어 추출 or 어간 추출\n",
        "=> 텍스트 벡터화 => 데이터 정제**"
      ]
    },
    {
      "cell_type": "code",
      "execution_count": null,
      "metadata": {
        "colab": {
          "base_uri": "https://localhost:8080/"
        },
        "id": "-lvmNLQ9aW7K",
        "outputId": "5e7f13d8-f806-4bf5-bd3a-8870fb0b25ae"
      },
      "outputs": [
        {
          "name": "stdout",
          "output_type": "stream",
          "text": [
            "Mounted at /content/drive\n"
          ]
        }
      ],
      "source": [
        "#from google.colab import drive\n",
        "#drive.mount('/content/drive')"
      ]
    },
    {
      "cell_type": "code",
      "execution_count": null,
      "metadata": {
        "id": "jVaQSujbaeX6"
      },
      "outputs": [],
      "source": [
        "import numpy as np\n",
        "import pandas as pd\n",
        "import matplotlib.pyplot as plt\n",
        "import seaborn as sns\n",
        "import re\n",
        "\n",
        "df = pd.read_csv('/home/kdt-admin/JY/data/drugsComTrain_raw.tsv', sep=\"\\t\", encoding='latin1')"
      ]
    },
    {
      "cell_type": "code",
      "execution_count": null,
      "metadata": {
        "id": "zNcEWiKN9tys",
        "outputId": "afcc8324-ebae-4c25-8422-943de58838ef"
      },
      "outputs": [
        {
          "data": {
            "text/html": [
              "<div>\n",
              "<style scoped>\n",
              "    .dataframe tbody tr th:only-of-type {\n",
              "        vertical-align: middle;\n",
              "    }\n",
              "\n",
              "    .dataframe tbody tr th {\n",
              "        vertical-align: top;\n",
              "    }\n",
              "\n",
              "    .dataframe thead th {\n",
              "        text-align: right;\n",
              "    }\n",
              "</style>\n",
              "<table border=\"1\" class=\"dataframe\">\n",
              "  <thead>\n",
              "    <tr style=\"text-align: right;\">\n",
              "      <th></th>\n",
              "      <th>Unnamed: 0</th>\n",
              "      <th>drugName</th>\n",
              "      <th>condition</th>\n",
              "      <th>review</th>\n",
              "      <th>rating</th>\n",
              "      <th>date</th>\n",
              "      <th>usefulCount</th>\n",
              "    </tr>\n",
              "  </thead>\n",
              "  <tbody>\n",
              "    <tr>\n",
              "      <th>0</th>\n",
              "      <td>206461</td>\n",
              "      <td>Valsartan</td>\n",
              "      <td>Left Ventricular Dysfunction</td>\n",
              "      <td>\"It has no side effect, I take it in combinati...</td>\n",
              "      <td>9.0</td>\n",
              "      <td>20-May-12</td>\n",
              "      <td>27.0</td>\n",
              "    </tr>\n",
              "    <tr>\n",
              "      <th>1</th>\n",
              "      <td>95260</td>\n",
              "      <td>Guanfacine</td>\n",
              "      <td>ADHD</td>\n",
              "      <td>\"My son is halfway through his fourth week of ...</td>\n",
              "      <td>8.0</td>\n",
              "      <td>27-Apr-10</td>\n",
              "      <td>192.0</td>\n",
              "    </tr>\n",
              "    <tr>\n",
              "      <th>2</th>\n",
              "      <td>92703</td>\n",
              "      <td>Lybrel</td>\n",
              "      <td>Birth Control</td>\n",
              "      <td>\"I used to take another oral contraceptive, wh...</td>\n",
              "      <td>5.0</td>\n",
              "      <td>14-Dec-09</td>\n",
              "      <td>17.0</td>\n",
              "    </tr>\n",
              "    <tr>\n",
              "      <th>3</th>\n",
              "      <td>138000</td>\n",
              "      <td>Ortho Evra</td>\n",
              "      <td>Birth Control</td>\n",
              "      <td>\"This is my first time using any form of birth...</td>\n",
              "      <td>8.0</td>\n",
              "      <td>03-Nov-15</td>\n",
              "      <td>10.0</td>\n",
              "    </tr>\n",
              "    <tr>\n",
              "      <th>4</th>\n",
              "      <td>35696</td>\n",
              "      <td>Buprenorphine / naloxone</td>\n",
              "      <td>Opiate Dependence</td>\n",
              "      <td>\"Suboxone has completely turned my life around...</td>\n",
              "      <td>9.0</td>\n",
              "      <td>27-Nov-16</td>\n",
              "      <td>37.0</td>\n",
              "    </tr>\n",
              "  </tbody>\n",
              "</table>\n",
              "</div>"
            ],
            "text/plain": [
              "  Unnamed: 0                  drugName                     condition  \\\n",
              "0     206461                 Valsartan  Left Ventricular Dysfunction   \n",
              "1      95260                Guanfacine                          ADHD   \n",
              "2      92703                    Lybrel                 Birth Control   \n",
              "3     138000                Ortho Evra                 Birth Control   \n",
              "4      35696  Buprenorphine / naloxone             Opiate Dependence   \n",
              "\n",
              "                                              review  rating       date  \\\n",
              "0  \"It has no side effect, I take it in combinati...     9.0  20-May-12   \n",
              "1  \"My son is halfway through his fourth week of ...     8.0  27-Apr-10   \n",
              "2  \"I used to take another oral contraceptive, wh...     5.0  14-Dec-09   \n",
              "3  \"This is my first time using any form of birth...     8.0  03-Nov-15   \n",
              "4  \"Suboxone has completely turned my life around...     9.0  27-Nov-16   \n",
              "\n",
              "   usefulCount  \n",
              "0         27.0  \n",
              "1        192.0  \n",
              "2         17.0  \n",
              "3         10.0  \n",
              "4         37.0  "
            ]
          },
          "execution_count": 106,
          "metadata": {},
          "output_type": "execute_result"
        }
      ],
      "source": [
        "df.head()"
      ]
    },
    {
      "cell_type": "code",
      "execution_count": null,
      "metadata": {
        "id": "GBgKmMpwae_x"
      },
      "outputs": [],
      "source": [
        "df.dropna(subset = ['condition'], inplace = True)\n",
        "df.drop(columns = ['Unnamed: 0', 'date'], inplace = True)"
      ]
    },
    {
      "cell_type": "code",
      "execution_count": null,
      "metadata": {
        "id": "HlZWBIjxa7li"
      },
      "outputs": [],
      "source": [
        "#condition컬럼에서 이상한 값 제거\n",
        "df = df[~df['condition'].str.contains(\"users found this comment helpful.\", na = False, case = False)]\n"
      ]
    },
    {
      "cell_type": "markdown",
      "metadata": {
        "id": "u2kgA0v16D7p"
      },
      "source": [
        "**영어, 숫자만 남겨두고 제거 => 039와 관련된 단어 삭제를 위해 숫자 남김**"
      ]
    },
    {
      "cell_type": "code",
      "execution_count": null,
      "metadata": {
        "id": "5gLTUY25bAw5"
      },
      "outputs": [],
      "source": [
        "df['review'] = df['review'].apply(lambda x: re.sub(r'[^a-zA-Z0-9\\s]', '', x))"
      ]
    },
    {
      "cell_type": "markdown",
      "metadata": {
        "id": "Vl1sD7W_6AjZ"
      },
      "source": [
        "**소문자로 변환**"
      ]
    },
    {
      "cell_type": "code",
      "execution_count": null,
      "metadata": {
        "id": "HBzgrALq5jnZ"
      },
      "outputs": [],
      "source": [
        "df['review'] = df['review'].str.lower()\n",
        "df['drugName'] = df['drugName'].str.lower()\n",
        "df['condition'] = df['condition'].str.lower()"
      ]
    },
    {
      "cell_type": "code",
      "execution_count": null,
      "metadata": {
        "colab": {
          "base_uri": "https://localhost:8080/",
          "height": 206
        },
        "id": "P9RPiM85bGTS",
        "outputId": "51c01c76-37a3-4874-caf8-8d9671326155"
      },
      "outputs": [
        {
          "data": {
            "text/html": [
              "<div>\n",
              "<style scoped>\n",
              "    .dataframe tbody tr th:only-of-type {\n",
              "        vertical-align: middle;\n",
              "    }\n",
              "\n",
              "    .dataframe tbody tr th {\n",
              "        vertical-align: top;\n",
              "    }\n",
              "\n",
              "    .dataframe thead th {\n",
              "        text-align: right;\n",
              "    }\n",
              "</style>\n",
              "<table border=\"1\" class=\"dataframe\">\n",
              "  <thead>\n",
              "    <tr style=\"text-align: right;\">\n",
              "      <th></th>\n",
              "      <th>drugName</th>\n",
              "      <th>condition</th>\n",
              "      <th>review</th>\n",
              "      <th>rating</th>\n",
              "      <th>usefulCount</th>\n",
              "    </tr>\n",
              "  </thead>\n",
              "  <tbody>\n",
              "    <tr>\n",
              "      <th>0</th>\n",
              "      <td>valsartan</td>\n",
              "      <td>left ventricular dysfunction</td>\n",
              "      <td>it has no side effect i take it in combination...</td>\n",
              "      <td>9.0</td>\n",
              "      <td>27.0</td>\n",
              "    </tr>\n",
              "    <tr>\n",
              "      <th>1</th>\n",
              "      <td>guanfacine</td>\n",
              "      <td>adhd</td>\n",
              "      <td>my son is halfway through his fourth week of i...</td>\n",
              "      <td>8.0</td>\n",
              "      <td>192.0</td>\n",
              "    </tr>\n",
              "    <tr>\n",
              "      <th>2</th>\n",
              "      <td>lybrel</td>\n",
              "      <td>birth control</td>\n",
              "      <td>i used to take another oral contraceptive whic...</td>\n",
              "      <td>5.0</td>\n",
              "      <td>17.0</td>\n",
              "    </tr>\n",
              "    <tr>\n",
              "      <th>3</th>\n",
              "      <td>ortho evra</td>\n",
              "      <td>birth control</td>\n",
              "      <td>this is my first time using any form of birth ...</td>\n",
              "      <td>8.0</td>\n",
              "      <td>10.0</td>\n",
              "    </tr>\n",
              "    <tr>\n",
              "      <th>4</th>\n",
              "      <td>buprenorphine / naloxone</td>\n",
              "      <td>opiate dependence</td>\n",
              "      <td>suboxone has completely turned my life around ...</td>\n",
              "      <td>9.0</td>\n",
              "      <td>37.0</td>\n",
              "    </tr>\n",
              "  </tbody>\n",
              "</table>\n",
              "</div>"
            ],
            "text/plain": [
              "                   drugName                     condition  \\\n",
              "0                 valsartan  left ventricular dysfunction   \n",
              "1                guanfacine                          adhd   \n",
              "2                    lybrel                 birth control   \n",
              "3                ortho evra                 birth control   \n",
              "4  buprenorphine / naloxone             opiate dependence   \n",
              "\n",
              "                                              review  rating  usefulCount  \n",
              "0  it has no side effect i take it in combination...     9.0         27.0  \n",
              "1  my son is halfway through his fourth week of i...     8.0        192.0  \n",
              "2  i used to take another oral contraceptive whic...     5.0         17.0  \n",
              "3  this is my first time using any form of birth ...     8.0         10.0  \n",
              "4  suboxone has completely turned my life around ...     9.0         37.0  "
            ]
          },
          "execution_count": 111,
          "metadata": {},
          "output_type": "execute_result"
        }
      ],
      "source": [
        "df.head()"
      ]
    },
    {
      "cell_type": "code",
      "execution_count": null,
      "metadata": {
        "id": "iIF8wS_t3VRL"
      },
      "outputs": [],
      "source": [
        "df['tokenized_review'] = df['review']"
      ]
    },
    {
      "cell_type": "markdown",
      "metadata": {
        "id": "Mrvvzo55bOxJ"
      },
      "source": [
        "# **토큰화**"
      ]
    },
    {
      "cell_type": "code",
      "execution_count": null,
      "metadata": {
        "id": "NJTTmsA0dqb6"
      },
      "outputs": [],
      "source": [
        "from nltk.corpus import stopwords\n",
        "from nltk.tokenize import word_tokenize\n",
        "from konlpy.tag import Okt\n",
        "import nltk\n",
        "\n",
        "#nltk.download('all')"
      ]
    },
    {
      "cell_type": "code",
      "execution_count": null,
      "metadata": {
        "id": "npBJDhbHdR8J"
      },
      "outputs": [],
      "source": [
        "#nltk.download('punkt')"
      ]
    },
    {
      "cell_type": "code",
      "execution_count": null,
      "metadata": {
        "id": "Ing-zvBNbJNi"
      },
      "outputs": [],
      "source": [
        "def tokenize_text(text):\n",
        "    tokens = word_tokenize(text)\n",
        "    return tokens\n",
        "\n",
        "df['tokenized_review'] = df['review'].apply(tokenize_text)\n",
        "df['review'] = df['review'].apply(tokenize_text)"
      ]
    },
    {
      "cell_type": "markdown",
      "metadata": {
        "id": "Czd2qaMWdtFo"
      },
      "source": [
        "# **불용어 제거**"
      ]
    },
    {
      "cell_type": "markdown",
      "metadata": {
        "id": "y7xQKSQYessx"
      },
      "source": [
        "**토큰화만된 리뷰와 토큰화와 불용어를 제거한 리뷰 구분**"
      ]
    },
    {
      "cell_type": "code",
      "execution_count": null,
      "metadata": {
        "id": "pj5OZUyD9tyu",
        "outputId": "9c1cbeb0-4a34-4562-957e-3ebe5f983a72"
      },
      "outputs": [
        {
          "name": "stdout",
          "output_type": "stream",
          "text": [
            "{'last', '‘d', 'through', 'really', 'over', 'otherwise', 'these', 'did', 'its', 'who', 'are', 'serious', 'what', 'whereupon', 'while', 'ten', 'whereafter', 'whole', 'because', 'how', 'her', 'anyway', 'once', 'we', 'now', 'nothing', 'thence', 'fifty', 'herself', 'he', 'both', 'hundred', \"'re\", 'hence', 'eleven', 'hereupon', '‘s', 'around', 'itself', 'indeed', 'afterwards', 'anyhow', 'fifteen', 'doing', 'quite', 'though', 'under', 'seemed', 'throughout', 'became', 'n‘t', 'your', 'be', 'several', 'many', 'always', 'beyond', 'may', 'due', 'latter', 'per', 'our', 'my', 'becomes', 'whereas', 'others', 'yet', 'call', 'two', 'but', 'would', 'hers', 'had', 'below', 'nevertheless', 'after', 'regarding', 'out', 'thru', 'none', 'top', 'wherein', 'were', 'against', 'namely', 'where', 'further', 'still', 'everywhere', 'might', 'very', 'hereby', '‘ll', 'somewhere', 'name', 'then', 'unless', 'at', 'can', 'thus', 'upon', 'into', 'his', 'empty', 'more', 'such', 'no', 'rather', 'their', 'side', 'herein', 'she', 'above', '‘re', 'same', 'a', 'hereafter', 'every', 'here', 'someone', 'less', 'whether', 'eight', 'seem', 'between', 'whence', 'often', 'amount', 'already', 'ourselves', 'anything', 'just', 'latterly', 'become', 'as', 'forty', '’ve', 'whatever', 'within', 'cannot', 'the', 'along', 'back', 'should', 'put', 'sixty', 'get', 'again', 'else', 'does', 'himself', 'been', '’ll', 'there', 'up', 'with', 'front', \"'ll\", 'yours', 'besides', \"n't\", 'towards', 'least', '’m', 'everything', 'sometime', 'except', 'and', 'therein', 'without', 'mostly', 'another', 'since', 'only', 'down', 'however', 'next', 'bottom', 'together', 'than', 'am', 'him', 'few', 'via', 'or', 'to', 'third', 'mine', 'nobody', 'until', 'see', 'seems', 'nor', 'either', 'move', 'not', 'across', 'elsewhere', 'even', 'wherever', 'whither', 'will', 'other', 'yourselves', 'n’t', 'say', 'show', 'i', 'noone', 'so', \"'ve\", 'why', 'is', 'ours', 'go', 'could', 'moreover', 'ever', 'during', 'thereupon', 'too', \"'m\", 'of', 'also', 'everyone', 'they', 'using', 'me', 'five', 'this', 'behind', 'therefore', 'three', 'alone', 'in', 'on', '‘ve', 'an', 'amongst', 'was', 'own', 'whoever', 'various', 'formerly', 'if', '’d', 'six', 'among', 'perhaps', 'which', 'first', 'although', 'each', '’re', 'much', 'about', 'please', 'used', 'it', 'part', 'former', 'beforehand', 'them', 'never', 'full', 'anywhere', 'nine', 'us', 'ca', 'sometimes', 'twenty', 'most', 'by', 'nowhere', 'well', 'make', '’s', 'neither', 'enough', 'have', 'off', 'meanwhile', 'whom', 'made', \"'d\", 'somehow', 'give', 'whenever', 'whose', 'thereby', 'anyone', 'that', 'being', 'one', 'done', \"'s\", 'twelve', 'onto', 'becoming', 'do', 'yourself', 'has', 'beside', 'myself', 'keep', 'you', '‘m', 'take', 're', 'some', 'when', 'those', 'all', 'seeming', 'toward', 'themselves', 'whereby', 'for', 'from', 'almost', 'thereafter', 'must', 'any', 'four', 'before', 'something'}\n"
          ]
        }
      ],
      "source": [
        "import spacy\n",
        "\n",
        "spacy.load('en_core_web_md')\n",
        "stopwords2 = spacy.lang.en.stop_words.STOP_WORDS\n",
        "print(stopwords2)"
      ]
    },
    {
      "cell_type": "code",
      "execution_count": null,
      "metadata": {
        "id": "8RVO-_LWd9Aa"
      },
      "outputs": [],
      "source": [
        "del_list = ['one', 'two', 'three', 'four', 'five', 'six', 'seven', 'eight', 'nine', 'ten', 'first', 'second', 'third', 'fourth', 'fifth', 'sixth', 'seventh', 'eighth', 'ninth',\n",
        "            'week', 'weeks', 'almost', 'month', 'monthly', 'ago', 'year', 'years', 'months', 'a', 'b', 'c', 'd', 'e', 'f', 'g', 'h', 'i', 'j', 'k','l', 'm', 'o', 'p', 'q', 'r', 's', 't', 'v', 'w', 'x', 'y', 'z']\n",
        "stopwords2 = set(stopwords2)\n",
        "stop_words_list = stopwords.words('english') + del_list + list(stopwords2)\n",
        "stop_words = set(stop_words_list)\n",
        "updated_stopwords = stop_words"
      ]
    },
    {
      "cell_type": "code",
      "execution_count": null,
      "metadata": {
        "id": "e7plHIUfeWFA"
      },
      "outputs": [],
      "source": [
        "def remove_stopwords(text):\n",
        "    filtered_words = [word for word in text if word.lower() not in updated_stopwords]\n",
        "    return filtered_words\n",
        "\n",
        "\n",
        "#'가 039로 깨져있음\n",
        "def remove_039(tokens):\n",
        "    filtered_tokens = [token for token in tokens if not re.search(r'039', token)]\n",
        "    return filtered_tokens\n",
        "\n",
        "#영어만 남기고 삭제\n",
        "english_pattern = re.compile('[a-zA-Z]+')"
      ]
    },
    {
      "cell_type": "code",
      "execution_count": null,
      "metadata": {
        "colab": {
          "base_uri": "https://localhost:8080/",
          "height": 780
        },
        "id": "AZxtGqRceZt4",
        "outputId": "f2e419f1-49d0-4fc7-b2bd-77ca2b7da2f5"
      },
      "outputs": [
        {
          "data": {
            "text/html": [
              "<div>\n",
              "<style scoped>\n",
              "    .dataframe tbody tr th:only-of-type {\n",
              "        vertical-align: middle;\n",
              "    }\n",
              "\n",
              "    .dataframe tbody tr th {\n",
              "        vertical-align: top;\n",
              "    }\n",
              "\n",
              "    .dataframe thead th {\n",
              "        text-align: right;\n",
              "    }\n",
              "</style>\n",
              "<table border=\"1\" class=\"dataframe\">\n",
              "  <thead>\n",
              "    <tr style=\"text-align: right;\">\n",
              "      <th></th>\n",
              "      <th>drugName</th>\n",
              "      <th>condition</th>\n",
              "      <th>review</th>\n",
              "      <th>rating</th>\n",
              "      <th>usefulCount</th>\n",
              "      <th>tokenized_review</th>\n",
              "    </tr>\n",
              "  </thead>\n",
              "  <tbody>\n",
              "    <tr>\n",
              "      <th>0</th>\n",
              "      <td>valsartan</td>\n",
              "      <td>left ventricular dysfunction</td>\n",
              "      <td>[it, has, no, side, effect, i, take, it, in, c...</td>\n",
              "      <td>9.0</td>\n",
              "      <td>27.0</td>\n",
              "      <td>[it, has, no, side, effect, i, take, it, in, c...</td>\n",
              "    </tr>\n",
              "    <tr>\n",
              "      <th>1</th>\n",
              "      <td>guanfacine</td>\n",
              "      <td>adhd</td>\n",
              "      <td>[my, son, is, halfway, through, his, fourth, w...</td>\n",
              "      <td>8.0</td>\n",
              "      <td>192.0</td>\n",
              "      <td>[my, son, is, halfway, through, his, fourth, w...</td>\n",
              "    </tr>\n",
              "    <tr>\n",
              "      <th>2</th>\n",
              "      <td>lybrel</td>\n",
              "      <td>birth control</td>\n",
              "      <td>[i, used, to, take, another, oral, contracepti...</td>\n",
              "      <td>5.0</td>\n",
              "      <td>17.0</td>\n",
              "      <td>[i, used, to, take, another, oral, contracepti...</td>\n",
              "    </tr>\n",
              "    <tr>\n",
              "      <th>3</th>\n",
              "      <td>ortho evra</td>\n",
              "      <td>birth control</td>\n",
              "      <td>[this, is, my, first, time, using, any, form, ...</td>\n",
              "      <td>8.0</td>\n",
              "      <td>10.0</td>\n",
              "      <td>[this, is, my, first, time, using, any, form, ...</td>\n",
              "    </tr>\n",
              "    <tr>\n",
              "      <th>4</th>\n",
              "      <td>buprenorphine / naloxone</td>\n",
              "      <td>opiate dependence</td>\n",
              "      <td>[suboxone, has, completely, turned, my, life, ...</td>\n",
              "      <td>9.0</td>\n",
              "      <td>37.0</td>\n",
              "      <td>[suboxone, has, completely, turned, my, life, ...</td>\n",
              "    </tr>\n",
              "    <tr>\n",
              "      <th>5</th>\n",
              "      <td>cialis</td>\n",
              "      <td>benign prostatic hyperplasia</td>\n",
              "      <td>[2nd, day, on, 5mg, started, to, work, with, r...</td>\n",
              "      <td>2.0</td>\n",
              "      <td>43.0</td>\n",
              "      <td>[2nd, day, on, 5mg, started, to, work, with, r...</td>\n",
              "    </tr>\n",
              "    <tr>\n",
              "      <th>6</th>\n",
              "      <td>levonorgestrel</td>\n",
              "      <td>emergency contraception</td>\n",
              "      <td>[he, pulled, out, but, he, cummed, a, bit, in,...</td>\n",
              "      <td>1.0</td>\n",
              "      <td>5.0</td>\n",
              "      <td>[he, pulled, out, but, he, cummed, a, bit, in,...</td>\n",
              "    </tr>\n",
              "    <tr>\n",
              "      <th>7</th>\n",
              "      <td>aripiprazole</td>\n",
              "      <td>bipolar disorde</td>\n",
              "      <td>[abilify, changed, my, life, there, is, hope, ...</td>\n",
              "      <td>10.0</td>\n",
              "      <td>32.0</td>\n",
              "      <td>[abilify, changed, my, life, there, is, hope, ...</td>\n",
              "    </tr>\n",
              "    <tr>\n",
              "      <th>8</th>\n",
              "      <td>keppra</td>\n",
              "      <td>epilepsy</td>\n",
              "      <td>[i, ve, had, nothing, but, problems, with, the...</td>\n",
              "      <td>1.0</td>\n",
              "      <td>11.0</td>\n",
              "      <td>[i, ve, had, nothing, but, problems, with, the...</td>\n",
              "    </tr>\n",
              "    <tr>\n",
              "      <th>9</th>\n",
              "      <td>ethinyl estradiol / levonorgestrel</td>\n",
              "      <td>birth control</td>\n",
              "      <td>[i, had, been, on, the, pill, for, many, years...</td>\n",
              "      <td>8.0</td>\n",
              "      <td>1.0</td>\n",
              "      <td>[i, had, been, on, the, pill, for, many, years...</td>\n",
              "    </tr>\n",
              "    <tr>\n",
              "      <th>10</th>\n",
              "      <td>topiramate</td>\n",
              "      <td>migraine prevention</td>\n",
              "      <td>[i, have, been, on, this, medication, almost, ...</td>\n",
              "      <td>9.0</td>\n",
              "      <td>19.0</td>\n",
              "      <td>[i, have, been, on, this, medication, almost, ...</td>\n",
              "    </tr>\n",
              "    <tr>\n",
              "      <th>11</th>\n",
              "      <td>l-methylfolate</td>\n",
              "      <td>depression</td>\n",
              "      <td>[i, have, taken, antidepressants, for, years, ...</td>\n",
              "      <td>10.0</td>\n",
              "      <td>54.0</td>\n",
              "      <td>[i, have, taken, antidepressants, for, years, ...</td>\n",
              "    </tr>\n",
              "    <tr>\n",
              "      <th>12</th>\n",
              "      <td>pentasa</td>\n",
              "      <td>crohn's disease</td>\n",
              "      <td>[i, had, crohn039s, with, a, resection, 30, ye...</td>\n",
              "      <td>4.0</td>\n",
              "      <td>8.0</td>\n",
              "      <td>[i, had, crohn039s, with, a, resection, 30, ye...</td>\n",
              "    </tr>\n",
              "    <tr>\n",
              "      <th>13</th>\n",
              "      <td>dextromethorphan</td>\n",
              "      <td>cough</td>\n",
              "      <td>[have, a, little, bit, of, a, lingering, cough...</td>\n",
              "      <td>4.0</td>\n",
              "      <td>1.0</td>\n",
              "      <td>[have, a, little, bit, of, a, lingering, cough...</td>\n",
              "    </tr>\n",
              "    <tr>\n",
              "      <th>14</th>\n",
              "      <td>nexplanon</td>\n",
              "      <td>birth control</td>\n",
              "      <td>[started, nexplanon, 2, months, ago, because, ...</td>\n",
              "      <td>3.0</td>\n",
              "      <td>10.0</td>\n",
              "      <td>[started, nexplanon, 2, months, ago, because, ...</td>\n",
              "    </tr>\n",
              "  </tbody>\n",
              "</table>\n",
              "</div>"
            ],
            "text/plain": [
              "                              drugName                     condition  \\\n",
              "0                            valsartan  left ventricular dysfunction   \n",
              "1                           guanfacine                          adhd   \n",
              "2                               lybrel                 birth control   \n",
              "3                           ortho evra                 birth control   \n",
              "4             buprenorphine / naloxone             opiate dependence   \n",
              "5                               cialis  benign prostatic hyperplasia   \n",
              "6                       levonorgestrel       emergency contraception   \n",
              "7                         aripiprazole               bipolar disorde   \n",
              "8                               keppra                      epilepsy   \n",
              "9   ethinyl estradiol / levonorgestrel                 birth control   \n",
              "10                          topiramate           migraine prevention   \n",
              "11                      l-methylfolate                    depression   \n",
              "12                             pentasa               crohn's disease   \n",
              "13                    dextromethorphan                         cough   \n",
              "14                           nexplanon                 birth control   \n",
              "\n",
              "                                               review  rating  usefulCount  \\\n",
              "0   [it, has, no, side, effect, i, take, it, in, c...     9.0         27.0   \n",
              "1   [my, son, is, halfway, through, his, fourth, w...     8.0        192.0   \n",
              "2   [i, used, to, take, another, oral, contracepti...     5.0         17.0   \n",
              "3   [this, is, my, first, time, using, any, form, ...     8.0         10.0   \n",
              "4   [suboxone, has, completely, turned, my, life, ...     9.0         37.0   \n",
              "5   [2nd, day, on, 5mg, started, to, work, with, r...     2.0         43.0   \n",
              "6   [he, pulled, out, but, he, cummed, a, bit, in,...     1.0          5.0   \n",
              "7   [abilify, changed, my, life, there, is, hope, ...    10.0         32.0   \n",
              "8   [i, ve, had, nothing, but, problems, with, the...     1.0         11.0   \n",
              "9   [i, had, been, on, the, pill, for, many, years...     8.0          1.0   \n",
              "10  [i, have, been, on, this, medication, almost, ...     9.0         19.0   \n",
              "11  [i, have, taken, antidepressants, for, years, ...    10.0         54.0   \n",
              "12  [i, had, crohn039s, with, a, resection, 30, ye...     4.0          8.0   \n",
              "13  [have, a, little, bit, of, a, lingering, cough...     4.0          1.0   \n",
              "14  [started, nexplanon, 2, months, ago, because, ...     3.0         10.0   \n",
              "\n",
              "                                     tokenized_review  \n",
              "0   [it, has, no, side, effect, i, take, it, in, c...  \n",
              "1   [my, son, is, halfway, through, his, fourth, w...  \n",
              "2   [i, used, to, take, another, oral, contracepti...  \n",
              "3   [this, is, my, first, time, using, any, form, ...  \n",
              "4   [suboxone, has, completely, turned, my, life, ...  \n",
              "5   [2nd, day, on, 5mg, started, to, work, with, r...  \n",
              "6   [he, pulled, out, but, he, cummed, a, bit, in,...  \n",
              "7   [abilify, changed, my, life, there, is, hope, ...  \n",
              "8   [i, ve, had, nothing, but, problems, with, the...  \n",
              "9   [i, had, been, on, the, pill, for, many, years...  \n",
              "10  [i, have, been, on, this, medication, almost, ...  \n",
              "11  [i, have, taken, antidepressants, for, years, ...  \n",
              "12  [i, had, crohn039s, with, a, resection, 30, ye...  \n",
              "13  [have, a, little, bit, of, a, lingering, cough...  \n",
              "14  [started, nexplanon, 2, months, ago, because, ...  "
            ]
          },
          "execution_count": 15,
          "metadata": {},
          "output_type": "execute_result"
        }
      ],
      "source": [
        "df.head(15)"
      ]
    },
    {
      "cell_type": "code",
      "execution_count": null,
      "metadata": {
        "id": "xGMKhrTjehI5"
      },
      "outputs": [],
      "source": [
        "df['tokenized_review'] = df['tokenized_review'].apply(remove_stopwords)\n",
        "df['tokenized_review'] = df['tokenized_review'].apply(remove_039)\n",
        "\n",
        "\n",
        "df['review'] = df['review'].apply(remove_039)"
      ]
    },
    {
      "cell_type": "code",
      "execution_count": null,
      "metadata": {
        "id": "2AoKVWi287OC"
      },
      "outputs": [],
      "source": [
        "#숫자 제거\n",
        "df['review'] = df['review'].apply(lambda tokens: [token for token in tokens if english_pattern.match(token)])\n",
        "df['tokenized_review'] = df['tokenized_review'].apply(lambda tokens: [token for token in tokens if english_pattern.match(token)])\n",
        "#df['tokenized_review'] = df['tokenized_review'].apply(lambda x: re.sub(r'[^a-zA-Z\\s]', '', x))"
      ]
    },
    {
      "cell_type": "markdown",
      "metadata": {
        "id": "HJxploJEia0R"
      },
      "source": [
        "**어근 추출 : Lemmatization(표제어 추출)**"
      ]
    },
    {
      "cell_type": "code",
      "execution_count": null,
      "metadata": {
        "id": "ypytpU7RgG-I"
      },
      "outputs": [],
      "source": [
        "from nltk.stem import WordNetLemmatizer\n",
        "lemmatizer = WordNetLemmatizer()\n",
        "\n",
        "df['tokenized_review'] = df['tokenized_review'].apply(lambda x: [lemmatizer.lemmatize(word) for word in x])"
      ]
    },
    {
      "cell_type": "code",
      "execution_count": null,
      "metadata": {
        "id": "9zYF4vF09tyv"
      },
      "outputs": [],
      "source": [
        "from gensim.models import Word2Vec\n",
        "from gensim.models import KeyedVectors\n",
        "\n",
        "model = Word2Vec(sentences = df['tokenized_review'], vector_size = 50, window = 5, min_count = 1, workers = 4, sg = 0)"
      ]
    },
    {
      "cell_type": "code",
      "execution_count": null,
      "metadata": {
        "id": "l9WPil309tyv",
        "outputId": "7d15dfbf-8b78-4257-ec49-a6fbad815f8d"
      },
      "outputs": [
        {
          "data": {
            "text/plain": [
              "0       [effect, combination, bystolic, mg, fish, oil]\n",
              "1    [son, halfway, intuniv, concerned, began, star...\n",
              "2    [oral, contraceptive, pill, cycle, happy, ligh...\n",
              "3    [time, form, birth, control, glad, went, patch...\n",
              "4    [suboxone, completely, turned, life, feel, hea...\n",
              "Name: tokenized_review, dtype: object"
            ]
          },
          "execution_count": 124,
          "metadata": {},
          "output_type": "execute_result"
        }
      ],
      "source": [
        "df['tokenized_review'].head()"
      ]
    },
    {
      "cell_type": "code",
      "execution_count": null,
      "metadata": {
        "colab": {
          "base_uri": "https://localhost:8080/",
          "height": 780
        },
        "id": "ziaKbhxU1Pgi",
        "outputId": "b0b56baa-f36f-4903-a9db-15ae4fa2ea5a"
      },
      "outputs": [
        {
          "data": {
            "text/html": [
              "<div>\n",
              "<style scoped>\n",
              "    .dataframe tbody tr th:only-of-type {\n",
              "        vertical-align: middle;\n",
              "    }\n",
              "\n",
              "    .dataframe tbody tr th {\n",
              "        vertical-align: top;\n",
              "    }\n",
              "\n",
              "    .dataframe thead th {\n",
              "        text-align: right;\n",
              "    }\n",
              "</style>\n",
              "<table border=\"1\" class=\"dataframe\">\n",
              "  <thead>\n",
              "    <tr style=\"text-align: right;\">\n",
              "      <th></th>\n",
              "      <th>drugName</th>\n",
              "      <th>condition</th>\n",
              "      <th>review</th>\n",
              "      <th>rating</th>\n",
              "      <th>usefulCount</th>\n",
              "      <th>tokenized_review</th>\n",
              "    </tr>\n",
              "  </thead>\n",
              "  <tbody>\n",
              "    <tr>\n",
              "      <th>0</th>\n",
              "      <td>valsartan</td>\n",
              "      <td>left ventricular dysfunction</td>\n",
              "      <td>[it, has, no, side, effect, i, take, it, in, c...</td>\n",
              "      <td>9.0</td>\n",
              "      <td>27.0</td>\n",
              "      <td>[effect, combination, bystolic, mg, fish, oil]</td>\n",
              "    </tr>\n",
              "    <tr>\n",
              "      <th>1</th>\n",
              "      <td>guanfacine</td>\n",
              "      <td>adhd</td>\n",
              "      <td>[my, son, is, halfway, through, his, fourth, w...</td>\n",
              "      <td>8.0</td>\n",
              "      <td>192.0</td>\n",
              "      <td>[son, halfway, intuniv, concerned, began, star...</td>\n",
              "    </tr>\n",
              "    <tr>\n",
              "      <th>2</th>\n",
              "      <td>lybrel</td>\n",
              "      <td>birth control</td>\n",
              "      <td>[i, used, to, take, another, oral, contracepti...</td>\n",
              "      <td>5.0</td>\n",
              "      <td>17.0</td>\n",
              "      <td>[oral, contraceptive, pill, cycle, happy, ligh...</td>\n",
              "    </tr>\n",
              "    <tr>\n",
              "      <th>3</th>\n",
              "      <td>ortho evra</td>\n",
              "      <td>birth control</td>\n",
              "      <td>[this, is, my, first, time, using, any, form, ...</td>\n",
              "      <td>8.0</td>\n",
              "      <td>10.0</td>\n",
              "      <td>[time, form, birth, control, glad, went, patch...</td>\n",
              "    </tr>\n",
              "    <tr>\n",
              "      <th>4</th>\n",
              "      <td>buprenorphine / naloxone</td>\n",
              "      <td>opiate dependence</td>\n",
              "      <td>[suboxone, has, completely, turned, my, life, ...</td>\n",
              "      <td>9.0</td>\n",
              "      <td>37.0</td>\n",
              "      <td>[suboxone, completely, turned, life, feel, hea...</td>\n",
              "    </tr>\n",
              "    <tr>\n",
              "      <th>5</th>\n",
              "      <td>cialis</td>\n",
              "      <td>benign prostatic hyperplasia</td>\n",
              "      <td>[day, on, started, to, work, with, rock, hard,...</td>\n",
              "      <td>2.0</td>\n",
              "      <td>43.0</td>\n",
              "      <td>[day, started, work, rock, hard, erection, exp...</td>\n",
              "    </tr>\n",
              "    <tr>\n",
              "      <th>6</th>\n",
              "      <td>levonorgestrel</td>\n",
              "      <td>emergency contraception</td>\n",
              "      <td>[he, pulled, out, but, he, cummed, a, bit, in,...</td>\n",
              "      <td>1.0</td>\n",
              "      <td>5.0</td>\n",
              "      <td>[pulled, cummed, bit, took, plan, hour, later,...</td>\n",
              "    </tr>\n",
              "    <tr>\n",
              "      <th>7</th>\n",
              "      <td>aripiprazole</td>\n",
              "      <td>bipolar disorde</td>\n",
              "      <td>[abilify, changed, my, life, there, is, hope, ...</td>\n",
              "      <td>10.0</td>\n",
              "      <td>32.0</td>\n",
              "      <td>[abilify, changed, life, hope, zoloft, clonidi...</td>\n",
              "    </tr>\n",
              "    <tr>\n",
              "      <th>8</th>\n",
              "      <td>keppra</td>\n",
              "      <td>epilepsy</td>\n",
              "      <td>[i, ve, had, nothing, but, problems, with, the...</td>\n",
              "      <td>1.0</td>\n",
              "      <td>11.0</td>\n",
              "      <td>[problem, keppera, constant, shaking, arm, amp...</td>\n",
              "    </tr>\n",
              "    <tr>\n",
              "      <th>9</th>\n",
              "      <td>ethinyl estradiol / levonorgestrel</td>\n",
              "      <td>birth control</td>\n",
              "      <td>[i, had, been, on, the, pill, for, many, years...</td>\n",
              "      <td>8.0</td>\n",
              "      <td>1.0</td>\n",
              "      <td>[pill, doctor, changed, rx, chateal, effective...</td>\n",
              "    </tr>\n",
              "    <tr>\n",
              "      <th>10</th>\n",
              "      <td>topiramate</td>\n",
              "      <td>migraine prevention</td>\n",
              "      <td>[i, have, been, on, this, medication, almost, ...</td>\n",
              "      <td>9.0</td>\n",
              "      <td>19.0</td>\n",
              "      <td>[medication, started, working, way, currently,...</td>\n",
              "    </tr>\n",
              "    <tr>\n",
              "      <th>11</th>\n",
              "      <td>l-methylfolate</td>\n",
              "      <td>depression</td>\n",
              "      <td>[i, have, taken, antidepressants, for, years, ...</td>\n",
              "      <td>10.0</td>\n",
              "      <td>54.0</td>\n",
              "      <td>[taken, antidepressant, improvement, moderate,...</td>\n",
              "    </tr>\n",
              "    <tr>\n",
              "      <th>12</th>\n",
              "      <td>pentasa</td>\n",
              "      <td>crohn's disease</td>\n",
              "      <td>[i, had, with, a, resection, years, ago, and, ...</td>\n",
              "      <td>4.0</td>\n",
              "      <td>8.0</td>\n",
              "      <td>[resection, remission, recently, bad, flare, n...</td>\n",
              "    </tr>\n",
              "    <tr>\n",
              "      <th>13</th>\n",
              "      <td>dextromethorphan</td>\n",
              "      <td>cough</td>\n",
              "      <td>[have, a, little, bit, of, a, lingering, cough...</td>\n",
              "      <td>4.0</td>\n",
              "      <td>1.0</td>\n",
              "      <td>[little, bit, lingering, cough, cold, giving, ...</td>\n",
              "    </tr>\n",
              "    <tr>\n",
              "      <th>14</th>\n",
              "      <td>nexplanon</td>\n",
              "      <td>birth control</td>\n",
              "      <td>[started, nexplanon, months, ago, because, i, ...</td>\n",
              "      <td>3.0</td>\n",
              "      <td>10.0</td>\n",
              "      <td>[started, nexplanon, minimal, inability, hormo...</td>\n",
              "    </tr>\n",
              "  </tbody>\n",
              "</table>\n",
              "</div>"
            ],
            "text/plain": [
              "                              drugName                     condition  \\\n",
              "0                            valsartan  left ventricular dysfunction   \n",
              "1                           guanfacine                          adhd   \n",
              "2                               lybrel                 birth control   \n",
              "3                           ortho evra                 birth control   \n",
              "4             buprenorphine / naloxone             opiate dependence   \n",
              "5                               cialis  benign prostatic hyperplasia   \n",
              "6                       levonorgestrel       emergency contraception   \n",
              "7                         aripiprazole               bipolar disorde   \n",
              "8                               keppra                      epilepsy   \n",
              "9   ethinyl estradiol / levonorgestrel                 birth control   \n",
              "10                          topiramate           migraine prevention   \n",
              "11                      l-methylfolate                    depression   \n",
              "12                             pentasa               crohn's disease   \n",
              "13                    dextromethorphan                         cough   \n",
              "14                           nexplanon                 birth control   \n",
              "\n",
              "                                               review  rating  usefulCount  \\\n",
              "0   [it, has, no, side, effect, i, take, it, in, c...     9.0         27.0   \n",
              "1   [my, son, is, halfway, through, his, fourth, w...     8.0        192.0   \n",
              "2   [i, used, to, take, another, oral, contracepti...     5.0         17.0   \n",
              "3   [this, is, my, first, time, using, any, form, ...     8.0         10.0   \n",
              "4   [suboxone, has, completely, turned, my, life, ...     9.0         37.0   \n",
              "5   [day, on, started, to, work, with, rock, hard,...     2.0         43.0   \n",
              "6   [he, pulled, out, but, he, cummed, a, bit, in,...     1.0          5.0   \n",
              "7   [abilify, changed, my, life, there, is, hope, ...    10.0         32.0   \n",
              "8   [i, ve, had, nothing, but, problems, with, the...     1.0         11.0   \n",
              "9   [i, had, been, on, the, pill, for, many, years...     8.0          1.0   \n",
              "10  [i, have, been, on, this, medication, almost, ...     9.0         19.0   \n",
              "11  [i, have, taken, antidepressants, for, years, ...    10.0         54.0   \n",
              "12  [i, had, with, a, resection, years, ago, and, ...     4.0          8.0   \n",
              "13  [have, a, little, bit, of, a, lingering, cough...     4.0          1.0   \n",
              "14  [started, nexplanon, months, ago, because, i, ...     3.0         10.0   \n",
              "\n",
              "                                     tokenized_review  \n",
              "0      [effect, combination, bystolic, mg, fish, oil]  \n",
              "1   [son, halfway, intuniv, concerned, began, star...  \n",
              "2   [oral, contraceptive, pill, cycle, happy, ligh...  \n",
              "3   [time, form, birth, control, glad, went, patch...  \n",
              "4   [suboxone, completely, turned, life, feel, hea...  \n",
              "5   [day, started, work, rock, hard, erection, exp...  \n",
              "6   [pulled, cummed, bit, took, plan, hour, later,...  \n",
              "7   [abilify, changed, life, hope, zoloft, clonidi...  \n",
              "8   [problem, keppera, constant, shaking, arm, amp...  \n",
              "9   [pill, doctor, changed, rx, chateal, effective...  \n",
              "10  [medication, started, working, way, currently,...  \n",
              "11  [taken, antidepressant, improvement, moderate,...  \n",
              "12  [resection, remission, recently, bad, flare, n...  \n",
              "13  [little, bit, lingering, cough, cold, giving, ...  \n",
              "14  [started, nexplanon, minimal, inability, hormo...  "
            ]
          },
          "execution_count": 125,
          "metadata": {},
          "output_type": "execute_result"
        }
      ],
      "source": [
        "df.head(15)"
      ]
    },
    {
      "cell_type": "markdown",
      "metadata": {
        "id": "WXeSw-Ma8HWn"
      },
      "source": [
        "# **텍스트 벡터화 or 시퀀스화 + padding**"
      ]
    },
    {
      "cell_type": "code",
      "execution_count": null,
      "metadata": {
        "id": "LVza4kt-5u7f"
      },
      "outputs": [],
      "source": [
        "from tensorflow.keras.preprocessing.text import Tokenizer\n",
        "from keras.preprocessing.sequence import pad_sequences\n",
        "\n",
        "review1 = df['review']\n",
        "review2 = df['tokenized_review']\n",
        "\n",
        "tokenizer = Tokenizer()\n",
        "\n",
        "tokenizer.fit_on_texts(review1)\n",
        "tokenizer.fit_on_texts(review2)\n",
        "\n",
        "review1_sequences = tokenizer.texts_to_sequences(review1)\n",
        "review2_sequences = tokenizer.texts_to_sequences(review2)\n",
        "\n",
        "max_length1 = max([len(seq) for seq in review1_sequences])\n",
        "df_review1_padded = pad_sequences(review1_sequences, maxlen=max_length1, padding='post')\n",
        "\n",
        "max_length2 = max([len(seq) for seq in review2_sequences])\n",
        "df_review2_padded = pad_sequences(review2_sequences, maxlen=max_length2, padding='post')\n",
        "\n",
        "df['review'] = df_review1_padded.tolist()\n",
        "\n",
        "df['tokenized_review'] = df_review2_padded.tolist()"
      ]
    },
    {
      "cell_type": "code",
      "execution_count": null,
      "metadata": {
        "id": "TSLGuGhXjh8P",
        "outputId": "0a163dd9-ff70-44d3-f46b-f943bb3ccd43"
      },
      "outputs": [
        {
          "data": {
            "text/html": [
              "<div>\n",
              "<style scoped>\n",
              "    .dataframe tbody tr th:only-of-type {\n",
              "        vertical-align: middle;\n",
              "    }\n",
              "\n",
              "    .dataframe tbody tr th {\n",
              "        vertical-align: top;\n",
              "    }\n",
              "\n",
              "    .dataframe thead th {\n",
              "        text-align: right;\n",
              "    }\n",
              "</style>\n",
              "<table border=\"1\" class=\"dataframe\">\n",
              "  <thead>\n",
              "    <tr style=\"text-align: right;\">\n",
              "      <th></th>\n",
              "      <th>drugName</th>\n",
              "      <th>condition</th>\n",
              "      <th>review</th>\n",
              "      <th>rating</th>\n",
              "      <th>usefulCount</th>\n",
              "      <th>tokenized_review</th>\n",
              "    </tr>\n",
              "  </thead>\n",
              "  <tbody>\n",
              "    <tr>\n",
              "      <th>0</th>\n",
              "      <td>valsartan</td>\n",
              "      <td>left ventricular dysfunction</td>\n",
              "      <td>[7, 51, 37, 47, 33, 1, 52, 7, 15, 734, 11, 266...</td>\n",
              "      <td>9.0</td>\n",
              "      <td>27.0</td>\n",
              "      <td>[33, 734, 2667, 95, 3522, 1380, 0, 0, 0, 0, 0,...</td>\n",
              "    </tr>\n",
              "    <tr>\n",
              "      <th>1</th>\n",
              "      <td>guanfacine</td>\n",
              "      <td>adhd</td>\n",
              "      <td>[5, 568, 19, 3038, 317, 754, 2330, 103, 11, 30...</td>\n",
              "      <td>8.0</td>\n",
              "      <td>192.0</td>\n",
              "      <td>[568, 3038, 3011, 1107, 293, 26, 22, 2113, 90,...</td>\n",
              "    </tr>\n",
              "    <tr>\n",
              "      <th>2</th>\n",
              "      <td>lybrel</td>\n",
              "      <td>birth control</td>\n",
              "      <td>[1, 203, 4, 52, 373, 1081, 1576, 117, 18, 31, ...</td>\n",
              "      <td>5.0</td>\n",
              "      <td>17.0</td>\n",
              "      <td>[1081, 1576, 31, 452, 197, 236, 32, 1727, 12, ...</td>\n",
              "    </tr>\n",
              "    <tr>\n",
              "      <th>3</th>\n",
              "      <td>ortho evra</td>\n",
              "      <td>birth control</td>\n",
              "      <td>[14, 19, 5, 56, 24, 261, 130, 608, 11, 85, 64,...</td>\n",
              "      <td>8.0</td>\n",
              "      <td>10.0</td>\n",
              "      <td>[24, 608, 85, 64, 522, 58, 347, 626, 730, 873,...</td>\n",
              "    </tr>\n",
              "    <tr>\n",
              "      <th>4</th>\n",
              "      <td>buprenorphine / naloxone</td>\n",
              "      <td>opiate dependence</td>\n",
              "      <td>[812, 51, 199, 700, 5, 48, 314, 1, 30, 2117, 1...</td>\n",
              "      <td>9.0</td>\n",
              "      <td>37.0</td>\n",
              "      <td>[812, 199, 700, 48, 30, 2117, 17498, 383, 832,...</td>\n",
              "    </tr>\n",
              "  </tbody>\n",
              "</table>\n",
              "</div>"
            ],
            "text/plain": [
              "                   drugName                     condition  \\\n",
              "0                 valsartan  left ventricular dysfunction   \n",
              "1                guanfacine                          adhd   \n",
              "2                    lybrel                 birth control   \n",
              "3                ortho evra                 birth control   \n",
              "4  buprenorphine / naloxone             opiate dependence   \n",
              "\n",
              "                                              review  rating  usefulCount  \\\n",
              "0  [7, 51, 37, 47, 33, 1, 52, 7, 15, 734, 11, 266...     9.0         27.0   \n",
              "1  [5, 568, 19, 3038, 317, 754, 2330, 103, 11, 30...     8.0        192.0   \n",
              "2  [1, 203, 4, 52, 373, 1081, 1576, 117, 18, 31, ...     5.0         17.0   \n",
              "3  [14, 19, 5, 56, 24, 261, 130, 608, 11, 85, 64,...     8.0         10.0   \n",
              "4  [812, 51, 199, 700, 5, 48, 314, 1, 30, 2117, 1...     9.0         37.0   \n",
              "\n",
              "                                    tokenized_review  \n",
              "0  [33, 734, 2667, 95, 3522, 1380, 0, 0, 0, 0, 0,...  \n",
              "1  [568, 3038, 3011, 1107, 293, 26, 22, 2113, 90,...  \n",
              "2  [1081, 1576, 31, 452, 197, 236, 32, 1727, 12, ...  \n",
              "3  [24, 608, 85, 64, 522, 58, 347, 626, 730, 873,...  \n",
              "4  [812, 199, 700, 48, 30, 2117, 17498, 383, 832,...  "
            ]
          },
          "execution_count": 24,
          "metadata": {},
          "output_type": "execute_result"
        }
      ],
      "source": [
        "df.head()"
      ]
    },
    {
      "cell_type": "markdown",
      "metadata": {
        "tags": [],
        "id": "WuiQhjVS9tyw"
      },
      "source": [
        "# **drugName, condition 처리**"
      ]
    },
    {
      "cell_type": "code",
      "execution_count": null,
      "metadata": {
        "id": "TWa3bc8J9tyw"
      },
      "outputs": [],
      "source": [
        "df_1 = df.copy()"
      ]
    },
    {
      "cell_type": "code",
      "execution_count": null,
      "metadata": {
        "id": "qDL6Gr249tyw"
      },
      "outputs": [],
      "source": [
        "#df_1[''].nunique()"
      ]
    },
    {
      "cell_type": "code",
      "execution_count": null,
      "metadata": {
        "id": "FcJm5acy9tyw",
        "outputId": "08f3f12c-28bf-4ec9-b146-a91588ad0e85"
      },
      "outputs": [
        {
          "name": "stderr",
          "output_type": "stream",
          "text": [
            "<>:3: SyntaxWarning: invalid escape sequence '\\d'\n",
            "<>:4: SyntaxWarning: invalid escape sequence '\\d'\n",
            "<>:3: SyntaxWarning: invalid escape sequence '\\d'\n",
            "<>:4: SyntaxWarning: invalid escape sequence '\\d'\n",
            "/tmp/ipykernel_290073/3289786607.py:3: SyntaxWarning: invalid escape sequence '\\d'\n",
            "  df_1 = df_1[~df_1['condition'].str.match('\\d{2}-[a-zA-Z]{3}-\\d{2}', na=False)]\n",
            "/tmp/ipykernel_290073/3289786607.py:4: SyntaxWarning: invalid escape sequence '\\d'\n",
            "  df_1 = df_1[~df_1['drugName'].str.match('\\d+', na=False)]\n"
          ]
        }
      ],
      "source": [
        "#값들이 밀려서 condition에 날짜값같이 이상한 값들이 있어서 삭제\n",
        "#drugName에 숫자만 있는 행 제거(값이 밀림)\n",
        "df_1 = df_1[~df_1['condition'].str.match('\\d{2}-[a-zA-Z]{3}-\\d{2}', na=False)]\n",
        "df_1 = df_1[~df_1['drugName'].str.match('\\d+', na=False)]"
      ]
    },
    {
      "cell_type": "code",
      "execution_count": null,
      "metadata": {
        "id": "efrt8fTa9tyw"
      },
      "outputs": [],
      "source": [
        "df_1 = df_1[df_1['usefulCount'] >= 10]\n",
        "\n",
        "df_1 = df_1[df_1['rating'] >= 6]"
      ]
    },
    {
      "cell_type": "code",
      "execution_count": null,
      "metadata": {
        "id": "P5J-voAp9tyx"
      },
      "outputs": [],
      "source": [
        "top_drugs = df_1['drugName'].value_counts().nlargest(20).index.tolist()\n",
        "mask = df_1['drugName'].isin(top_drugs)\n",
        "df_1 = df_1[mask]"
      ]
    },
    {
      "cell_type": "code",
      "execution_count": null,
      "metadata": {
        "id": "90NEIX2q9tyx"
      },
      "outputs": [],
      "source": [
        "df_1['drug_cond'] = df_1['condition'] + '_' + df_1['drugName']"
      ]
    },
    {
      "cell_type": "code",
      "execution_count": null,
      "metadata": {
        "id": "EIaO8x5t9ty3"
      },
      "outputs": [],
      "source": [
        "from sklearn.preprocessing import LabelEncoder\n",
        "\n",
        "# 라벨 인코더 객체 생성 및 조건과 약물을 조합한 열에 대해 라벨 인코딩 수행\n",
        "label_encoder = LabelEncoder()\n",
        "\n",
        "\n",
        "# 조건에 대해 이미 생성된 라벨 인코더 객체를 사용하여 라벨 인코딩 수행\n",
        "df_1['condition'] = label_encoder.fit_transform(df_1['condition'])\n",
        "\n",
        "df_drug_encoded = pd.get_dummies(df_1['drugName'], dtype=np.int64)\n",
        "df_drug_con = pd.get_dummies(df_1['drug_cond'], dtype=np.int64)"
      ]
    },
    {
      "cell_type": "code",
      "execution_count": null,
      "metadata": {
        "id": "lARzv2mA9ty3",
        "outputId": "733c9a01-7d1a-47c4-d9fc-18adb311ce70"
      },
      "outputs": [
        {
          "data": {
            "text/html": [
              "<div>\n",
              "<style scoped>\n",
              "    .dataframe tbody tr th:only-of-type {\n",
              "        vertical-align: middle;\n",
              "    }\n",
              "\n",
              "    .dataframe tbody tr th {\n",
              "        vertical-align: top;\n",
              "    }\n",
              "\n",
              "    .dataframe thead th {\n",
              "        text-align: right;\n",
              "    }\n",
              "</style>\n",
              "<table border=\"1\" class=\"dataframe\">\n",
              "  <thead>\n",
              "    <tr style=\"text-align: right;\">\n",
              "      <th></th>\n",
              "      <th>drugName</th>\n",
              "      <th>condition</th>\n",
              "      <th>review</th>\n",
              "      <th>rating</th>\n",
              "      <th>usefulCount</th>\n",
              "      <th>tokenized_review</th>\n",
              "      <th>drug_cond</th>\n",
              "    </tr>\n",
              "  </thead>\n",
              "  <tbody>\n",
              "    <tr>\n",
              "      <th>17</th>\n",
              "      <td>amitriptyline</td>\n",
              "      <td>28</td>\n",
              "      <td>[29, 22, 1878, 119, 909, 35, 244, 268, 20, 665...</td>\n",
              "      <td>9.0</td>\n",
              "      <td>39.0</td>\n",
              "      <td>[22, 1878, 909, 268, 665, 81, 527, 250, 249, 4...</td>\n",
              "      <td>ibromyalgia_amitriptyline</td>\n",
              "    </tr>\n",
              "    <tr>\n",
              "      <th>42</th>\n",
              "      <td>clonazepam</td>\n",
              "      <td>45</td>\n",
              "      <td>[14, 38, 267, 5, 48, 5, 228, 512, 184, 28, 74,...</td>\n",
              "      <td>9.0</td>\n",
              "      <td>30.0</td>\n",
              "      <td>[38, 267, 48, 228, 286, 64, 566, 167, 687, 767...</td>\n",
              "      <td>panic disorde_clonazepam</td>\n",
              "    </tr>\n",
              "    <tr>\n",
              "      <th>58</th>\n",
              "      <td>bupropion</td>\n",
              "      <td>66</td>\n",
              "      <td>[178, 14, 37, 289, 2131, 76, 4549, 27, 583, 17...</td>\n",
              "      <td>10.0</td>\n",
              "      <td>15.0</td>\n",
              "      <td>[178, 289, 430, 2628, 27, 583, 175, 199, 397, ...</td>\n",
              "      <td>smoking cessation_bupropion</td>\n",
              "    </tr>\n",
              "    <tr>\n",
              "      <th>79</th>\n",
              "      <td>sertraline</td>\n",
              "      <td>45</td>\n",
              "      <td>[316, 459, 137, 17, 28, 135, 77, 1, 56, 26, 40...</td>\n",
              "      <td>10.0</td>\n",
              "      <td>28.0</td>\n",
              "      <td>[315, 137, 26, 409, 332, 675, 124, 3029, 2833,...</td>\n",
              "      <td>panic disorde_sertraline</td>\n",
              "    </tr>\n",
              "    <tr>\n",
              "      <th>183</th>\n",
              "      <td>bupropion</td>\n",
              "      <td>20</td>\n",
              "      <td>[45336, 583, 2533, 271, 6, 12, 121, 1, 30, 28,...</td>\n",
              "      <td>10.0</td>\n",
              "      <td>14.0</td>\n",
              "      <td>[45336, 583, 2533, 271, 12, 121, 30, 59, 81, 1...</td>\n",
              "      <td>depression_bupropion</td>\n",
              "    </tr>\n",
              "  </tbody>\n",
              "</table>\n",
              "</div>"
            ],
            "text/plain": [
              "          drugName  condition  \\\n",
              "17   amitriptyline         28   \n",
              "42      clonazepam         45   \n",
              "58       bupropion         66   \n",
              "79      sertraline         45   \n",
              "183      bupropion         20   \n",
              "\n",
              "                                                review  rating  usefulCount  \\\n",
              "17   [29, 22, 1878, 119, 909, 35, 244, 268, 20, 665...     9.0         39.0   \n",
              "42   [14, 38, 267, 5, 48, 5, 228, 512, 184, 28, 74,...     9.0         30.0   \n",
              "58   [178, 14, 37, 289, 2131, 76, 4549, 27, 583, 17...    10.0         15.0   \n",
              "79   [316, 459, 137, 17, 28, 135, 77, 1, 56, 26, 40...    10.0         28.0   \n",
              "183  [45336, 583, 2533, 271, 6, 12, 121, 1, 30, 28,...    10.0         14.0   \n",
              "\n",
              "                                      tokenized_review  \\\n",
              "17   [22, 1878, 909, 268, 665, 81, 527, 250, 249, 4...   \n",
              "42   [38, 267, 48, 228, 286, 64, 566, 167, 687, 767...   \n",
              "58   [178, 289, 430, 2628, 27, 583, 175, 199, 397, ...   \n",
              "79   [315, 137, 26, 409, 332, 675, 124, 3029, 2833,...   \n",
              "183  [45336, 583, 2533, 271, 12, 121, 30, 59, 81, 1...   \n",
              "\n",
              "                       drug_cond  \n",
              "17     ibromyalgia_amitriptyline  \n",
              "42      panic disorde_clonazepam  \n",
              "58   smoking cessation_bupropion  \n",
              "79      panic disorde_sertraline  \n",
              "183         depression_bupropion  "
            ]
          },
          "execution_count": 56,
          "metadata": {},
          "output_type": "execute_result"
        }
      ],
      "source": [
        "df_1.head()"
      ]
    },
    {
      "cell_type": "markdown",
      "metadata": {
        "id": "qliblc3v9ty4"
      },
      "source": [
        "# **X, y값 분할, train, test셋 분할**"
      ]
    },
    {
      "cell_type": "code",
      "execution_count": null,
      "metadata": {
        "id": "aS5MfAHZ9ty4"
      },
      "outputs": [],
      "source": [
        "#X = pd.concat([df_1[[ 'condition', 'tokenized_review']]], axis=1)\n",
        "X = df_1[['condition', 'tokenized_review']]\n",
        "y = df_drug_encoded"
      ]
    },
    {
      "cell_type": "code",
      "execution_count": null,
      "metadata": {
        "id": "A3YnmTUk9ty4",
        "outputId": "12973227-dc50-4402-a855-cb29dd5a97bf"
      },
      "outputs": [
        {
          "name": "stdout",
          "output_type": "stream",
          "text": [
            "<class 'pandas.core.frame.DataFrame'>\n",
            "Index: 13245 entries, 17 to 161281\n",
            "Data columns (total 2 columns):\n",
            " #   Column            Non-Null Count  Dtype \n",
            "---  ------            --------------  ----- \n",
            " 0   condition         13245 non-null  int64 \n",
            " 1   tokenized_review  13245 non-null  object\n",
            "dtypes: int64(1), object(1)\n",
            "memory usage: 310.4+ KB\n"
          ]
        }
      ],
      "source": [
        "X.info()"
      ]
    },
    {
      "cell_type": "code",
      "execution_count": null,
      "metadata": {
        "id": "Wf6HcCM99ty4",
        "outputId": "a3463400-fdc0-4d7e-f68b-fd83e570cf5c"
      },
      "outputs": [
        {
          "name": "stdout",
          "output_type": "stream",
          "text": [
            "<class 'pandas.core.frame.DataFrame'>\n",
            "Index: 13245 entries, 17 to 161281\n",
            "Columns: 214 entries, abnormal uterine bleeding_levonorgestrel to weight loss_phentermine\n",
            "dtypes: int64(214)\n",
            "memory usage: 21.7 MB\n"
          ]
        }
      ],
      "source": [
        "y.info()"
      ]
    },
    {
      "cell_type": "code",
      "execution_count": null,
      "metadata": {
        "id": "4WAKhxH89ty4"
      },
      "outputs": [],
      "source": [
        "from sklearn.model_selection import train_test_split\n",
        "\n",
        "X_train, X_test, y_train, y_test = train_test_split(X, y, test_size=0.2, random_state=42)"
      ]
    },
    {
      "cell_type": "code",
      "execution_count": null,
      "metadata": {
        "id": "WfN3pa7U9ty4"
      },
      "outputs": [],
      "source": [
        "X_train = np.array(X_train['tokenized_review'].tolist())\n",
        "X_test = np.array(X_test['tokenized_review'].tolist())"
      ]
    },
    {
      "cell_type": "code",
      "execution_count": null,
      "metadata": {
        "id": "TgB5Huy59ty4"
      },
      "outputs": [],
      "source": [
        "from tensorflow.keras import layers\n",
        "from tensorflow.keras import models\n",
        "\n",
        "\n",
        "model = models.Sequential()\n",
        "model.add(layers.Embedding(input_dim=len(tokenizer.word_index) + 1, output_dim=64))\n",
        "model.add(layers.Bidirectional(layers.LSTM(64, return_sequences=True)))  # 시퀀스 출력 반환\n",
        "model.add(layers.LSTM(128, dropout=0.2, recurrent_dropout=0.2))\n",
        "model.add(layers.Dense(214, activation='softmax'))"
      ]
    },
    {
      "cell_type": "code",
      "execution_count": null,
      "metadata": {
        "id": "QjRfOeXH9ty5"
      },
      "outputs": [],
      "source": [
        "from tensorflow.keras.optimizers import RMSprop\n",
        "model.compile(optimizer='adam', loss='categorical_crossentropy', metrics=['accuracy'])"
      ]
    },
    {
      "cell_type": "code",
      "execution_count": null,
      "metadata": {
        "id": "QwGDxQoD9ty5",
        "outputId": "18e52640-bdad-4a93-9536-9d7fb4d8be1e"
      },
      "outputs": [
        {
          "data": {
            "text/plain": [
              "10596"
            ]
          },
          "execution_count": 74,
          "metadata": {},
          "output_type": "execute_result"
        }
      ],
      "source": [
        "len(X_train)"
      ]
    },
    {
      "cell_type": "code",
      "execution_count": null,
      "metadata": {
        "id": "e4wB9EXu9ty5",
        "outputId": "7859ae02-99ec-471b-94cb-913e251a2e78"
      },
      "outputs": [
        {
          "data": {
            "text/plain": [
              "10596"
            ]
          },
          "execution_count": 75,
          "metadata": {},
          "output_type": "execute_result"
        }
      ],
      "source": [
        "len(y_train)"
      ]
    },
    {
      "cell_type": "code",
      "execution_count": null,
      "metadata": {
        "id": "NFekHMts9ty5",
        "outputId": "a2d9b36c-e2c1-4984-9ce6-b325c7a4fd0c"
      },
      "outputs": [
        {
          "name": "stdout",
          "output_type": "stream",
          "text": [
            "Epoch 1/50\n"
          ]
        },
        {
          "name": "stdout",
          "output_type": "stream",
          "text": [
            "\u001b[1m67/67\u001b[0m \u001b[32m━━━━━━━━━━━━━━━━━━━━\u001b[0m\u001b[37m\u001b[0m \u001b[1m6s\u001b[0m 21ms/step - accuracy: 0.1442 - loss: 5.1855 - val_accuracy: 0.1736 - val_loss: 3.5702\n",
            "Epoch 2/50\n",
            "\u001b[1m67/67\u001b[0m \u001b[32m━━━━━━━━━━━━━━━━━━━━\u001b[0m\u001b[37m\u001b[0m \u001b[1m1s\u001b[0m 14ms/step - accuracy: 0.2255 - loss: 3.2498 - val_accuracy: 0.3170 - val_loss: 2.4952\n",
            "Epoch 3/50\n",
            "\u001b[1m67/67\u001b[0m \u001b[32m━━━━━━━━━━━━━━━━━━━━\u001b[0m\u001b[37m\u001b[0m \u001b[1m1s\u001b[0m 14ms/step - accuracy: 0.3565 - loss: 2.3360 - val_accuracy: 0.3722 - val_loss: 1.9760\n",
            "Epoch 4/50\n",
            "\u001b[1m67/67\u001b[0m \u001b[32m━━━━━━━━━━━━━━━━━━━━\u001b[0m\u001b[37m\u001b[0m \u001b[1m1s\u001b[0m 14ms/step - accuracy: 0.3830 - loss: 1.9361 - val_accuracy: 0.4047 - val_loss: 1.7644\n",
            "Epoch 5/50\n",
            "\u001b[1m67/67\u001b[0m \u001b[32m━━━━━━━━━━━━━━━━━━━━\u001b[0m\u001b[37m\u001b[0m \u001b[1m1s\u001b[0m 14ms/step - accuracy: 0.3979 - loss: 1.7521 - val_accuracy: 0.4113 - val_loss: 1.6663\n",
            "Epoch 6/50\n",
            "\u001b[1m67/67\u001b[0m \u001b[32m━━━━━━━━━━━━━━━━━━━━\u001b[0m\u001b[37m\u001b[0m \u001b[1m1s\u001b[0m 14ms/step - accuracy: 0.4143 - loss: 1.6493 - val_accuracy: 0.4302 - val_loss: 1.6072\n",
            "Epoch 7/50\n",
            "\u001b[1m67/67\u001b[0m \u001b[32m━━━━━━━━━━━━━━━━━━━━\u001b[0m\u001b[37m\u001b[0m \u001b[1m1s\u001b[0m 14ms/step - accuracy: 0.4247 - loss: 1.5823 - val_accuracy: 0.4292 - val_loss: 1.5718\n",
            "Epoch 8/50\n",
            "\u001b[1m67/67\u001b[0m \u001b[32m━━━━━━━━━━━━━━━━━━━━\u001b[0m\u001b[37m\u001b[0m \u001b[1m1s\u001b[0m 14ms/step - accuracy: 0.4150 - loss: 1.5726 - val_accuracy: 0.4311 - val_loss: 1.5397\n",
            "Epoch 9/50\n",
            "\u001b[1m67/67\u001b[0m \u001b[32m━━━━━━━━━━━━━━━━━━━━\u001b[0m\u001b[37m\u001b[0m \u001b[1m1s\u001b[0m 14ms/step - accuracy: 0.4231 - loss: 1.5499 - val_accuracy: 0.4241 - val_loss: 1.5201\n",
            "Epoch 10/50\n",
            "\u001b[1m67/67\u001b[0m \u001b[32m━━━━━━━━━━━━━━━━━━━━\u001b[0m\u001b[37m\u001b[0m \u001b[1m1s\u001b[0m 14ms/step - accuracy: 0.4284 - loss: 1.5137 - val_accuracy: 0.4382 - val_loss: 1.5091\n",
            "Epoch 11/50\n",
            "\u001b[1m67/67\u001b[0m \u001b[32m━━━━━━━━━━━━━━━━━━━━\u001b[0m\u001b[37m\u001b[0m \u001b[1m1s\u001b[0m 14ms/step - accuracy: 0.4387 - loss: 1.4894 - val_accuracy: 0.4250 - val_loss: 1.5094\n",
            "Epoch 12/50\n",
            "\u001b[1m67/67\u001b[0m \u001b[32m━━━━━━━━━━━━━━━━━━━━\u001b[0m\u001b[37m\u001b[0m \u001b[1m1s\u001b[0m 14ms/step - accuracy: 0.4358 - loss: 1.4761 - val_accuracy: 0.4392 - val_loss: 1.4992\n",
            "Epoch 13/50\n",
            "\u001b[1m67/67\u001b[0m \u001b[32m━━━━━━━━━━━━━━━━━━━━\u001b[0m\u001b[37m\u001b[0m \u001b[1m1s\u001b[0m 14ms/step - accuracy: 0.4333 - loss: 1.4916 - val_accuracy: 0.4307 - val_loss: 1.4999\n",
            "Epoch 14/50\n",
            "\u001b[1m67/67\u001b[0m \u001b[32m━━━━━━━━━━━━━━━━━━━━\u001b[0m\u001b[37m\u001b[0m \u001b[1m1s\u001b[0m 14ms/step - accuracy: 0.4320 - loss: 1.4742 - val_accuracy: 0.4358 - val_loss: 1.4971\n",
            "Epoch 15/50\n",
            "\u001b[1m67/67\u001b[0m \u001b[32m━━━━━━━━━━━━━━━━━━━━\u001b[0m\u001b[37m\u001b[0m \u001b[1m1s\u001b[0m 14ms/step - accuracy: 0.4375 - loss: 1.4679 - val_accuracy: 0.4363 - val_loss: 1.4891\n",
            "Epoch 16/50\n",
            "\u001b[1m67/67\u001b[0m \u001b[32m━━━━━━━━━━━━━━━━━━━━\u001b[0m\u001b[37m\u001b[0m \u001b[1m1s\u001b[0m 14ms/step - accuracy: 0.4384 - loss: 1.4694 - val_accuracy: 0.4113 - val_loss: 1.4979\n",
            "Epoch 17/50\n",
            "\u001b[1m67/67\u001b[0m \u001b[32m━━━━━━━━━━━━━━━━━━━━\u001b[0m\u001b[37m\u001b[0m \u001b[1m1s\u001b[0m 14ms/step - accuracy: 0.4424 - loss: 1.4648 - val_accuracy: 0.4434 - val_loss: 1.4923\n",
            "Epoch 18/50\n",
            "\u001b[1m67/67\u001b[0m \u001b[32m━━━━━━━━━━━━━━━━━━━━\u001b[0m\u001b[37m\u001b[0m \u001b[1m1s\u001b[0m 14ms/step - accuracy: 0.4231 - loss: 1.4811 - val_accuracy: 0.4429 - val_loss: 1.4931\n",
            "Epoch 19/50\n",
            "\u001b[1m67/67\u001b[0m \u001b[32m━━━━━━━━━━━━━━━━━━━━\u001b[0m\u001b[37m\u001b[0m \u001b[1m1s\u001b[0m 14ms/step - accuracy: 0.4376 - loss: 1.4648 - val_accuracy: 0.4382 - val_loss: 1.4890\n",
            "Epoch 20/50\n",
            "\u001b[1m67/67\u001b[0m \u001b[32m━━━━━━━━━━━━━━━━━━━━\u001b[0m\u001b[37m\u001b[0m \u001b[1m1s\u001b[0m 14ms/step - accuracy: 0.4399 - loss: 1.4551 - val_accuracy: 0.4443 - val_loss: 1.4837\n",
            "Epoch 21/50\n",
            "\u001b[1m67/67\u001b[0m \u001b[32m━━━━━━━━━━━━━━━━━━━━\u001b[0m\u001b[37m\u001b[0m \u001b[1m1s\u001b[0m 14ms/step - accuracy: 0.4435 - loss: 1.4580 - val_accuracy: 0.4236 - val_loss: 1.4914\n",
            "Epoch 22/50\n",
            "\u001b[1m67/67\u001b[0m \u001b[32m━━━━━━━━━━━━━━━━━━━━\u001b[0m\u001b[37m\u001b[0m \u001b[1m1s\u001b[0m 14ms/step - accuracy: 0.4375 - loss: 1.4557 - val_accuracy: 0.4278 - val_loss: 1.4847\n",
            "Epoch 23/50\n",
            "\u001b[1m67/67\u001b[0m \u001b[32m━━━━━━━━━━━━━━━━━━━━\u001b[0m\u001b[37m\u001b[0m \u001b[1m1s\u001b[0m 14ms/step - accuracy: 0.4253 - loss: 1.4653 - val_accuracy: 0.4373 - val_loss: 1.4889\n",
            "Epoch 24/50\n",
            "\u001b[1m67/67\u001b[0m \u001b[32m━━━━━━━━━━━━━━━━━━━━\u001b[0m\u001b[37m\u001b[0m \u001b[1m1s\u001b[0m 14ms/step - accuracy: 0.4314 - loss: 1.4689 - val_accuracy: 0.4193 - val_loss: 1.4879\n",
            "Epoch 25/50\n",
            "\u001b[1m67/67\u001b[0m \u001b[32m━━━━━━━━━━━━━━━━━━━━\u001b[0m\u001b[37m\u001b[0m \u001b[1m1s\u001b[0m 14ms/step - accuracy: 0.4323 - loss: 1.4591 - val_accuracy: 0.4429 - val_loss: 1.4835\n",
            "Epoch 26/50\n",
            "\u001b[1m67/67\u001b[0m \u001b[32m━━━━━━━━━━━━━━━━━━━━\u001b[0m\u001b[37m\u001b[0m \u001b[1m1s\u001b[0m 14ms/step - accuracy: 0.4399 - loss: 1.4563 - val_accuracy: 0.4368 - val_loss: 1.4873\n",
            "Epoch 27/50\n",
            "\u001b[1m67/67\u001b[0m \u001b[32m━━━━━━━━━━━━━━━━━━━━\u001b[0m\u001b[37m\u001b[0m \u001b[1m1s\u001b[0m 14ms/step - accuracy: 0.4291 - loss: 1.4645 - val_accuracy: 0.4245 - val_loss: 1.4932\n",
            "Epoch 28/50\n",
            "\u001b[1m67/67\u001b[0m \u001b[32m━━━━━━━━━━━━━━━━━━━━\u001b[0m\u001b[37m\u001b[0m \u001b[1m1s\u001b[0m 14ms/step - accuracy: 0.4317 - loss: 1.4602 - val_accuracy: 0.4311 - val_loss: 1.4828\n",
            "Epoch 29/50\n",
            "\u001b[1m67/67\u001b[0m \u001b[32m━━━━━━━━━━━━━━━━━━━━\u001b[0m\u001b[37m\u001b[0m \u001b[1m1s\u001b[0m 14ms/step - accuracy: 0.4337 - loss: 1.4658 - val_accuracy: 0.4241 - val_loss: 1.4914\n",
            "Epoch 30/50\n",
            "\u001b[1m67/67\u001b[0m \u001b[32m━━━━━━━━━━━━━━━━━━━━\u001b[0m\u001b[37m\u001b[0m \u001b[1m1s\u001b[0m 14ms/step - accuracy: 0.4408 - loss: 1.4557 - val_accuracy: 0.4316 - val_loss: 1.4794\n",
            "Epoch 31/50\n",
            "\u001b[1m67/67\u001b[0m \u001b[32m━━━━━━━━━━━━━━━━━━━━\u001b[0m\u001b[37m\u001b[0m \u001b[1m1s\u001b[0m 14ms/step - accuracy: 0.4257 - loss: 1.4662 - val_accuracy: 0.4373 - val_loss: 1.4829\n",
            "Epoch 32/50\n",
            "\u001b[1m67/67\u001b[0m \u001b[32m━━━━━━━━━━━━━━━━━━━━\u001b[0m\u001b[37m\u001b[0m \u001b[1m1s\u001b[0m 14ms/step - accuracy: 0.4339 - loss: 1.4473 - val_accuracy: 0.4330 - val_loss: 1.4852\n",
            "Epoch 33/50\n",
            "\u001b[1m67/67\u001b[0m \u001b[32m━━━━━━━━━━━━━━━━━━━━\u001b[0m\u001b[37m\u001b[0m \u001b[1m1s\u001b[0m 14ms/step - accuracy: 0.4359 - loss: 1.4575 - val_accuracy: 0.4392 - val_loss: 1.4868\n",
            "Epoch 34/50\n",
            "\u001b[1m67/67\u001b[0m \u001b[32m━━━━━━━━━━━━━━━━━━━━\u001b[0m\u001b[37m\u001b[0m \u001b[1m1s\u001b[0m 14ms/step - accuracy: 0.4409 - loss: 1.4505 - val_accuracy: 0.4302 - val_loss: 1.4879\n",
            "Epoch 35/50\n",
            "\u001b[1m67/67\u001b[0m \u001b[32m━━━━━━━━━━━━━━━━━━━━\u001b[0m\u001b[37m\u001b[0m \u001b[1m1s\u001b[0m 14ms/step - accuracy: 0.4375 - loss: 1.4409 - val_accuracy: 0.4288 - val_loss: 1.4813\n",
            "Epoch 36/50\n",
            "\u001b[1m67/67\u001b[0m \u001b[32m━━━━━━━━━━━━━━━━━━━━\u001b[0m\u001b[37m\u001b[0m \u001b[1m1s\u001b[0m 14ms/step - accuracy: 0.4385 - loss: 1.4252 - val_accuracy: 0.4363 - val_loss: 1.4847\n",
            "Epoch 37/50\n",
            "\u001b[1m67/67\u001b[0m \u001b[32m━━━━━━━━━━━━━━━━━━━━\u001b[0m\u001b[37m\u001b[0m \u001b[1m1s\u001b[0m 14ms/step - accuracy: 0.4303 - loss: 1.4603 - val_accuracy: 0.4311 - val_loss: 1.4813\n",
            "Epoch 38/50\n",
            "\u001b[1m67/67\u001b[0m \u001b[32m━━━━━━━━━━━━━━━━━━━━\u001b[0m\u001b[37m\u001b[0m \u001b[1m1s\u001b[0m 14ms/step - accuracy: 0.4280 - loss: 1.4652 - val_accuracy: 0.4316 - val_loss: 1.4824\n",
            "Epoch 39/50\n",
            "\u001b[1m67/67\u001b[0m \u001b[32m━━━━━━━━━━━━━━━━━━━━\u001b[0m\u001b[37m\u001b[0m \u001b[1m1s\u001b[0m 14ms/step - accuracy: 0.4372 - loss: 1.4465 - val_accuracy: 0.4368 - val_loss: 1.4809\n",
            "Epoch 40/50\n",
            "\u001b[1m67/67\u001b[0m \u001b[32m━━━━━━━━━━━━━━━━━━━━\u001b[0m\u001b[37m\u001b[0m \u001b[1m1s\u001b[0m 14ms/step - accuracy: 0.4381 - loss: 1.4437 - val_accuracy: 0.4392 - val_loss: 1.4864\n",
            "Epoch 41/50\n",
            "\u001b[1m67/67\u001b[0m \u001b[32m━━━━━━━━━━━━━━━━━━━━\u001b[0m\u001b[37m\u001b[0m \u001b[1m1s\u001b[0m 14ms/step - accuracy: 0.4348 - loss: 1.4522 - val_accuracy: 0.4316 - val_loss: 1.4865\n",
            "Epoch 42/50\n",
            "\u001b[1m67/67\u001b[0m \u001b[32m━━━━━━━━━━━━━━━━━━━━\u001b[0m\u001b[37m\u001b[0m \u001b[1m1s\u001b[0m 14ms/step - accuracy: 0.4305 - loss: 1.4765 - val_accuracy: 0.4368 - val_loss: 1.4815\n",
            "Epoch 43/50\n",
            "\u001b[1m67/67\u001b[0m \u001b[32m━━━━━━━━━━━━━━━━━━━━\u001b[0m\u001b[37m\u001b[0m \u001b[1m1s\u001b[0m 14ms/step - accuracy: 0.4307 - loss: 1.4676 - val_accuracy: 0.4274 - val_loss: 1.4806\n",
            "Epoch 44/50\n",
            "\u001b[1m67/67\u001b[0m \u001b[32m━━━━━━━━━━━━━━━━━━━━\u001b[0m\u001b[37m\u001b[0m \u001b[1m1s\u001b[0m 14ms/step - accuracy: 0.4379 - loss: 1.4575 - val_accuracy: 0.4325 - val_loss: 1.4876\n",
            "Epoch 45/50\n",
            "\u001b[1m67/67\u001b[0m \u001b[32m━━━━━━━━━━━━━━━━━━━━\u001b[0m\u001b[37m\u001b[0m \u001b[1m1s\u001b[0m 14ms/step - accuracy: 0.4267 - loss: 1.4497 - val_accuracy: 0.4259 - val_loss: 1.4793\n",
            "Epoch 46/50\n",
            "\u001b[1m67/67\u001b[0m \u001b[32m━━━━━━━━━━━━━━━━━━━━\u001b[0m\u001b[37m\u001b[0m \u001b[1m1s\u001b[0m 14ms/step - accuracy: 0.4406 - loss: 1.4363 - val_accuracy: 0.4292 - val_loss: 1.4888\n",
            "Epoch 47/50\n",
            "\u001b[1m67/67\u001b[0m \u001b[32m━━━━━━━━━━━━━━━━━━━━\u001b[0m\u001b[37m\u001b[0m \u001b[1m1s\u001b[0m 14ms/step - accuracy: 0.4277 - loss: 1.4648 - val_accuracy: 0.4349 - val_loss: 1.4800\n",
            "Epoch 48/50\n",
            "\u001b[1m67/67\u001b[0m \u001b[32m━━━━━━━━━━━━━━━━━━━━\u001b[0m\u001b[37m\u001b[0m \u001b[1m1s\u001b[0m 14ms/step - accuracy: 0.4475 - loss: 1.4403 - val_accuracy: 0.4297 - val_loss: 1.4820\n",
            "Epoch 49/50\n",
            "\u001b[1m67/67\u001b[0m \u001b[32m━━━━━━━━━━━━━━━━━━━━\u001b[0m\u001b[37m\u001b[0m \u001b[1m1s\u001b[0m 14ms/step - accuracy: 0.4364 - loss: 1.4407 - val_accuracy: 0.4382 - val_loss: 1.4778\n",
            "Epoch 50/50\n",
            "\u001b[1m67/67\u001b[0m \u001b[32m━━━━━━━━━━━━━━━━━━━━\u001b[0m\u001b[37m\u001b[0m \u001b[1m1s\u001b[0m 14ms/step - accuracy: 0.4367 - loss: 1.4535 - val_accuracy: 0.4363 - val_loss: 1.4822\n"
          ]
        }
      ],
      "source": [
        "history = model.fit(X_train, y_train, epochs = 50, batch_size = 128, validation_split = 0.2)"
      ]
    },
    {
      "cell_type": "code",
      "execution_count": null,
      "metadata": {
        "id": "un96qbHn9ty5",
        "outputId": "3d451783-c415-4123-c692-8d19973aefc7"
      },
      "outputs": [
        {
          "name": "stderr",
          "output_type": "stream",
          "text": [
            "All PyTorch model weights were used when initializing TFBertForSequenceClassification.\n",
            "\n",
            "Some weights or buffers of the TF 2.0 model TFBertForSequenceClassification were not initialized from the PyTorch model and are newly initialized: ['classifier.weight', 'classifier.bias']\n",
            "You should probably TRAIN this model on a down-stream task to be able to use it for predictions and inference.\n"
          ]
        },
        {
          "ename": "ValueError",
          "evalue": "Exception encountered when calling layer 'tf_bert_for_sequence_classification_13' (type TFBertForSequenceClassification).\n\nData of type <class 'keras.src.backend.common.keras_tensor.KerasTensor'> is not allowed only (<class 'tensorflow.python.framework.tensor.Tensor'>, <class 'bool'>, <class 'int'>, <class 'transformers.utils.generic.ModelOutput'>, <class 'tuple'>, <class 'list'>, <class 'dict'>, <class 'numpy.ndarray'>) is accepted for input_ids.\n\nCall arguments received by layer 'tf_bert_for_sequence_classification_13' (type TFBertForSequenceClassification):\n  • input_ids=<KerasTensor shape=(None, 128), dtype=int32, sparse=None, name=keras_tensor_252>\n  • attention_mask=None\n  • token_type_ids=None\n  • position_ids=None\n  • head_mask=None\n  • inputs_embeds=None\n  • output_attentions=None\n  • output_hidden_states=None\n  • return_dict=None\n  • labels=None\n  • training=False",
          "output_type": "error",
          "traceback": [
            "\u001b[0;31m---------------------------------------------------------------------------\u001b[0m",
            "\u001b[0;31mValueError\u001b[0m                                Traceback (most recent call last)",
            "Cell \u001b[0;32mIn[156], line 10\u001b[0m\n\u001b[1;32m      7\u001b[0m max_len \u001b[38;5;241m=\u001b[39m \u001b[38;5;241m128\u001b[39m\n\u001b[1;32m      9\u001b[0m input_layer \u001b[38;5;241m=\u001b[39m tf\u001b[38;5;241m.\u001b[39mkeras\u001b[38;5;241m.\u001b[39mlayers\u001b[38;5;241m.\u001b[39mInput(shape\u001b[38;5;241m=\u001b[39m(max_len,), dtype\u001b[38;5;241m=\u001b[39mtf\u001b[38;5;241m.\u001b[39mint32)\n\u001b[0;32m---> 10\u001b[0m output \u001b[38;5;241m=\u001b[39m \u001b[43mmodel\u001b[49m\u001b[43m(\u001b[49m\u001b[43minput_layer\u001b[49m\u001b[43m)\u001b[49m\n\u001b[1;32m     11\u001b[0m model \u001b[38;5;241m=\u001b[39m tf\u001b[38;5;241m.\u001b[39mkeras\u001b[38;5;241m.\u001b[39mModel(inputs\u001b[38;5;241m=\u001b[39minput_layer, outputs\u001b[38;5;241m=\u001b[39moutput)\n\u001b[1;32m     13\u001b[0m \u001b[38;5;66;03m# 모델 컴파일 및 훈련\u001b[39;00m\n",
            "File \u001b[0;32m~/miniconda3/lib/python3.12/site-packages/tf_keras/src/utils/traceback_utils.py:70\u001b[0m, in \u001b[0;36mfilter_traceback.<locals>.error_handler\u001b[0;34m(*args, **kwargs)\u001b[0m\n\u001b[1;32m     67\u001b[0m     filtered_tb \u001b[38;5;241m=\u001b[39m _process_traceback_frames(e\u001b[38;5;241m.\u001b[39m__traceback__)\n\u001b[1;32m     68\u001b[0m     \u001b[38;5;66;03m# To get the full stack trace, call:\u001b[39;00m\n\u001b[1;32m     69\u001b[0m     \u001b[38;5;66;03m# `tf.debugging.disable_traceback_filtering()`\u001b[39;00m\n\u001b[0;32m---> 70\u001b[0m     \u001b[38;5;28;01mraise\u001b[39;00m e\u001b[38;5;241m.\u001b[39mwith_traceback(filtered_tb) \u001b[38;5;28;01mfrom\u001b[39;00m \u001b[38;5;28;01mNone\u001b[39;00m\n\u001b[1;32m     71\u001b[0m \u001b[38;5;28;01mfinally\u001b[39;00m:\n\u001b[1;32m     72\u001b[0m     \u001b[38;5;28;01mdel\u001b[39;00m filtered_tb\n",
            "File \u001b[0;32m~/miniconda3/lib/python3.12/site-packages/transformers/modeling_tf_utils.py:436\u001b[0m, in \u001b[0;36munpack_inputs.<locals>.run_call_with_unpacked_inputs\u001b[0;34m(self, *args, **kwargs)\u001b[0m\n\u001b[1;32m    433\u001b[0m \u001b[38;5;28;01melse\u001b[39;00m:\n\u001b[1;32m    434\u001b[0m     config \u001b[38;5;241m=\u001b[39m \u001b[38;5;28mself\u001b[39m\u001b[38;5;241m.\u001b[39mconfig\n\u001b[0;32m--> 436\u001b[0m unpacked_inputs \u001b[38;5;241m=\u001b[39m \u001b[43minput_processing\u001b[49m\u001b[43m(\u001b[49m\u001b[43mfunc\u001b[49m\u001b[43m,\u001b[49m\u001b[43m \u001b[49m\u001b[43mconfig\u001b[49m\u001b[43m,\u001b[49m\u001b[43m \u001b[49m\u001b[38;5;241;43m*\u001b[39;49m\u001b[38;5;241;43m*\u001b[39;49m\u001b[43mfn_args_and_kwargs\u001b[49m\u001b[43m)\u001b[49m\n\u001b[1;32m    437\u001b[0m \u001b[38;5;28;01mreturn\u001b[39;00m func(\u001b[38;5;28mself\u001b[39m, \u001b[38;5;241m*\u001b[39m\u001b[38;5;241m*\u001b[39munpacked_inputs)\n",
            "File \u001b[0;32m~/miniconda3/lib/python3.12/site-packages/transformers/modeling_tf_utils.py:566\u001b[0m, in \u001b[0;36minput_processing\u001b[0;34m(func, config, **kwargs)\u001b[0m\n\u001b[1;32m    564\u001b[0m         output[main_input_name] \u001b[38;5;241m=\u001b[39m main_input\n\u001b[1;32m    565\u001b[0m     \u001b[38;5;28;01melse\u001b[39;00m:\n\u001b[0;32m--> 566\u001b[0m         \u001b[38;5;28;01mraise\u001b[39;00m \u001b[38;5;167;01mValueError\u001b[39;00m(\n\u001b[1;32m    567\u001b[0m             \u001b[38;5;124mf\u001b[39m\u001b[38;5;124m\"\u001b[39m\u001b[38;5;124mData of type \u001b[39m\u001b[38;5;132;01m{\u001b[39;00m\u001b[38;5;28mtype\u001b[39m(main_input)\u001b[38;5;132;01m}\u001b[39;00m\u001b[38;5;124m is not allowed only \u001b[39m\u001b[38;5;132;01m{\u001b[39;00mallowed_types\u001b[38;5;132;01m}\u001b[39;00m\u001b[38;5;124m is accepted for\u001b[39m\u001b[38;5;124m\"\u001b[39m\n\u001b[1;32m    568\u001b[0m             \u001b[38;5;124mf\u001b[39m\u001b[38;5;124m\"\u001b[39m\u001b[38;5;124m \u001b[39m\u001b[38;5;132;01m{\u001b[39;00mmain_input_name\u001b[38;5;132;01m}\u001b[39;00m\u001b[38;5;124m.\u001b[39m\u001b[38;5;124m\"\u001b[39m\n\u001b[1;32m    569\u001b[0m         )\n\u001b[1;32m    571\u001b[0m \u001b[38;5;66;03m# Populates any unspecified argument with their default value, according to the signature.\u001b[39;00m\n\u001b[1;32m    572\u001b[0m \u001b[38;5;28;01mfor\u001b[39;00m name \u001b[38;5;129;01min\u001b[39;00m parameter_names:\n",
            "\u001b[0;31mValueError\u001b[0m: Exception encountered when calling layer 'tf_bert_for_sequence_classification_13' (type TFBertForSequenceClassification).\n\nData of type <class 'keras.src.backend.common.keras_tensor.KerasTensor'> is not allowed only (<class 'tensorflow.python.framework.tensor.Tensor'>, <class 'bool'>, <class 'int'>, <class 'transformers.utils.generic.ModelOutput'>, <class 'tuple'>, <class 'list'>, <class 'dict'>, <class 'numpy.ndarray'>) is accepted for input_ids.\n\nCall arguments received by layer 'tf_bert_for_sequence_classification_13' (type TFBertForSequenceClassification):\n  • input_ids=<KerasTensor shape=(None, 128), dtype=int32, sparse=None, name=keras_tensor_252>\n  • attention_mask=None\n  • token_type_ids=None\n  • position_ids=None\n  • head_mask=None\n  • inputs_embeds=None\n  • output_attentions=None\n  • output_hidden_states=None\n  • return_dict=None\n  • labels=None\n  • training=False"
          ]
        }
      ],
      "source": [
        "import tensorflow as tf\n",
        "from transformers import TFBertForSequenceClassification, BertTokenizer\n",
        "\n",
        "tokenizer = BertTokenizer.from_pretrained('bert-base-uncased')\n",
        "model = TFBertForSequenceClassification.from_pretrained('bert-base-uncased')\n",
        "\n",
        "max_len = 128\n",
        "\n",
        "input_layer = tf.keras.layers.Input(shape=(max_len,), dtype=tf.int32)\n",
        "output = model(input_layer)\n",
        "model = tf.keras.Model(inputs=input_layer, outputs=output)\n",
        "\n",
        "# 모델 컴파일 및 훈련\n",
        "model.compile(optimizer='adam', loss='categorical_crossentropy', metrics=['accuracy'])\n",
        "model.fit(X_train, y_train, epochs=10, batch_size=32, validation_split=0.2)\n"
      ]
    },
    {
      "cell_type": "code",
      "execution_count": null,
      "metadata": {
        "id": "X1ACMeOH9ty5"
      },
      "outputs": [],
      "source": []
    }
  ],
  "metadata": {
    "colab": {
      "provenance": []
    },
    "kernelspec": {
      "display_name": "Python 3",
      "name": "python3"
    },
    "language_info": {
      "codemirror_mode": {
        "name": "ipython",
        "version": 3
      },
      "file_extension": ".py",
      "mimetype": "text/x-python",
      "name": "python",
      "nbconvert_exporter": "python",
      "pygments_lexer": "ipython3",
      "version": "3.12.2"
    }
  },
  "nbformat": 4,
  "nbformat_minor": 0
}