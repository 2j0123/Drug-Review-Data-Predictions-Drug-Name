{
  "nbformat": 4,
  "nbformat_minor": 0,
  "metadata": {
    "colab": {
      "provenance": [],
      "authorship_tag": "ABX9TyOfH08z8YdUG7M8R7HwvYTT"
    },
    "kernelspec": {
      "name": "python3",
      "display_name": "Python 3"
    },
    "language_info": {
      "name": "python"
    }
  },
  "cells": [
    {
      "cell_type": "code",
      "execution_count": null,
      "metadata": {
        "colab": {
          "base_uri": "https://localhost:8080/"
        },
        "id": "UppNaBnIGXF_",
        "outputId": "55f7bb47-c584-493b-a42d-07d9bbd8b04e"
      },
      "outputs": [
        {
          "output_type": "stream",
          "name": "stdout",
          "text": [
            "Epoch 1/50\n",
            "38/38 [==============================] - 1s 13ms/step - loss: 228.8053 - accuracy: 0.0050 - val_loss: 25.2577 - val_accuracy: 0.0166\n",
            "Epoch 2/50\n",
            "38/38 [==============================] - 0s 8ms/step - loss: 16.8327 - accuracy: 0.0187 - val_loss: 10.9782 - val_accuracy: 0.0216\n",
            "Epoch 3/50\n",
            "38/38 [==============================] - 0s 8ms/step - loss: 8.9461 - accuracy: 0.0225 - val_loss: 9.0507 - val_accuracy: 0.0199\n",
            "Epoch 4/50\n",
            "38/38 [==============================] - 0s 8ms/step - loss: 7.5576 - accuracy: 0.0229 - val_loss: 8.3177 - val_accuracy: 0.0216\n",
            "Epoch 5/50\n",
            "38/38 [==============================] - 0s 8ms/step - loss: 6.6933 - accuracy: 0.0233 - val_loss: 7.9626 - val_accuracy: 0.0199\n",
            "Epoch 6/50\n",
            "38/38 [==============================] - 0s 7ms/step - loss: 6.3725 - accuracy: 0.0266 - val_loss: 7.7767 - val_accuracy: 0.0233\n",
            "Epoch 7/50\n",
            "38/38 [==============================] - 0s 7ms/step - loss: 6.2667 - accuracy: 0.0266 - val_loss: 7.6796 - val_accuracy: 0.0199\n",
            "Epoch 8/50\n",
            "38/38 [==============================] - 0s 8ms/step - loss: 6.1018 - accuracy: 0.0262 - val_loss: 7.6466 - val_accuracy: 0.0216\n",
            "Epoch 9/50\n",
            "38/38 [==============================] - 0s 8ms/step - loss: 6.0117 - accuracy: 0.0308 - val_loss: 7.6332 - val_accuracy: 0.0199\n",
            "Epoch 10/50\n",
            "38/38 [==============================] - 0s 9ms/step - loss: 6.0550 - accuracy: 0.0266 - val_loss: 7.6442 - val_accuracy: 0.0199\n",
            "Epoch 11/50\n",
            "38/38 [==============================] - 0s 13ms/step - loss: 6.0031 - accuracy: 0.0275 - val_loss: 7.6559 - val_accuracy: 0.0199\n",
            "Epoch 12/50\n",
            "38/38 [==============================] - 0s 13ms/step - loss: 5.9851 - accuracy: 0.0300 - val_loss: 7.6570 - val_accuracy: 0.0199\n"
          ]
        },
        {
          "output_type": "execute_result",
          "data": {
            "text/plain": [
              "<keras.src.callbacks.History at 0x7d97813af2b0>"
            ]
          },
          "metadata": {},
          "execution_count": 20
        }
      ],
      "source": [
        "import numpy as np\n",
        "import pandas as pd\n",
        "from sklearn.model_selection import train_test_split\n",
        "from sklearn.preprocessing import LabelEncoder\n",
        "from tensorflow.keras.preprocessing.text import Tokenizer\n",
        "from tensorflow.keras.preprocessing.sequence import pad_sequences\n",
        "from tensorflow.keras.models import Sequential\n",
        "from tensorflow.keras.layers import Dense, Embedding, Flatten, Dropout\n",
        "from tensorflow.keras.callbacks import EarlyStopping\n",
        "\n",
        "# 데이터 불러오기\n",
        "df = pd.read_csv('/content/drugLibTrain_raw_new.tsv', sep=\"\\t\", encoding='latin1')\n",
        "\n",
        "# 필요한 열만 선택\n",
        "data = df[['urlDrugName', 'benefitsReview', 'sideEffectsReview', 'commentsReview', 'condition']]\n",
        "\n",
        "# 불필요한 데이터 제거 (na 값 등)\n",
        "data = data.dropna()\n",
        "\n",
        "# 데이터 전처리\n",
        "# 각 리뷰를 하나의 텍스트로 합침\n",
        "data['all_reviews'] = data['benefitsReview'] + ' ' + data['sideEffectsReview'] + ' ' + data['commentsReview']\n",
        "\n",
        "# Tokenizer 객체 생성\n",
        "tokenizer = Tokenizer()\n",
        "tokenizer.fit_on_texts(data['all_reviews'])\n",
        "\n",
        "# 텍스트를 시퀀스로 변환\n",
        "sequences = tokenizer.texts_to_sequences(data['all_reviews'])\n",
        "\n",
        "# 시퀀스의 최대 길이 계산\n",
        "max_length = max(len(seq) for seq in sequences)\n",
        "\n",
        "# 시퀀스를 일정한 길이로 패딩\n",
        "padded_sequences = pad_sequences(sequences, maxlen=max_length, padding='post')\n",
        "\n",
        "# 라벨 인코딩\n",
        "label_encoder = LabelEncoder()\n",
        "labels = label_encoder.fit_transform(data['urlDrugName'])\n",
        "\n",
        "# 조건 데이터를 범주형 변수로 변환\n",
        "conditions = pd.get_dummies(data['condition'])\n",
        "\n",
        "# 리뷰 데이터와 조건 데이터를 결합\n",
        "X = np.hstack((padded_sequences, conditions.values))\n",
        "\n",
        "# 데이터를 훈련 및 테스트 세트로 분할\n",
        "X_train, X_test, y_train, y_test = train_test_split(X, labels, test_size=0.2, random_state=42)\n",
        "\n",
        "# 모델 생성\n",
        "model = Sequential()\n",
        "model.add(Dense(64, activation='relu', input_dim=X_train.shape[1]))\n",
        "model.add(Dropout(0.5))\n",
        "model.add(Dense(len(label_encoder.classes_), activation='softmax'))\n",
        "\n",
        "# 모델 컴파일\n",
        "model.compile(optimizer='adam', loss='sparse_categorical_crossentropy', metrics=['accuracy'])\n",
        "\n",
        "# Early stopping 콜백 정의\n",
        "early_stopping = EarlyStopping(monitor='val_loss', patience=3, restore_best_weights=True)\n",
        "\n",
        "# 모델 학습\n",
        "model.fit(X_train, y_train, epochs=50, batch_size=64, validation_data=(X_test, y_test), callbacks=[early_stopping])\n"
      ]
    },
    {
      "cell_type": "code",
      "source": [],
      "metadata": {
        "id": "JeQSrWNnGfPO"
      },
      "execution_count": null,
      "outputs": []
    }
  ]
}